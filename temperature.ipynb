{
 "cells": [
  {
   "cell_type": "code",
   "execution_count": 2,
   "metadata": {},
   "outputs": [
    {
     "name": "stdout",
     "output_type": "stream",
     "text": [
      "ข้อมูลหลังทำความสะอาดเหลือ 581 แถว จากเดิม 605 แถว (ลบไป 24 แถว)\n"
     ]
    }
   ],
   "source": [
    "# ส่วนที่ 1 - การเตรียมข้อมูล:\n",
    "import pandas as pd\n",
    "\n",
    "# โหลดข้อมูล\n",
    "file_path = 'export-4B7B6566022D-1d.xlsx'\n",
    "dataset = pd.read_excel(file_path, engine=\"openpyxl\")\n",
    "\n",
    "# ลบแถวที่มีค่า NaN\n",
    "dataset = dataset.dropna()\n",
    "\n",
    "# เลือกเฉพาะคอลัมน์ที่เป็นตัวเลข\n",
    "numeric_cols = dataset.select_dtypes(include=['number']).columns\n",
    "\n",
    "# คำนวณ IQR สำหรับทุกคอลัมน์\n",
    "Q1 = dataset[numeric_cols].quantile(0.25)\n",
    "Q3 = dataset[numeric_cols].quantile(0.75)\n",
    "IQR = Q3 - Q1\n",
    "\n",
    "# คำนวณขอบเขตของค่า Outlier\n",
    "lower_bound = Q1 - 1.5 * IQR\n",
    "upper_bound = Q3 + 1.5 * IQR\n",
    "\n",
    "# กำจัดค่า Outlier\n",
    "mask = ~((dataset[numeric_cols] < lower_bound) | (dataset[numeric_cols] > upper_bound)).any(axis=1)\n",
    "cleaned_dataset = dataset.loc[mask]\n",
    "\n",
    "# บันทึกข้อมูลที่ถูกล้างแล้วเป็นไฟล์ใหม่\n",
    "output_path = 'cleaned_data.xlsx'\n",
    "cleaned_dataset.to_excel(output_path, index=False)\n",
    "\n",
    "# รายงานผล\n",
    "num_removed = len(dataset) - len(cleaned_dataset)\n",
    "print(f\"ข้อมูลหลังทำความสะอาดเหลือ {len(cleaned_dataset)} แถว จากเดิม {len(dataset)} แถว (ลบไป {num_removed} แถว)\")"
   ]
  },
  {
   "cell_type": "code",
   "execution_count": 3,
   "metadata": {},
   "outputs": [
    {
     "data": {
      "text/html": [
       "<style type=\"text/css\">\n",
       "#T_df9e3_row8_col1, #T_df9e3_row12_col1 {\n",
       "  background-color: lightgreen;\n",
       "}\n",
       "</style>\n",
       "<table id=\"T_df9e3\">\n",
       "  <thead>\n",
       "    <tr>\n",
       "      <th class=\"blank level0\" >&nbsp;</th>\n",
       "      <th id=\"T_df9e3_level0_col0\" class=\"col_heading level0 col0\" >Description</th>\n",
       "      <th id=\"T_df9e3_level0_col1\" class=\"col_heading level0 col1\" >Value</th>\n",
       "    </tr>\n",
       "  </thead>\n",
       "  <tbody>\n",
       "    <tr>\n",
       "      <th id=\"T_df9e3_level0_row0\" class=\"row_heading level0 row0\" >0</th>\n",
       "      <td id=\"T_df9e3_row0_col0\" class=\"data row0 col0\" >Session id</td>\n",
       "      <td id=\"T_df9e3_row0_col1\" class=\"data row0 col1\" >123</td>\n",
       "    </tr>\n",
       "    <tr>\n",
       "      <th id=\"T_df9e3_level0_row1\" class=\"row_heading level0 row1\" >1</th>\n",
       "      <td id=\"T_df9e3_row1_col0\" class=\"data row1 col0\" >Target</td>\n",
       "      <td id=\"T_df9e3_row1_col1\" class=\"data row1 col1\" >temperature</td>\n",
       "    </tr>\n",
       "    <tr>\n",
       "      <th id=\"T_df9e3_level0_row2\" class=\"row_heading level0 row2\" >2</th>\n",
       "      <td id=\"T_df9e3_row2_col0\" class=\"data row2 col0\" >Target type</td>\n",
       "      <td id=\"T_df9e3_row2_col1\" class=\"data row2 col1\" >Regression</td>\n",
       "    </tr>\n",
       "    <tr>\n",
       "      <th id=\"T_df9e3_level0_row3\" class=\"row_heading level0 row3\" >3</th>\n",
       "      <td id=\"T_df9e3_row3_col0\" class=\"data row3 col0\" >Original data shape</td>\n",
       "      <td id=\"T_df9e3_row3_col1\" class=\"data row3 col1\" >(413, 24)</td>\n",
       "    </tr>\n",
       "    <tr>\n",
       "      <th id=\"T_df9e3_level0_row4\" class=\"row_heading level0 row4\" >4</th>\n",
       "      <td id=\"T_df9e3_row4_col0\" class=\"data row4 col0\" >Transformed data shape</td>\n",
       "      <td id=\"T_df9e3_row4_col1\" class=\"data row4 col1\" >(396, 24)</td>\n",
       "    </tr>\n",
       "    <tr>\n",
       "      <th id=\"T_df9e3_level0_row5\" class=\"row_heading level0 row5\" >5</th>\n",
       "      <td id=\"T_df9e3_row5_col0\" class=\"data row5 col0\" >Transformed train set shape</td>\n",
       "      <td id=\"T_df9e3_row5_col1\" class=\"data row5 col1\" >(313, 24)</td>\n",
       "    </tr>\n",
       "    <tr>\n",
       "      <th id=\"T_df9e3_level0_row6\" class=\"row_heading level0 row6\" >6</th>\n",
       "      <td id=\"T_df9e3_row6_col0\" class=\"data row6 col0\" >Transformed test set shape</td>\n",
       "      <td id=\"T_df9e3_row6_col1\" class=\"data row6 col1\" >(83, 24)</td>\n",
       "    </tr>\n",
       "    <tr>\n",
       "      <th id=\"T_df9e3_level0_row7\" class=\"row_heading level0 row7\" >7</th>\n",
       "      <td id=\"T_df9e3_row7_col0\" class=\"data row7 col0\" >Numeric features</td>\n",
       "      <td id=\"T_df9e3_row7_col1\" class=\"data row7 col1\" >23</td>\n",
       "    </tr>\n",
       "    <tr>\n",
       "      <th id=\"T_df9e3_level0_row8\" class=\"row_heading level0 row8\" >8</th>\n",
       "      <td id=\"T_df9e3_row8_col0\" class=\"data row8 col0\" >Preprocess</td>\n",
       "      <td id=\"T_df9e3_row8_col1\" class=\"data row8 col1\" >True</td>\n",
       "    </tr>\n",
       "    <tr>\n",
       "      <th id=\"T_df9e3_level0_row9\" class=\"row_heading level0 row9\" >9</th>\n",
       "      <td id=\"T_df9e3_row9_col0\" class=\"data row9 col0\" >Imputation type</td>\n",
       "      <td id=\"T_df9e3_row9_col1\" class=\"data row9 col1\" >simple</td>\n",
       "    </tr>\n",
       "    <tr>\n",
       "      <th id=\"T_df9e3_level0_row10\" class=\"row_heading level0 row10\" >10</th>\n",
       "      <td id=\"T_df9e3_row10_col0\" class=\"data row10 col0\" >Numeric imputation</td>\n",
       "      <td id=\"T_df9e3_row10_col1\" class=\"data row10 col1\" >mean</td>\n",
       "    </tr>\n",
       "    <tr>\n",
       "      <th id=\"T_df9e3_level0_row11\" class=\"row_heading level0 row11\" >11</th>\n",
       "      <td id=\"T_df9e3_row11_col0\" class=\"data row11 col0\" >Categorical imputation</td>\n",
       "      <td id=\"T_df9e3_row11_col1\" class=\"data row11 col1\" >mode</td>\n",
       "    </tr>\n",
       "    <tr>\n",
       "      <th id=\"T_df9e3_level0_row12\" class=\"row_heading level0 row12\" >12</th>\n",
       "      <td id=\"T_df9e3_row12_col0\" class=\"data row12 col0\" >Remove outliers</td>\n",
       "      <td id=\"T_df9e3_row12_col1\" class=\"data row12 col1\" >True</td>\n",
       "    </tr>\n",
       "    <tr>\n",
       "      <th id=\"T_df9e3_level0_row13\" class=\"row_heading level0 row13\" >13</th>\n",
       "      <td id=\"T_df9e3_row13_col0\" class=\"data row13 col0\" >Outliers threshold</td>\n",
       "      <td id=\"T_df9e3_row13_col1\" class=\"data row13 col1\" >0.050000</td>\n",
       "    </tr>\n",
       "    <tr>\n",
       "      <th id=\"T_df9e3_level0_row14\" class=\"row_heading level0 row14\" >14</th>\n",
       "      <td id=\"T_df9e3_row14_col0\" class=\"data row14 col0\" >Fold Generator</td>\n",
       "      <td id=\"T_df9e3_row14_col1\" class=\"data row14 col1\" >KFold</td>\n",
       "    </tr>\n",
       "    <tr>\n",
       "      <th id=\"T_df9e3_level0_row15\" class=\"row_heading level0 row15\" >15</th>\n",
       "      <td id=\"T_df9e3_row15_col0\" class=\"data row15 col0\" >Fold Number</td>\n",
       "      <td id=\"T_df9e3_row15_col1\" class=\"data row15 col1\" >10</td>\n",
       "    </tr>\n",
       "    <tr>\n",
       "      <th id=\"T_df9e3_level0_row16\" class=\"row_heading level0 row16\" >16</th>\n",
       "      <td id=\"T_df9e3_row16_col0\" class=\"data row16 col0\" >CPU Jobs</td>\n",
       "      <td id=\"T_df9e3_row16_col1\" class=\"data row16 col1\" >-1</td>\n",
       "    </tr>\n",
       "    <tr>\n",
       "      <th id=\"T_df9e3_level0_row17\" class=\"row_heading level0 row17\" >17</th>\n",
       "      <td id=\"T_df9e3_row17_col0\" class=\"data row17 col0\" >Use GPU</td>\n",
       "      <td id=\"T_df9e3_row17_col1\" class=\"data row17 col1\" >False</td>\n",
       "    </tr>\n",
       "    <tr>\n",
       "      <th id=\"T_df9e3_level0_row18\" class=\"row_heading level0 row18\" >18</th>\n",
       "      <td id=\"T_df9e3_row18_col0\" class=\"data row18 col0\" >Log Experiment</td>\n",
       "      <td id=\"T_df9e3_row18_col1\" class=\"data row18 col1\" >False</td>\n",
       "    </tr>\n",
       "    <tr>\n",
       "      <th id=\"T_df9e3_level0_row19\" class=\"row_heading level0 row19\" >19</th>\n",
       "      <td id=\"T_df9e3_row19_col0\" class=\"data row19 col0\" >Experiment Name</td>\n",
       "      <td id=\"T_df9e3_row19_col1\" class=\"data row19 col1\" >reg-default-name</td>\n",
       "    </tr>\n",
       "    <tr>\n",
       "      <th id=\"T_df9e3_level0_row20\" class=\"row_heading level0 row20\" >20</th>\n",
       "      <td id=\"T_df9e3_row20_col0\" class=\"data row20 col0\" >USI</td>\n",
       "      <td id=\"T_df9e3_row20_col1\" class=\"data row20 col1\" >d069</td>\n",
       "    </tr>\n",
       "  </tbody>\n",
       "</table>\n"
      ],
      "text/plain": [
       "<pandas.io.formats.style.Styler at 0x27f287f9510>"
      ]
     },
     "metadata": {},
     "output_type": "display_data"
    },
    {
     "data": {
      "text/html": [],
      "text/plain": [
       "<IPython.core.display.HTML object>"
      ]
     },
     "metadata": {},
     "output_type": "display_data"
    },
    {
     "data": {
      "text/html": [
       "<style type=\"text/css\">\n",
       "#T_4ac1a th {\n",
       "  text-align: left;\n",
       "}\n",
       "#T_4ac1a_row0_col0, #T_4ac1a_row1_col0, #T_4ac1a_row1_col1, #T_4ac1a_row1_col3, #T_4ac1a_row2_col0, #T_4ac1a_row2_col1, #T_4ac1a_row2_col2, #T_4ac1a_row2_col3, #T_4ac1a_row2_col4, #T_4ac1a_row2_col5, #T_4ac1a_row2_col6, #T_4ac1a_row3_col0, #T_4ac1a_row3_col1, #T_4ac1a_row3_col2, #T_4ac1a_row3_col3, #T_4ac1a_row3_col4, #T_4ac1a_row3_col5, #T_4ac1a_row3_col6, #T_4ac1a_row4_col0, #T_4ac1a_row4_col1, #T_4ac1a_row4_col2, #T_4ac1a_row4_col3, #T_4ac1a_row4_col4, #T_4ac1a_row4_col5, #T_4ac1a_row4_col6, #T_4ac1a_row5_col0, #T_4ac1a_row5_col1, #T_4ac1a_row5_col2, #T_4ac1a_row5_col3, #T_4ac1a_row5_col4, #T_4ac1a_row5_col5, #T_4ac1a_row5_col6, #T_4ac1a_row6_col0, #T_4ac1a_row6_col1, #T_4ac1a_row6_col2, #T_4ac1a_row6_col3, #T_4ac1a_row6_col4, #T_4ac1a_row6_col5, #T_4ac1a_row6_col6, #T_4ac1a_row7_col0, #T_4ac1a_row7_col1, #T_4ac1a_row7_col2, #T_4ac1a_row7_col3, #T_4ac1a_row7_col4, #T_4ac1a_row7_col5, #T_4ac1a_row7_col6, #T_4ac1a_row8_col0, #T_4ac1a_row8_col1, #T_4ac1a_row8_col2, #T_4ac1a_row8_col3, #T_4ac1a_row8_col4, #T_4ac1a_row8_col5, #T_4ac1a_row8_col6, #T_4ac1a_row9_col0, #T_4ac1a_row9_col1, #T_4ac1a_row9_col2, #T_4ac1a_row9_col3, #T_4ac1a_row9_col4, #T_4ac1a_row9_col5, #T_4ac1a_row9_col6, #T_4ac1a_row10_col0, #T_4ac1a_row10_col1, #T_4ac1a_row10_col2, #T_4ac1a_row10_col3, #T_4ac1a_row10_col4, #T_4ac1a_row10_col5, #T_4ac1a_row10_col6, #T_4ac1a_row11_col0, #T_4ac1a_row11_col1, #T_4ac1a_row11_col2, #T_4ac1a_row11_col3, #T_4ac1a_row11_col4, #T_4ac1a_row11_col5, #T_4ac1a_row11_col6, #T_4ac1a_row12_col0, #T_4ac1a_row12_col1, #T_4ac1a_row12_col2, #T_4ac1a_row12_col3, #T_4ac1a_row12_col4, #T_4ac1a_row12_col5, #T_4ac1a_row12_col6, #T_4ac1a_row13_col0, #T_4ac1a_row13_col1, #T_4ac1a_row13_col2, #T_4ac1a_row13_col3, #T_4ac1a_row13_col4, #T_4ac1a_row13_col5, #T_4ac1a_row13_col6, #T_4ac1a_row14_col0, #T_4ac1a_row14_col1, #T_4ac1a_row14_col2, #T_4ac1a_row14_col3, #T_4ac1a_row14_col4, #T_4ac1a_row14_col5, #T_4ac1a_row14_col6, #T_4ac1a_row15_col0, #T_4ac1a_row15_col1, #T_4ac1a_row15_col2, #T_4ac1a_row15_col3, #T_4ac1a_row15_col4, #T_4ac1a_row15_col5, #T_4ac1a_row15_col6, #T_4ac1a_row16_col0, #T_4ac1a_row16_col1, #T_4ac1a_row16_col2, #T_4ac1a_row16_col3, #T_4ac1a_row16_col4, #T_4ac1a_row16_col5, #T_4ac1a_row16_col6, #T_4ac1a_row17_col0, #T_4ac1a_row17_col1, #T_4ac1a_row17_col2, #T_4ac1a_row17_col3, #T_4ac1a_row17_col4, #T_4ac1a_row17_col5, #T_4ac1a_row17_col6 {\n",
       "  text-align: left;\n",
       "}\n",
       "#T_4ac1a_row0_col1, #T_4ac1a_row0_col2, #T_4ac1a_row0_col3, #T_4ac1a_row0_col4, #T_4ac1a_row0_col5, #T_4ac1a_row0_col6, #T_4ac1a_row1_col2, #T_4ac1a_row1_col4, #T_4ac1a_row1_col5, #T_4ac1a_row1_col6 {\n",
       "  text-align: left;\n",
       "  background-color: yellow;\n",
       "}\n",
       "#T_4ac1a_row0_col7, #T_4ac1a_row1_col7, #T_4ac1a_row2_col7, #T_4ac1a_row3_col7, #T_4ac1a_row4_col7, #T_4ac1a_row5_col7, #T_4ac1a_row6_col7, #T_4ac1a_row8_col7, #T_4ac1a_row9_col7, #T_4ac1a_row11_col7, #T_4ac1a_row12_col7, #T_4ac1a_row13_col7, #T_4ac1a_row15_col7, #T_4ac1a_row17_col7 {\n",
       "  text-align: left;\n",
       "  background-color: lightgrey;\n",
       "}\n",
       "#T_4ac1a_row7_col7, #T_4ac1a_row10_col7, #T_4ac1a_row14_col7, #T_4ac1a_row16_col7 {\n",
       "  text-align: left;\n",
       "  background-color: yellow;\n",
       "  background-color: lightgrey;\n",
       "}\n",
       "</style>\n",
       "<table id=\"T_4ac1a\">\n",
       "  <thead>\n",
       "    <tr>\n",
       "      <th class=\"blank level0\" >&nbsp;</th>\n",
       "      <th id=\"T_4ac1a_level0_col0\" class=\"col_heading level0 col0\" >Model</th>\n",
       "      <th id=\"T_4ac1a_level0_col1\" class=\"col_heading level0 col1\" >MAE</th>\n",
       "      <th id=\"T_4ac1a_level0_col2\" class=\"col_heading level0 col2\" >MSE</th>\n",
       "      <th id=\"T_4ac1a_level0_col3\" class=\"col_heading level0 col3\" >RMSE</th>\n",
       "      <th id=\"T_4ac1a_level0_col4\" class=\"col_heading level0 col4\" >R2</th>\n",
       "      <th id=\"T_4ac1a_level0_col5\" class=\"col_heading level0 col5\" >RMSLE</th>\n",
       "      <th id=\"T_4ac1a_level0_col6\" class=\"col_heading level0 col6\" >MAPE</th>\n",
       "      <th id=\"T_4ac1a_level0_col7\" class=\"col_heading level0 col7\" >TT (Sec)</th>\n",
       "    </tr>\n",
       "  </thead>\n",
       "  <tbody>\n",
       "    <tr>\n",
       "      <th id=\"T_4ac1a_level0_row0\" class=\"row_heading level0 row0\" >lr</th>\n",
       "      <td id=\"T_4ac1a_row0_col0\" class=\"data row0 col0\" >Linear Regression</td>\n",
       "      <td id=\"T_4ac1a_row0_col1\" class=\"data row0 col1\" >0.0223</td>\n",
       "      <td id=\"T_4ac1a_row0_col2\" class=\"data row0 col2\" >0.0009</td>\n",
       "      <td id=\"T_4ac1a_row0_col3\" class=\"data row0 col3\" >0.0296</td>\n",
       "      <td id=\"T_4ac1a_row0_col4\" class=\"data row0 col4\" >0.9996</td>\n",
       "      <td id=\"T_4ac1a_row0_col5\" class=\"data row0 col5\" >0.0010</td>\n",
       "      <td id=\"T_4ac1a_row0_col6\" class=\"data row0 col6\" >0.0008</td>\n",
       "      <td id=\"T_4ac1a_row0_col7\" class=\"data row0 col7\" >0.3440</td>\n",
       "    </tr>\n",
       "    <tr>\n",
       "      <th id=\"T_4ac1a_level0_row1\" class=\"row_heading level0 row1\" >br</th>\n",
       "      <td id=\"T_4ac1a_row1_col0\" class=\"data row1 col0\" >Bayesian Ridge</td>\n",
       "      <td id=\"T_4ac1a_row1_col1\" class=\"data row1 col1\" >0.0225</td>\n",
       "      <td id=\"T_4ac1a_row1_col2\" class=\"data row1 col2\" >0.0009</td>\n",
       "      <td id=\"T_4ac1a_row1_col3\" class=\"data row1 col3\" >0.0297</td>\n",
       "      <td id=\"T_4ac1a_row1_col4\" class=\"data row1 col4\" >0.9996</td>\n",
       "      <td id=\"T_4ac1a_row1_col5\" class=\"data row1 col5\" >0.0010</td>\n",
       "      <td id=\"T_4ac1a_row1_col6\" class=\"data row1 col6\" >0.0008</td>\n",
       "      <td id=\"T_4ac1a_row1_col7\" class=\"data row1 col7\" >0.0170</td>\n",
       "    </tr>\n",
       "    <tr>\n",
       "      <th id=\"T_4ac1a_level0_row2\" class=\"row_heading level0 row2\" >gbr</th>\n",
       "      <td id=\"T_4ac1a_row2_col0\" class=\"data row2 col0\" >Gradient Boosting Regressor</td>\n",
       "      <td id=\"T_4ac1a_row2_col1\" class=\"data row2 col1\" >0.2752</td>\n",
       "      <td id=\"T_4ac1a_row2_col2\" class=\"data row2 col2\" >0.1267</td>\n",
       "      <td id=\"T_4ac1a_row2_col3\" class=\"data row2 col3\" >0.3503</td>\n",
       "      <td id=\"T_4ac1a_row2_col4\" class=\"data row2 col4\" >0.9438</td>\n",
       "      <td id=\"T_4ac1a_row2_col5\" class=\"data row2 col5\" >0.0119</td>\n",
       "      <td id=\"T_4ac1a_row2_col6\" class=\"data row2 col6\" >0.0097</td>\n",
       "      <td id=\"T_4ac1a_row2_col7\" class=\"data row2 col7\" >0.0400</td>\n",
       "    </tr>\n",
       "    <tr>\n",
       "      <th id=\"T_4ac1a_level0_row3\" class=\"row_heading level0 row3\" >lightgbm</th>\n",
       "      <td id=\"T_4ac1a_row3_col0\" class=\"data row3 col0\" >Light Gradient Boosting Machine</td>\n",
       "      <td id=\"T_4ac1a_row3_col1\" class=\"data row3 col1\" >0.2924</td>\n",
       "      <td id=\"T_4ac1a_row3_col2\" class=\"data row3 col2\" >0.1379</td>\n",
       "      <td id=\"T_4ac1a_row3_col3\" class=\"data row3 col3\" >0.3644</td>\n",
       "      <td id=\"T_4ac1a_row3_col4\" class=\"data row3 col4\" >0.9401</td>\n",
       "      <td id=\"T_4ac1a_row3_col5\" class=\"data row3 col5\" >0.0125</td>\n",
       "      <td id=\"T_4ac1a_row3_col6\" class=\"data row3 col6\" >0.0103</td>\n",
       "      <td id=\"T_4ac1a_row3_col7\" class=\"data row3 col7\" >0.0420</td>\n",
       "    </tr>\n",
       "    <tr>\n",
       "      <th id=\"T_4ac1a_level0_row4\" class=\"row_heading level0 row4\" >et</th>\n",
       "      <td id=\"T_4ac1a_row4_col0\" class=\"data row4 col0\" >Extra Trees Regressor</td>\n",
       "      <td id=\"T_4ac1a_row4_col1\" class=\"data row4 col1\" >0.3193</td>\n",
       "      <td id=\"T_4ac1a_row4_col2\" class=\"data row4 col2\" >0.1702</td>\n",
       "      <td id=\"T_4ac1a_row4_col3\" class=\"data row4 col3\" >0.4089</td>\n",
       "      <td id=\"T_4ac1a_row4_col4\" class=\"data row4 col4\" >0.9240</td>\n",
       "      <td id=\"T_4ac1a_row4_col5\" class=\"data row4 col5\" >0.0140</td>\n",
       "      <td id=\"T_4ac1a_row4_col6\" class=\"data row4 col6\" >0.0113</td>\n",
       "      <td id=\"T_4ac1a_row4_col7\" class=\"data row4 col7\" >0.0400</td>\n",
       "    </tr>\n",
       "    <tr>\n",
       "      <th id=\"T_4ac1a_level0_row5\" class=\"row_heading level0 row5\" >rf</th>\n",
       "      <td id=\"T_4ac1a_row5_col0\" class=\"data row5 col0\" >Random Forest Regressor</td>\n",
       "      <td id=\"T_4ac1a_row5_col1\" class=\"data row5 col1\" >0.3639</td>\n",
       "      <td id=\"T_4ac1a_row5_col2\" class=\"data row5 col2\" >0.2274</td>\n",
       "      <td id=\"T_4ac1a_row5_col3\" class=\"data row5 col3\" >0.4700</td>\n",
       "      <td id=\"T_4ac1a_row5_col4\" class=\"data row5 col4\" >0.8998</td>\n",
       "      <td id=\"T_4ac1a_row5_col5\" class=\"data row5 col5\" >0.0161</td>\n",
       "      <td id=\"T_4ac1a_row5_col6\" class=\"data row5 col6\" >0.0128</td>\n",
       "      <td id=\"T_4ac1a_row5_col7\" class=\"data row5 col7\" >0.0550</td>\n",
       "    </tr>\n",
       "    <tr>\n",
       "      <th id=\"T_4ac1a_level0_row6\" class=\"row_heading level0 row6\" >ada</th>\n",
       "      <td id=\"T_4ac1a_row6_col0\" class=\"data row6 col0\" >AdaBoost Regressor</td>\n",
       "      <td id=\"T_4ac1a_row6_col1\" class=\"data row6 col1\" >0.4216</td>\n",
       "      <td id=\"T_4ac1a_row6_col2\" class=\"data row6 col2\" >0.2845</td>\n",
       "      <td id=\"T_4ac1a_row6_col3\" class=\"data row6 col3\" >0.5290</td>\n",
       "      <td id=\"T_4ac1a_row6_col4\" class=\"data row6 col4\" >0.8736</td>\n",
       "      <td id=\"T_4ac1a_row6_col5\" class=\"data row6 col5\" >0.0180</td>\n",
       "      <td id=\"T_4ac1a_row6_col6\" class=\"data row6 col6\" >0.0148</td>\n",
       "      <td id=\"T_4ac1a_row6_col7\" class=\"data row6 col7\" >0.0290</td>\n",
       "    </tr>\n",
       "    <tr>\n",
       "      <th id=\"T_4ac1a_level0_row7\" class=\"row_heading level0 row7\" >ridge</th>\n",
       "      <td id=\"T_4ac1a_row7_col0\" class=\"data row7 col0\" >Ridge Regression</td>\n",
       "      <td id=\"T_4ac1a_row7_col1\" class=\"data row7 col1\" >0.4107</td>\n",
       "      <td id=\"T_4ac1a_row7_col2\" class=\"data row7 col2\" >0.2855</td>\n",
       "      <td id=\"T_4ac1a_row7_col3\" class=\"data row7 col3\" >0.5306</td>\n",
       "      <td id=\"T_4ac1a_row7_col4\" class=\"data row7 col4\" >0.8714</td>\n",
       "      <td id=\"T_4ac1a_row7_col5\" class=\"data row7 col5\" >0.0180</td>\n",
       "      <td id=\"T_4ac1a_row7_col6\" class=\"data row7 col6\" >0.0144</td>\n",
       "      <td id=\"T_4ac1a_row7_col7\" class=\"data row7 col7\" >0.0160</td>\n",
       "    </tr>\n",
       "    <tr>\n",
       "      <th id=\"T_4ac1a_level0_row8\" class=\"row_heading level0 row8\" >dt</th>\n",
       "      <td id=\"T_4ac1a_row8_col0\" class=\"data row8 col0\" >Decision Tree Regressor</td>\n",
       "      <td id=\"T_4ac1a_row8_col1\" class=\"data row8 col1\" >0.5730</td>\n",
       "      <td id=\"T_4ac1a_row8_col2\" class=\"data row8 col2\" >0.5510</td>\n",
       "      <td id=\"T_4ac1a_row8_col3\" class=\"data row8 col3\" >0.7367</td>\n",
       "      <td id=\"T_4ac1a_row8_col4\" class=\"data row8 col4\" >0.7517</td>\n",
       "      <td id=\"T_4ac1a_row8_col5\" class=\"data row8 col5\" >0.0252</td>\n",
       "      <td id=\"T_4ac1a_row8_col6\" class=\"data row8 col6\" >0.0202</td>\n",
       "      <td id=\"T_4ac1a_row8_col7\" class=\"data row8 col7\" >0.0170</td>\n",
       "    </tr>\n",
       "    <tr>\n",
       "      <th id=\"T_4ac1a_level0_row9\" class=\"row_heading level0 row9\" >huber</th>\n",
       "      <td id=\"T_4ac1a_row9_col0\" class=\"data row9 col0\" >Huber Regressor</td>\n",
       "      <td id=\"T_4ac1a_row9_col1\" class=\"data row9 col1\" >0.5711</td>\n",
       "      <td id=\"T_4ac1a_row9_col2\" class=\"data row9 col2\" >0.5551</td>\n",
       "      <td id=\"T_4ac1a_row9_col3\" class=\"data row9 col3\" >0.7388</td>\n",
       "      <td id=\"T_4ac1a_row9_col4\" class=\"data row9 col4\" >0.7500</td>\n",
       "      <td id=\"T_4ac1a_row9_col5\" class=\"data row9 col5\" >0.0251</td>\n",
       "      <td id=\"T_4ac1a_row9_col6\" class=\"data row9 col6\" >0.0201</td>\n",
       "      <td id=\"T_4ac1a_row9_col7\" class=\"data row9 col7\" >0.0170</td>\n",
       "    </tr>\n",
       "    <tr>\n",
       "      <th id=\"T_4ac1a_level0_row10\" class=\"row_heading level0 row10\" >knn</th>\n",
       "      <td id=\"T_4ac1a_row10_col0\" class=\"data row10 col0\" >K Neighbors Regressor</td>\n",
       "      <td id=\"T_4ac1a_row10_col1\" class=\"data row10 col1\" >0.6280</td>\n",
       "      <td id=\"T_4ac1a_row10_col2\" class=\"data row10 col2\" >0.6805</td>\n",
       "      <td id=\"T_4ac1a_row10_col3\" class=\"data row10 col3\" >0.8121</td>\n",
       "      <td id=\"T_4ac1a_row10_col4\" class=\"data row10 col4\" >0.7007</td>\n",
       "      <td id=\"T_4ac1a_row10_col5\" class=\"data row10 col5\" >0.0276</td>\n",
       "      <td id=\"T_4ac1a_row10_col6\" class=\"data row10 col6\" >0.0221</td>\n",
       "      <td id=\"T_4ac1a_row10_col7\" class=\"data row10 col7\" >0.0160</td>\n",
       "    </tr>\n",
       "    <tr>\n",
       "      <th id=\"T_4ac1a_level0_row11\" class=\"row_heading level0 row11\" >en</th>\n",
       "      <td id=\"T_4ac1a_row11_col0\" class=\"data row11 col0\" >Elastic Net</td>\n",
       "      <td id=\"T_4ac1a_row11_col1\" class=\"data row11 col1\" >0.6333</td>\n",
       "      <td id=\"T_4ac1a_row11_col2\" class=\"data row11 col2\" >0.6796</td>\n",
       "      <td id=\"T_4ac1a_row11_col3\" class=\"data row11 col3\" >0.8193</td>\n",
       "      <td id=\"T_4ac1a_row11_col4\" class=\"data row11 col4\" >0.6950</td>\n",
       "      <td id=\"T_4ac1a_row11_col5\" class=\"data row11 col5\" >0.0277</td>\n",
       "      <td id=\"T_4ac1a_row11_col6\" class=\"data row11 col6\" >0.0222</td>\n",
       "      <td id=\"T_4ac1a_row11_col7\" class=\"data row11 col7\" >0.0170</td>\n",
       "    </tr>\n",
       "    <tr>\n",
       "      <th id=\"T_4ac1a_level0_row12\" class=\"row_heading level0 row12\" >lasso</th>\n",
       "      <td id=\"T_4ac1a_row12_col0\" class=\"data row12 col0\" >Lasso Regression</td>\n",
       "      <td id=\"T_4ac1a_row12_col1\" class=\"data row12 col1\" >0.6738</td>\n",
       "      <td id=\"T_4ac1a_row12_col2\" class=\"data row12 col2\" >0.7704</td>\n",
       "      <td id=\"T_4ac1a_row12_col3\" class=\"data row12 col3\" >0.8716</td>\n",
       "      <td id=\"T_4ac1a_row12_col4\" class=\"data row12 col4\" >0.6553</td>\n",
       "      <td id=\"T_4ac1a_row12_col5\" class=\"data row12 col5\" >0.0294</td>\n",
       "      <td id=\"T_4ac1a_row12_col6\" class=\"data row12 col6\" >0.0236</td>\n",
       "      <td id=\"T_4ac1a_row12_col7\" class=\"data row12 col7\" >0.2220</td>\n",
       "    </tr>\n",
       "    <tr>\n",
       "      <th id=\"T_4ac1a_level0_row13\" class=\"row_heading level0 row13\" >llar</th>\n",
       "      <td id=\"T_4ac1a_row13_col0\" class=\"data row13 col0\" >Lasso Least Angle Regression</td>\n",
       "      <td id=\"T_4ac1a_row13_col1\" class=\"data row13 col1\" >0.6738</td>\n",
       "      <td id=\"T_4ac1a_row13_col2\" class=\"data row13 col2\" >0.7703</td>\n",
       "      <td id=\"T_4ac1a_row13_col3\" class=\"data row13 col3\" >0.8716</td>\n",
       "      <td id=\"T_4ac1a_row13_col4\" class=\"data row13 col4\" >0.6553</td>\n",
       "      <td id=\"T_4ac1a_row13_col5\" class=\"data row13 col5\" >0.0294</td>\n",
       "      <td id=\"T_4ac1a_row13_col6\" class=\"data row13 col6\" >0.0236</td>\n",
       "      <td id=\"T_4ac1a_row13_col7\" class=\"data row13 col7\" >0.0190</td>\n",
       "    </tr>\n",
       "    <tr>\n",
       "      <th id=\"T_4ac1a_level0_row14\" class=\"row_heading level0 row14\" >omp</th>\n",
       "      <td id=\"T_4ac1a_row14_col0\" class=\"data row14 col0\" >Orthogonal Matching Pursuit</td>\n",
       "      <td id=\"T_4ac1a_row14_col1\" class=\"data row14 col1\" >0.6901</td>\n",
       "      <td id=\"T_4ac1a_row14_col2\" class=\"data row14 col2\" >0.7862</td>\n",
       "      <td id=\"T_4ac1a_row14_col3\" class=\"data row14 col3\" >0.8818</td>\n",
       "      <td id=\"T_4ac1a_row14_col4\" class=\"data row14 col4\" >0.6466</td>\n",
       "      <td id=\"T_4ac1a_row14_col5\" class=\"data row14 col5\" >0.0298</td>\n",
       "      <td id=\"T_4ac1a_row14_col6\" class=\"data row14 col6\" >0.0242</td>\n",
       "      <td id=\"T_4ac1a_row14_col7\" class=\"data row14 col7\" >0.0160</td>\n",
       "    </tr>\n",
       "    <tr>\n",
       "      <th id=\"T_4ac1a_level0_row15\" class=\"row_heading level0 row15\" >par</th>\n",
       "      <td id=\"T_4ac1a_row15_col0\" class=\"data row15 col0\" >Passive Aggressive Regressor</td>\n",
       "      <td id=\"T_4ac1a_row15_col1\" class=\"data row15 col1\" >0.8593</td>\n",
       "      <td id=\"T_4ac1a_row15_col2\" class=\"data row15 col2\" >1.2383</td>\n",
       "      <td id=\"T_4ac1a_row15_col3\" class=\"data row15 col3\" >1.0553</td>\n",
       "      <td id=\"T_4ac1a_row15_col4\" class=\"data row15 col4\" >0.4544</td>\n",
       "      <td id=\"T_4ac1a_row15_col5\" class=\"data row15 col5\" >0.0357</td>\n",
       "      <td id=\"T_4ac1a_row15_col6\" class=\"data row15 col6\" >0.0305</td>\n",
       "      <td id=\"T_4ac1a_row15_col7\" class=\"data row15 col7\" >0.0170</td>\n",
       "    </tr>\n",
       "    <tr>\n",
       "      <th id=\"T_4ac1a_level0_row16\" class=\"row_heading level0 row16\" >dummy</th>\n",
       "      <td id=\"T_4ac1a_row16_col0\" class=\"data row16 col0\" >Dummy Regressor</td>\n",
       "      <td id=\"T_4ac1a_row16_col1\" class=\"data row16 col1\" >1.2340</td>\n",
       "      <td id=\"T_4ac1a_row16_col2\" class=\"data row16 col2\" >2.2741</td>\n",
       "      <td id=\"T_4ac1a_row16_col3\" class=\"data row16 col3\" >1.5016</td>\n",
       "      <td id=\"T_4ac1a_row16_col4\" class=\"data row16 col4\" >-0.0153</td>\n",
       "      <td id=\"T_4ac1a_row16_col5\" class=\"data row16 col5\" >0.0507</td>\n",
       "      <td id=\"T_4ac1a_row16_col6\" class=\"data row16 col6\" >0.0432</td>\n",
       "      <td id=\"T_4ac1a_row16_col7\" class=\"data row16 col7\" >0.0160</td>\n",
       "    </tr>\n",
       "    <tr>\n",
       "      <th id=\"T_4ac1a_level0_row17\" class=\"row_heading level0 row17\" >lar</th>\n",
       "      <td id=\"T_4ac1a_row17_col0\" class=\"data row17 col0\" >Least Angle Regression</td>\n",
       "      <td id=\"T_4ac1a_row17_col1\" class=\"data row17 col1\" >165177.4068</td>\n",
       "      <td id=\"T_4ac1a_row17_col2\" class=\"data row17 col2\" >170585892782.2361</td>\n",
       "      <td id=\"T_4ac1a_row17_col3\" class=\"data row17 col3\" >212172.9899</td>\n",
       "      <td id=\"T_4ac1a_row17_col4\" class=\"data row17 col4\" >-73089607164.7344</td>\n",
       "      <td id=\"T_4ac1a_row17_col5\" class=\"data row17 col5\" >5.1997</td>\n",
       "      <td id=\"T_4ac1a_row17_col6\" class=\"data row17 col6\" >5805.2128</td>\n",
       "      <td id=\"T_4ac1a_row17_col7\" class=\"data row17 col7\" >0.0170</td>\n",
       "    </tr>\n",
       "  </tbody>\n",
       "</table>\n"
      ],
      "text/plain": [
       "<pandas.io.formats.style.Styler at 0x27f2bf98690>"
      ]
     },
     "metadata": {},
     "output_type": "display_data"
    },
    {
     "data": {
      "text/html": [],
      "text/plain": [
       "<IPython.core.display.HTML object>"
      ]
     },
     "metadata": {},
     "output_type": "display_data"
    },
    {
     "data": {
      "application/vnd.jupyter.widget-view+json": {
       "model_id": "45c7aa09d58a4010b1ca16ebb32a8e6c",
       "version_major": 2,
       "version_minor": 0
      },
      "text/plain": [
       "interactive(children=(ToggleButtons(description='Plot Type:', icons=('',), options=(('Pipeline Plot', 'pipelin…"
      ]
     },
     "metadata": {},
     "output_type": "display_data"
    }
   ],
   "source": [
    "# ส่วนที่ 2 - การสร้างคุณลักษณะและตั้งค่า PyCaret:\n",
    "import pandas as pd\n",
    "from pycaret.regression import *\n",
    "\n",
    "# โหลดข้อมูลจากไฟล์ Excel\n",
    "dataset = pd.read_excel('cleaned_data.xlsx')\n",
    "\n",
    "# เตรียมข้อมูล\n",
    "dataset['timestamp'] = pd.to_datetime(dataset['timestamp'], errors='coerce')\n",
    "dataset.dropna(subset=['timestamp'], inplace=True)\n",
    "\n",
    "# สร้างคุณลักษณะเกี่ยวกับเวลา\n",
    "dataset['day'] = dataset['timestamp'].dt.day\n",
    "dataset['month'] = dataset['timestamp'].dt.month\n",
    "dataset['hour'] = dataset['timestamp'].dt.hour\n",
    "dataset['dayofweek'] = dataset['timestamp'].dt.dayofweek\n",
    "\n",
    "# สร้าง Lag Features สำหรับอุณหภูมิ\n",
    "for lag in range(1, 8):  \n",
    "    dataset[f'temperature_lag_{lag}'] = dataset['temperature'].shift(lag * 24)\n",
    "\n",
    "# สร้าง Rolling Mean และ Rolling Rate สำหรับอุณหภูมิ\n",
    "for window in [3, 7]:\n",
    "    dataset[f'temperature_roll_mean_{window}'] = dataset['temperature'].rolling(window=window * 24).mean()\n",
    "    dataset[f'temperature_roll_std_{window}'] = dataset['temperature'].rolling(window=window * 24).std()\n",
    "    dataset[f'temperature_roll_rate_{window}'] = dataset[f'temperature_roll_mean_{window}'].pct_change() * 100\n",
    "\n",
    "# เพิ่มความชื้นและ PM2.5 เป็นตัวแปรช่วย\n",
    "for lag in [1, 2]:\n",
    "    dataset[f'humidity_lag_{lag}'] = dataset['humidity'].shift(lag * 24)\n",
    "    dataset[f'pm_2_5_lag_{lag}'] = dataset['pm_2_5'].shift(lag * 24)\n",
    "\n",
    "# ลบแถวที่มีค่า NaN\n",
    "dataset.dropna(inplace=True)\n",
    "\n",
    "# เลือกคอลัมน์ที่ใช้\n",
    "features = (\n",
    "    ['humidity', 'pm_2_5', 'hour', 'day', 'month', 'dayofweek'] + \n",
    "    [f'temperature_lag_{lag}' for lag in range(1, 8)] + \n",
    "    [f'temperature_roll_mean_{window}' for window in [3, 7]] +\n",
    "    [f'temperature_roll_std_{window}' for window in [3, 7]] +\n",
    "    [f'temperature_roll_rate_{window}' for window in [3, 7]] +\n",
    "    [f'humidity_lag_{lag}' for lag in [1, 2]] +\n",
    "    [f'pm_2_5_lag_{lag}' for lag in [1, 2]]\n",
    ")\n",
    "target = 'temperature'\n",
    "dataset_filtered = dataset[features + [target]]\n",
    "\n",
    "# ตั้งค่า PyCaret\n",
    "setup(data=dataset_filtered, target=target, fold=10, train_size=0.8, session_id=123, remove_outliers=True)\n",
    "\n",
    "# เปรียบเทียบโมเดล\n",
    "best_model = compare_models()\n",
    "\n",
    "# ใช้ฟังก์ชัน evaluate_model เพื่อตรวจสอบโมเดลที่ดีที่สุด\n",
    "evaluate_model(best_model)"
   ]
  },
  {
   "cell_type": "code",
   "execution_count": null,
   "metadata": {},
   "outputs": [
    {
     "data": {
      "text/html": [],
      "text/plain": [
       "<IPython.core.display.HTML object>"
      ]
     },
     "metadata": {},
     "output_type": "display_data"
    },
    {
     "data": {
      "text/html": [
       "<style type=\"text/css\">\n",
       "#T_83d81_row10_col0, #T_83d81_row10_col1, #T_83d81_row10_col2, #T_83d81_row10_col3, #T_83d81_row10_col4, #T_83d81_row10_col5 {\n",
       "  background: yellow;\n",
       "}\n",
       "</style>\n",
       "<table id=\"T_83d81\">\n",
       "  <thead>\n",
       "    <tr>\n",
       "      <th class=\"blank level0\" >&nbsp;</th>\n",
       "      <th id=\"T_83d81_level0_col0\" class=\"col_heading level0 col0\" >MAE</th>\n",
       "      <th id=\"T_83d81_level0_col1\" class=\"col_heading level0 col1\" >MSE</th>\n",
       "      <th id=\"T_83d81_level0_col2\" class=\"col_heading level0 col2\" >RMSE</th>\n",
       "      <th id=\"T_83d81_level0_col3\" class=\"col_heading level0 col3\" >R2</th>\n",
       "      <th id=\"T_83d81_level0_col4\" class=\"col_heading level0 col4\" >RMSLE</th>\n",
       "      <th id=\"T_83d81_level0_col5\" class=\"col_heading level0 col5\" >MAPE</th>\n",
       "    </tr>\n",
       "    <tr>\n",
       "      <th class=\"index_name level0\" >Fold</th>\n",
       "      <th class=\"blank col0\" >&nbsp;</th>\n",
       "      <th class=\"blank col1\" >&nbsp;</th>\n",
       "      <th class=\"blank col2\" >&nbsp;</th>\n",
       "      <th class=\"blank col3\" >&nbsp;</th>\n",
       "      <th class=\"blank col4\" >&nbsp;</th>\n",
       "      <th class=\"blank col5\" >&nbsp;</th>\n",
       "    </tr>\n",
       "  </thead>\n",
       "  <tbody>\n",
       "    <tr>\n",
       "      <th id=\"T_83d81_level0_row0\" class=\"row_heading level0 row0\" >0</th>\n",
       "      <td id=\"T_83d81_row0_col0\" class=\"data row0 col0\" >0.7989</td>\n",
       "      <td id=\"T_83d81_row0_col1\" class=\"data row0 col1\" >1.0429</td>\n",
       "      <td id=\"T_83d81_row0_col2\" class=\"data row0 col2\" >1.0212</td>\n",
       "      <td id=\"T_83d81_row0_col3\" class=\"data row0 col3\" >0.6261</td>\n",
       "      <td id=\"T_83d81_row0_col4\" class=\"data row0 col4\" >0.0347</td>\n",
       "      <td id=\"T_83d81_row0_col5\" class=\"data row0 col5\" >0.0282</td>\n",
       "    </tr>\n",
       "    <tr>\n",
       "      <th id=\"T_83d81_level0_row1\" class=\"row_heading level0 row1\" >1</th>\n",
       "      <td id=\"T_83d81_row1_col0\" class=\"data row1 col0\" >0.6544</td>\n",
       "      <td id=\"T_83d81_row1_col1\" class=\"data row1 col1\" >0.6828</td>\n",
       "      <td id=\"T_83d81_row1_col2\" class=\"data row1 col2\" >0.8263</td>\n",
       "      <td id=\"T_83d81_row1_col3\" class=\"data row1 col3\" >0.6386</td>\n",
       "      <td id=\"T_83d81_row1_col4\" class=\"data row1 col4\" >0.0278</td>\n",
       "      <td id=\"T_83d81_row1_col5\" class=\"data row1 col5\" >0.0229</td>\n",
       "    </tr>\n",
       "    <tr>\n",
       "      <th id=\"T_83d81_level0_row2\" class=\"row_heading level0 row2\" >2</th>\n",
       "      <td id=\"T_83d81_row2_col0\" class=\"data row2 col0\" >0.7223</td>\n",
       "      <td id=\"T_83d81_row2_col1\" class=\"data row2 col1\" >0.9327</td>\n",
       "      <td id=\"T_83d81_row2_col2\" class=\"data row2 col2\" >0.9657</td>\n",
       "      <td id=\"T_83d81_row2_col3\" class=\"data row2 col3\" >0.6549</td>\n",
       "      <td id=\"T_83d81_row2_col4\" class=\"data row2 col4\" >0.0330</td>\n",
       "      <td id=\"T_83d81_row2_col5\" class=\"data row2 col5\" >0.0256</td>\n",
       "    </tr>\n",
       "    <tr>\n",
       "      <th id=\"T_83d81_level0_row3\" class=\"row_heading level0 row3\" >3</th>\n",
       "      <td id=\"T_83d81_row3_col0\" class=\"data row3 col0\" >0.7412</td>\n",
       "      <td id=\"T_83d81_row3_col1\" class=\"data row3 col1\" >0.7728</td>\n",
       "      <td id=\"T_83d81_row3_col2\" class=\"data row3 col2\" >0.8791</td>\n",
       "      <td id=\"T_83d81_row3_col3\" class=\"data row3 col3\" >0.7034</td>\n",
       "      <td id=\"T_83d81_row3_col4\" class=\"data row3 col4\" >0.0300</td>\n",
       "      <td id=\"T_83d81_row3_col5\" class=\"data row3 col5\" >0.0262</td>\n",
       "    </tr>\n",
       "    <tr>\n",
       "      <th id=\"T_83d81_level0_row4\" class=\"row_heading level0 row4\" >4</th>\n",
       "      <td id=\"T_83d81_row4_col0\" class=\"data row4 col0\" >0.6855</td>\n",
       "      <td id=\"T_83d81_row4_col1\" class=\"data row4 col1\" >0.7698</td>\n",
       "      <td id=\"T_83d81_row4_col2\" class=\"data row4 col2\" >0.8774</td>\n",
       "      <td id=\"T_83d81_row4_col3\" class=\"data row4 col3\" >0.6802</td>\n",
       "      <td id=\"T_83d81_row4_col4\" class=\"data row4 col4\" >0.0301</td>\n",
       "      <td id=\"T_83d81_row4_col5\" class=\"data row4 col5\" >0.0245</td>\n",
       "    </tr>\n",
       "    <tr>\n",
       "      <th id=\"T_83d81_level0_row5\" class=\"row_heading level0 row5\" >5</th>\n",
       "      <td id=\"T_83d81_row5_col0\" class=\"data row5 col0\" >0.6881</td>\n",
       "      <td id=\"T_83d81_row5_col1\" class=\"data row5 col1\" >0.8233</td>\n",
       "      <td id=\"T_83d81_row5_col2\" class=\"data row5 col2\" >0.9073</td>\n",
       "      <td id=\"T_83d81_row5_col3\" class=\"data row5 col3\" >0.6750</td>\n",
       "      <td id=\"T_83d81_row5_col4\" class=\"data row5 col4\" >0.0315</td>\n",
       "      <td id=\"T_83d81_row5_col5\" class=\"data row5 col5\" >0.0246</td>\n",
       "    </tr>\n",
       "    <tr>\n",
       "      <th id=\"T_83d81_level0_row6\" class=\"row_heading level0 row6\" >6</th>\n",
       "      <td id=\"T_83d81_row6_col0\" class=\"data row6 col0\" >0.5318</td>\n",
       "      <td id=\"T_83d81_row6_col1\" class=\"data row6 col1\" >0.4368</td>\n",
       "      <td id=\"T_83d81_row6_col2\" class=\"data row6 col2\" >0.6609</td>\n",
       "      <td id=\"T_83d81_row6_col3\" class=\"data row6 col3\" >0.7533</td>\n",
       "      <td id=\"T_83d81_row6_col4\" class=\"data row6 col4\" >0.0222</td>\n",
       "      <td id=\"T_83d81_row6_col5\" class=\"data row6 col5\" >0.0186</td>\n",
       "    </tr>\n",
       "    <tr>\n",
       "      <th id=\"T_83d81_level0_row7\" class=\"row_heading level0 row7\" >7</th>\n",
       "      <td id=\"T_83d81_row7_col0\" class=\"data row7 col0\" >0.6508</td>\n",
       "      <td id=\"T_83d81_row7_col1\" class=\"data row7 col1\" >0.7015</td>\n",
       "      <td id=\"T_83d81_row7_col2\" class=\"data row7 col2\" >0.8375</td>\n",
       "      <td id=\"T_83d81_row7_col3\" class=\"data row7 col3\" >0.6664</td>\n",
       "      <td id=\"T_83d81_row7_col4\" class=\"data row7 col4\" >0.0278</td>\n",
       "      <td id=\"T_83d81_row7_col5\" class=\"data row7 col5\" >0.0222</td>\n",
       "    </tr>\n",
       "    <tr>\n",
       "      <th id=\"T_83d81_level0_row8\" class=\"row_heading level0 row8\" >8</th>\n",
       "      <td id=\"T_83d81_row8_col0\" class=\"data row8 col0\" >0.5406</td>\n",
       "      <td id=\"T_83d81_row8_col1\" class=\"data row8 col1\" >0.4516</td>\n",
       "      <td id=\"T_83d81_row8_col2\" class=\"data row8 col2\" >0.6720</td>\n",
       "      <td id=\"T_83d81_row8_col3\" class=\"data row8 col3\" >0.7785</td>\n",
       "      <td id=\"T_83d81_row8_col4\" class=\"data row8 col4\" >0.0231</td>\n",
       "      <td id=\"T_83d81_row8_col5\" class=\"data row8 col5\" >0.0192</td>\n",
       "    </tr>\n",
       "    <tr>\n",
       "      <th id=\"T_83d81_level0_row9\" class=\"row_heading level0 row9\" >9</th>\n",
       "      <td id=\"T_83d81_row9_col0\" class=\"data row9 col0\" >0.5648</td>\n",
       "      <td id=\"T_83d81_row9_col1\" class=\"data row9 col1\" >0.5225</td>\n",
       "      <td id=\"T_83d81_row9_col2\" class=\"data row9 col2\" >0.7228</td>\n",
       "      <td id=\"T_83d81_row9_col3\" class=\"data row9 col3\" >0.6650</td>\n",
       "      <td id=\"T_83d81_row9_col4\" class=\"data row9 col4\" >0.0250</td>\n",
       "      <td id=\"T_83d81_row9_col5\" class=\"data row9 col5\" >0.0201</td>\n",
       "    </tr>\n",
       "    <tr>\n",
       "      <th id=\"T_83d81_level0_row10\" class=\"row_heading level0 row10\" >Mean</th>\n",
       "      <td id=\"T_83d81_row10_col0\" class=\"data row10 col0\" >0.6578</td>\n",
       "      <td id=\"T_83d81_row10_col1\" class=\"data row10 col1\" >0.7137</td>\n",
       "      <td id=\"T_83d81_row10_col2\" class=\"data row10 col2\" >0.8370</td>\n",
       "      <td id=\"T_83d81_row10_col3\" class=\"data row10 col3\" >0.6841</td>\n",
       "      <td id=\"T_83d81_row10_col4\" class=\"data row10 col4\" >0.0285</td>\n",
       "      <td id=\"T_83d81_row10_col5\" class=\"data row10 col5\" >0.0232</td>\n",
       "    </tr>\n",
       "    <tr>\n",
       "      <th id=\"T_83d81_level0_row11\" class=\"row_heading level0 row11\" >Std</th>\n",
       "      <td id=\"T_83d81_row11_col0\" class=\"data row11 col0\" >0.0843</td>\n",
       "      <td id=\"T_83d81_row11_col1\" class=\"data row11 col1\" >0.1892</td>\n",
       "      <td id=\"T_83d81_row11_col2\" class=\"data row11 col2\" >0.1141</td>\n",
       "      <td id=\"T_83d81_row11_col3\" class=\"data row11 col3\" >0.0460</td>\n",
       "      <td id=\"T_83d81_row11_col4\" class=\"data row11 col4\" >0.0039</td>\n",
       "      <td id=\"T_83d81_row11_col5\" class=\"data row11 col5\" >0.0030</td>\n",
       "    </tr>\n",
       "  </tbody>\n",
       "</table>\n"
      ],
      "text/plain": [
       "<pandas.io.formats.style.Styler at 0x27f2c2585d0>"
      ]
     },
     "metadata": {},
     "output_type": "display_data"
    },
    {
     "data": {
      "text/html": [],
      "text/plain": [
       "<IPython.core.display.HTML object>"
      ]
     },
     "metadata": {},
     "output_type": "display_data"
    },
    {
     "data": {
      "text/html": [],
      "text/plain": [
       "<IPython.core.display.HTML object>"
      ]
     },
     "metadata": {},
     "output_type": "display_data"
    },
    {
     "data": {
      "text/html": [
       "<style type=\"text/css\">\n",
       "#T_d27a4_row10_col0, #T_d27a4_row10_col1, #T_d27a4_row10_col2, #T_d27a4_row10_col3, #T_d27a4_row10_col4, #T_d27a4_row10_col5 {\n",
       "  background: yellow;\n",
       "}\n",
       "</style>\n",
       "<table id=\"T_d27a4\">\n",
       "  <thead>\n",
       "    <tr>\n",
       "      <th class=\"blank level0\" >&nbsp;</th>\n",
       "      <th id=\"T_d27a4_level0_col0\" class=\"col_heading level0 col0\" >MAE</th>\n",
       "      <th id=\"T_d27a4_level0_col1\" class=\"col_heading level0 col1\" >MSE</th>\n",
       "      <th id=\"T_d27a4_level0_col2\" class=\"col_heading level0 col2\" >RMSE</th>\n",
       "      <th id=\"T_d27a4_level0_col3\" class=\"col_heading level0 col3\" >R2</th>\n",
       "      <th id=\"T_d27a4_level0_col4\" class=\"col_heading level0 col4\" >RMSLE</th>\n",
       "      <th id=\"T_d27a4_level0_col5\" class=\"col_heading level0 col5\" >MAPE</th>\n",
       "    </tr>\n",
       "    <tr>\n",
       "      <th class=\"index_name level0\" >Fold</th>\n",
       "      <th class=\"blank col0\" >&nbsp;</th>\n",
       "      <th class=\"blank col1\" >&nbsp;</th>\n",
       "      <th class=\"blank col2\" >&nbsp;</th>\n",
       "      <th class=\"blank col3\" >&nbsp;</th>\n",
       "      <th class=\"blank col4\" >&nbsp;</th>\n",
       "      <th class=\"blank col5\" >&nbsp;</th>\n",
       "    </tr>\n",
       "  </thead>\n",
       "  <tbody>\n",
       "    <tr>\n",
       "      <th id=\"T_d27a4_level0_row0\" class=\"row_heading level0 row0\" >0</th>\n",
       "      <td id=\"T_d27a4_row0_col0\" class=\"data row0 col0\" >0.3924</td>\n",
       "      <td id=\"T_d27a4_row0_col1\" class=\"data row0 col1\" >0.3082</td>\n",
       "      <td id=\"T_d27a4_row0_col2\" class=\"data row0 col2\" >0.5551</td>\n",
       "      <td id=\"T_d27a4_row0_col3\" class=\"data row0 col3\" >0.8895</td>\n",
       "      <td id=\"T_d27a4_row0_col4\" class=\"data row0 col4\" >0.0191</td>\n",
       "      <td id=\"T_d27a4_row0_col5\" class=\"data row0 col5\" >0.0138</td>\n",
       "    </tr>\n",
       "    <tr>\n",
       "      <th id=\"T_d27a4_level0_row1\" class=\"row_heading level0 row1\" >1</th>\n",
       "      <td id=\"T_d27a4_row1_col0\" class=\"data row1 col0\" >0.3632</td>\n",
       "      <td id=\"T_d27a4_row1_col1\" class=\"data row1 col1\" >0.2285</td>\n",
       "      <td id=\"T_d27a4_row1_col2\" class=\"data row1 col2\" >0.4780</td>\n",
       "      <td id=\"T_d27a4_row1_col3\" class=\"data row1 col3\" >0.8791</td>\n",
       "      <td id=\"T_d27a4_row1_col4\" class=\"data row1 col4\" >0.0164</td>\n",
       "      <td id=\"T_d27a4_row1_col5\" class=\"data row1 col5\" >0.0128</td>\n",
       "    </tr>\n",
       "    <tr>\n",
       "      <th id=\"T_d27a4_level0_row2\" class=\"row_heading level0 row2\" >2</th>\n",
       "      <td id=\"T_d27a4_row2_col0\" class=\"data row2 col0\" >0.5187</td>\n",
       "      <td id=\"T_d27a4_row2_col1\" class=\"data row2 col1\" >0.3868</td>\n",
       "      <td id=\"T_d27a4_row2_col2\" class=\"data row2 col2\" >0.6219</td>\n",
       "      <td id=\"T_d27a4_row2_col3\" class=\"data row2 col3\" >0.8569</td>\n",
       "      <td id=\"T_d27a4_row2_col4\" class=\"data row2 col4\" >0.0212</td>\n",
       "      <td id=\"T_d27a4_row2_col5\" class=\"data row2 col5\" >0.0183</td>\n",
       "    </tr>\n",
       "    <tr>\n",
       "      <th id=\"T_d27a4_level0_row3\" class=\"row_heading level0 row3\" >3</th>\n",
       "      <td id=\"T_d27a4_row3_col0\" class=\"data row3 col0\" >0.4287</td>\n",
       "      <td id=\"T_d27a4_row3_col1\" class=\"data row3 col1\" >0.2870</td>\n",
       "      <td id=\"T_d27a4_row3_col2\" class=\"data row3 col2\" >0.5357</td>\n",
       "      <td id=\"T_d27a4_row3_col3\" class=\"data row3 col3\" >0.8899</td>\n",
       "      <td id=\"T_d27a4_row3_col4\" class=\"data row3 col4\" >0.0182</td>\n",
       "      <td id=\"T_d27a4_row3_col5\" class=\"data row3 col5\" >0.0151</td>\n",
       "    </tr>\n",
       "    <tr>\n",
       "      <th id=\"T_d27a4_level0_row4\" class=\"row_heading level0 row4\" >4</th>\n",
       "      <td id=\"T_d27a4_row4_col0\" class=\"data row4 col0\" >0.3968</td>\n",
       "      <td id=\"T_d27a4_row4_col1\" class=\"data row4 col1\" >0.2473</td>\n",
       "      <td id=\"T_d27a4_row4_col2\" class=\"data row4 col2\" >0.4973</td>\n",
       "      <td id=\"T_d27a4_row4_col3\" class=\"data row4 col3\" >0.8973</td>\n",
       "      <td id=\"T_d27a4_row4_col4\" class=\"data row4 col4\" >0.0170</td>\n",
       "      <td id=\"T_d27a4_row4_col5\" class=\"data row4 col5\" >0.0141</td>\n",
       "    </tr>\n",
       "    <tr>\n",
       "      <th id=\"T_d27a4_level0_row5\" class=\"row_heading level0 row5\" >5</th>\n",
       "      <td id=\"T_d27a4_row5_col0\" class=\"data row5 col0\" >0.4026</td>\n",
       "      <td id=\"T_d27a4_row5_col1\" class=\"data row5 col1\" >0.2818</td>\n",
       "      <td id=\"T_d27a4_row5_col2\" class=\"data row5 col2\" >0.5308</td>\n",
       "      <td id=\"T_d27a4_row5_col3\" class=\"data row5 col3\" >0.8887</td>\n",
       "      <td id=\"T_d27a4_row5_col4\" class=\"data row5 col4\" >0.0186</td>\n",
       "      <td id=\"T_d27a4_row5_col5\" class=\"data row5 col5\" >0.0144</td>\n",
       "    </tr>\n",
       "    <tr>\n",
       "      <th id=\"T_d27a4_level0_row6\" class=\"row_heading level0 row6\" >6</th>\n",
       "      <td id=\"T_d27a4_row6_col0\" class=\"data row6 col0\" >0.3548</td>\n",
       "      <td id=\"T_d27a4_row6_col1\" class=\"data row6 col1\" >0.1640</td>\n",
       "      <td id=\"T_d27a4_row6_col2\" class=\"data row6 col2\" >0.4050</td>\n",
       "      <td id=\"T_d27a4_row6_col3\" class=\"data row6 col3\" >0.9073</td>\n",
       "      <td id=\"T_d27a4_row6_col4\" class=\"data row6 col4\" >0.0136</td>\n",
       "      <td id=\"T_d27a4_row6_col5\" class=\"data row6 col5\" >0.0124</td>\n",
       "    </tr>\n",
       "    <tr>\n",
       "      <th id=\"T_d27a4_level0_row7\" class=\"row_heading level0 row7\" >7</th>\n",
       "      <td id=\"T_d27a4_row7_col0\" class=\"data row7 col0\" >0.3537</td>\n",
       "      <td id=\"T_d27a4_row7_col1\" class=\"data row7 col1\" >0.2055</td>\n",
       "      <td id=\"T_d27a4_row7_col2\" class=\"data row7 col2\" >0.4533</td>\n",
       "      <td id=\"T_d27a4_row7_col3\" class=\"data row7 col3\" >0.9023</td>\n",
       "      <td id=\"T_d27a4_row7_col4\" class=\"data row7 col4\" >0.0154</td>\n",
       "      <td id=\"T_d27a4_row7_col5\" class=\"data row7 col5\" >0.0123</td>\n",
       "    </tr>\n",
       "    <tr>\n",
       "      <th id=\"T_d27a4_level0_row8\" class=\"row_heading level0 row8\" >8</th>\n",
       "      <td id=\"T_d27a4_row8_col0\" class=\"data row8 col0\" >0.2977</td>\n",
       "      <td id=\"T_d27a4_row8_col1\" class=\"data row8 col1\" >0.1461</td>\n",
       "      <td id=\"T_d27a4_row8_col2\" class=\"data row8 col2\" >0.3823</td>\n",
       "      <td id=\"T_d27a4_row8_col3\" class=\"data row8 col3\" >0.9283</td>\n",
       "      <td id=\"T_d27a4_row8_col4\" class=\"data row8 col4\" >0.0133</td>\n",
       "      <td id=\"T_d27a4_row8_col5\" class=\"data row8 col5\" >0.0106</td>\n",
       "    </tr>\n",
       "    <tr>\n",
       "      <th id=\"T_d27a4_level0_row9\" class=\"row_heading level0 row9\" >9</th>\n",
       "      <td id=\"T_d27a4_row9_col0\" class=\"data row9 col0\" >0.3332</td>\n",
       "      <td id=\"T_d27a4_row9_col1\" class=\"data row9 col1\" >0.2074</td>\n",
       "      <td id=\"T_d27a4_row9_col2\" class=\"data row9 col2\" >0.4554</td>\n",
       "      <td id=\"T_d27a4_row9_col3\" class=\"data row9 col3\" >0.8670</td>\n",
       "      <td id=\"T_d27a4_row9_col4\" class=\"data row9 col4\" >0.0157</td>\n",
       "      <td id=\"T_d27a4_row9_col5\" class=\"data row9 col5\" >0.0118</td>\n",
       "    </tr>\n",
       "    <tr>\n",
       "      <th id=\"T_d27a4_level0_row10\" class=\"row_heading level0 row10\" >Mean</th>\n",
       "      <td id=\"T_d27a4_row10_col0\" class=\"data row10 col0\" >0.3842</td>\n",
       "      <td id=\"T_d27a4_row10_col1\" class=\"data row10 col1\" >0.2463</td>\n",
       "      <td id=\"T_d27a4_row10_col2\" class=\"data row10 col2\" >0.4915</td>\n",
       "      <td id=\"T_d27a4_row10_col3\" class=\"data row10 col3\" >0.8906</td>\n",
       "      <td id=\"T_d27a4_row10_col4\" class=\"data row10 col4\" >0.0169</td>\n",
       "      <td id=\"T_d27a4_row10_col5\" class=\"data row10 col5\" >0.0136</td>\n",
       "    </tr>\n",
       "    <tr>\n",
       "      <th id=\"T_d27a4_level0_row11\" class=\"row_heading level0 row11\" >Std</th>\n",
       "      <td id=\"T_d27a4_row11_col0\" class=\"data row11 col0\" >0.0574</td>\n",
       "      <td id=\"T_d27a4_row11_col1\" class=\"data row11 col1\" >0.0684</td>\n",
       "      <td id=\"T_d27a4_row11_col2\" class=\"data row11 col2\" >0.0685</td>\n",
       "      <td id=\"T_d27a4_row11_col3\" class=\"data row11 col3\" >0.0193</td>\n",
       "      <td id=\"T_d27a4_row11_col4\" class=\"data row11 col4\" >0.0024</td>\n",
       "      <td id=\"T_d27a4_row11_col5\" class=\"data row11 col5\" >0.0020</td>\n",
       "    </tr>\n",
       "  </tbody>\n",
       "</table>\n"
      ],
      "text/plain": [
       "<pandas.io.formats.style.Styler at 0x27f26a24f50>"
      ]
     },
     "metadata": {},
     "output_type": "display_data"
    },
    {
     "data": {
      "text/html": [],
      "text/plain": [
       "<IPython.core.display.HTML object>"
      ]
     },
     "metadata": {},
     "output_type": "display_data"
    },
    {
     "name": "stdout",
     "output_type": "stream",
     "text": [
      "Fitting 10 folds for each of 10 candidates, totalling 100 fits\n"
     ]
    },
    {
     "data": {
      "application/vnd.jupyter.widget-view+json": {
       "model_id": "7f7007affbb74e96b4954208d0d177b8",
       "version_major": 2,
       "version_minor": 0
      },
      "text/plain": [
       "interactive(children=(ToggleButtons(description='Plot Type:', icons=('',), options=(('Pipeline Plot', 'pipelin…"
      ]
     },
     "metadata": {},
     "output_type": "display_data"
    },
    {
     "data": {
      "text/html": [],
      "text/plain": [
       "<IPython.core.display.HTML object>"
      ]
     },
     "metadata": {},
     "output_type": "display_data"
    },
    {
     "data": {
      "image/png": "[encoded data removed]",
      "text/plain": [
       "<Figure size 800x500 with 1 Axes>"
      ]
     },
     "metadata": {},
     "output_type": "display_data"
    }
   ],
   "source": [
    "# เลือกโมเดล Extra Trees พร้อมกับปรับพารามิเตอร์เพื่อลด Overfitting\n",
    "et_model = create_model('et', \n",
    "                       min_samples_leaf=10,\n",
    "                       min_samples_split=20, \n",
    "                       max_depth=15,\n",
    "                       max_features='sqrt',\n",
    "                       n_estimators=100)\n",
    "\n",
    "# ปรับพารามิเตอร์ของโมเดลด้วยการระบุค่าที่ช่วยป้องกัน Overfitting\n",
    "tuned_model = tune_model(et_model, \n",
    "                       custom_grid={\n",
    "                           'min_samples_leaf': [5, 10, 20],\n",
    "                           'min_samples_split': [10, 20, 30],\n",
    "                           'max_depth': [10, 15, 20, None],\n",
    "                           'max_features': ['sqrt', 'log2', None],\n",
    "                           'n_estimators': [50, 100, 150]\n",
    "                       })\n",
    "\n",
    "# ประเมินโมเดลที่ปรับพารามิเตอร์แล้ว\n",
    "evaluate_model(tuned_model)\n",
    "\n",
    "# แสดงคุณลักษณะที่สำคัญที่สุดเพื่อพิจารณาการลดจำนวนคุณลักษณะ\n",
    "plot_model(tuned_model, plot='feature')"
   ]
  },
  {
   "cell_type": "code",
   "execution_count": 5,
   "metadata": {},
   "outputs": [
    {
     "name": "stdout",
     "output_type": "stream",
     "text": [
      "Transformation Pipeline and Model Successfully Saved\n"
     ]
    },
    {
     "data": {
      "text/plain": [
       "(Pipeline(memory=Memory(location=None),\n",
       "          steps=[('numerical_imputer',\n",
       "                  TransformerWrapper(include=['humidity', 'pm_2_5', 'hour',\n",
       "                                              'day', 'month', 'dayofweek',\n",
       "                                              'temperature_lag_1',\n",
       "                                              'temperature_lag_2',\n",
       "                                              'temperature_lag_3',\n",
       "                                              'temperature_lag_4',\n",
       "                                              'temperature_lag_5',\n",
       "                                              'temperature_lag_6',\n",
       "                                              'temperature_lag_7',\n",
       "                                              'temperature_roll_mean_3',\n",
       "                                              'temperature_roll_mean_7',\n",
       "                                              'temperatur...\n",
       "                                     transformer=SimpleImputer())),\n",
       "                 ('categorical_imputer',\n",
       "                  TransformerWrapper(include=[],\n",
       "                                     transformer=SimpleImputer(strategy='most_frequent'))),\n",
       "                 ('remove_outliers',\n",
       "                  TransformerWrapper(transformer=RemoveOutliers(random_state=123))),\n",
       "                 ('actual_estimator',\n",
       "                  ExtraTreesRegressor(max_depth=10, max_features=None,\n",
       "                                      min_samples_leaf=5, min_samples_split=20,\n",
       "                                      n_estimators=50, n_jobs=-1,\n",
       "                                      random_state=123))]),\n",
       " 'temperature_forecast_model.pkl')"
      ]
     },
     "execution_count": 5,
     "metadata": {},
     "output_type": "execute_result"
    }
   ],
   "source": [
    "# ส่วนที่ 4 - การสร้างโมเดลสุดท้าย:\n",
    "final_model = finalize_model(tuned_model)\n",
    "save_model(final_model, 'temperature_forecast_model')"
   ]
  },
  {
   "cell_type": "code",
   "execution_count": 9,
   "metadata": {},
   "outputs": [
    {
     "data": {
      "text/html": [],
      "text/plain": [
       "<IPython.core.display.HTML object>"
      ]
     },
     "metadata": {},
     "output_type": "display_data"
    },
    {
     "data": {
      "text/html": [],
      "text/plain": [
       "<IPython.core.display.HTML object>"
      ]
     },
     "metadata": {},
     "output_type": "display_data"
    },
    {
     "data": {
      "text/html": [],
      "text/plain": [
       "<IPython.core.display.HTML object>"
      ]
     },
     "metadata": {},
     "output_type": "display_data"
    },
    {
     "data": {
      "text/html": [],
      "text/plain": [
       "<IPython.core.display.HTML object>"
      ]
     },
     "metadata": {},
     "output_type": "display_data"
    },
    {
     "data": {
      "text/html": [],
      "text/plain": [
       "<IPython.core.display.HTML object>"
      ]
     },
     "metadata": {},
     "output_type": "display_data"
    },
    {
     "data": {
      "text/html": [],
      "text/plain": [
       "<IPython.core.display.HTML object>"
      ]
     },
     "metadata": {},
     "output_type": "display_data"
    },
    {
     "data": {
      "text/html": [],
      "text/plain": [
       "<IPython.core.display.HTML object>"
      ]
     },
     "metadata": {},
     "output_type": "display_data"
    },
    {
     "name": "stdout",
     "output_type": "stream",
     "text": [
      "ผลลัพธ์การทำนายอุณหภูมิ:\n",
      "            timestamp  predicted_temperature\n",
      "0 2025-02-06 07:00:00              29.000113\n",
      "1 2025-02-07 07:00:00              29.318028\n",
      "2 2025-02-08 07:00:00              29.717817\n",
      "3 2025-02-09 07:00:00              29.799585\n",
      "4 2025-02-10 07:00:00              29.901324\n",
      "5 2025-02-11 07:00:00              29.986656\n",
      "6 2025-02-12 07:00:00              30.172044\n"
     ]
    }
   ],
   "source": [
    "# ส่วนที่ 5 - การทำนายค่าอุณหภูมิในอนาคต:\n",
    "# สร้าง future_df สำหรับการทำนาย 7 วันข้างหน้า\n",
    "last_timestamp = dataset['timestamp'].max()\n",
    "future_dates = pd.date_range(start=last_timestamp + pd.Timedelta(days=1), periods=7, freq='D')\n",
    "\n",
    "# ใช้ค่าเฉลี่ยของ 30 วันล่าสุดสำหรับ humidity และ pm_2_5\n",
    "recent_data = dataset.sort_values('timestamp').tail(30 * 24)  # 30 วันล่าสุด\n",
    "avg_humidity = recent_data['humidity'].mean()\n",
    "avg_pm25 = recent_data['pm_2_5'].mean()\n",
    "\n",
    "# ดึงค่าอุณหภูมิล่าสุดสำหรับสร้าง features\n",
    "latest_temp_values = dataset.sort_values('timestamp').tail(7 * 24)['temperature'].tolist()\n",
    "latest_temp_values.reverse()  # กลับลำดับเพื่อให้ค่าล่าสุดอยู่ที่ดัชนี 0\n",
    "\n",
    "latest_humidity_values = dataset.sort_values('timestamp').tail(2 * 24)['humidity'].tolist()\n",
    "latest_humidity_values.reverse()\n",
    "\n",
    "latest_pm25_values = dataset.sort_values('timestamp').tail(2 * 24)['pm_2_5'].tolist()\n",
    "latest_pm25_values.reverse()\n",
    "\n",
    "# ทำนายทีละวัน\n",
    "predictions = []\n",
    "current_data = dataset.copy().sort_values('timestamp')\n",
    "\n",
    "for i, date in enumerate(future_dates):\n",
    "    # สร้างข้อมูลพื้นฐานสำหรับวันใหม่\n",
    "    new_day = pd.DataFrame({\n",
    "        'timestamp': [date],\n",
    "        'humidity': [avg_humidity],\n",
    "        'pm_2_5': [avg_pm25],\n",
    "        'day': [date.day],\n",
    "        'month': [date.month],\n",
    "        'hour': [12],  # ใช้เวลาเที่ยงวันเป็นตัวแทนของวัน\n",
    "        'dayofweek': [date.dayofweek]\n",
    "    })\n",
    "\n",
    "    # สร้าง lag features สำหรับอุณหภูมิ\n",
    "    for lag in range(1, 8):\n",
    "        if i >= lag:\n",
    "            # ใช้ค่าที่ทำนายไปแล้วสำหรับวันที่ผ่านมา\n",
    "            new_day[f'temperature_lag_{lag}'] = [predictions[i - lag]]\n",
    "        else:\n",
    "            # ใช้ค่าจริงจากชุดข้อมูล\n",
    "            lag_idx = lag - i - 1\n",
    "            if abs(lag_idx) < len(latest_temp_values):\n",
    "                new_day[f'temperature_lag_{lag}'] = [latest_temp_values[lag_idx]]\n",
    "            else:\n",
    "                new_day[f'temperature_lag_{lag}'] = [latest_temp_values[-1]]  # ใช้ค่าสุดท้ายที่มี\n",
    "    \n",
    "    # สร้าง lag features สำหรับความชื้นและ PM2.5\n",
    "    for lag in [1, 2]:\n",
    "        if i >= lag:\n",
    "            # สมมติว่าความชื้นและ PM2.5 คงที่\n",
    "            new_day[f'humidity_lag_{lag}'] = [avg_humidity]\n",
    "            new_day[f'pm_2_5_lag_{lag}'] = [avg_pm25]\n",
    "        else:\n",
    "            # ใช้ค่าจริงจากชุดข้อมูล\n",
    "            h_lag_idx = lag - i - 1\n",
    "            if abs(h_lag_idx) < len(latest_humidity_values):\n",
    "                new_day[f'humidity_lag_{lag}'] = [latest_humidity_values[h_lag_idx]]\n",
    "            else:\n",
    "                new_day[f'humidity_lag_{lag}'] = [latest_humidity_values[-1]]\n",
    "                \n",
    "            pm_lag_idx = lag - i - 1\n",
    "            if abs(pm_lag_idx) < len(latest_pm25_values):\n",
    "                new_day[f'pm_2_5_lag_{lag}'] = [latest_pm25_values[pm_lag_idx]]\n",
    "            else:\n",
    "                new_day[f'pm_2_5_lag_{lag}'] = [latest_pm25_values[-1]]\n",
    "\n",
    "    # คำนวณ rolling metrics สำหรับอุณหภูมิ\n",
    "    for window in [3, 7]:\n",
    "        if i == 0:\n",
    "            # ใช้ค่าจาก window วันล่าสุดในชุดข้อมูล\n",
    "            last_n_days = latest_temp_values[:window]\n",
    "            roll_mean = sum(last_n_days) / len(last_n_days)\n",
    "            roll_std = sum((x - roll_mean) ** 2 for x in last_n_days) ** 0.5 / len(last_n_days) if len(last_n_days) > 1 else 0\n",
    "            \n",
    "            # คำนวณ roll_rate\n",
    "            prev_window = latest_temp_values[1:window+1]\n",
    "            prev_roll_mean = sum(prev_window) / len(prev_window) if prev_window else roll_mean\n",
    "            roll_rate = ((roll_mean - prev_roll_mean) / prev_roll_mean) * 100 if prev_roll_mean != 0 else 0\n",
    "            \n",
    "            new_day[f'temperature_roll_mean_{window}'] = [roll_mean]\n",
    "            new_day[f'temperature_roll_std_{window}'] = [roll_std]\n",
    "            new_day[f'temperature_roll_rate_{window}'] = [roll_rate]\n",
    "        else:\n",
    "            # ใช้ค่าที่ทำนายไปแล้ว\n",
    "            recent_values = predictions[-window:] if len(predictions) >= window else predictions + latest_temp_values[:window-len(predictions)]\n",
    "            roll_mean = sum(recent_values) / len(recent_values)\n",
    "            roll_std = sum((x - roll_mean) ** 2 for x in recent_values) ** 0.5 / len(recent_values) if len(recent_values) > 1 else 0\n",
    "            \n",
    "            # คำนวณ roll_rate\n",
    "            if len(predictions) >= window + 1:\n",
    "                prev_values = predictions[-(window+1):-1]\n",
    "            else:\n",
    "                prev_values = predictions[:-1] + latest_temp_values[:window-len(predictions)+1] if len(predictions) > 0 else latest_temp_values[:window]\n",
    "            \n",
    "            prev_roll_mean = sum(prev_values) / len(prev_values) if prev_values else roll_mean\n",
    "            roll_rate = ((roll_mean - prev_roll_mean) / prev_roll_mean) * 100 if prev_roll_mean != 0 else 0\n",
    "            \n",
    "            new_day[f'temperature_roll_mean_{window}'] = [roll_mean]\n",
    "            new_day[f'temperature_roll_std_{window}'] = [roll_std]\n",
    "            new_day[f'temperature_roll_rate_{window}'] = [roll_rate]\n",
    "\n",
    "    # ทำนายค่าอุณหภูมิ\n",
    "    prediction = predict_model(final_model, data=new_day)\n",
    "    predicted_value = prediction.iloc[0]['prediction_label']\n",
    "    predictions.append(predicted_value)\n",
    "\n",
    "    # เพิ่มข้อมูลที่ทำนายแล้วลงใน current_data\n",
    "    new_row = new_day.copy()\n",
    "    new_row['temperature'] = predicted_value\n",
    "    current_data = pd.concat([current_data, new_row], ignore_index=True)\n",
    "\n",
    "# สร้าง DataFrame สำหรับผลลัพธ์\n",
    "result_df = pd.DataFrame({\n",
    "    'timestamp': future_dates,\n",
    "    'predicted_temperature': predictions\n",
    "})\n",
    "\n",
    "print(\"ผลลัพธ์การทำนายอุณหภูมิ:\")\n",
    "print(result_df)"
   ]
  },
  {
   "cell_type": "code",
   "execution_count": 10,
   "metadata": {},
   "outputs": [
    {
     "data": {
      "application/vnd.plotly.v1+json": {
       "config": {
        "plotlyServerURL": "https://plot.ly"
       },
       "data": [
        {
         "line": {
          "width": 2
         },
         "marker": {
          "color": "rgba(255, 99, 132, 0.8)"
         },
         "mode": "lines+markers",
         "name": "Predicted Temperature",
         "type": "scatter",
         "x": [
          "2025-02-06T07:00:00",
          "2025-02-07T07:00:00",
          "2025-02-08T07:00:00",
          "2025-02-09T07:00:00",
          "2025-02-10T07:00:00",
          "2025-02-11T07:00:00",
          "2025-02-12T07:00:00"
         ],
         "y": [
          29.00011292191462,
          29.318028062100492,
          29.717816618933394,
          29.79958506432738,
          29.901323503241848,
          29.9866559727749,
          30.172044143626014
         ]
        }
       ],
       "layout": {
        "paper_bgcolor": "white",
        "plot_bgcolor": "white",
        "template": {
         "data": {
          "bar": [
           {
            "error_x": {
             "color": "#2a3f5f"
            },
            "error_y": {
             "color": "#2a3f5f"
            },
            "marker": {
             "line": {
              "color": "#E5ECF6",
              "width": 0.5
             },
             "pattern": {
              "fillmode": "overlay",
              "size": 10,
              "solidity": 0.2
             }
            },
            "type": "bar"
           }
          ],
          "barpolar": [
           {
            "marker": {
             "line": {
              "color": "#E5ECF6",
              "width": 0.5
             },
             "pattern": {
              "fillmode": "overlay",
              "size": 10,
              "solidity": 0.2
             }
            },
            "type": "barpolar"
           }
          ],
          "carpet": [
           {
            "aaxis": {
             "endlinecolor": "#2a3f5f",
             "gridcolor": "white",
             "linecolor": "white",
             "minorgridcolor": "white",
             "startlinecolor": "#2a3f5f"
            },
            "baxis": {
             "endlinecolor": "#2a3f5f",
             "gridcolor": "white",
             "linecolor": "white",
             "minorgridcolor": "white",
             "startlinecolor": "#2a3f5f"
            },
            "type": "carpet"
           }
          ],
          "choropleth": [
           {
            "colorbar": {
             "outlinewidth": 0,
             "ticks": ""
            },
            "type": "choropleth"
           }
          ],
          "contour": [
           {
            "colorbar": {
             "outlinewidth": 0,
             "ticks": ""
            },
            "colorscale": [
             [
              0,
              "#0d0887"
             ],
             [
              0.1111111111111111,
              "#46039f"
             ],
             [
              0.2222222222222222,
              "#7201a8"
             ],
             [
              0.3333333333333333,
              "#9c179e"
             ],
             [
              0.4444444444444444,
              "#bd3786"
             ],
             [
              0.5555555555555556,
              "#d8576b"
             ],
             [
              0.6666666666666666,
              "#ed7953"
             ],
             [
              0.7777777777777778,
              "#fb9f3a"
             ],
             [
              0.8888888888888888,
              "#fdca26"
             ],
             [
              1,
              "#f0f921"
             ]
            ],
            "type": "contour"
           }
          ],
          "contourcarpet": [
           {
            "colorbar": {
             "outlinewidth": 0,
             "ticks": ""
            },
            "type": "contourcarpet"
           }
          ],
          "heatmap": [
           {
            "colorbar": {
             "outlinewidth": 0,
             "ticks": ""
            },
            "colorscale": [
             [
              0,
              "#0d0887"
             ],
             [
              0.1111111111111111,
              "#46039f"
             ],
             [
              0.2222222222222222,
              "#7201a8"
             ],
             [
              0.3333333333333333,
              "#9c179e"
             ],
             [
              0.4444444444444444,
              "#bd3786"
             ],
             [
              0.5555555555555556,
              "#d8576b"
             ],
             [
              0.6666666666666666,
              "#ed7953"
             ],
             [
              0.7777777777777778,
              "#fb9f3a"
             ],
             [
              0.8888888888888888,
              "#fdca26"
             ],
             [
              1,
              "#f0f921"
             ]
            ],
            "type": "heatmap"
           }
          ],
          "heatmapgl": [
           {
            "colorbar": {
             "outlinewidth": 0,
             "ticks": ""
            },
            "colorscale": [
             [
              0,
              "#0d0887"
             ],
             [
              0.1111111111111111,
              "#46039f"
             ],
             [
              0.2222222222222222,
              "#7201a8"
             ],
             [
              0.3333333333333333,
              "#9c179e"
             ],
             [
              0.4444444444444444,
              "#bd3786"
             ],
             [
              0.5555555555555556,
              "#d8576b"
             ],
             [
              0.6666666666666666,
              "#ed7953"
             ],
             [
              0.7777777777777778,
              "#fb9f3a"
             ],
             [
              0.8888888888888888,
              "#fdca26"
             ],
             [
              1,
              "#f0f921"
             ]
            ],
            "type": "heatmapgl"
           }
          ],
          "histogram": [
           {
            "marker": {
             "pattern": {
              "fillmode": "overlay",
              "size": 10,
              "solidity": 0.2
             }
            },
            "type": "histogram"
           }
          ],
          "histogram2d": [
           {
            "colorbar": {
             "outlinewidth": 0,
             "ticks": ""
            },
            "colorscale": [
             [
              0,
              "#0d0887"
             ],
             [
              0.1111111111111111,
              "#46039f"
             ],
             [
              0.2222222222222222,
              "#7201a8"
             ],
             [
              0.3333333333333333,
              "#9c179e"
             ],
             [
              0.4444444444444444,
              "#bd3786"
             ],
             [
              0.5555555555555556,
              "#d8576b"
             ],
             [
              0.6666666666666666,
              "#ed7953"
             ],
             [
              0.7777777777777778,
              "#fb9f3a"
             ],
             [
              0.8888888888888888,
              "#fdca26"
             ],
             [
              1,
              "#f0f921"
             ]
            ],
            "type": "histogram2d"
           }
          ],
          "histogram2dcontour": [
           {
            "colorbar": {
             "outlinewidth": 0,
             "ticks": ""
            },
            "colorscale": [
             [
              0,
              "#0d0887"
             ],
             [
              0.1111111111111111,
              "#46039f"
             ],
             [
              0.2222222222222222,
              "#7201a8"
             ],
             [
              0.3333333333333333,
              "#9c179e"
             ],
             [
              0.4444444444444444,
              "#bd3786"
             ],
             [
              0.5555555555555556,
              "#d8576b"
             ],
             [
              0.6666666666666666,
              "#ed7953"
             ],
             [
              0.7777777777777778,
              "#fb9f3a"
             ],
             [
              0.8888888888888888,
              "#fdca26"
             ],
             [
              1,
              "#f0f921"
             ]
            ],
            "type": "histogram2dcontour"
           }
          ],
          "mesh3d": [
           {
            "colorbar": {
             "outlinewidth": 0,
             "ticks": ""
            },
            "type": "mesh3d"
           }
          ],
          "parcoords": [
           {
            "line": {
             "colorbar": {
              "outlinewidth": 0,
              "ticks": ""
             }
            },
            "type": "parcoords"
           }
          ],
          "pie": [
           {
            "automargin": true,
            "type": "pie"
           }
          ],
          "scatter": [
           {
            "fillpattern": {
             "fillmode": "overlay",
             "size": 10,
             "solidity": 0.2
            },
            "type": "scatter"
           }
          ],
          "scatter3d": [
           {
            "line": {
             "colorbar": {
              "outlinewidth": 0,
              "ticks": ""
             }
            },
            "marker": {
             "colorbar": {
              "outlinewidth": 0,
              "ticks": ""
             }
            },
            "type": "scatter3d"
           }
          ],
          "scattercarpet": [
           {
            "marker": {
             "colorbar": {
              "outlinewidth": 0,
              "ticks": ""
             }
            },
            "type": "scattercarpet"
           }
          ],
          "scattergeo": [
           {
            "marker": {
             "colorbar": {
              "outlinewidth": 0,
              "ticks": ""
             }
            },
            "type": "scattergeo"
           }
          ],
          "scattergl": [
           {
            "marker": {
             "colorbar": {
              "outlinewidth": 0,
              "ticks": ""
             }
            },
            "type": "scattergl"
           }
          ],
          "scattermapbox": [
           {
            "marker": {
             "colorbar": {
              "outlinewidth": 0,
              "ticks": ""
             }
            },
            "type": "scattermapbox"
           }
          ],
          "scatterpolar": [
           {
            "marker": {
             "colorbar": {
              "outlinewidth": 0,
              "ticks": ""
             }
            },
            "type": "scatterpolar"
           }
          ],
          "scatterpolargl": [
           {
            "marker": {
             "colorbar": {
              "outlinewidth": 0,
              "ticks": ""
             }
            },
            "type": "scatterpolargl"
           }
          ],
          "scatterternary": [
           {
            "marker": {
             "colorbar": {
              "outlinewidth": 0,
              "ticks": ""
             }
            },
            "type": "scatterternary"
           }
          ],
          "surface": [
           {
            "colorbar": {
             "outlinewidth": 0,
             "ticks": ""
            },
            "colorscale": [
             [
              0,
              "#0d0887"
             ],
             [
              0.1111111111111111,
              "#46039f"
             ],
             [
              0.2222222222222222,
              "#7201a8"
             ],
             [
              0.3333333333333333,
              "#9c179e"
             ],
             [
              0.4444444444444444,
              "#bd3786"
             ],
             [
              0.5555555555555556,
              "#d8576b"
             ],
             [
              0.6666666666666666,
              "#ed7953"
             ],
             [
              0.7777777777777778,
              "#fb9f3a"
             ],
             [
              0.8888888888888888,
              "#fdca26"
             ],
             [
              1,
              "#f0f921"
             ]
            ],
            "type": "surface"
           }
          ],
          "table": [
           {
            "cells": {
             "fill": {
              "color": "#EBF0F8"
             },
             "line": {
              "color": "white"
             }
            },
            "header": {
             "fill": {
              "color": "#C8D4E3"
             },
             "line": {
              "color": "white"
             }
            },
            "type": "table"
           }
          ]
         },
         "layout": {
          "annotationdefaults": {
           "arrowcolor": "#2a3f5f",
           "arrowhead": 0,
           "arrowwidth": 1
          },
          "autotypenumbers": "strict",
          "coloraxis": {
           "colorbar": {
            "outlinewidth": 0,
            "ticks": ""
           }
          },
          "colorscale": {
           "diverging": [
            [
             0,
             "#8e0152"
            ],
            [
             0.1,
             "#c51b7d"
            ],
            [
             0.2,
             "#de77ae"
            ],
            [
             0.3,
             "#f1b6da"
            ],
            [
             0.4,
             "#fde0ef"
            ],
            [
             0.5,
             "#f7f7f7"
            ],
            [
             0.6,
             "#e6f5d0"
            ],
            [
             0.7,
             "#b8e186"
            ],
            [
             0.8,
             "#7fbc41"
            ],
            [
             0.9,
             "#4d9221"
            ],
            [
             1,
             "#276419"
            ]
           ],
           "sequential": [
            [
             0,
             "#0d0887"
            ],
            [
             0.1111111111111111,
             "#46039f"
            ],
            [
             0.2222222222222222,
             "#7201a8"
            ],
            [
             0.3333333333333333,
             "#9c179e"
            ],
            [
             0.4444444444444444,
             "#bd3786"
            ],
            [
             0.5555555555555556,
             "#d8576b"
            ],
            [
             0.6666666666666666,
             "#ed7953"
            ],
            [
             0.7777777777777778,
             "#fb9f3a"
            ],
            [
             0.8888888888888888,
             "#fdca26"
            ],
            [
             1,
             "#f0f921"
            ]
           ],
           "sequentialminus": [
            [
             0,
             "#0d0887"
            ],
            [
             0.1111111111111111,
             "#46039f"
            ],
            [
             0.2222222222222222,
             "#7201a8"
            ],
            [
             0.3333333333333333,
             "#9c179e"
            ],
            [
             0.4444444444444444,
             "#bd3786"
            ],
            [
             0.5555555555555556,
             "#d8576b"
            ],
            [
             0.6666666666666666,
             "#ed7953"
            ],
            [
             0.7777777777777778,
             "#fb9f3a"
            ],
            [
             0.8888888888888888,
             "#fdca26"
            ],
            [
             1,
             "#f0f921"
            ]
           ]
          },
          "colorway": [
           "#636efa",
           "#EF553B",
           "#00cc96",
           "#ab63fa",
           "#FFA15A",
           "#19d3f3",
           "#FF6692",
           "#B6E880",
           "#FF97FF",
           "#FECB52"
          ],
          "font": {
           "color": "#2a3f5f"
          },
          "geo": {
           "bgcolor": "white",
           "lakecolor": "white",
           "landcolor": "#E5ECF6",
           "showlakes": true,
           "showland": true,
           "subunitcolor": "white"
          },
          "hoverlabel": {
           "align": "left"
          },
          "hovermode": "closest",
          "mapbox": {
           "style": "light"
          },
          "paper_bgcolor": "white",
          "plot_bgcolor": "#E5ECF6",
          "polar": {
           "angularaxis": {
            "gridcolor": "white",
            "linecolor": "white",
            "ticks": ""
           },
           "bgcolor": "#E5ECF6",
           "radialaxis": {
            "gridcolor": "white",
            "linecolor": "white",
            "ticks": ""
           }
          },
          "scene": {
           "xaxis": {
            "backgroundcolor": "#E5ECF6",
            "gridcolor": "white",
            "gridwidth": 2,
            "linecolor": "white",
            "showbackground": true,
            "ticks": "",
            "zerolinecolor": "white"
           },
           "yaxis": {
            "backgroundcolor": "#E5ECF6",
            "gridcolor": "white",
            "gridwidth": 2,
            "linecolor": "white",
            "showbackground": true,
            "ticks": "",
            "zerolinecolor": "white"
           },
           "zaxis": {
            "backgroundcolor": "#E5ECF6",
            "gridcolor": "white",
            "gridwidth": 2,
            "linecolor": "white",
            "showbackground": true,
            "ticks": "",
            "zerolinecolor": "white"
           }
          },
          "shapedefaults": {
           "line": {
            "color": "#2a3f5f"
           }
          },
          "ternary": {
           "aaxis": {
            "gridcolor": "white",
            "linecolor": "white",
            "ticks": ""
           },
           "baxis": {
            "gridcolor": "white",
            "linecolor": "white",
            "ticks": ""
           },
           "bgcolor": "#E5ECF6",
           "caxis": {
            "gridcolor": "white",
            "linecolor": "white",
            "ticks": ""
           }
          },
          "title": {
           "x": 0.05
          },
          "xaxis": {
           "automargin": true,
           "gridcolor": "white",
           "linecolor": "white",
           "ticks": "",
           "title": {
            "standoff": 15
           },
           "zerolinecolor": "white",
           "zerolinewidth": 2
          },
          "yaxis": {
           "automargin": true,
           "gridcolor": "white",
           "linecolor": "white",
           "ticks": "",
           "title": {
            "standoff": 15
           },
           "zerolinecolor": "white",
           "zerolinewidth": 2
          }
         }
        },
        "title": {
         "text": "Temperature Forecast for the Next 7 Days"
        },
        "xaxis": {
         "title": {
          "text": "Date"
         }
        },
        "yaxis": {
         "title": {
          "text": "Temperature (°C)"
         }
        }
       }
      }
     },
     "metadata": {},
     "output_type": "display_data"
    }
   ],
   "source": [
    "# ส่วนที่ 6 - การสร้างกราฟแสดงผลการทำนาย:\n",
    "import plotly.graph_objects as go\n",
    "\n",
    "# สร้างกราฟ\n",
    "fig = go.Figure()\n",
    "\n",
    "fig.add_trace(go.Scatter(\n",
    "    x=result_df['timestamp'],\n",
    "    y=result_df['predicted_temperature'],\n",
    "    mode='lines+markers',\n",
    "    name='Predicted Temperature',\n",
    "    marker=dict(color='rgba(255, 99, 132, 0.8)'),\n",
    "    line=dict(width=2)\n",
    "))\n",
    "\n",
    "fig.update_layout(\n",
    "    title='Temperature Forecast for the Next 7 Days',  # แก้ไขตรงนี้ - เพิ่มเครื่องหมายคำพูดปิด\n",
    "    xaxis_title='Date',\n",
    "    yaxis_title='Temperature (°C)',\n",
    "    paper_bgcolor='white',\n",
    "    plot_bgcolor='white'\n",
    ")\n",
    "\n",
    "fig.show()"
   ]
  },
  {
   "cell_type": "code",
   "execution_count": 11,
   "metadata": {},
   "outputs": [
    {
     "name": "stdout",
     "output_type": "stream",
     "text": [
      "Mean Absolute Error (MAE): 2.63\n",
      "Mean Squared Error (MSE): 7.57\n",
      "Root Mean Squared Error (RMSE): 2.75\n",
      "R² Score: -6.86\n"
     ]
    }
   ],
   "source": [
    "# ส่วนที่ 7 - การประเมินประสิทธิภาพของโมเดล:\n",
    "from sklearn.metrics import mean_absolute_error, mean_squared_error, r2_score\n",
    "import numpy as np\n",
    "\n",
    "# สำหรับการประเมินโมเดล คุณควรทำการแบ่งข้อมูลเป็นชุดฝึกสอนและชุดทดสอบตั้งแต่แรก\n",
    "# ตัวอย่างการประเมินโมเดลโดยใช้ข้อมูล 7 วันสุดท้ายเป็นชุดทดสอบ\n",
    "\n",
    "# สร้างชุดทดสอบ (ตัวอย่าง: 7 วันสุดท้ายในชุดข้อมูล)\n",
    "test_data = dataset.sort_values('timestamp').tail(7)\n",
    "\n",
    "# ถ้าคุณได้ทำนายค่าอุณหภูมิในช่วงเวลาเดียวกันกับชุดทดสอบ\n",
    "# คำนวณค่าความคลาดเคลื่อน\n",
    "true_values = test_data['temperature'].values\n",
    "predicted_values = result_df['predicted_temperature'].values  # สมมติว่าคุณได้ทำนายค่าเดียวกันนี้\n",
    "\n",
    "# คำนวณค่าความคลาดเคลื่อน\n",
    "mae = mean_absolute_error(true_values, predicted_values)\n",
    "mse = mean_squared_error(true_values, predicted_values)\n",
    "rmse = np.sqrt(mse)\n",
    "r2 = r2_score(true_values, predicted_values)\n",
    "\n",
    "# แสดงผลลัพธ์\n",
    "print(f\"Mean Absolute Error (MAE): {mae:.2f}\")\n",
    "print(f\"Mean Squared Error (MSE): {mse:.2f}\")\n",
    "print(f\"Root Mean Squared Error (RMSE): {rmse:.2f}\")\n",
    "print(f\"R² Score: {r2:.2f}\")\n",
    "\n",
    "# หมายเหตุ: วิธีที่ถูกต้องกว่าคือการแบ่งข้อมูลเป็นชุดฝึกสอนและชุดทดสอบก่อนสร้างโมเดล\n",
    "# ตัวอย่างการทำแบบถูกต้อง:\n",
    "\n"
   ]
  }
 ],
 "metadata": {
  "kernelspec": {
   "display_name": "Python 3",
   "language": "python",
   "name": "python3"
  },
  "language_info": {
   "codemirror_mode": {
    "name": "ipython",
    "version": 3
   },
   "file_extension": ".py",
   "mimetype": "text/x-python",
   "name": "python",
   "nbconvert_exporter": "python",
   "pygments_lexer": "ipython3",
   "version": "3.11.0"
  }
 },
 "nbformat": 4,
 "nbformat_minor": 2
}
