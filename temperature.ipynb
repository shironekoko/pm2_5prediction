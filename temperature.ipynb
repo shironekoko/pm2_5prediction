{
 "cells": [
  {
   "cell_type": "code",
   "execution_count": 2,
   "metadata": {},
   "outputs": [
    {
     "name": "stdout",
     "output_type": "stream",
     "text": [
      "ข้อมูลหลังทำความสะอาดเหลือ 581 แถว จากเดิม 605 แถว (ลบไป 24 แถว)\n"
     ]
    }
   ],
   "source": [
    "# ส่วนที่ 1 - การเตรียมข้อมูล:\n",
    "import pandas as pd\n",
    "\n",
    "# โหลดข้อมูล\n",
    "file_path = 'export-4B7B6566022D-1d.xlsx'\n",
    "dataset = pd.read_excel(file_path, engine=\"openpyxl\")\n",
    "\n",
    "# ลบแถวที่มีค่า NaN\n",
    "dataset = dataset.dropna()\n",
    "\n",
    "# เลือกเฉพาะคอลัมน์ที่เป็นตัวเลข\n",
    "numeric_cols = dataset.select_dtypes(include=['number']).columns\n",
    "\n",
    "# คำนวณ IQR สำหรับทุกคอลัมน์\n",
    "Q1 = dataset[numeric_cols].quantile(0.25)\n",
    "Q3 = dataset[numeric_cols].quantile(0.75)\n",
    "IQR = Q3 - Q1\n",
    "\n",
    "# คำนวณขอบเขตของค่า Outlier\n",
    "lower_bound = Q1 - 1.5 * IQR\n",
    "upper_bound = Q3 + 1.5 * IQR\n",
    "\n",
    "# กำจัดค่า Outlier\n",
    "mask = ~((dataset[numeric_cols] < lower_bound) | (dataset[numeric_cols] > upper_bound)).any(axis=1)\n",
    "cleaned_dataset = dataset.loc[mask]\n",
    "\n",
    "# บันทึกข้อมูลที่ถูกล้างแล้วเป็นไฟล์ใหม่\n",
    "output_path = 'cleaned_data.xlsx'\n",
    "cleaned_dataset.to_excel(output_path, index=False)\n",
    "\n",
    "# รายงานผล\n",
    "num_removed = len(dataset) - len(cleaned_dataset)\n",
    "print(f\"ข้อมูลหลังทำความสะอาดเหลือ {len(cleaned_dataset)} แถว จากเดิม {len(dataset)} แถว (ลบไป {num_removed} แถว)\")"
   ]
  },
  {
   "cell_type": "code",
   "execution_count": 3,
   "metadata": {},
   "outputs": [
    {
     "data": {
      "text/html": [
       "<style type=\"text/css\">\n",
       "#T_60eae_row8_col1, #T_60eae_row12_col1 {\n",
       "  background-color: lightgreen;\n",
       "}\n",
       "</style>\n",
       "<table id=\"T_60eae\">\n",
       "  <thead>\n",
       "    <tr>\n",
       "      <th class=\"blank level0\" >&nbsp;</th>\n",
       "      <th id=\"T_60eae_level0_col0\" class=\"col_heading level0 col0\" >Description</th>\n",
       "      <th id=\"T_60eae_level0_col1\" class=\"col_heading level0 col1\" >Value</th>\n",
       "    </tr>\n",
       "  </thead>\n",
       "  <tbody>\n",
       "    <tr>\n",
       "      <th id=\"T_60eae_level0_row0\" class=\"row_heading level0 row0\" >0</th>\n",
       "      <td id=\"T_60eae_row0_col0\" class=\"data row0 col0\" >Session id</td>\n",
       "      <td id=\"T_60eae_row0_col1\" class=\"data row0 col1\" >123</td>\n",
       "    </tr>\n",
       "    <tr>\n",
       "      <th id=\"T_60eae_level0_row1\" class=\"row_heading level0 row1\" >1</th>\n",
       "      <td id=\"T_60eae_row1_col0\" class=\"data row1 col0\" >Target</td>\n",
       "      <td id=\"T_60eae_row1_col1\" class=\"data row1 col1\" >temperature</td>\n",
       "    </tr>\n",
       "    <tr>\n",
       "      <th id=\"T_60eae_level0_row2\" class=\"row_heading level0 row2\" >2</th>\n",
       "      <td id=\"T_60eae_row2_col0\" class=\"data row2 col0\" >Target type</td>\n",
       "      <td id=\"T_60eae_row2_col1\" class=\"data row2 col1\" >Regression</td>\n",
       "    </tr>\n",
       "    <tr>\n",
       "      <th id=\"T_60eae_level0_row3\" class=\"row_heading level0 row3\" >3</th>\n",
       "      <td id=\"T_60eae_row3_col0\" class=\"data row3 col0\" >Original data shape</td>\n",
       "      <td id=\"T_60eae_row3_col1\" class=\"data row3 col1\" >(413, 24)</td>\n",
       "    </tr>\n",
       "    <tr>\n",
       "      <th id=\"T_60eae_level0_row4\" class=\"row_heading level0 row4\" >4</th>\n",
       "      <td id=\"T_60eae_row4_col0\" class=\"data row4 col0\" >Transformed data shape</td>\n",
       "      <td id=\"T_60eae_row4_col1\" class=\"data row4 col1\" >(396, 24)</td>\n",
       "    </tr>\n",
       "    <tr>\n",
       "      <th id=\"T_60eae_level0_row5\" class=\"row_heading level0 row5\" >5</th>\n",
       "      <td id=\"T_60eae_row5_col0\" class=\"data row5 col0\" >Transformed train set shape</td>\n",
       "      <td id=\"T_60eae_row5_col1\" class=\"data row5 col1\" >(313, 24)</td>\n",
       "    </tr>\n",
       "    <tr>\n",
       "      <th id=\"T_60eae_level0_row6\" class=\"row_heading level0 row6\" >6</th>\n",
       "      <td id=\"T_60eae_row6_col0\" class=\"data row6 col0\" >Transformed test set shape</td>\n",
       "      <td id=\"T_60eae_row6_col1\" class=\"data row6 col1\" >(83, 24)</td>\n",
       "    </tr>\n",
       "    <tr>\n",
       "      <th id=\"T_60eae_level0_row7\" class=\"row_heading level0 row7\" >7</th>\n",
       "      <td id=\"T_60eae_row7_col0\" class=\"data row7 col0\" >Numeric features</td>\n",
       "      <td id=\"T_60eae_row7_col1\" class=\"data row7 col1\" >23</td>\n",
       "    </tr>\n",
       "    <tr>\n",
       "      <th id=\"T_60eae_level0_row8\" class=\"row_heading level0 row8\" >8</th>\n",
       "      <td id=\"T_60eae_row8_col0\" class=\"data row8 col0\" >Preprocess</td>\n",
       "      <td id=\"T_60eae_row8_col1\" class=\"data row8 col1\" >True</td>\n",
       "    </tr>\n",
       "    <tr>\n",
       "      <th id=\"T_60eae_level0_row9\" class=\"row_heading level0 row9\" >9</th>\n",
       "      <td id=\"T_60eae_row9_col0\" class=\"data row9 col0\" >Imputation type</td>\n",
       "      <td id=\"T_60eae_row9_col1\" class=\"data row9 col1\" >simple</td>\n",
       "    </tr>\n",
       "    <tr>\n",
       "      <th id=\"T_60eae_level0_row10\" class=\"row_heading level0 row10\" >10</th>\n",
       "      <td id=\"T_60eae_row10_col0\" class=\"data row10 col0\" >Numeric imputation</td>\n",
       "      <td id=\"T_60eae_row10_col1\" class=\"data row10 col1\" >mean</td>\n",
       "    </tr>\n",
       "    <tr>\n",
       "      <th id=\"T_60eae_level0_row11\" class=\"row_heading level0 row11\" >11</th>\n",
       "      <td id=\"T_60eae_row11_col0\" class=\"data row11 col0\" >Categorical imputation</td>\n",
       "      <td id=\"T_60eae_row11_col1\" class=\"data row11 col1\" >mode</td>\n",
       "    </tr>\n",
       "    <tr>\n",
       "      <th id=\"T_60eae_level0_row12\" class=\"row_heading level0 row12\" >12</th>\n",
       "      <td id=\"T_60eae_row12_col0\" class=\"data row12 col0\" >Remove outliers</td>\n",
       "      <td id=\"T_60eae_row12_col1\" class=\"data row12 col1\" >True</td>\n",
       "    </tr>\n",
       "    <tr>\n",
       "      <th id=\"T_60eae_level0_row13\" class=\"row_heading level0 row13\" >13</th>\n",
       "      <td id=\"T_60eae_row13_col0\" class=\"data row13 col0\" >Outliers threshold</td>\n",
       "      <td id=\"T_60eae_row13_col1\" class=\"data row13 col1\" >0.050000</td>\n",
       "    </tr>\n",
       "    <tr>\n",
       "      <th id=\"T_60eae_level0_row14\" class=\"row_heading level0 row14\" >14</th>\n",
       "      <td id=\"T_60eae_row14_col0\" class=\"data row14 col0\" >Fold Generator</td>\n",
       "      <td id=\"T_60eae_row14_col1\" class=\"data row14 col1\" >KFold</td>\n",
       "    </tr>\n",
       "    <tr>\n",
       "      <th id=\"T_60eae_level0_row15\" class=\"row_heading level0 row15\" >15</th>\n",
       "      <td id=\"T_60eae_row15_col0\" class=\"data row15 col0\" >Fold Number</td>\n",
       "      <td id=\"T_60eae_row15_col1\" class=\"data row15 col1\" >10</td>\n",
       "    </tr>\n",
       "    <tr>\n",
       "      <th id=\"T_60eae_level0_row16\" class=\"row_heading level0 row16\" >16</th>\n",
       "      <td id=\"T_60eae_row16_col0\" class=\"data row16 col0\" >CPU Jobs</td>\n",
       "      <td id=\"T_60eae_row16_col1\" class=\"data row16 col1\" >-1</td>\n",
       "    </tr>\n",
       "    <tr>\n",
       "      <th id=\"T_60eae_level0_row17\" class=\"row_heading level0 row17\" >17</th>\n",
       "      <td id=\"T_60eae_row17_col0\" class=\"data row17 col0\" >Use GPU</td>\n",
       "      <td id=\"T_60eae_row17_col1\" class=\"data row17 col1\" >False</td>\n",
       "    </tr>\n",
       "    <tr>\n",
       "      <th id=\"T_60eae_level0_row18\" class=\"row_heading level0 row18\" >18</th>\n",
       "      <td id=\"T_60eae_row18_col0\" class=\"data row18 col0\" >Log Experiment</td>\n",
       "      <td id=\"T_60eae_row18_col1\" class=\"data row18 col1\" >False</td>\n",
       "    </tr>\n",
       "    <tr>\n",
       "      <th id=\"T_60eae_level0_row19\" class=\"row_heading level0 row19\" >19</th>\n",
       "      <td id=\"T_60eae_row19_col0\" class=\"data row19 col0\" >Experiment Name</td>\n",
       "      <td id=\"T_60eae_row19_col1\" class=\"data row19 col1\" >reg-default-name</td>\n",
       "    </tr>\n",
       "    <tr>\n",
       "      <th id=\"T_60eae_level0_row20\" class=\"row_heading level0 row20\" >20</th>\n",
       "      <td id=\"T_60eae_row20_col0\" class=\"data row20 col0\" >USI</td>\n",
       "      <td id=\"T_60eae_row20_col1\" class=\"data row20 col1\" >8d93</td>\n",
       "    </tr>\n",
       "  </tbody>\n",
       "</table>\n"
      ],
      "text/plain": [
       "<pandas.io.formats.style.Styler at 0x2ca67384f50>"
      ]
     },
     "metadata": {},
     "output_type": "display_data"
    },
    {
     "data": {
      "text/html": [],
      "text/plain": [
       "<IPython.core.display.HTML object>"
      ]
     },
     "metadata": {},
     "output_type": "display_data"
    },
    {
     "data": {
      "text/html": [
       "<style type=\"text/css\">\n",
       "#T_a0a30 th {\n",
       "  text-align: left;\n",
       "}\n",
       "#T_a0a30_row0_col0, #T_a0a30_row1_col0, #T_a0a30_row1_col1, #T_a0a30_row1_col3, #T_a0a30_row2_col0, #T_a0a30_row2_col1, #T_a0a30_row2_col2, #T_a0a30_row2_col3, #T_a0a30_row2_col4, #T_a0a30_row2_col5, #T_a0a30_row2_col6, #T_a0a30_row3_col0, #T_a0a30_row3_col1, #T_a0a30_row3_col2, #T_a0a30_row3_col3, #T_a0a30_row3_col4, #T_a0a30_row3_col5, #T_a0a30_row3_col6, #T_a0a30_row4_col0, #T_a0a30_row4_col1, #T_a0a30_row4_col2, #T_a0a30_row4_col3, #T_a0a30_row4_col4, #T_a0a30_row4_col5, #T_a0a30_row4_col6, #T_a0a30_row5_col0, #T_a0a30_row5_col1, #T_a0a30_row5_col2, #T_a0a30_row5_col3, #T_a0a30_row5_col4, #T_a0a30_row5_col5, #T_a0a30_row5_col6, #T_a0a30_row6_col0, #T_a0a30_row6_col1, #T_a0a30_row6_col2, #T_a0a30_row6_col3, #T_a0a30_row6_col4, #T_a0a30_row6_col5, #T_a0a30_row6_col6, #T_a0a30_row7_col0, #T_a0a30_row7_col1, #T_a0a30_row7_col2, #T_a0a30_row7_col3, #T_a0a30_row7_col4, #T_a0a30_row7_col5, #T_a0a30_row7_col6, #T_a0a30_row8_col0, #T_a0a30_row8_col1, #T_a0a30_row8_col2, #T_a0a30_row8_col3, #T_a0a30_row8_col4, #T_a0a30_row8_col5, #T_a0a30_row8_col6, #T_a0a30_row9_col0, #T_a0a30_row9_col1, #T_a0a30_row9_col2, #T_a0a30_row9_col3, #T_a0a30_row9_col4, #T_a0a30_row9_col5, #T_a0a30_row9_col6, #T_a0a30_row10_col0, #T_a0a30_row10_col1, #T_a0a30_row10_col2, #T_a0a30_row10_col3, #T_a0a30_row10_col4, #T_a0a30_row10_col5, #T_a0a30_row10_col6, #T_a0a30_row11_col0, #T_a0a30_row11_col1, #T_a0a30_row11_col2, #T_a0a30_row11_col3, #T_a0a30_row11_col4, #T_a0a30_row11_col5, #T_a0a30_row11_col6, #T_a0a30_row12_col0, #T_a0a30_row12_col1, #T_a0a30_row12_col2, #T_a0a30_row12_col3, #T_a0a30_row12_col4, #T_a0a30_row12_col5, #T_a0a30_row12_col6, #T_a0a30_row13_col0, #T_a0a30_row13_col1, #T_a0a30_row13_col2, #T_a0a30_row13_col3, #T_a0a30_row13_col4, #T_a0a30_row13_col5, #T_a0a30_row13_col6, #T_a0a30_row14_col0, #T_a0a30_row14_col1, #T_a0a30_row14_col2, #T_a0a30_row14_col3, #T_a0a30_row14_col4, #T_a0a30_row14_col5, #T_a0a30_row14_col6, #T_a0a30_row15_col0, #T_a0a30_row15_col1, #T_a0a30_row15_col2, #T_a0a30_row15_col3, #T_a0a30_row15_col4, #T_a0a30_row15_col5, #T_a0a30_row15_col6, #T_a0a30_row16_col0, #T_a0a30_row16_col1, #T_a0a30_row16_col2, #T_a0a30_row16_col3, #T_a0a30_row16_col4, #T_a0a30_row16_col5, #T_a0a30_row16_col6, #T_a0a30_row17_col0, #T_a0a30_row17_col1, #T_a0a30_row17_col2, #T_a0a30_row17_col3, #T_a0a30_row17_col4, #T_a0a30_row17_col5, #T_a0a30_row17_col6 {\n",
       "  text-align: left;\n",
       "}\n",
       "#T_a0a30_row0_col1, #T_a0a30_row0_col2, #T_a0a30_row0_col3, #T_a0a30_row0_col4, #T_a0a30_row0_col5, #T_a0a30_row0_col6, #T_a0a30_row1_col2, #T_a0a30_row1_col4, #T_a0a30_row1_col5, #T_a0a30_row1_col6 {\n",
       "  text-align: left;\n",
       "  background-color: yellow;\n",
       "}\n",
       "#T_a0a30_row0_col7, #T_a0a30_row2_col7, #T_a0a30_row3_col7, #T_a0a30_row4_col7, #T_a0a30_row5_col7, #T_a0a30_row6_col7, #T_a0a30_row8_col7, #T_a0a30_row9_col7, #T_a0a30_row10_col7, #T_a0a30_row12_col7, #T_a0a30_row14_col7, #T_a0a30_row16_col7 {\n",
       "  text-align: left;\n",
       "  background-color: lightgrey;\n",
       "}\n",
       "#T_a0a30_row1_col7, #T_a0a30_row7_col7, #T_a0a30_row11_col7, #T_a0a30_row13_col7, #T_a0a30_row15_col7, #T_a0a30_row17_col7 {\n",
       "  text-align: left;\n",
       "  background-color: yellow;\n",
       "  background-color: lightgrey;\n",
       "}\n",
       "</style>\n",
       "<table id=\"T_a0a30\">\n",
       "  <thead>\n",
       "    <tr>\n",
       "      <th class=\"blank level0\" >&nbsp;</th>\n",
       "      <th id=\"T_a0a30_level0_col0\" class=\"col_heading level0 col0\" >Model</th>\n",
       "      <th id=\"T_a0a30_level0_col1\" class=\"col_heading level0 col1\" >MAE</th>\n",
       "      <th id=\"T_a0a30_level0_col2\" class=\"col_heading level0 col2\" >MSE</th>\n",
       "      <th id=\"T_a0a30_level0_col3\" class=\"col_heading level0 col3\" >RMSE</th>\n",
       "      <th id=\"T_a0a30_level0_col4\" class=\"col_heading level0 col4\" >R2</th>\n",
       "      <th id=\"T_a0a30_level0_col5\" class=\"col_heading level0 col5\" >RMSLE</th>\n",
       "      <th id=\"T_a0a30_level0_col6\" class=\"col_heading level0 col6\" >MAPE</th>\n",
       "      <th id=\"T_a0a30_level0_col7\" class=\"col_heading level0 col7\" >TT (Sec)</th>\n",
       "    </tr>\n",
       "  </thead>\n",
       "  <tbody>\n",
       "    <tr>\n",
       "      <th id=\"T_a0a30_level0_row0\" class=\"row_heading level0 row0\" >lr</th>\n",
       "      <td id=\"T_a0a30_row0_col0\" class=\"data row0 col0\" >Linear Regression</td>\n",
       "      <td id=\"T_a0a30_row0_col1\" class=\"data row0 col1\" >0.0223</td>\n",
       "      <td id=\"T_a0a30_row0_col2\" class=\"data row0 col2\" >0.0009</td>\n",
       "      <td id=\"T_a0a30_row0_col3\" class=\"data row0 col3\" >0.0296</td>\n",
       "      <td id=\"T_a0a30_row0_col4\" class=\"data row0 col4\" >0.9996</td>\n",
       "      <td id=\"T_a0a30_row0_col5\" class=\"data row0 col5\" >0.0010</td>\n",
       "      <td id=\"T_a0a30_row0_col6\" class=\"data row0 col6\" >0.0008</td>\n",
       "      <td id=\"T_a0a30_row0_col7\" class=\"data row0 col7\" >0.3360</td>\n",
       "    </tr>\n",
       "    <tr>\n",
       "      <th id=\"T_a0a30_level0_row1\" class=\"row_heading level0 row1\" >br</th>\n",
       "      <td id=\"T_a0a30_row1_col0\" class=\"data row1 col0\" >Bayesian Ridge</td>\n",
       "      <td id=\"T_a0a30_row1_col1\" class=\"data row1 col1\" >0.0225</td>\n",
       "      <td id=\"T_a0a30_row1_col2\" class=\"data row1 col2\" >0.0009</td>\n",
       "      <td id=\"T_a0a30_row1_col3\" class=\"data row1 col3\" >0.0297</td>\n",
       "      <td id=\"T_a0a30_row1_col4\" class=\"data row1 col4\" >0.9996</td>\n",
       "      <td id=\"T_a0a30_row1_col5\" class=\"data row1 col5\" >0.0010</td>\n",
       "      <td id=\"T_a0a30_row1_col6\" class=\"data row1 col6\" >0.0008</td>\n",
       "      <td id=\"T_a0a30_row1_col7\" class=\"data row1 col7\" >0.0160</td>\n",
       "    </tr>\n",
       "    <tr>\n",
       "      <th id=\"T_a0a30_level0_row2\" class=\"row_heading level0 row2\" >gbr</th>\n",
       "      <td id=\"T_a0a30_row2_col0\" class=\"data row2 col0\" >Gradient Boosting Regressor</td>\n",
       "      <td id=\"T_a0a30_row2_col1\" class=\"data row2 col1\" >0.2752</td>\n",
       "      <td id=\"T_a0a30_row2_col2\" class=\"data row2 col2\" >0.1267</td>\n",
       "      <td id=\"T_a0a30_row2_col3\" class=\"data row2 col3\" >0.3503</td>\n",
       "      <td id=\"T_a0a30_row2_col4\" class=\"data row2 col4\" >0.9438</td>\n",
       "      <td id=\"T_a0a30_row2_col5\" class=\"data row2 col5\" >0.0119</td>\n",
       "      <td id=\"T_a0a30_row2_col6\" class=\"data row2 col6\" >0.0097</td>\n",
       "      <td id=\"T_a0a30_row2_col7\" class=\"data row2 col7\" >0.0470</td>\n",
       "    </tr>\n",
       "    <tr>\n",
       "      <th id=\"T_a0a30_level0_row3\" class=\"row_heading level0 row3\" >lightgbm</th>\n",
       "      <td id=\"T_a0a30_row3_col0\" class=\"data row3 col0\" >Light Gradient Boosting Machine</td>\n",
       "      <td id=\"T_a0a30_row3_col1\" class=\"data row3 col1\" >0.2924</td>\n",
       "      <td id=\"T_a0a30_row3_col2\" class=\"data row3 col2\" >0.1379</td>\n",
       "      <td id=\"T_a0a30_row3_col3\" class=\"data row3 col3\" >0.3644</td>\n",
       "      <td id=\"T_a0a30_row3_col4\" class=\"data row3 col4\" >0.9401</td>\n",
       "      <td id=\"T_a0a30_row3_col5\" class=\"data row3 col5\" >0.0125</td>\n",
       "      <td id=\"T_a0a30_row3_col6\" class=\"data row3 col6\" >0.0103</td>\n",
       "      <td id=\"T_a0a30_row3_col7\" class=\"data row3 col7\" >0.0520</td>\n",
       "    </tr>\n",
       "    <tr>\n",
       "      <th id=\"T_a0a30_level0_row4\" class=\"row_heading level0 row4\" >et</th>\n",
       "      <td id=\"T_a0a30_row4_col0\" class=\"data row4 col0\" >Extra Trees Regressor</td>\n",
       "      <td id=\"T_a0a30_row4_col1\" class=\"data row4 col1\" >0.3193</td>\n",
       "      <td id=\"T_a0a30_row4_col2\" class=\"data row4 col2\" >0.1702</td>\n",
       "      <td id=\"T_a0a30_row4_col3\" class=\"data row4 col3\" >0.4089</td>\n",
       "      <td id=\"T_a0a30_row4_col4\" class=\"data row4 col4\" >0.9240</td>\n",
       "      <td id=\"T_a0a30_row4_col5\" class=\"data row4 col5\" >0.0140</td>\n",
       "      <td id=\"T_a0a30_row4_col6\" class=\"data row4 col6\" >0.0113</td>\n",
       "      <td id=\"T_a0a30_row4_col7\" class=\"data row4 col7\" >0.0470</td>\n",
       "    </tr>\n",
       "    <tr>\n",
       "      <th id=\"T_a0a30_level0_row5\" class=\"row_heading level0 row5\" >rf</th>\n",
       "      <td id=\"T_a0a30_row5_col0\" class=\"data row5 col0\" >Random Forest Regressor</td>\n",
       "      <td id=\"T_a0a30_row5_col1\" class=\"data row5 col1\" >0.3639</td>\n",
       "      <td id=\"T_a0a30_row5_col2\" class=\"data row5 col2\" >0.2274</td>\n",
       "      <td id=\"T_a0a30_row5_col3\" class=\"data row5 col3\" >0.4700</td>\n",
       "      <td id=\"T_a0a30_row5_col4\" class=\"data row5 col4\" >0.8998</td>\n",
       "      <td id=\"T_a0a30_row5_col5\" class=\"data row5 col5\" >0.0161</td>\n",
       "      <td id=\"T_a0a30_row5_col6\" class=\"data row5 col6\" >0.0128</td>\n",
       "      <td id=\"T_a0a30_row5_col7\" class=\"data row5 col7\" >0.0540</td>\n",
       "    </tr>\n",
       "    <tr>\n",
       "      <th id=\"T_a0a30_level0_row6\" class=\"row_heading level0 row6\" >ada</th>\n",
       "      <td id=\"T_a0a30_row6_col0\" class=\"data row6 col0\" >AdaBoost Regressor</td>\n",
       "      <td id=\"T_a0a30_row6_col1\" class=\"data row6 col1\" >0.4216</td>\n",
       "      <td id=\"T_a0a30_row6_col2\" class=\"data row6 col2\" >0.2845</td>\n",
       "      <td id=\"T_a0a30_row6_col3\" class=\"data row6 col3\" >0.5290</td>\n",
       "      <td id=\"T_a0a30_row6_col4\" class=\"data row6 col4\" >0.8736</td>\n",
       "      <td id=\"T_a0a30_row6_col5\" class=\"data row6 col5\" >0.0180</td>\n",
       "      <td id=\"T_a0a30_row6_col6\" class=\"data row6 col6\" >0.0148</td>\n",
       "      <td id=\"T_a0a30_row6_col7\" class=\"data row6 col7\" >0.0330</td>\n",
       "    </tr>\n",
       "    <tr>\n",
       "      <th id=\"T_a0a30_level0_row7\" class=\"row_heading level0 row7\" >ridge</th>\n",
       "      <td id=\"T_a0a30_row7_col0\" class=\"data row7 col0\" >Ridge Regression</td>\n",
       "      <td id=\"T_a0a30_row7_col1\" class=\"data row7 col1\" >0.4107</td>\n",
       "      <td id=\"T_a0a30_row7_col2\" class=\"data row7 col2\" >0.2855</td>\n",
       "      <td id=\"T_a0a30_row7_col3\" class=\"data row7 col3\" >0.5306</td>\n",
       "      <td id=\"T_a0a30_row7_col4\" class=\"data row7 col4\" >0.8714</td>\n",
       "      <td id=\"T_a0a30_row7_col5\" class=\"data row7 col5\" >0.0180</td>\n",
       "      <td id=\"T_a0a30_row7_col6\" class=\"data row7 col6\" >0.0144</td>\n",
       "      <td id=\"T_a0a30_row7_col7\" class=\"data row7 col7\" >0.0160</td>\n",
       "    </tr>\n",
       "    <tr>\n",
       "      <th id=\"T_a0a30_level0_row8\" class=\"row_heading level0 row8\" >dt</th>\n",
       "      <td id=\"T_a0a30_row8_col0\" class=\"data row8 col0\" >Decision Tree Regressor</td>\n",
       "      <td id=\"T_a0a30_row8_col1\" class=\"data row8 col1\" >0.5730</td>\n",
       "      <td id=\"T_a0a30_row8_col2\" class=\"data row8 col2\" >0.5510</td>\n",
       "      <td id=\"T_a0a30_row8_col3\" class=\"data row8 col3\" >0.7367</td>\n",
       "      <td id=\"T_a0a30_row8_col4\" class=\"data row8 col4\" >0.7517</td>\n",
       "      <td id=\"T_a0a30_row8_col5\" class=\"data row8 col5\" >0.0252</td>\n",
       "      <td id=\"T_a0a30_row8_col6\" class=\"data row8 col6\" >0.0202</td>\n",
       "      <td id=\"T_a0a30_row8_col7\" class=\"data row8 col7\" >0.0170</td>\n",
       "    </tr>\n",
       "    <tr>\n",
       "      <th id=\"T_a0a30_level0_row9\" class=\"row_heading level0 row9\" >huber</th>\n",
       "      <td id=\"T_a0a30_row9_col0\" class=\"data row9 col0\" >Huber Regressor</td>\n",
       "      <td id=\"T_a0a30_row9_col1\" class=\"data row9 col1\" >0.5711</td>\n",
       "      <td id=\"T_a0a30_row9_col2\" class=\"data row9 col2\" >0.5551</td>\n",
       "      <td id=\"T_a0a30_row9_col3\" class=\"data row9 col3\" >0.7388</td>\n",
       "      <td id=\"T_a0a30_row9_col4\" class=\"data row9 col4\" >0.7500</td>\n",
       "      <td id=\"T_a0a30_row9_col5\" class=\"data row9 col5\" >0.0251</td>\n",
       "      <td id=\"T_a0a30_row9_col6\" class=\"data row9 col6\" >0.0201</td>\n",
       "      <td id=\"T_a0a30_row9_col7\" class=\"data row9 col7\" >0.0190</td>\n",
       "    </tr>\n",
       "    <tr>\n",
       "      <th id=\"T_a0a30_level0_row10\" class=\"row_heading level0 row10\" >knn</th>\n",
       "      <td id=\"T_a0a30_row10_col0\" class=\"data row10 col0\" >K Neighbors Regressor</td>\n",
       "      <td id=\"T_a0a30_row10_col1\" class=\"data row10 col1\" >0.6280</td>\n",
       "      <td id=\"T_a0a30_row10_col2\" class=\"data row10 col2\" >0.6805</td>\n",
       "      <td id=\"T_a0a30_row10_col3\" class=\"data row10 col3\" >0.8121</td>\n",
       "      <td id=\"T_a0a30_row10_col4\" class=\"data row10 col4\" >0.7007</td>\n",
       "      <td id=\"T_a0a30_row10_col5\" class=\"data row10 col5\" >0.0276</td>\n",
       "      <td id=\"T_a0a30_row10_col6\" class=\"data row10 col6\" >0.0221</td>\n",
       "      <td id=\"T_a0a30_row10_col7\" class=\"data row10 col7\" >0.0180</td>\n",
       "    </tr>\n",
       "    <tr>\n",
       "      <th id=\"T_a0a30_level0_row11\" class=\"row_heading level0 row11\" >en</th>\n",
       "      <td id=\"T_a0a30_row11_col0\" class=\"data row11 col0\" >Elastic Net</td>\n",
       "      <td id=\"T_a0a30_row11_col1\" class=\"data row11 col1\" >0.6333</td>\n",
       "      <td id=\"T_a0a30_row11_col2\" class=\"data row11 col2\" >0.6796</td>\n",
       "      <td id=\"T_a0a30_row11_col3\" class=\"data row11 col3\" >0.8193</td>\n",
       "      <td id=\"T_a0a30_row11_col4\" class=\"data row11 col4\" >0.6950</td>\n",
       "      <td id=\"T_a0a30_row11_col5\" class=\"data row11 col5\" >0.0277</td>\n",
       "      <td id=\"T_a0a30_row11_col6\" class=\"data row11 col6\" >0.0222</td>\n",
       "      <td id=\"T_a0a30_row11_col7\" class=\"data row11 col7\" >0.0160</td>\n",
       "    </tr>\n",
       "    <tr>\n",
       "      <th id=\"T_a0a30_level0_row12\" class=\"row_heading level0 row12\" >lasso</th>\n",
       "      <td id=\"T_a0a30_row12_col0\" class=\"data row12 col0\" >Lasso Regression</td>\n",
       "      <td id=\"T_a0a30_row12_col1\" class=\"data row12 col1\" >0.6738</td>\n",
       "      <td id=\"T_a0a30_row12_col2\" class=\"data row12 col2\" >0.7704</td>\n",
       "      <td id=\"T_a0a30_row12_col3\" class=\"data row12 col3\" >0.8716</td>\n",
       "      <td id=\"T_a0a30_row12_col4\" class=\"data row12 col4\" >0.6553</td>\n",
       "      <td id=\"T_a0a30_row12_col5\" class=\"data row12 col5\" >0.0294</td>\n",
       "      <td id=\"T_a0a30_row12_col6\" class=\"data row12 col6\" >0.0236</td>\n",
       "      <td id=\"T_a0a30_row12_col7\" class=\"data row12 col7\" >0.2260</td>\n",
       "    </tr>\n",
       "    <tr>\n",
       "      <th id=\"T_a0a30_level0_row13\" class=\"row_heading level0 row13\" >llar</th>\n",
       "      <td id=\"T_a0a30_row13_col0\" class=\"data row13 col0\" >Lasso Least Angle Regression</td>\n",
       "      <td id=\"T_a0a30_row13_col1\" class=\"data row13 col1\" >0.6738</td>\n",
       "      <td id=\"T_a0a30_row13_col2\" class=\"data row13 col2\" >0.7703</td>\n",
       "      <td id=\"T_a0a30_row13_col3\" class=\"data row13 col3\" >0.8716</td>\n",
       "      <td id=\"T_a0a30_row13_col4\" class=\"data row13 col4\" >0.6553</td>\n",
       "      <td id=\"T_a0a30_row13_col5\" class=\"data row13 col5\" >0.0294</td>\n",
       "      <td id=\"T_a0a30_row13_col6\" class=\"data row13 col6\" >0.0236</td>\n",
       "      <td id=\"T_a0a30_row13_col7\" class=\"data row13 col7\" >0.0160</td>\n",
       "    </tr>\n",
       "    <tr>\n",
       "      <th id=\"T_a0a30_level0_row14\" class=\"row_heading level0 row14\" >omp</th>\n",
       "      <td id=\"T_a0a30_row14_col0\" class=\"data row14 col0\" >Orthogonal Matching Pursuit</td>\n",
       "      <td id=\"T_a0a30_row14_col1\" class=\"data row14 col1\" >0.6901</td>\n",
       "      <td id=\"T_a0a30_row14_col2\" class=\"data row14 col2\" >0.7862</td>\n",
       "      <td id=\"T_a0a30_row14_col3\" class=\"data row14 col3\" >0.8818</td>\n",
       "      <td id=\"T_a0a30_row14_col4\" class=\"data row14 col4\" >0.6466</td>\n",
       "      <td id=\"T_a0a30_row14_col5\" class=\"data row14 col5\" >0.0298</td>\n",
       "      <td id=\"T_a0a30_row14_col6\" class=\"data row14 col6\" >0.0242</td>\n",
       "      <td id=\"T_a0a30_row14_col7\" class=\"data row14 col7\" >0.0170</td>\n",
       "    </tr>\n",
       "    <tr>\n",
       "      <th id=\"T_a0a30_level0_row15\" class=\"row_heading level0 row15\" >par</th>\n",
       "      <td id=\"T_a0a30_row15_col0\" class=\"data row15 col0\" >Passive Aggressive Regressor</td>\n",
       "      <td id=\"T_a0a30_row15_col1\" class=\"data row15 col1\" >0.8593</td>\n",
       "      <td id=\"T_a0a30_row15_col2\" class=\"data row15 col2\" >1.2383</td>\n",
       "      <td id=\"T_a0a30_row15_col3\" class=\"data row15 col3\" >1.0553</td>\n",
       "      <td id=\"T_a0a30_row15_col4\" class=\"data row15 col4\" >0.4544</td>\n",
       "      <td id=\"T_a0a30_row15_col5\" class=\"data row15 col5\" >0.0357</td>\n",
       "      <td id=\"T_a0a30_row15_col6\" class=\"data row15 col6\" >0.0305</td>\n",
       "      <td id=\"T_a0a30_row15_col7\" class=\"data row15 col7\" >0.0160</td>\n",
       "    </tr>\n",
       "    <tr>\n",
       "      <th id=\"T_a0a30_level0_row16\" class=\"row_heading level0 row16\" >dummy</th>\n",
       "      <td id=\"T_a0a30_row16_col0\" class=\"data row16 col0\" >Dummy Regressor</td>\n",
       "      <td id=\"T_a0a30_row16_col1\" class=\"data row16 col1\" >1.2340</td>\n",
       "      <td id=\"T_a0a30_row16_col2\" class=\"data row16 col2\" >2.2741</td>\n",
       "      <td id=\"T_a0a30_row16_col3\" class=\"data row16 col3\" >1.5016</td>\n",
       "      <td id=\"T_a0a30_row16_col4\" class=\"data row16 col4\" >-0.0153</td>\n",
       "      <td id=\"T_a0a30_row16_col5\" class=\"data row16 col5\" >0.0507</td>\n",
       "      <td id=\"T_a0a30_row16_col6\" class=\"data row16 col6\" >0.0432</td>\n",
       "      <td id=\"T_a0a30_row16_col7\" class=\"data row16 col7\" >0.0210</td>\n",
       "    </tr>\n",
       "    <tr>\n",
       "      <th id=\"T_a0a30_level0_row17\" class=\"row_heading level0 row17\" >lar</th>\n",
       "      <td id=\"T_a0a30_row17_col0\" class=\"data row17 col0\" >Least Angle Regression</td>\n",
       "      <td id=\"T_a0a30_row17_col1\" class=\"data row17 col1\" >165177.4068</td>\n",
       "      <td id=\"T_a0a30_row17_col2\" class=\"data row17 col2\" >170585892782.2361</td>\n",
       "      <td id=\"T_a0a30_row17_col3\" class=\"data row17 col3\" >212172.9899</td>\n",
       "      <td id=\"T_a0a30_row17_col4\" class=\"data row17 col4\" >-73089607164.7344</td>\n",
       "      <td id=\"T_a0a30_row17_col5\" class=\"data row17 col5\" >5.1997</td>\n",
       "      <td id=\"T_a0a30_row17_col6\" class=\"data row17 col6\" >5805.2128</td>\n",
       "      <td id=\"T_a0a30_row17_col7\" class=\"data row17 col7\" >0.0160</td>\n",
       "    </tr>\n",
       "  </tbody>\n",
       "</table>\n"
      ],
      "text/plain": [
       "<pandas.io.formats.style.Styler at 0x2ca68382f50>"
      ]
     },
     "metadata": {},
     "output_type": "display_data"
    },
    {
     "data": {
      "text/html": [],
      "text/plain": [
       "<IPython.core.display.HTML object>"
      ]
     },
     "metadata": {},
     "output_type": "display_data"
    },
    {
     "data": {
      "application/vnd.jupyter.widget-view+json": {
       "model_id": "3221afe489884dbeb50a6ab138c08ebe",
       "version_major": 2,
       "version_minor": 0
      },
      "text/plain": [
       "interactive(children=(ToggleButtons(description='Plot Type:', icons=('',), options=(('Pipeline Plot', 'pipelin…"
      ]
     },
     "metadata": {},
     "output_type": "display_data"
    }
   ],
   "source": [
    "# ส่วนที่ 2 - การสร้างคุณลักษณะและตั้งค่า PyCaret:\n",
    "import pandas as pd\n",
    "from pycaret.regression import *\n",
    "\n",
    "# โหลดข้อมูลจากไฟล์ Excel\n",
    "dataset = pd.read_excel('cleaned_data.xlsx')\n",
    "\n",
    "# เตรียมข้อมูล\n",
    "dataset['timestamp'] = pd.to_datetime(dataset['timestamp'], errors='coerce')\n",
    "dataset.dropna(subset=['timestamp'], inplace=True)\n",
    "\n",
    "# สร้างคุณลักษณะเกี่ยวกับเวลา\n",
    "dataset['day'] = dataset['timestamp'].dt.day\n",
    "dataset['month'] = dataset['timestamp'].dt.month\n",
    "dataset['hour'] = dataset['timestamp'].dt.hour\n",
    "dataset['dayofweek'] = dataset['timestamp'].dt.dayofweek\n",
    "\n",
    "# สร้าง Lag Features สำหรับอุณหภูมิ\n",
    "for lag in range(1, 8):  \n",
    "    dataset[f'temperature_lag_{lag}'] = dataset['temperature'].shift(lag * 24)\n",
    "\n",
    "# สร้าง Rolling Mean และ Rolling Rate สำหรับอุณหภูมิ\n",
    "for window in [3, 7]:\n",
    "    dataset[f'temperature_roll_mean_{window}'] = dataset['temperature'].rolling(window=window * 24).mean()\n",
    "    dataset[f'temperature_roll_std_{window}'] = dataset['temperature'].rolling(window=window * 24).std()\n",
    "    dataset[f'temperature_roll_rate_{window}'] = dataset[f'temperature_roll_mean_{window}'].pct_change() * 100\n",
    "\n",
    "# เพิ่มความชื้นและ PM2.5 เป็นตัวแปรช่วย\n",
    "for lag in [1, 2]:\n",
    "    dataset[f'humidity_lag_{lag}'] = dataset['humidity'].shift(lag * 24)\n",
    "    dataset[f'pm_2_5_lag_{lag}'] = dataset['pm_2_5'].shift(lag * 24)\n",
    "\n",
    "# ลบแถวที่มีค่า NaN\n",
    "dataset.dropna(inplace=True)\n",
    "\n",
    "# เลือกคอลัมน์ที่ใช้\n",
    "features = (\n",
    "    ['humidity', 'pm_2_5', 'hour', 'day', 'month', 'dayofweek'] + \n",
    "    [f'temperature_lag_{lag}' for lag in range(1, 8)] + \n",
    "    [f'temperature_roll_mean_{window}' for window in [3, 7]] +\n",
    "    [f'temperature_roll_std_{window}' for window in [3, 7]] +\n",
    "    [f'temperature_roll_rate_{window}' for window in [3, 7]] +\n",
    "    [f'humidity_lag_{lag}' for lag in [1, 2]] +\n",
    "    [f'pm_2_5_lag_{lag}' for lag in [1, 2]]\n",
    ")\n",
    "target = 'temperature'\n",
    "dataset_filtered = dataset[features + [target]]\n",
    "\n",
    "# ตั้งค่า PyCaret\n",
    "setup(data=dataset_filtered, target=target, fold=10, train_size=0.8, session_id=123, remove_outliers=True)\n",
    "\n",
    "# เปรียบเทียบโมเดล\n",
    "best_model = compare_models()\n",
    "\n",
    "# ใช้ฟังก์ชัน evaluate_model เพื่อตรวจสอบโมเดลที่ดีที่สุด\n",
    "evaluate_model(best_model)"
   ]
  },
  {
   "cell_type": "code",
   "execution_count": null,
   "metadata": {},
   "outputs": [
    {
     "data": {
      "text/html": [],
      "text/plain": [
       "<IPython.core.display.HTML object>"
      ]
     },
     "metadata": {},
     "output_type": "display_data"
    },
    {
     "data": {
      "text/html": [
       "<style type=\"text/css\">\n",
       "#T_1d097_row10_col0, #T_1d097_row10_col1, #T_1d097_row10_col2, #T_1d097_row10_col3, #T_1d097_row10_col4, #T_1d097_row10_col5 {\n",
       "  background: yellow;\n",
       "}\n",
       "</style>\n",
       "<table id=\"T_1d097\">\n",
       "  <thead>\n",
       "    <tr>\n",
       "      <th class=\"blank level0\" >&nbsp;</th>\n",
       "      <th id=\"T_1d097_level0_col0\" class=\"col_heading level0 col0\" >MAE</th>\n",
       "      <th id=\"T_1d097_level0_col1\" class=\"col_heading level0 col1\" >MSE</th>\n",
       "      <th id=\"T_1d097_level0_col2\" class=\"col_heading level0 col2\" >RMSE</th>\n",
       "      <th id=\"T_1d097_level0_col3\" class=\"col_heading level0 col3\" >R2</th>\n",
       "      <th id=\"T_1d097_level0_col4\" class=\"col_heading level0 col4\" >RMSLE</th>\n",
       "      <th id=\"T_1d097_level0_col5\" class=\"col_heading level0 col5\" >MAPE</th>\n",
       "    </tr>\n",
       "    <tr>\n",
       "      <th class=\"index_name level0\" >Fold</th>\n",
       "      <th class=\"blank col0\" >&nbsp;</th>\n",
       "      <th class=\"blank col1\" >&nbsp;</th>\n",
       "      <th class=\"blank col2\" >&nbsp;</th>\n",
       "      <th class=\"blank col3\" >&nbsp;</th>\n",
       "      <th class=\"blank col4\" >&nbsp;</th>\n",
       "      <th class=\"blank col5\" >&nbsp;</th>\n",
       "    </tr>\n",
       "  </thead>\n",
       "  <tbody>\n",
       "    <tr>\n",
       "      <th id=\"T_1d097_level0_row0\" class=\"row_heading level0 row0\" >0</th>\n",
       "      <td id=\"T_1d097_row0_col0\" class=\"data row0 col0\" >0.3303</td>\n",
       "      <td id=\"T_1d097_row0_col1\" class=\"data row0 col1\" >0.1959</td>\n",
       "      <td id=\"T_1d097_row0_col2\" class=\"data row0 col2\" >0.4426</td>\n",
       "      <td id=\"T_1d097_row0_col3\" class=\"data row0 col3\" >0.9298</td>\n",
       "      <td id=\"T_1d097_row0_col4\" class=\"data row0 col4\" >0.0153</td>\n",
       "      <td id=\"T_1d097_row0_col5\" class=\"data row0 col5\" >0.0117</td>\n",
       "    </tr>\n",
       "    <tr>\n",
       "      <th id=\"T_1d097_level0_row1\" class=\"row_heading level0 row1\" >1</th>\n",
       "      <td id=\"T_1d097_row1_col0\" class=\"data row1 col0\" >0.3151</td>\n",
       "      <td id=\"T_1d097_row1_col1\" class=\"data row1 col1\" >0.1770</td>\n",
       "      <td id=\"T_1d097_row1_col2\" class=\"data row1 col2\" >0.4207</td>\n",
       "      <td id=\"T_1d097_row1_col3\" class=\"data row1 col3\" >0.9063</td>\n",
       "      <td id=\"T_1d097_row1_col4\" class=\"data row1 col4\" >0.0146</td>\n",
       "      <td id=\"T_1d097_row1_col5\" class=\"data row1 col5\" >0.0112</td>\n",
       "    </tr>\n",
       "    <tr>\n",
       "      <th id=\"T_1d097_level0_row2\" class=\"row_heading level0 row2\" >2</th>\n",
       "      <td id=\"T_1d097_row2_col0\" class=\"data row2 col0\" >0.4087</td>\n",
       "      <td id=\"T_1d097_row2_col1\" class=\"data row2 col1\" >0.2248</td>\n",
       "      <td id=\"T_1d097_row2_col2\" class=\"data row2 col2\" >0.4741</td>\n",
       "      <td id=\"T_1d097_row2_col3\" class=\"data row2 col3\" >0.9168</td>\n",
       "      <td id=\"T_1d097_row2_col4\" class=\"data row2 col4\" >0.0162</td>\n",
       "      <td id=\"T_1d097_row2_col5\" class=\"data row2 col5\" >0.0145</td>\n",
       "    </tr>\n",
       "    <tr>\n",
       "      <th id=\"T_1d097_level0_row3\" class=\"row_heading level0 row3\" >3</th>\n",
       "      <td id=\"T_1d097_row3_col0\" class=\"data row3 col0\" >0.3591</td>\n",
       "      <td id=\"T_1d097_row3_col1\" class=\"data row3 col1\" >0.2304</td>\n",
       "      <td id=\"T_1d097_row3_col2\" class=\"data row3 col2\" >0.4800</td>\n",
       "      <td id=\"T_1d097_row3_col3\" class=\"data row3 col3\" >0.9116</td>\n",
       "      <td id=\"T_1d097_row3_col4\" class=\"data row3 col4\" >0.0162</td>\n",
       "      <td id=\"T_1d097_row3_col5\" class=\"data row3 col5\" >0.0126</td>\n",
       "    </tr>\n",
       "    <tr>\n",
       "      <th id=\"T_1d097_level0_row4\" class=\"row_heading level0 row4\" >4</th>\n",
       "      <td id=\"T_1d097_row4_col0\" class=\"data row4 col0\" >0.2798</td>\n",
       "      <td id=\"T_1d097_row4_col1\" class=\"data row4 col1\" >0.1458</td>\n",
       "      <td id=\"T_1d097_row4_col2\" class=\"data row4 col2\" >0.3818</td>\n",
       "      <td id=\"T_1d097_row4_col3\" class=\"data row4 col3\" >0.9394</td>\n",
       "      <td id=\"T_1d097_row4_col4\" class=\"data row4 col4\" >0.0128</td>\n",
       "      <td id=\"T_1d097_row4_col5\" class=\"data row4 col5\" >0.0099</td>\n",
       "    </tr>\n",
       "    <tr>\n",
       "      <th id=\"T_1d097_level0_row5\" class=\"row_heading level0 row5\" >5</th>\n",
       "      <td id=\"T_1d097_row5_col0\" class=\"data row5 col0\" >0.3701</td>\n",
       "      <td id=\"T_1d097_row5_col1\" class=\"data row5 col1\" >0.2214</td>\n",
       "      <td id=\"T_1d097_row5_col2\" class=\"data row5 col2\" >0.4706</td>\n",
       "      <td id=\"T_1d097_row5_col3\" class=\"data row5 col3\" >0.9126</td>\n",
       "      <td id=\"T_1d097_row5_col4\" class=\"data row5 col4\" >0.0163</td>\n",
       "      <td id=\"T_1d097_row5_col5\" class=\"data row5 col5\" >0.0132</td>\n",
       "    </tr>\n",
       "    <tr>\n",
       "      <th id=\"T_1d097_level0_row6\" class=\"row_heading level0 row6\" >6</th>\n",
       "      <td id=\"T_1d097_row6_col0\" class=\"data row6 col0\" >0.2887</td>\n",
       "      <td id=\"T_1d097_row6_col1\" class=\"data row6 col1\" >0.1079</td>\n",
       "      <td id=\"T_1d097_row6_col2\" class=\"data row6 col2\" >0.3285</td>\n",
       "      <td id=\"T_1d097_row6_col3\" class=\"data row6 col3\" >0.9390</td>\n",
       "      <td id=\"T_1d097_row6_col4\" class=\"data row6 col4\" >0.0112</td>\n",
       "      <td id=\"T_1d097_row6_col5\" class=\"data row6 col5\" >0.0102</td>\n",
       "    </tr>\n",
       "    <tr>\n",
       "      <th id=\"T_1d097_level0_row7\" class=\"row_heading level0 row7\" >7</th>\n",
       "      <td id=\"T_1d097_row7_col0\" class=\"data row7 col0\" >0.3182</td>\n",
       "      <td id=\"T_1d097_row7_col1\" class=\"data row7 col1\" >0.1515</td>\n",
       "      <td id=\"T_1d097_row7_col2\" class=\"data row7 col2\" >0.3892</td>\n",
       "      <td id=\"T_1d097_row7_col3\" class=\"data row7 col3\" >0.9280</td>\n",
       "      <td id=\"T_1d097_row7_col4\" class=\"data row7 col4\" >0.0132</td>\n",
       "      <td id=\"T_1d097_row7_col5\" class=\"data row7 col5\" >0.0110</td>\n",
       "    </tr>\n",
       "    <tr>\n",
       "      <th id=\"T_1d097_level0_row8\" class=\"row_heading level0 row8\" >8</th>\n",
       "      <td id=\"T_1d097_row8_col0\" class=\"data row8 col0\" >0.2420</td>\n",
       "      <td id=\"T_1d097_row8_col1\" class=\"data row8 col1\" >0.1039</td>\n",
       "      <td id=\"T_1d097_row8_col2\" class=\"data row8 col2\" >0.3223</td>\n",
       "      <td id=\"T_1d097_row8_col3\" class=\"data row8 col3\" >0.9490</td>\n",
       "      <td id=\"T_1d097_row8_col4\" class=\"data row8 col4\" >0.0110</td>\n",
       "      <td id=\"T_1d097_row8_col5\" class=\"data row8 col5\" >0.0085</td>\n",
       "    </tr>\n",
       "    <tr>\n",
       "      <th id=\"T_1d097_level0_row9\" class=\"row_heading level0 row9\" >9</th>\n",
       "      <td id=\"T_1d097_row9_col0\" class=\"data row9 col0\" >0.2816</td>\n",
       "      <td id=\"T_1d097_row9_col1\" class=\"data row9 col1\" >0.1439</td>\n",
       "      <td id=\"T_1d097_row9_col2\" class=\"data row9 col2\" >0.3793</td>\n",
       "      <td id=\"T_1d097_row9_col3\" class=\"data row9 col3\" >0.9077</td>\n",
       "      <td id=\"T_1d097_row9_col4\" class=\"data row9 col4\" >0.0131</td>\n",
       "      <td id=\"T_1d097_row9_col5\" class=\"data row9 col5\" >0.0100</td>\n",
       "    </tr>\n",
       "    <tr>\n",
       "      <th id=\"T_1d097_level0_row10\" class=\"row_heading level0 row10\" >Mean</th>\n",
       "      <td id=\"T_1d097_row10_col0\" class=\"data row10 col0\" >0.3193</td>\n",
       "      <td id=\"T_1d097_row10_col1\" class=\"data row10 col1\" >0.1702</td>\n",
       "      <td id=\"T_1d097_row10_col2\" class=\"data row10 col2\" >0.4089</td>\n",
       "      <td id=\"T_1d097_row10_col3\" class=\"data row10 col3\" >0.9240</td>\n",
       "      <td id=\"T_1d097_row10_col4\" class=\"data row10 col4\" >0.0140</td>\n",
       "      <td id=\"T_1d097_row10_col5\" class=\"data row10 col5\" >0.0113</td>\n",
       "    </tr>\n",
       "    <tr>\n",
       "      <th id=\"T_1d097_level0_row11\" class=\"row_heading level0 row11\" >Std</th>\n",
       "      <td id=\"T_1d097_row11_col0\" class=\"data row11 col0\" >0.0471</td>\n",
       "      <td id=\"T_1d097_row11_col1\" class=\"data row11 col1\" >0.0445</td>\n",
       "      <td id=\"T_1d097_row11_col2\" class=\"data row11 col2\" >0.0551</td>\n",
       "      <td id=\"T_1d097_row11_col3\" class=\"data row11 col3\" >0.0143</td>\n",
       "      <td id=\"T_1d097_row11_col4\" class=\"data row11 col4\" >0.0019</td>\n",
       "      <td id=\"T_1d097_row11_col5\" class=\"data row11 col5\" >0.0017</td>\n",
       "    </tr>\n",
       "  </tbody>\n",
       "</table>\n"
      ],
      "text/plain": [
       "<pandas.io.formats.style.Styler at 0x2ca67fc7150>"
      ]
     },
     "metadata": {},
     "output_type": "display_data"
    },
    {
     "data": {
      "text/html": [],
      "text/plain": [
       "<IPython.core.display.HTML object>"
      ]
     },
     "metadata": {},
     "output_type": "display_data"
    },
    {
     "data": {
      "text/html": [],
      "text/plain": [
       "<IPython.core.display.HTML object>"
      ]
     },
     "metadata": {},
     "output_type": "display_data"
    },
    {
     "data": {
      "text/html": [
       "<style type=\"text/css\">\n",
       "#T_cee8d_row10_col0, #T_cee8d_row10_col1, #T_cee8d_row10_col2, #T_cee8d_row10_col3, #T_cee8d_row10_col4, #T_cee8d_row10_col5 {\n",
       "  background: yellow;\n",
       "}\n",
       "</style>\n",
       "<table id=\"T_cee8d\">\n",
       "  <thead>\n",
       "    <tr>\n",
       "      <th class=\"blank level0\" >&nbsp;</th>\n",
       "      <th id=\"T_cee8d_level0_col0\" class=\"col_heading level0 col0\" >MAE</th>\n",
       "      <th id=\"T_cee8d_level0_col1\" class=\"col_heading level0 col1\" >MSE</th>\n",
       "      <th id=\"T_cee8d_level0_col2\" class=\"col_heading level0 col2\" >RMSE</th>\n",
       "      <th id=\"T_cee8d_level0_col3\" class=\"col_heading level0 col3\" >R2</th>\n",
       "      <th id=\"T_cee8d_level0_col4\" class=\"col_heading level0 col4\" >RMSLE</th>\n",
       "      <th id=\"T_cee8d_level0_col5\" class=\"col_heading level0 col5\" >MAPE</th>\n",
       "    </tr>\n",
       "    <tr>\n",
       "      <th class=\"index_name level0\" >Fold</th>\n",
       "      <th class=\"blank col0\" >&nbsp;</th>\n",
       "      <th class=\"blank col1\" >&nbsp;</th>\n",
       "      <th class=\"blank col2\" >&nbsp;</th>\n",
       "      <th class=\"blank col3\" >&nbsp;</th>\n",
       "      <th class=\"blank col4\" >&nbsp;</th>\n",
       "      <th class=\"blank col5\" >&nbsp;</th>\n",
       "    </tr>\n",
       "  </thead>\n",
       "  <tbody>\n",
       "    <tr>\n",
       "      <th id=\"T_cee8d_level0_row0\" class=\"row_heading level0 row0\" >0</th>\n",
       "      <td id=\"T_cee8d_row0_col0\" class=\"data row0 col0\" >0.5620</td>\n",
       "      <td id=\"T_cee8d_row0_col1\" class=\"data row0 col1\" >0.5596</td>\n",
       "      <td id=\"T_cee8d_row0_col2\" class=\"data row0 col2\" >0.7481</td>\n",
       "      <td id=\"T_cee8d_row0_col3\" class=\"data row0 col3\" >0.7994</td>\n",
       "      <td id=\"T_cee8d_row0_col4\" class=\"data row0 col4\" >0.0257</td>\n",
       "      <td id=\"T_cee8d_row0_col5\" class=\"data row0 col5\" >0.0199</td>\n",
       "    </tr>\n",
       "    <tr>\n",
       "      <th id=\"T_cee8d_level0_row1\" class=\"row_heading level0 row1\" >1</th>\n",
       "      <td id=\"T_cee8d_row1_col0\" class=\"data row1 col0\" >0.4995</td>\n",
       "      <td id=\"T_cee8d_row1_col1\" class=\"data row1 col1\" >0.3892</td>\n",
       "      <td id=\"T_cee8d_row1_col2\" class=\"data row1 col2\" >0.6239</td>\n",
       "      <td id=\"T_cee8d_row1_col3\" class=\"data row1 col3\" >0.7940</td>\n",
       "      <td id=\"T_cee8d_row1_col4\" class=\"data row1 col4\" >0.0211</td>\n",
       "      <td id=\"T_cee8d_row1_col5\" class=\"data row1 col5\" >0.0175</td>\n",
       "    </tr>\n",
       "    <tr>\n",
       "      <th id=\"T_cee8d_level0_row2\" class=\"row_heading level0 row2\" >2</th>\n",
       "      <td id=\"T_cee8d_row2_col0\" class=\"data row2 col0\" >0.5521</td>\n",
       "      <td id=\"T_cee8d_row2_col1\" class=\"data row2 col1\" >0.4768</td>\n",
       "      <td id=\"T_cee8d_row2_col2\" class=\"data row2 col2\" >0.6905</td>\n",
       "      <td id=\"T_cee8d_row2_col3\" class=\"data row2 col3\" >0.8235</td>\n",
       "      <td id=\"T_cee8d_row2_col4\" class=\"data row2 col4\" >0.0237</td>\n",
       "      <td id=\"T_cee8d_row2_col5\" class=\"data row2 col5\" >0.0196</td>\n",
       "    </tr>\n",
       "    <tr>\n",
       "      <th id=\"T_cee8d_level0_row3\" class=\"row_heading level0 row3\" >3</th>\n",
       "      <td id=\"T_cee8d_row3_col0\" class=\"data row3 col0\" >0.5674</td>\n",
       "      <td id=\"T_cee8d_row3_col1\" class=\"data row3 col1\" >0.4869</td>\n",
       "      <td id=\"T_cee8d_row3_col2\" class=\"data row3 col2\" >0.6978</td>\n",
       "      <td id=\"T_cee8d_row3_col3\" class=\"data row3 col3\" >0.8132</td>\n",
       "      <td id=\"T_cee8d_row3_col4\" class=\"data row3 col4\" >0.0238</td>\n",
       "      <td id=\"T_cee8d_row3_col5\" class=\"data row3 col5\" >0.0200</td>\n",
       "    </tr>\n",
       "    <tr>\n",
       "      <th id=\"T_cee8d_level0_row4\" class=\"row_heading level0 row4\" >4</th>\n",
       "      <td id=\"T_cee8d_row4_col0\" class=\"data row4 col0\" >0.4917</td>\n",
       "      <td id=\"T_cee8d_row4_col1\" class=\"data row4 col1\" >0.4292</td>\n",
       "      <td id=\"T_cee8d_row4_col2\" class=\"data row4 col2\" >0.6551</td>\n",
       "      <td id=\"T_cee8d_row4_col3\" class=\"data row4 col3\" >0.8217</td>\n",
       "      <td id=\"T_cee8d_row4_col4\" class=\"data row4 col4\" >0.0225</td>\n",
       "      <td id=\"T_cee8d_row4_col5\" class=\"data row4 col5\" >0.0176</td>\n",
       "    </tr>\n",
       "    <tr>\n",
       "      <th id=\"T_cee8d_level0_row5\" class=\"row_heading level0 row5\" >5</th>\n",
       "      <td id=\"T_cee8d_row5_col0\" class=\"data row5 col0\" >0.5308</td>\n",
       "      <td id=\"T_cee8d_row5_col1\" class=\"data row5 col1\" >0.5140</td>\n",
       "      <td id=\"T_cee8d_row5_col2\" class=\"data row5 col2\" >0.7170</td>\n",
       "      <td id=\"T_cee8d_row5_col3\" class=\"data row5 col3\" >0.7970</td>\n",
       "      <td id=\"T_cee8d_row5_col4\" class=\"data row5 col4\" >0.0250</td>\n",
       "      <td id=\"T_cee8d_row5_col5\" class=\"data row5 col5\" >0.0190</td>\n",
       "    </tr>\n",
       "    <tr>\n",
       "      <th id=\"T_cee8d_level0_row6\" class=\"row_heading level0 row6\" >6</th>\n",
       "      <td id=\"T_cee8d_row6_col0\" class=\"data row6 col0\" >0.3961</td>\n",
       "      <td id=\"T_cee8d_row6_col1\" class=\"data row6 col1\" >0.2186</td>\n",
       "      <td id=\"T_cee8d_row6_col2\" class=\"data row6 col2\" >0.4675</td>\n",
       "      <td id=\"T_cee8d_row6_col3\" class=\"data row6 col3\" >0.8765</td>\n",
       "      <td id=\"T_cee8d_row6_col4\" class=\"data row6 col4\" >0.0158</td>\n",
       "      <td id=\"T_cee8d_row6_col5\" class=\"data row6 col5\" >0.0138</td>\n",
       "    </tr>\n",
       "    <tr>\n",
       "      <th id=\"T_cee8d_level0_row7\" class=\"row_heading level0 row7\" >7</th>\n",
       "      <td id=\"T_cee8d_row7_col0\" class=\"data row7 col0\" >0.5067</td>\n",
       "      <td id=\"T_cee8d_row7_col1\" class=\"data row7 col1\" >0.4449</td>\n",
       "      <td id=\"T_cee8d_row7_col2\" class=\"data row7 col2\" >0.6670</td>\n",
       "      <td id=\"T_cee8d_row7_col3\" class=\"data row7 col3\" >0.7884</td>\n",
       "      <td id=\"T_cee8d_row7_col4\" class=\"data row7 col4\" >0.0223</td>\n",
       "      <td id=\"T_cee8d_row7_col5\" class=\"data row7 col5\" >0.0174</td>\n",
       "    </tr>\n",
       "    <tr>\n",
       "      <th id=\"T_cee8d_level0_row8\" class=\"row_heading level0 row8\" >8</th>\n",
       "      <td id=\"T_cee8d_row8_col0\" class=\"data row8 col0\" >0.4256</td>\n",
       "      <td id=\"T_cee8d_row8_col1\" class=\"data row8 col1\" >0.2682</td>\n",
       "      <td id=\"T_cee8d_row8_col2\" class=\"data row8 col2\" >0.5179</td>\n",
       "      <td id=\"T_cee8d_row8_col3\" class=\"data row8 col3\" >0.8684</td>\n",
       "      <td id=\"T_cee8d_row8_col4\" class=\"data row8 col4\" >0.0178</td>\n",
       "      <td id=\"T_cee8d_row8_col5\" class=\"data row8 col5\" >0.0150</td>\n",
       "    </tr>\n",
       "    <tr>\n",
       "      <th id=\"T_cee8d_level0_row9\" class=\"row_heading level0 row9\" >9</th>\n",
       "      <td id=\"T_cee8d_row9_col0\" class=\"data row9 col0\" >0.4282</td>\n",
       "      <td id=\"T_cee8d_row9_col1\" class=\"data row9 col1\" >0.3109</td>\n",
       "      <td id=\"T_cee8d_row9_col2\" class=\"data row9 col2\" >0.5576</td>\n",
       "      <td id=\"T_cee8d_row9_col3\" class=\"data row9 col3\" >0.8007</td>\n",
       "      <td id=\"T_cee8d_row9_col4\" class=\"data row9 col4\" >0.0193</td>\n",
       "      <td id=\"T_cee8d_row9_col5\" class=\"data row9 col5\" >0.0153</td>\n",
       "    </tr>\n",
       "    <tr>\n",
       "      <th id=\"T_cee8d_level0_row10\" class=\"row_heading level0 row10\" >Mean</th>\n",
       "      <td id=\"T_cee8d_row10_col0\" class=\"data row10 col0\" >0.4960</td>\n",
       "      <td id=\"T_cee8d_row10_col1\" class=\"data row10 col1\" >0.4098</td>\n",
       "      <td id=\"T_cee8d_row10_col2\" class=\"data row10 col2\" >0.6342</td>\n",
       "      <td id=\"T_cee8d_row10_col3\" class=\"data row10 col3\" >0.8183</td>\n",
       "      <td id=\"T_cee8d_row10_col4\" class=\"data row10 col4\" >0.0217</td>\n",
       "      <td id=\"T_cee8d_row10_col5\" class=\"data row10 col5\" >0.0175</td>\n",
       "    </tr>\n",
       "    <tr>\n",
       "      <th id=\"T_cee8d_level0_row11\" class=\"row_heading level0 row11\" >Std</th>\n",
       "      <td id=\"T_cee8d_row11_col0\" class=\"data row11 col0\" >0.0579</td>\n",
       "      <td id=\"T_cee8d_row11_col1\" class=\"data row11 col1\" >0.1059</td>\n",
       "      <td id=\"T_cee8d_row11_col2\" class=\"data row11 col2\" >0.0871</td>\n",
       "      <td id=\"T_cee8d_row11_col3\" class=\"data row11 col3\" >0.0293</td>\n",
       "      <td id=\"T_cee8d_row11_col4\" class=\"data row11 col4\" >0.0030</td>\n",
       "      <td id=\"T_cee8d_row11_col5\" class=\"data row11 col5\" >0.0021</td>\n",
       "    </tr>\n",
       "  </tbody>\n",
       "</table>\n"
      ],
      "text/plain": [
       "<pandas.io.formats.style.Styler at 0x2ca440d9e10>"
      ]
     },
     "metadata": {},
     "output_type": "display_data"
    },
    {
     "data": {
      "text/html": [],
      "text/plain": [
       "<IPython.core.display.HTML object>"
      ]
     },
     "metadata": {},
     "output_type": "display_data"
    },
    {
     "name": "stdout",
     "output_type": "stream",
     "text": [
      "Fitting 10 folds for each of 10 candidates, totalling 100 fits\n",
      "Original model was better than the tuned model, hence it will be returned. NOTE: The display metrics are for the tuned model (not the original one).\n"
     ]
    },
    {
     "data": {
      "application/vnd.jupyter.widget-view+json": {
       "model_id": "775e530452bb473a8989c3c81acc121e",
       "version_major": 2,
       "version_minor": 0
      },
      "text/plain": [
       "interactive(children=(ToggleButtons(description='Plot Type:', icons=('',), options=(('Pipeline Plot', 'pipelin…"
      ]
     },
     "metadata": {},
     "output_type": "display_data"
    }
   ],
   "source": [
    "# ส่วนที่ 3 - การสร้างและปรับโมเดล:\n",
    "# เลือกโมเดล Extra Trees\n",
    "et_model = create_model('et')\n",
    "\n",
    "# ปรับพารามิเตอร์ของโมเดล\n",
    "tuned_model = tune_model(et_model)\n",
    "\n",
    "# ประเมินโมเดลที่ปรับพารามิเตอร์แล้ว\n",
    "evaluate_model(tuned_model)"
   ]
  },
  {
   "cell_type": "code",
   "execution_count": 5,
   "metadata": {},
   "outputs": [
    {
     "name": "stdout",
     "output_type": "stream",
     "text": [
      "Transformation Pipeline and Model Successfully Saved\n"
     ]
    },
    {
     "data": {
      "text/plain": [
       "(Pipeline(memory=Memory(location=None),\n",
       "          steps=[('numerical_imputer',\n",
       "                  TransformerWrapper(include=['humidity', 'pm_2_5', 'hour',\n",
       "                                              'day', 'month', 'dayofweek',\n",
       "                                              'temperature_lag_1',\n",
       "                                              'temperature_lag_2',\n",
       "                                              'temperature_lag_3',\n",
       "                                              'temperature_lag_4',\n",
       "                                              'temperature_lag_5',\n",
       "                                              'temperature_lag_6',\n",
       "                                              'temperature_lag_7',\n",
       "                                              'temperature_roll_mean_3',\n",
       "                                              'temperature_roll_mean_7',\n",
       "                                              'temperatur...\n",
       "                                              'humidity_lag_1', 'humidity_lag_2',\n",
       "                                              'pm_2_5_lag_1', 'pm_2_5_lag_2'],\n",
       "                                     transformer=SimpleImputer())),\n",
       "                 ('categorical_imputer',\n",
       "                  TransformerWrapper(include=[],\n",
       "                                     transformer=SimpleImputer(strategy='most_frequent'))),\n",
       "                 ('remove_outliers',\n",
       "                  TransformerWrapper(transformer=RemoveOutliers(random_state=123))),\n",
       "                 ('actual_estimator',\n",
       "                  ExtraTreesRegressor(n_jobs=-1, random_state=123))]),\n",
       " 'temperature_forecast_model.pkl')"
      ]
     },
     "execution_count": 5,
     "metadata": {},
     "output_type": "execute_result"
    }
   ],
   "source": [
    "# ส่วนที่ 4 - การสร้างโมเดลสุดท้าย:\n",
    "# สร้างโมเดลสุดท้าย\n",
    "final_model = finalize_model(tuned_model)\n",
    "save_model(final_model, 'temperature_forecast_model')"
   ]
  },
  {
   "cell_type": "code",
   "execution_count": 6,
   "metadata": {},
   "outputs": [
    {
     "data": {
      "text/html": [],
      "text/plain": [
       "<IPython.core.display.HTML object>"
      ]
     },
     "metadata": {},
     "output_type": "display_data"
    },
    {
     "data": {
      "text/html": [],
      "text/plain": [
       "<IPython.core.display.HTML object>"
      ]
     },
     "metadata": {},
     "output_type": "display_data"
    },
    {
     "data": {
      "text/html": [],
      "text/plain": [
       "<IPython.core.display.HTML object>"
      ]
     },
     "metadata": {},
     "output_type": "display_data"
    },
    {
     "data": {
      "text/html": [],
      "text/plain": [
       "<IPython.core.display.HTML object>"
      ]
     },
     "metadata": {},
     "output_type": "display_data"
    },
    {
     "data": {
      "text/html": [],
      "text/plain": [
       "<IPython.core.display.HTML object>"
      ]
     },
     "metadata": {},
     "output_type": "display_data"
    },
    {
     "data": {
      "text/html": [],
      "text/plain": [
       "<IPython.core.display.HTML object>"
      ]
     },
     "metadata": {},
     "output_type": "display_data"
    },
    {
     "data": {
      "text/html": [],
      "text/plain": [
       "<IPython.core.display.HTML object>"
      ]
     },
     "metadata": {},
     "output_type": "display_data"
    },
    {
     "name": "stdout",
     "output_type": "stream",
     "text": [
      "ผลลัพธ์การทำนายอุณหภูมิ:\n",
      "            timestamp  predicted_temperature\n",
      "0 2025-02-06 07:00:00              29.142523\n",
      "1 2025-02-07 07:00:00              29.547571\n",
      "2 2025-02-08 07:00:00              29.793225\n",
      "3 2025-02-09 07:00:00              30.047632\n",
      "4 2025-02-10 07:00:00              30.296486\n",
      "5 2025-02-11 07:00:00              30.365676\n",
      "6 2025-02-12 07:00:00              30.435034\n"
     ]
    }
   ],
   "source": [
    "# ส่วนที่ 5 - การทำนายค่าอุณหภูมิในอนาคต:\n",
    "# สร้าง future_df สำหรับการทำนาย 7 วันข้างหน้า\n",
    "last_timestamp = dataset['timestamp'].max()\n",
    "future_dates = pd.date_range(start=last_timestamp + pd.Timedelta(days=1), periods=7, freq='D')\n",
    "\n",
    "# ใช้ค่าเฉลี่ยของ 30 วันล่าสุดสำหรับ humidity และ pm_2_5\n",
    "recent_data = dataset.sort_values('timestamp').tail(30 * 24)  # 30 วันล่าสุด\n",
    "avg_humidity = recent_data['humidity'].mean()\n",
    "avg_pm25 = recent_data['pm_2_5'].mean()\n",
    "\n",
    "# ดึงค่าอุณหภูมิล่าสุดสำหรับสร้าง features\n",
    "latest_temp_values = dataset.sort_values('timestamp').tail(7 * 24)['temperature'].tolist()\n",
    "latest_temp_values.reverse()  # กลับลำดับเพื่อให้ค่าล่าสุดอยู่ที่ดัชนี 0\n",
    "\n",
    "latest_humidity_values = dataset.sort_values('timestamp').tail(2 * 24)['humidity'].tolist()\n",
    "latest_humidity_values.reverse()\n",
    "\n",
    "latest_pm25_values = dataset.sort_values('timestamp').tail(2 * 24)['pm_2_5'].tolist()\n",
    "latest_pm25_values.reverse()\n",
    "\n",
    "# ทำนายทีละวัน\n",
    "predictions = []\n",
    "current_data = dataset.copy().sort_values('timestamp')\n",
    "\n",
    "for i, date in enumerate(future_dates):\n",
    "    # สร้างข้อมูลพื้นฐานสำหรับวันใหม่\n",
    "    new_day = pd.DataFrame({\n",
    "        'timestamp': [date],\n",
    "        'humidity': [avg_humidity],\n",
    "        'pm_2_5': [avg_pm25],\n",
    "        'day': [date.day],\n",
    "        'month': [date.month],\n",
    "        'hour': [12],  # ใช้เวลาเที่ยงวันเป็นตัวแทนของวัน\n",
    "        'dayofweek': [date.dayofweek]\n",
    "    })\n",
    "\n",
    "    # สร้าง lag features สำหรับอุณหภูมิ\n",
    "    for lag in range(1, 8):\n",
    "        if i >= lag:\n",
    "            # ใช้ค่าที่ทำนายไปแล้วสำหรับวันที่ผ่านมา\n",
    "            new_day[f'temperature_lag_{lag}'] = [predictions[i - lag]]\n",
    "        else:\n",
    "            # ใช้ค่าจริงจากชุดข้อมูล\n",
    "            lag_idx = lag - i - 1\n",
    "            if abs(lag_idx) < len(latest_temp_values):\n",
    "                new_day[f'temperature_lag_{lag}'] = [latest_temp_values[lag_idx]]\n",
    "            else:\n",
    "                new_day[f'temperature_lag_{lag}'] = [latest_temp_values[-1]]  # ใช้ค่าสุดท้ายที่มี\n",
    "    \n",
    "    # สร้าง lag features สำหรับความชื้นและ PM2.5\n",
    "    for lag in [1, 2]:\n",
    "        if i >= lag:\n",
    "            # สมมติว่าความชื้นและ PM2.5 คงที่\n",
    "            new_day[f'humidity_lag_{lag}'] = [avg_humidity]\n",
    "            new_day[f'pm_2_5_lag_{lag}'] = [avg_pm25]\n",
    "        else:\n",
    "            # ใช้ค่าจริงจากชุดข้อมูล\n",
    "            h_lag_idx = lag - i - 1\n",
    "            if abs(h_lag_idx) < len(latest_humidity_values):\n",
    "                new_day[f'humidity_lag_{lag}'] = [latest_humidity_values[h_lag_idx]]\n",
    "            else:\n",
    "                new_day[f'humidity_lag_{lag}'] = [latest_humidity_values[-1]]\n",
    "                \n",
    "            pm_lag_idx = lag - i - 1\n",
    "            if abs(pm_lag_idx) < len(latest_pm25_values):\n",
    "                new_day[f'pm_2_5_lag_{lag}'] = [latest_pm25_values[pm_lag_idx]]\n",
    "            else:\n",
    "                new_day[f'pm_2_5_lag_{lag}'] = [latest_pm25_values[-1]]\n",
    "\n",
    "    # คำนวณ rolling metrics สำหรับอุณหภูมิ\n",
    "    for window in [3, 7]:\n",
    "        if i == 0:\n",
    "            # ใช้ค่าจาก window วันล่าสุดในชุดข้อมูล\n",
    "            last_n_days = latest_temp_values[:window]\n",
    "            roll_mean = sum(last_n_days) / len(last_n_days)\n",
    "            roll_std = sum((x - roll_mean) ** 2 for x in last_n_days) ** 0.5 / len(last_n_days) if len(last_n_days) > 1 else 0\n",
    "            \n",
    "            # คำนวณ roll_rate\n",
    "            prev_window = latest_temp_values[1:window+1]\n",
    "            prev_roll_mean = sum(prev_window) / len(prev_window) if prev_window else roll_mean\n",
    "            roll_rate = ((roll_mean - prev_roll_mean) / prev_roll_mean) * 100 if prev_roll_mean != 0 else 0\n",
    "            \n",
    "            new_day[f'temperature_roll_mean_{window}'] = [roll_mean]\n",
    "            new_day[f'temperature_roll_std_{window}'] = [roll_std]\n",
    "            new_day[f'temperature_roll_rate_{window}'] = [roll_rate]\n",
    "        else:\n",
    "            # ใช้ค่าที่ทำนายไปแล้ว\n",
    "            recent_values = predictions[-window:] if len(predictions) >= window else predictions + latest_temp_values[:window-len(predictions)]\n",
    "            roll_mean = sum(recent_values) / len(recent_values)\n",
    "            roll_std = sum((x - roll_mean) ** 2 for x in recent_values) ** 0.5 / len(recent_values) if len(recent_values) > 1 else 0\n",
    "            \n",
    "            # คำนวณ roll_rate\n",
    "            if len(predictions) >= window + 1:\n",
    "                prev_values = predictions[-(window+1):-1]\n",
    "            else:\n",
    "                prev_values = predictions[:-1] + latest_temp_values[:window-len(predictions)+1] if len(predictions) > 0 else latest_temp_values[:window]\n",
    "            \n",
    "            prev_roll_mean = sum(prev_values) / len(prev_values) if prev_values else roll_mean\n",
    "            roll_rate = ((roll_mean - prev_roll_mean) / prev_roll_mean) * 100 if prev_roll_mean != 0 else 0\n",
    "            \n",
    "            new_day[f'temperature_roll_mean_{window}'] = [roll_mean]\n",
    "            new_day[f'temperature_roll_std_{window}'] = [roll_std]\n",
    "            new_day[f'temperature_roll_rate_{window}'] = [roll_rate]\n",
    "\n",
    "    # ทำนายค่าอุณหภูมิ\n",
    "    prediction = predict_model(final_model, data=new_day)\n",
    "    predicted_value = prediction.iloc[0]['prediction_label']\n",
    "    predictions.append(predicted_value)\n",
    "\n",
    "    # เพิ่มข้อมูลที่ทำนายแล้วลงใน current_data\n",
    "    new_row = new_day.copy()\n",
    "    new_row['temperature'] = predicted_value\n",
    "    current_data = pd.concat([current_data, new_row], ignore_index=True)\n",
    "\n",
    "# สร้าง DataFrame สำหรับผลลัพธ์\n",
    "result_df = pd.DataFrame({\n",
    "    'timestamp': future_dates,\n",
    "    'predicted_temperature': predictions\n",
    "})\n",
    "\n",
    "print(\"ผลลัพธ์การทำนายอุณหภูมิ:\")\n",
    "print(result_df)"
   ]
  },
  {
   "cell_type": "code",
   "execution_count": 8,
   "metadata": {},
   "outputs": [
    {
     "data": {
      "application/vnd.plotly.v1+json": {
       "config": {
        "plotlyServerURL": "https://plot.ly"
       },
       "data": [
        {
         "line": {
          "width": 2
         },
         "marker": {
          "color": "rgba(255, 99, 132, 0.8)"
         },
         "mode": "lines+markers",
         "name": "Predicted Temperature",
         "type": "scatter",
         "x": [
          "2025-02-06T07:00:00",
          "2025-02-07T07:00:00",
          "2025-02-08T07:00:00",
          "2025-02-09T07:00:00",
          "2025-02-10T07:00:00",
          "2025-02-11T07:00:00",
          "2025-02-12T07:00:00"
         ],
         "y": [
          29.142523059844972,
          29.547571144104005,
          29.793225078582765,
          30.04763231277466,
          30.296485824584963,
          30.36567611694336,
          30.435034408569337
         ]
        }
       ],
       "layout": {
        "paper_bgcolor": "white",
        "plot_bgcolor": "white",
        "template": {
         "data": {
          "bar": [
           {
            "error_x": {
             "color": "#2a3f5f"
            },
            "error_y": {
             "color": "#2a3f5f"
            },
            "marker": {
             "line": {
              "color": "#E5ECF6",
              "width": 0.5
             },
             "pattern": {
              "fillmode": "overlay",
              "size": 10,
              "solidity": 0.2
             }
            },
            "type": "bar"
           }
          ],
          "barpolar": [
           {
            "marker": {
             "line": {
              "color": "#E5ECF6",
              "width": 0.5
             },
             "pattern": {
              "fillmode": "overlay",
              "size": 10,
              "solidity": 0.2
             }
            },
            "type": "barpolar"
           }
          ],
          "carpet": [
           {
            "aaxis": {
             "endlinecolor": "#2a3f5f",
             "gridcolor": "white",
             "linecolor": "white",
             "minorgridcolor": "white",
             "startlinecolor": "#2a3f5f"
            },
            "baxis": {
             "endlinecolor": "#2a3f5f",
             "gridcolor": "white",
             "linecolor": "white",
             "minorgridcolor": "white",
             "startlinecolor": "#2a3f5f"
            },
            "type": "carpet"
           }
          ],
          "choropleth": [
           {
            "colorbar": {
             "outlinewidth": 0,
             "ticks": ""
            },
            "type": "choropleth"
           }
          ],
          "contour": [
           {
            "colorbar": {
             "outlinewidth": 0,
             "ticks": ""
            },
            "colorscale": [
             [
              0,
              "#0d0887"
             ],
             [
              0.1111111111111111,
              "#46039f"
             ],
             [
              0.2222222222222222,
              "#7201a8"
             ],
             [
              0.3333333333333333,
              "#9c179e"
             ],
             [
              0.4444444444444444,
              "#bd3786"
             ],
             [
              0.5555555555555556,
              "#d8576b"
             ],
             [
              0.6666666666666666,
              "#ed7953"
             ],
             [
              0.7777777777777778,
              "#fb9f3a"
             ],
             [
              0.8888888888888888,
              "#fdca26"
             ],
             [
              1,
              "#f0f921"
             ]
            ],
            "type": "contour"
           }
          ],
          "contourcarpet": [
           {
            "colorbar": {
             "outlinewidth": 0,
             "ticks": ""
            },
            "type": "contourcarpet"
           }
          ],
          "heatmap": [
           {
            "colorbar": {
             "outlinewidth": 0,
             "ticks": ""
            },
            "colorscale": [
             [
              0,
              "#0d0887"
             ],
             [
              0.1111111111111111,
              "#46039f"
             ],
             [
              0.2222222222222222,
              "#7201a8"
             ],
             [
              0.3333333333333333,
              "#9c179e"
             ],
             [
              0.4444444444444444,
              "#bd3786"
             ],
             [
              0.5555555555555556,
              "#d8576b"
             ],
             [
              0.6666666666666666,
              "#ed7953"
             ],
             [
              0.7777777777777778,
              "#fb9f3a"
             ],
             [
              0.8888888888888888,
              "#fdca26"
             ],
             [
              1,
              "#f0f921"
             ]
            ],
            "type": "heatmap"
           }
          ],
          "heatmapgl": [
           {
            "colorbar": {
             "outlinewidth": 0,
             "ticks": ""
            },
            "colorscale": [
             [
              0,
              "#0d0887"
             ],
             [
              0.1111111111111111,
              "#46039f"
             ],
             [
              0.2222222222222222,
              "#7201a8"
             ],
             [
              0.3333333333333333,
              "#9c179e"
             ],
             [
              0.4444444444444444,
              "#bd3786"
             ],
             [
              0.5555555555555556,
              "#d8576b"
             ],
             [
              0.6666666666666666,
              "#ed7953"
             ],
             [
              0.7777777777777778,
              "#fb9f3a"
             ],
             [
              0.8888888888888888,
              "#fdca26"
             ],
             [
              1,
              "#f0f921"
             ]
            ],
            "type": "heatmapgl"
           }
          ],
          "histogram": [
           {
            "marker": {
             "pattern": {
              "fillmode": "overlay",
              "size": 10,
              "solidity": 0.2
             }
            },
            "type": "histogram"
           }
          ],
          "histogram2d": [
           {
            "colorbar": {
             "outlinewidth": 0,
             "ticks": ""
            },
            "colorscale": [
             [
              0,
              "#0d0887"
             ],
             [
              0.1111111111111111,
              "#46039f"
             ],
             [
              0.2222222222222222,
              "#7201a8"
             ],
             [
              0.3333333333333333,
              "#9c179e"
             ],
             [
              0.4444444444444444,
              "#bd3786"
             ],
             [
              0.5555555555555556,
              "#d8576b"
             ],
             [
              0.6666666666666666,
              "#ed7953"
             ],
             [
              0.7777777777777778,
              "#fb9f3a"
             ],
             [
              0.8888888888888888,
              "#fdca26"
             ],
             [
              1,
              "#f0f921"
             ]
            ],
            "type": "histogram2d"
           }
          ],
          "histogram2dcontour": [
           {
            "colorbar": {
             "outlinewidth": 0,
             "ticks": ""
            },
            "colorscale": [
             [
              0,
              "#0d0887"
             ],
             [
              0.1111111111111111,
              "#46039f"
             ],
             [
              0.2222222222222222,
              "#7201a8"
             ],
             [
              0.3333333333333333,
              "#9c179e"
             ],
             [
              0.4444444444444444,
              "#bd3786"
             ],
             [
              0.5555555555555556,
              "#d8576b"
             ],
             [
              0.6666666666666666,
              "#ed7953"
             ],
             [
              0.7777777777777778,
              "#fb9f3a"
             ],
             [
              0.8888888888888888,
              "#fdca26"
             ],
             [
              1,
              "#f0f921"
             ]
            ],
            "type": "histogram2dcontour"
           }
          ],
          "mesh3d": [
           {
            "colorbar": {
             "outlinewidth": 0,
             "ticks": ""
            },
            "type": "mesh3d"
           }
          ],
          "parcoords": [
           {
            "line": {
             "colorbar": {
              "outlinewidth": 0,
              "ticks": ""
             }
            },
            "type": "parcoords"
           }
          ],
          "pie": [
           {
            "automargin": true,
            "type": "pie"
           }
          ],
          "scatter": [
           {
            "fillpattern": {
             "fillmode": "overlay",
             "size": 10,
             "solidity": 0.2
            },
            "type": "scatter"
           }
          ],
          "scatter3d": [
           {
            "line": {
             "colorbar": {
              "outlinewidth": 0,
              "ticks": ""
             }
            },
            "marker": {
             "colorbar": {
              "outlinewidth": 0,
              "ticks": ""
             }
            },
            "type": "scatter3d"
           }
          ],
          "scattercarpet": [
           {
            "marker": {
             "colorbar": {
              "outlinewidth": 0,
              "ticks": ""
             }
            },
            "type": "scattercarpet"
           }
          ],
          "scattergeo": [
           {
            "marker": {
             "colorbar": {
              "outlinewidth": 0,
              "ticks": ""
             }
            },
            "type": "scattergeo"
           }
          ],
          "scattergl": [
           {
            "marker": {
             "colorbar": {
              "outlinewidth": 0,
              "ticks": ""
             }
            },
            "type": "scattergl"
           }
          ],
          "scattermapbox": [
           {
            "marker": {
             "colorbar": {
              "outlinewidth": 0,
              "ticks": ""
             }
            },
            "type": "scattermapbox"
           }
          ],
          "scatterpolar": [
           {
            "marker": {
             "colorbar": {
              "outlinewidth": 0,
              "ticks": ""
             }
            },
            "type": "scatterpolar"
           }
          ],
          "scatterpolargl": [
           {
            "marker": {
             "colorbar": {
              "outlinewidth": 0,
              "ticks": ""
             }
            },
            "type": "scatterpolargl"
           }
          ],
          "scatterternary": [
           {
            "marker": {
             "colorbar": {
              "outlinewidth": 0,
              "ticks": ""
             }
            },
            "type": "scatterternary"
           }
          ],
          "surface": [
           {
            "colorbar": {
             "outlinewidth": 0,
             "ticks": ""
            },
            "colorscale": [
             [
              0,
              "#0d0887"
             ],
             [
              0.1111111111111111,
              "#46039f"
             ],
             [
              0.2222222222222222,
              "#7201a8"
             ],
             [
              0.3333333333333333,
              "#9c179e"
             ],
             [
              0.4444444444444444,
              "#bd3786"
             ],
             [
              0.5555555555555556,
              "#d8576b"
             ],
             [
              0.6666666666666666,
              "#ed7953"
             ],
             [
              0.7777777777777778,
              "#fb9f3a"
             ],
             [
              0.8888888888888888,
              "#fdca26"
             ],
             [
              1,
              "#f0f921"
             ]
            ],
            "type": "surface"
           }
          ],
          "table": [
           {
            "cells": {
             "fill": {
              "color": "#EBF0F8"
             },
             "line": {
              "color": "white"
             }
            },
            "header": {
             "fill": {
              "color": "#C8D4E3"
             },
             "line": {
              "color": "white"
             }
            },
            "type": "table"
           }
          ]
         },
         "layout": {
          "annotationdefaults": {
           "arrowcolor": "#2a3f5f",
           "arrowhead": 0,
           "arrowwidth": 1
          },
          "autotypenumbers": "strict",
          "coloraxis": {
           "colorbar": {
            "outlinewidth": 0,
            "ticks": ""
           }
          },
          "colorscale": {
           "diverging": [
            [
             0,
             "#8e0152"
            ],
            [
             0.1,
             "#c51b7d"
            ],
            [
             0.2,
             "#de77ae"
            ],
            [
             0.3,
             "#f1b6da"
            ],
            [
             0.4,
             "#fde0ef"
            ],
            [
             0.5,
             "#f7f7f7"
            ],
            [
             0.6,
             "#e6f5d0"
            ],
            [
             0.7,
             "#b8e186"
            ],
            [
             0.8,
             "#7fbc41"
            ],
            [
             0.9,
             "#4d9221"
            ],
            [
             1,
             "#276419"
            ]
           ],
           "sequential": [
            [
             0,
             "#0d0887"
            ],
            [
             0.1111111111111111,
             "#46039f"
            ],
            [
             0.2222222222222222,
             "#7201a8"
            ],
            [
             0.3333333333333333,
             "#9c179e"
            ],
            [
             0.4444444444444444,
             "#bd3786"
            ],
            [
             0.5555555555555556,
             "#d8576b"
            ],
            [
             0.6666666666666666,
             "#ed7953"
            ],
            [
             0.7777777777777778,
             "#fb9f3a"
            ],
            [
             0.8888888888888888,
             "#fdca26"
            ],
            [
             1,
             "#f0f921"
            ]
           ],
           "sequentialminus": [
            [
             0,
             "#0d0887"
            ],
            [
             0.1111111111111111,
             "#46039f"
            ],
            [
             0.2222222222222222,
             "#7201a8"
            ],
            [
             0.3333333333333333,
             "#9c179e"
            ],
            [
             0.4444444444444444,
             "#bd3786"
            ],
            [
             0.5555555555555556,
             "#d8576b"
            ],
            [
             0.6666666666666666,
             "#ed7953"
            ],
            [
             0.7777777777777778,
             "#fb9f3a"
            ],
            [
             0.8888888888888888,
             "#fdca26"
            ],
            [
             1,
             "#f0f921"
            ]
           ]
          },
          "colorway": [
           "#636efa",
           "#EF553B",
           "#00cc96",
           "#ab63fa",
           "#FFA15A",
           "#19d3f3",
           "#FF6692",
           "#B6E880",
           "#FF97FF",
           "#FECB52"
          ],
          "font": {
           "color": "#2a3f5f"
          },
          "geo": {
           "bgcolor": "white",
           "lakecolor": "white",
           "landcolor": "#E5ECF6",
           "showlakes": true,
           "showland": true,
           "subunitcolor": "white"
          },
          "hoverlabel": {
           "align": "left"
          },
          "hovermode": "closest",
          "mapbox": {
           "style": "light"
          },
          "paper_bgcolor": "white",
          "plot_bgcolor": "#E5ECF6",
          "polar": {
           "angularaxis": {
            "gridcolor": "white",
            "linecolor": "white",
            "ticks": ""
           },
           "bgcolor": "#E5ECF6",
           "radialaxis": {
            "gridcolor": "white",
            "linecolor": "white",
            "ticks": ""
           }
          },
          "scene": {
           "xaxis": {
            "backgroundcolor": "#E5ECF6",
            "gridcolor": "white",
            "gridwidth": 2,
            "linecolor": "white",
            "showbackground": true,
            "ticks": "",
            "zerolinecolor": "white"
           },
           "yaxis": {
            "backgroundcolor": "#E5ECF6",
            "gridcolor": "white",
            "gridwidth": 2,
            "linecolor": "white",
            "showbackground": true,
            "ticks": "",
            "zerolinecolor": "white"
           },
           "zaxis": {
            "backgroundcolor": "#E5ECF6",
            "gridcolor": "white",
            "gridwidth": 2,
            "linecolor": "white",
            "showbackground": true,
            "ticks": "",
            "zerolinecolor": "white"
           }
          },
          "shapedefaults": {
           "line": {
            "color": "#2a3f5f"
           }
          },
          "ternary": {
           "aaxis": {
            "gridcolor": "white",
            "linecolor": "white",
            "ticks": ""
           },
           "baxis": {
            "gridcolor": "white",
            "linecolor": "white",
            "ticks": ""
           },
           "bgcolor": "#E5ECF6",
           "caxis": {
            "gridcolor": "white",
            "linecolor": "white",
            "ticks": ""
           }
          },
          "title": {
           "x": 0.05
          },
          "xaxis": {
           "automargin": true,
           "gridcolor": "white",
           "linecolor": "white",
           "ticks": "",
           "title": {
            "standoff": 15
           },
           "zerolinecolor": "white",
           "zerolinewidth": 2
          },
          "yaxis": {
           "automargin": true,
           "gridcolor": "white",
           "linecolor": "white",
           "ticks": "",
           "title": {
            "standoff": 15
           },
           "zerolinecolor": "white",
           "zerolinewidth": 2
          }
         }
        },
        "title": {
         "text": "Temperature Forecast for the Next 7 Days"
        },
        "xaxis": {
         "title": {
          "text": "Date"
         }
        },
        "yaxis": {
         "title": {
          "text": "Temperature (°C)"
         }
        }
       }
      }
     },
     "metadata": {},
     "output_type": "display_data"
    }
   ],
   "source": [
    "# ส่วนที่ 6 - การสร้างกราฟแสดงผลการทำนาย:\n",
    "import plotly.graph_objects as go\n",
    "\n",
    "# สร้างกราฟ\n",
    "fig = go.Figure()\n",
    "\n",
    "fig.add_trace(go.Scatter(\n",
    "    x=result_df['timestamp'],\n",
    "    y=result_df['predicted_temperature'],\n",
    "    mode='lines+markers',\n",
    "    name='Predicted Temperature',\n",
    "    marker=dict(color='rgba(255, 99, 132, 0.8)'),\n",
    "    line=dict(width=2)\n",
    "))\n",
    "\n",
    "fig.update_layout(\n",
    "    title='Temperature Forecast for the Next 7 Days',  # แก้ไขตรงนี้ - เพิ่มเครื่องหมายคำพูดปิด\n",
    "    xaxis_title='Date',\n",
    "    yaxis_title='Temperature (°C)',\n",
    "    paper_bgcolor='white',\n",
    "    plot_bgcolor='white'\n",
    ")\n",
    "\n",
    "fig.show()"
   ]
  },
  {
   "cell_type": "code",
   "execution_count": 9,
   "metadata": {},
   "outputs": [
    {
     "name": "stdout",
     "output_type": "stream",
     "text": [
      "Mean Absolute Error (MAE): 2.88\n",
      "Mean Squared Error (MSE): 8.94\n",
      "Root Mean Squared Error (RMSE): 2.99\n",
      "R² Score: -8.28\n"
     ]
    },
    {
     "data": {
      "text/plain": [
       "'\\n# แบ่งข้อมูลตามช่วงเวลา\\ntrain_data = dataset[dataset[\\'timestamp\\'] < dataset[\\'timestamp\\'].max() - pd.Timedelta(days=7)]\\ntest_data = dataset[dataset[\\'timestamp\\'] >= dataset[\\'timestamp\\'].max() - pd.Timedelta(days=7)]\\n\\n# สร้างและฝึกสอนโมเดลด้วยข้อมูลฝึกสอนเท่านั้น\\n# ... (โค้ดสร้างโมเดล) ...\\n\\n# ทำนายบนชุดทดสอบ\\npredictions = predict_model(final_model, data=test_data)\\ntrue_values = test_data[\\'temperature\\']\\npredicted_values = predictions[\\'prediction_label\\']\\n\\n# คำนวณค่าความคลาดเคลื่อน\\nmae = mean_absolute_error(true_values, predicted_values)\\nmse = mean_squared_error(true_values, predicted_values)\\nrmse = np.sqrt(mse)\\nr2 = r2_score(true_values, predicted_values)\\n\\nprint(f\"Mean Absolute Error (MAE): {mae:.2f}\")\\nprint(f\"Mean Squared Error (MSE): {mse:.2f}\")\\nprint(f\"Root Mean Squared Error (RMSE): {rmse:.2f}\")\\nprint(f\"R² Score: {r2:.2f}\")\\n'"
      ]
     },
     "execution_count": 9,
     "metadata": {},
     "output_type": "execute_result"
    }
   ],
   "source": [
    "# ส่วนที่ 7 - การประเมินประสิทธิภาพของโมเดล:\n",
    "from sklearn.metrics import mean_absolute_error, mean_squared_error, r2_score\n",
    "import numpy as np\n",
    "\n",
    "# สำหรับการประเมินโมเดล คุณควรทำการแบ่งข้อมูลเป็นชุดฝึกสอนและชุดทดสอบตั้งแต่แรก\n",
    "# ตัวอย่างการประเมินโมเดลโดยใช้ข้อมูล 7 วันสุดท้ายเป็นชุดทดสอบ\n",
    "\n",
    "# สร้างชุดทดสอบ (ตัวอย่าง: 7 วันสุดท้ายในชุดข้อมูล)\n",
    "test_data = dataset.sort_values('timestamp').tail(7)\n",
    "\n",
    "# ถ้าคุณได้ทำนายค่าอุณหภูมิในช่วงเวลาเดียวกันกับชุดทดสอบ\n",
    "# คำนวณค่าความคลาดเคลื่อน\n",
    "true_values = test_data['temperature'].values\n",
    "predicted_values = result_df['predicted_temperature'].values  # สมมติว่าคุณได้ทำนายค่าเดียวกันนี้\n",
    "\n",
    "# คำนวณค่าความคลาดเคลื่อน\n",
    "mae = mean_absolute_error(true_values, predicted_values)\n",
    "mse = mean_squared_error(true_values, predicted_values)\n",
    "rmse = np.sqrt(mse)\n",
    "r2 = r2_score(true_values, predicted_values)\n",
    "\n",
    "# แสดงผลลัพธ์\n",
    "print(f\"Mean Absolute Error (MAE): {mae:.2f}\")\n",
    "print(f\"Mean Squared Error (MSE): {mse:.2f}\")\n",
    "print(f\"Root Mean Squared Error (RMSE): {rmse:.2f}\")\n",
    "print(f\"R² Score: {r2:.2f}\")\n",
    "\n",
    "# หมายเหตุ: วิธีที่ถูกต้องกว่าคือการแบ่งข้อมูลเป็นชุดฝึกสอนและชุดทดสอบก่อนสร้างโมเดล\n",
    "# ตัวอย่างการทำแบบถูกต้อง:\n",
    "'''\n",
    "# แบ่งข้อมูลตามช่วงเวลา\n",
    "train_data = dataset[dataset['timestamp'] < dataset['timestamp'].max() - pd.Timedelta(days=7)]\n",
    "test_data = dataset[dataset['timestamp'] >= dataset['timestamp'].max() - pd.Timedelta(days=7)]\n",
    "\n",
    "# สร้างและฝึกสอนโมเดลด้วยข้อมูลฝึกสอนเท่านั้น\n",
    "# ... (โค้ดสร้างโมเดล) ...\n",
    "\n",
    "# ทำนายบนชุดทดสอบ\n",
    "predictions = predict_model(final_model, data=test_data)\n",
    "true_values = test_data['temperature']\n",
    "predicted_values = predictions['prediction_label']\n",
    "\n",
    "# คำนวณค่าความคลาดเคลื่อน\n",
    "mae = mean_absolute_error(true_values, predicted_values)\n",
    "mse = mean_squared_error(true_values, predicted_values)\n",
    "rmse = np.sqrt(mse)\n",
    "r2 = r2_score(true_values, predicted_values)\n",
    "\n",
    "print(f\"Mean Absolute Error (MAE): {mae:.2f}\")\n",
    "print(f\"Mean Squared Error (MSE): {mse:.2f}\")\n",
    "print(f\"Root Mean Squared Error (RMSE): {rmse:.2f}\")\n",
    "print(f\"R² Score: {r2:.2f}\")\n",
    "'''"
   ]
  }
 ],
 "metadata": {
  "kernelspec": {
   "display_name": "Python 3",
   "language": "python",
   "name": "python3"
  },
  "language_info": {
   "codemirror_mode": {
    "name": "ipython",
    "version": 3
   },
   "file_extension": ".py",
   "mimetype": "text/x-python",
   "name": "python",
   "nbconvert_exporter": "python",
   "pygments_lexer": "ipython3",
   "version": "3.11.0"
  }
 },
 "nbformat": 4,
 "nbformat_minor": 2
}
