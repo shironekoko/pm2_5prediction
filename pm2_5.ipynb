{
  "cells": [
    {
      "cell_type": "code",
      "execution_count": 2,
      "metadata": {},
      "outputs": [
        {
          "name": "stdout",
          "output_type": "stream",
          "text": [
            "Requirement already satisfied: pandas in c:\\users\\asus\\appdata\\local\\packages\\pythonsoftwarefoundation.python.3.11_qbz5n2kfra8p0\\localcache\\local-packages\\python311\\site-packages (2.1.4)\n",
            "Requirement already satisfied: numpy<2,>=1.23.2 in c:\\users\\asus\\appdata\\local\\packages\\pythonsoftwarefoundation.python.3.11_qbz5n2kfra8p0\\localcache\\local-packages\\python311\\site-packages (from pandas) (1.26.4)\n",
            "Requirement already satisfied: python-dateutil>=2.8.2 in c:\\users\\asus\\appdata\\local\\packages\\pythonsoftwarefoundation.python.3.11_qbz5n2kfra8p0\\localcache\\local-packages\\python311\\site-packages (from pandas) (2.9.0.post0)\n",
            "Requirement already satisfied: pytz>=2020.1 in c:\\users\\asus\\appdata\\local\\packages\\pythonsoftwarefoundation.python.3.11_qbz5n2kfra8p0\\localcache\\local-packages\\python311\\site-packages (from pandas) (2025.1)\n",
            "Requirement already satisfied: tzdata>=2022.1 in c:\\users\\asus\\appdata\\local\\packages\\pythonsoftwarefoundation.python.3.11_qbz5n2kfra8p0\\localcache\\local-packages\\python311\\site-packages (from pandas) (2025.1)\n",
            "Requirement already satisfied: six>=1.5 in c:\\users\\asus\\appdata\\local\\packages\\pythonsoftwarefoundation.python.3.11_qbz5n2kfra8p0\\localcache\\local-packages\\python311\\site-packages (from python-dateutil>=2.8.2->pandas) (1.16.0)\n",
            "Note: you may need to restart the kernel to use updated packages.\n"
          ]
        },
        {
          "name": "stderr",
          "output_type": "stream",
          "text": [
            "\n",
            "[notice] A new release of pip is available: 24.3.1 -> 25.0.1\n",
            "[notice] To update, run: C:\\Users\\asus\\AppData\\Local\\Microsoft\\WindowsApps\\PythonSoftwareFoundation.Python.3.11_qbz5n2kfra8p0\\python.exe -m pip install --upgrade pip\n"
          ]
        }
      ],
      "source": [
        "pip install pandas"
      ]
    },
    {
      "cell_type": "code",
      "execution_count": 3,
      "metadata": {},
      "outputs": [
        {
          "name": "stdout",
          "output_type": "stream",
          "text": [
            "Requirement already satisfied: pycaret in c:\\users\\asus\\appdata\\local\\packages\\pythonsoftwarefoundation.python.3.11_qbz5n2kfra8p0\\localcache\\local-packages\\python311\\site-packages (3.3.2)\n",
            "Requirement already satisfied: ipython>=5.5.0 in c:\\users\\asus\\appdata\\local\\packages\\pythonsoftwarefoundation.python.3.11_qbz5n2kfra8p0\\localcache\\local-packages\\python311\\site-packages (from pycaret) (8.26.0)\n",
            "Requirement already satisfied: ipywidgets>=7.6.5 in c:\\users\\asus\\appdata\\local\\packages\\pythonsoftwarefoundation.python.3.11_qbz5n2kfra8p0\\localcache\\local-packages\\python311\\site-packages (from pycaret) (8.1.5)\n",
            "Requirement already satisfied: tqdm>=4.62.0 in c:\\users\\asus\\appdata\\local\\packages\\pythonsoftwarefoundation.python.3.11_qbz5n2kfra8p0\\localcache\\local-packages\\python311\\site-packages (from pycaret) (4.67.1)\n",
            "Requirement already satisfied: numpy<1.27,>=1.21 in c:\\users\\asus\\appdata\\local\\packages\\pythonsoftwarefoundation.python.3.11_qbz5n2kfra8p0\\localcache\\local-packages\\python311\\site-packages (from pycaret) (1.26.4)\n",
            "Requirement already satisfied: pandas<2.2.0 in c:\\users\\asus\\appdata\\local\\packages\\pythonsoftwarefoundation.python.3.11_qbz5n2kfra8p0\\localcache\\local-packages\\python311\\site-packages (from pycaret) (2.1.4)\n",
            "Requirement already satisfied: jinja2>=3 in c:\\users\\asus\\appdata\\local\\packages\\pythonsoftwarefoundation.python.3.11_qbz5n2kfra8p0\\localcache\\local-packages\\python311\\site-packages (from pycaret) (3.1.4)\n",
            "Requirement already satisfied: scipy<=1.11.4,>=1.6.1 in c:\\users\\asus\\appdata\\local\\packages\\pythonsoftwarefoundation.python.3.11_qbz5n2kfra8p0\\localcache\\local-packages\\python311\\site-packages (from pycaret) (1.11.4)\n",
            "Requirement already satisfied: joblib<1.4,>=1.2.0 in c:\\users\\asus\\appdata\\local\\packages\\pythonsoftwarefoundation.python.3.11_qbz5n2kfra8p0\\localcache\\local-packages\\python311\\site-packages (from pycaret) (1.3.2)\n",
            "Requirement already satisfied: scikit-learn>1.4.0 in c:\\users\\asus\\appdata\\local\\packages\\pythonsoftwarefoundation.python.3.11_qbz5n2kfra8p0\\localcache\\local-packages\\python311\\site-packages (from pycaret) (1.4.2)\n",
            "Requirement already satisfied: pyod>=1.1.3 in c:\\users\\asus\\appdata\\local\\packages\\pythonsoftwarefoundation.python.3.11_qbz5n2kfra8p0\\localcache\\local-packages\\python311\\site-packages (from pycaret) (2.0.3)\n",
            "Requirement already satisfied: imbalanced-learn>=0.12.0 in c:\\users\\asus\\appdata\\local\\packages\\pythonsoftwarefoundation.python.3.11_qbz5n2kfra8p0\\localcache\\local-packages\\python311\\site-packages (from pycaret) (0.13.0)\n",
            "Requirement already satisfied: category-encoders>=2.4.0 in c:\\users\\asus\\appdata\\local\\packages\\pythonsoftwarefoundation.python.3.11_qbz5n2kfra8p0\\localcache\\local-packages\\python311\\site-packages (from pycaret) (2.7.0)\n",
            "Requirement already satisfied: lightgbm>=3.0.0 in c:\\users\\asus\\appdata\\local\\packages\\pythonsoftwarefoundation.python.3.11_qbz5n2kfra8p0\\localcache\\local-packages\\python311\\site-packages (from pycaret) (4.6.0)\n",
            "Requirement already satisfied: numba>=0.55.0 in c:\\users\\asus\\appdata\\local\\packages\\pythonsoftwarefoundation.python.3.11_qbz5n2kfra8p0\\localcache\\local-packages\\python311\\site-packages (from pycaret) (0.61.0)\n",
            "Requirement already satisfied: requests>=2.27.1 in c:\\users\\asus\\appdata\\local\\packages\\pythonsoftwarefoundation.python.3.11_qbz5n2kfra8p0\\localcache\\local-packages\\python311\\site-packages (from pycaret) (2.32.3)\n",
            "Requirement already satisfied: psutil>=5.9.0 in c:\\users\\asus\\appdata\\local\\packages\\pythonsoftwarefoundation.python.3.11_qbz5n2kfra8p0\\localcache\\local-packages\\python311\\site-packages (from pycaret) (6.0.0)\n",
            "Requirement already satisfied: markupsafe>=2.0.1 in c:\\users\\asus\\appdata\\local\\packages\\pythonsoftwarefoundation.python.3.11_qbz5n2kfra8p0\\localcache\\local-packages\\python311\\site-packages (from pycaret) (2.1.5)\n",
            "Requirement already satisfied: importlib-metadata>=4.12.0 in c:\\users\\asus\\appdata\\local\\packages\\pythonsoftwarefoundation.python.3.11_qbz5n2kfra8p0\\localcache\\local-packages\\python311\\site-packages (from pycaret) (8.5.0)\n",
            "Requirement already satisfied: nbformat>=4.2.0 in c:\\users\\asus\\appdata\\local\\packages\\pythonsoftwarefoundation.python.3.11_qbz5n2kfra8p0\\localcache\\local-packages\\python311\\site-packages (from pycaret) (5.10.4)\n",
            "Requirement already satisfied: cloudpickle in c:\\users\\asus\\appdata\\local\\packages\\pythonsoftwarefoundation.python.3.11_qbz5n2kfra8p0\\localcache\\local-packages\\python311\\site-packages (from pycaret) (3.1.1)\n",
            "Requirement already satisfied: deprecation>=2.1.0 in c:\\users\\asus\\appdata\\local\\packages\\pythonsoftwarefoundation.python.3.11_qbz5n2kfra8p0\\localcache\\local-packages\\python311\\site-packages (from pycaret) (2.1.0)\n",
            "Requirement already satisfied: xxhash in c:\\users\\asus\\appdata\\local\\packages\\pythonsoftwarefoundation.python.3.11_qbz5n2kfra8p0\\localcache\\local-packages\\python311\\site-packages (from pycaret) (3.5.0)\n",
            "Requirement already satisfied: matplotlib<3.8.0 in c:\\users\\asus\\appdata\\local\\packages\\pythonsoftwarefoundation.python.3.11_qbz5n2kfra8p0\\localcache\\local-packages\\python311\\site-packages (from pycaret) (3.7.5)\n",
            "Requirement already satisfied: scikit-plot>=0.3.7 in c:\\users\\asus\\appdata\\local\\packages\\pythonsoftwarefoundation.python.3.11_qbz5n2kfra8p0\\localcache\\local-packages\\python311\\site-packages (from pycaret) (0.3.7)\n",
            "Requirement already satisfied: yellowbrick>=1.4 in c:\\users\\asus\\appdata\\local\\packages\\pythonsoftwarefoundation.python.3.11_qbz5n2kfra8p0\\localcache\\local-packages\\python311\\site-packages (from pycaret) (1.5)\n",
            "Requirement already satisfied: plotly>=5.14.0 in c:\\users\\asus\\appdata\\local\\packages\\pythonsoftwarefoundation.python.3.11_qbz5n2kfra8p0\\localcache\\local-packages\\python311\\site-packages (from pycaret) (5.24.1)\n",
            "Requirement already satisfied: kaleido>=0.2.1 in c:\\users\\asus\\appdata\\local\\packages\\pythonsoftwarefoundation.python.3.11_qbz5n2kfra8p0\\localcache\\local-packages\\python311\\site-packages (from pycaret) (0.2.1)\n",
            "Requirement already satisfied: schemdraw==0.15 in c:\\users\\asus\\appdata\\local\\packages\\pythonsoftwarefoundation.python.3.11_qbz5n2kfra8p0\\localcache\\local-packages\\python311\\site-packages (from pycaret) (0.15)\n",
            "Requirement already satisfied: plotly-resampler>=0.8.3.1 in c:\\users\\asus\\appdata\\local\\packages\\pythonsoftwarefoundation.python.3.11_qbz5n2kfra8p0\\localcache\\local-packages\\python311\\site-packages (from pycaret) (0.10.0)\n",
            "Requirement already satisfied: statsmodels>=0.12.1 in c:\\users\\asus\\appdata\\local\\packages\\pythonsoftwarefoundation.python.3.11_qbz5n2kfra8p0\\localcache\\local-packages\\python311\\site-packages (from pycaret) (0.14.4)\n",
            "Requirement already satisfied: sktime==0.26.0 in c:\\users\\asus\\appdata\\local\\packages\\pythonsoftwarefoundation.python.3.11_qbz5n2kfra8p0\\localcache\\local-packages\\python311\\site-packages (from pycaret) (0.26.0)\n",
            "Requirement already satisfied: tbats>=1.1.3 in c:\\users\\asus\\appdata\\local\\packages\\pythonsoftwarefoundation.python.3.11_qbz5n2kfra8p0\\localcache\\local-packages\\python311\\site-packages (from pycaret) (1.1.3)\n",
            "Requirement already satisfied: pmdarima>=2.0.4 in c:\\users\\asus\\appdata\\local\\packages\\pythonsoftwarefoundation.python.3.11_qbz5n2kfra8p0\\localcache\\local-packages\\python311\\site-packages (from pycaret) (2.0.4)\n",
            "Requirement already satisfied: packaging in c:\\users\\asus\\appdata\\local\\packages\\pythonsoftwarefoundation.python.3.11_qbz5n2kfra8p0\\localcache\\local-packages\\python311\\site-packages (from sktime==0.26.0->pycaret) (24.1)\n",
            "Requirement already satisfied: scikit-base<0.8.0 in c:\\users\\asus\\appdata\\local\\packages\\pythonsoftwarefoundation.python.3.11_qbz5n2kfra8p0\\localcache\\local-packages\\python311\\site-packages (from sktime==0.26.0->pycaret) (0.7.8)\n",
            "Requirement already satisfied: patsy>=0.5.1 in c:\\users\\asus\\appdata\\local\\packages\\pythonsoftwarefoundation.python.3.11_qbz5n2kfra8p0\\localcache\\local-packages\\python311\\site-packages (from category-encoders>=2.4.0->pycaret) (1.0.1)\n",
            "Requirement already satisfied: sklearn-compat<1,>=0.1 in c:\\users\\asus\\appdata\\local\\packages\\pythonsoftwarefoundation.python.3.11_qbz5n2kfra8p0\\localcache\\local-packages\\python311\\site-packages (from imbalanced-learn>=0.12.0->pycaret) (0.1.3)\n",
            "Requirement already satisfied: threadpoolctl<4,>=2.0.0 in c:\\users\\asus\\appdata\\local\\packages\\pythonsoftwarefoundation.python.3.11_qbz5n2kfra8p0\\localcache\\local-packages\\python311\\site-packages (from imbalanced-learn>=0.12.0->pycaret) (3.6.0)\n",
            "Requirement already satisfied: zipp>=3.20 in c:\\users\\asus\\appdata\\local\\packages\\pythonsoftwarefoundation.python.3.11_qbz5n2kfra8p0\\localcache\\local-packages\\python311\\site-packages (from importlib-metadata>=4.12.0->pycaret) (3.21.0)\n",
            "Requirement already satisfied: decorator in c:\\users\\asus\\appdata\\local\\packages\\pythonsoftwarefoundation.python.3.11_qbz5n2kfra8p0\\localcache\\local-packages\\python311\\site-packages (from ipython>=5.5.0->pycaret) (5.1.1)\n",
            "Requirement already satisfied: jedi>=0.16 in c:\\users\\asus\\appdata\\local\\packages\\pythonsoftwarefoundation.python.3.11_qbz5n2kfra8p0\\localcache\\local-packages\\python311\\site-packages (from ipython>=5.5.0->pycaret) (0.19.1)\n",
            "Requirement already satisfied: matplotlib-inline in c:\\users\\asus\\appdata\\local\\packages\\pythonsoftwarefoundation.python.3.11_qbz5n2kfra8p0\\localcache\\local-packages\\python311\\site-packages (from ipython>=5.5.0->pycaret) (0.1.7)\n",
            "Requirement already satisfied: prompt-toolkit<3.1.0,>=3.0.41 in c:\\users\\asus\\appdata\\local\\packages\\pythonsoftwarefoundation.python.3.11_qbz5n2kfra8p0\\localcache\\local-packages\\python311\\site-packages (from ipython>=5.5.0->pycaret) (3.0.47)\n",
            "Requirement already satisfied: pygments>=2.4.0 in c:\\users\\asus\\appdata\\local\\packages\\pythonsoftwarefoundation.python.3.11_qbz5n2kfra8p0\\localcache\\local-packages\\python311\\site-packages (from ipython>=5.5.0->pycaret) (2.18.0)\n",
            "Requirement already satisfied: stack-data in c:\\users\\asus\\appdata\\local\\packages\\pythonsoftwarefoundation.python.3.11_qbz5n2kfra8p0\\localcache\\local-packages\\python311\\site-packages (from ipython>=5.5.0->pycaret) (0.6.3)\n",
            "Requirement already satisfied: traitlets>=5.13.0 in c:\\users\\asus\\appdata\\local\\packages\\pythonsoftwarefoundation.python.3.11_qbz5n2kfra8p0\\localcache\\local-packages\\python311\\site-packages (from ipython>=5.5.0->pycaret) (5.14.3)\n",
            "Requirement already satisfied: typing-extensions>=4.6 in c:\\users\\asus\\appdata\\local\\packages\\pythonsoftwarefoundation.python.3.11_qbz5n2kfra8p0\\localcache\\local-packages\\python311\\site-packages (from ipython>=5.5.0->pycaret) (4.12.2)\n",
            "Requirement already satisfied: colorama in c:\\users\\asus\\appdata\\local\\packages\\pythonsoftwarefoundation.python.3.11_qbz5n2kfra8p0\\localcache\\local-packages\\python311\\site-packages (from ipython>=5.5.0->pycaret) (0.4.6)\n",
            "Requirement already satisfied: comm>=0.1.3 in c:\\users\\asus\\appdata\\local\\packages\\pythonsoftwarefoundation.python.3.11_qbz5n2kfra8p0\\localcache\\local-packages\\python311\\site-packages (from ipywidgets>=7.6.5->pycaret) (0.2.2)\n",
            "Requirement already satisfied: widgetsnbextension~=4.0.12 in c:\\users\\asus\\appdata\\local\\packages\\pythonsoftwarefoundation.python.3.11_qbz5n2kfra8p0\\localcache\\local-packages\\python311\\site-packages (from ipywidgets>=7.6.5->pycaret) (4.0.13)\n",
            "Requirement already satisfied: jupyterlab-widgets~=3.0.12 in c:\\users\\asus\\appdata\\local\\packages\\pythonsoftwarefoundation.python.3.11_qbz5n2kfra8p0\\localcache\\local-packages\\python311\\site-packages (from ipywidgets>=7.6.5->pycaret) (3.0.13)\n",
            "Requirement already satisfied: contourpy>=1.0.1 in c:\\users\\asus\\appdata\\local\\packages\\pythonsoftwarefoundation.python.3.11_qbz5n2kfra8p0\\localcache\\local-packages\\python311\\site-packages (from matplotlib<3.8.0->pycaret) (1.3.0)\n",
            "Requirement already satisfied: cycler>=0.10 in c:\\users\\asus\\appdata\\local\\packages\\pythonsoftwarefoundation.python.3.11_qbz5n2kfra8p0\\localcache\\local-packages\\python311\\site-packages (from matplotlib<3.8.0->pycaret) (0.12.1)\n",
            "Requirement already satisfied: fonttools>=4.22.0 in c:\\users\\asus\\appdata\\local\\packages\\pythonsoftwarefoundation.python.3.11_qbz5n2kfra8p0\\localcache\\local-packages\\python311\\site-packages (from matplotlib<3.8.0->pycaret) (4.54.1)\n",
            "Requirement already satisfied: kiwisolver>=1.0.1 in c:\\users\\asus\\appdata\\local\\packages\\pythonsoftwarefoundation.python.3.11_qbz5n2kfra8p0\\localcache\\local-packages\\python311\\site-packages (from matplotlib<3.8.0->pycaret) (1.4.7)\n",
            "Requirement already satisfied: pillow>=6.2.0 in c:\\users\\asus\\appdata\\local\\packages\\pythonsoftwarefoundation.python.3.11_qbz5n2kfra8p0\\localcache\\local-packages\\python311\\site-packages (from matplotlib<3.8.0->pycaret) (10.4.0)\n",
            "Requirement already satisfied: pyparsing>=2.3.1 in c:\\users\\asus\\appdata\\local\\packages\\pythonsoftwarefoundation.python.3.11_qbz5n2kfra8p0\\localcache\\local-packages\\python311\\site-packages (from matplotlib<3.8.0->pycaret) (3.1.4)\n",
            "Requirement already satisfied: python-dateutil>=2.7 in c:\\users\\asus\\appdata\\local\\packages\\pythonsoftwarefoundation.python.3.11_qbz5n2kfra8p0\\localcache\\local-packages\\python311\\site-packages (from matplotlib<3.8.0->pycaret) (2.9.0.post0)\n",
            "Requirement already satisfied: fastjsonschema>=2.15 in c:\\users\\asus\\appdata\\local\\packages\\pythonsoftwarefoundation.python.3.11_qbz5n2kfra8p0\\localcache\\local-packages\\python311\\site-packages (from nbformat>=4.2.0->pycaret) (2.21.1)\n",
            "Requirement already satisfied: jsonschema>=2.6 in c:\\users\\asus\\appdata\\local\\packages\\pythonsoftwarefoundation.python.3.11_qbz5n2kfra8p0\\localcache\\local-packages\\python311\\site-packages (from nbformat>=4.2.0->pycaret) (4.23.0)\n",
            "Requirement already satisfied: jupyter-core!=5.0.*,>=4.12 in c:\\users\\asus\\appdata\\local\\packages\\pythonsoftwarefoundation.python.3.11_qbz5n2kfra8p0\\localcache\\local-packages\\python311\\site-packages (from nbformat>=4.2.0->pycaret) (5.7.2)\n",
            "Requirement already satisfied: llvmlite<0.45,>=0.44.0dev0 in c:\\users\\asus\\appdata\\local\\packages\\pythonsoftwarefoundation.python.3.11_qbz5n2kfra8p0\\localcache\\local-packages\\python311\\site-packages (from numba>=0.55.0->pycaret) (0.44.0)\n",
            "Requirement already satisfied: pytz>=2020.1 in c:\\users\\asus\\appdata\\local\\packages\\pythonsoftwarefoundation.python.3.11_qbz5n2kfra8p0\\localcache\\local-packages\\python311\\site-packages (from pandas<2.2.0->pycaret) (2025.1)\n",
            "Requirement already satisfied: tzdata>=2022.1 in c:\\users\\asus\\appdata\\local\\packages\\pythonsoftwarefoundation.python.3.11_qbz5n2kfra8p0\\localcache\\local-packages\\python311\\site-packages (from pandas<2.2.0->pycaret) (2025.1)\n",
            "Requirement already satisfied: tenacity>=6.2.0 in c:\\users\\asus\\appdata\\local\\packages\\pythonsoftwarefoundation.python.3.11_qbz5n2kfra8p0\\localcache\\local-packages\\python311\\site-packages (from plotly>=5.14.0->pycaret) (9.0.0)\n",
            "Requirement already satisfied: dash>=2.9.0 in c:\\users\\asus\\appdata\\local\\packages\\pythonsoftwarefoundation.python.3.11_qbz5n2kfra8p0\\localcache\\local-packages\\python311\\site-packages (from plotly-resampler>=0.8.3.1->pycaret) (2.18.2)\n",
            "Requirement already satisfied: orjson<4.0.0,>=3.8.0 in c:\\users\\asus\\appdata\\local\\packages\\pythonsoftwarefoundation.python.3.11_qbz5n2kfra8p0\\localcache\\local-packages\\python311\\site-packages (from plotly-resampler>=0.8.3.1->pycaret) (3.10.15)\n",
            "Requirement already satisfied: tsdownsample>=0.1.3 in c:\\users\\asus\\appdata\\local\\packages\\pythonsoftwarefoundation.python.3.11_qbz5n2kfra8p0\\localcache\\local-packages\\python311\\site-packages (from plotly-resampler>=0.8.3.1->pycaret) (0.1.4.1)\n",
            "Requirement already satisfied: Cython!=0.29.18,!=0.29.31,>=0.29 in c:\\users\\asus\\appdata\\local\\packages\\pythonsoftwarefoundation.python.3.11_qbz5n2kfra8p0\\localcache\\local-packages\\python311\\site-packages (from pmdarima>=2.0.4->pycaret) (3.0.12)\n",
            "Requirement already satisfied: urllib3 in c:\\users\\asus\\appdata\\local\\packages\\pythonsoftwarefoundation.python.3.11_qbz5n2kfra8p0\\localcache\\local-packages\\python311\\site-packages (from pmdarima>=2.0.4->pycaret) (2.2.2)\n",
            "Requirement already satisfied: setuptools!=50.0.0,>=38.6.0 in c:\\program files\\windowsapps\\pythonsoftwarefoundation.python.3.11_3.11.2544.0_x64__qbz5n2kfra8p0\\lib\\site-packages (from pmdarima>=2.0.4->pycaret) (65.5.0)\n",
            "Requirement already satisfied: charset-normalizer<4,>=2 in c:\\users\\asus\\appdata\\local\\packages\\pythonsoftwarefoundation.python.3.11_qbz5n2kfra8p0\\localcache\\local-packages\\python311\\site-packages (from requests>=2.27.1->pycaret) (3.3.2)\n",
            "Requirement already satisfied: idna<4,>=2.5 in c:\\users\\asus\\appdata\\local\\packages\\pythonsoftwarefoundation.python.3.11_qbz5n2kfra8p0\\localcache\\local-packages\\python311\\site-packages (from requests>=2.27.1->pycaret) (3.7)\n",
            "Requirement already satisfied: certifi>=2017.4.17 in c:\\users\\asus\\appdata\\local\\packages\\pythonsoftwarefoundation.python.3.11_qbz5n2kfra8p0\\localcache\\local-packages\\python311\\site-packages (from requests>=2.27.1->pycaret) (2024.7.4)\n",
            "Requirement already satisfied: Flask<3.1,>=1.0.4 in c:\\users\\asus\\appdata\\local\\packages\\pythonsoftwarefoundation.python.3.11_qbz5n2kfra8p0\\localcache\\local-packages\\python311\\site-packages (from dash>=2.9.0->plotly-resampler>=0.8.3.1->pycaret) (3.0.3)\n",
            "Requirement already satisfied: Werkzeug<3.1 in c:\\users\\asus\\appdata\\local\\packages\\pythonsoftwarefoundation.python.3.11_qbz5n2kfra8p0\\localcache\\local-packages\\python311\\site-packages (from dash>=2.9.0->plotly-resampler>=0.8.3.1->pycaret) (3.0.3)\n",
            "Requirement already satisfied: dash-html-components==2.0.0 in c:\\users\\asus\\appdata\\local\\packages\\pythonsoftwarefoundation.python.3.11_qbz5n2kfra8p0\\localcache\\local-packages\\python311\\site-packages (from dash>=2.9.0->plotly-resampler>=0.8.3.1->pycaret) (2.0.0)\n",
            "Requirement already satisfied: dash-core-components==2.0.0 in c:\\users\\asus\\appdata\\local\\packages\\pythonsoftwarefoundation.python.3.11_qbz5n2kfra8p0\\localcache\\local-packages\\python311\\site-packages (from dash>=2.9.0->plotly-resampler>=0.8.3.1->pycaret) (2.0.0)\n",
            "Requirement already satisfied: dash-table==5.0.0 in c:\\users\\asus\\appdata\\local\\packages\\pythonsoftwarefoundation.python.3.11_qbz5n2kfra8p0\\localcache\\local-packages\\python311\\site-packages (from dash>=2.9.0->plotly-resampler>=0.8.3.1->pycaret) (5.0.0)\n",
            "Requirement already satisfied: retrying in c:\\users\\asus\\appdata\\local\\packages\\pythonsoftwarefoundation.python.3.11_qbz5n2kfra8p0\\localcache\\local-packages\\python311\\site-packages (from dash>=2.9.0->plotly-resampler>=0.8.3.1->pycaret) (1.3.4)\n",
            "Requirement already satisfied: nest-asyncio in c:\\users\\asus\\appdata\\local\\packages\\pythonsoftwarefoundation.python.3.11_qbz5n2kfra8p0\\localcache\\local-packages\\python311\\site-packages (from dash>=2.9.0->plotly-resampler>=0.8.3.1->pycaret) (1.6.0)\n",
            "Requirement already satisfied: parso<0.9.0,>=0.8.3 in c:\\users\\asus\\appdata\\local\\packages\\pythonsoftwarefoundation.python.3.11_qbz5n2kfra8p0\\localcache\\local-packages\\python311\\site-packages (from jedi>=0.16->ipython>=5.5.0->pycaret) (0.8.4)\n",
            "Requirement already satisfied: attrs>=22.2.0 in c:\\users\\asus\\appdata\\local\\packages\\pythonsoftwarefoundation.python.3.11_qbz5n2kfra8p0\\localcache\\local-packages\\python311\\site-packages (from jsonschema>=2.6->nbformat>=4.2.0->pycaret) (25.3.0)\n",
            "Requirement already satisfied: jsonschema-specifications>=2023.03.6 in c:\\users\\asus\\appdata\\local\\packages\\pythonsoftwarefoundation.python.3.11_qbz5n2kfra8p0\\localcache\\local-packages\\python311\\site-packages (from jsonschema>=2.6->nbformat>=4.2.0->pycaret) (2024.10.1)\n",
            "Requirement already satisfied: referencing>=0.28.4 in c:\\users\\asus\\appdata\\local\\packages\\pythonsoftwarefoundation.python.3.11_qbz5n2kfra8p0\\localcache\\local-packages\\python311\\site-packages (from jsonschema>=2.6->nbformat>=4.2.0->pycaret) (0.36.2)\n",
            "Requirement already satisfied: rpds-py>=0.7.1 in c:\\users\\asus\\appdata\\local\\packages\\pythonsoftwarefoundation.python.3.11_qbz5n2kfra8p0\\localcache\\local-packages\\python311\\site-packages (from jsonschema>=2.6->nbformat>=4.2.0->pycaret) (0.23.1)\n",
            "Requirement already satisfied: platformdirs>=2.5 in c:\\users\\asus\\appdata\\local\\packages\\pythonsoftwarefoundation.python.3.11_qbz5n2kfra8p0\\localcache\\local-packages\\python311\\site-packages (from jupyter-core!=5.0.*,>=4.12->nbformat>=4.2.0->pycaret) (4.2.2)\n",
            "Requirement already satisfied: pywin32>=300 in c:\\users\\asus\\appdata\\local\\packages\\pythonsoftwarefoundation.python.3.11_qbz5n2kfra8p0\\localcache\\local-packages\\python311\\site-packages (from jupyter-core!=5.0.*,>=4.12->nbformat>=4.2.0->pycaret) (306)\n",
            "Requirement already satisfied: wcwidth in c:\\users\\asus\\appdata\\local\\packages\\pythonsoftwarefoundation.python.3.11_qbz5n2kfra8p0\\localcache\\local-packages\\python311\\site-packages (from prompt-toolkit<3.1.0,>=3.0.41->ipython>=5.5.0->pycaret) (0.2.13)\n",
            "Requirement already satisfied: six>=1.5 in c:\\users\\asus\\appdata\\local\\packages\\pythonsoftwarefoundation.python.3.11_qbz5n2kfra8p0\\localcache\\local-packages\\python311\\site-packages (from python-dateutil>=2.7->matplotlib<3.8.0->pycaret) (1.16.0)\n",
            "Requirement already satisfied: executing>=1.2.0 in c:\\users\\asus\\appdata\\local\\packages\\pythonsoftwarefoundation.python.3.11_qbz5n2kfra8p0\\localcache\\local-packages\\python311\\site-packages (from stack-data->ipython>=5.5.0->pycaret) (2.0.1)\n",
            "Requirement already satisfied: asttokens>=2.1.0 in c:\\users\\asus\\appdata\\local\\packages\\pythonsoftwarefoundation.python.3.11_qbz5n2kfra8p0\\localcache\\local-packages\\python311\\site-packages (from stack-data->ipython>=5.5.0->pycaret) (2.4.1)\n",
            "Requirement already satisfied: pure-eval in c:\\users\\asus\\appdata\\local\\packages\\pythonsoftwarefoundation.python.3.11_qbz5n2kfra8p0\\localcache\\local-packages\\python311\\site-packages (from stack-data->ipython>=5.5.0->pycaret) (0.2.2)\n",
            "Requirement already satisfied: itsdangerous>=2.1.2 in c:\\users\\asus\\appdata\\local\\packages\\pythonsoftwarefoundation.python.3.11_qbz5n2kfra8p0\\localcache\\local-packages\\python311\\site-packages (from Flask<3.1,>=1.0.4->dash>=2.9.0->plotly-resampler>=0.8.3.1->pycaret) (2.2.0)\n",
            "Requirement already satisfied: click>=8.1.3 in c:\\users\\asus\\appdata\\local\\packages\\pythonsoftwarefoundation.python.3.11_qbz5n2kfra8p0\\localcache\\local-packages\\python311\\site-packages (from Flask<3.1,>=1.0.4->dash>=2.9.0->plotly-resampler>=0.8.3.1->pycaret) (8.1.7)\n",
            "Requirement already satisfied: blinker>=1.6.2 in c:\\users\\asus\\appdata\\local\\packages\\pythonsoftwarefoundation.python.3.11_qbz5n2kfra8p0\\localcache\\local-packages\\python311\\site-packages (from Flask<3.1,>=1.0.4->dash>=2.9.0->plotly-resampler>=0.8.3.1->pycaret) (1.8.2)\n",
            "Note: you may need to restart the kernel to use updated packages.\n"
          ]
        },
        {
          "name": "stderr",
          "output_type": "stream",
          "text": [
            "\n",
            "[notice] A new release of pip is available: 24.3.1 -> 25.0.1\n",
            "[notice] To update, run: C:\\Users\\asus\\AppData\\Local\\Microsoft\\WindowsApps\\PythonSoftwareFoundation.Python.3.11_qbz5n2kfra8p0\\python.exe -m pip install --upgrade pip\n"
          ]
        }
      ],
      "source": [
        "pip install pycaret"
      ]
    },
    {
      "cell_type": "code",
      "execution_count": 4,
      "metadata": {},
      "outputs": [
        {
          "name": "stdout",
          "output_type": "stream",
          "text": [
            "Requirement already satisfied: openpyxl in c:\\users\\asus\\appdata\\local\\packages\\pythonsoftwarefoundation.python.3.11_qbz5n2kfra8p0\\localcache\\local-packages\\python311\\site-packages (3.1.5)\n",
            "Requirement already satisfied: et-xmlfile in c:\\users\\asus\\appdata\\local\\packages\\pythonsoftwarefoundation.python.3.11_qbz5n2kfra8p0\\localcache\\local-packages\\python311\\site-packages (from openpyxl) (2.0.0)\n",
            "Note: you may need to restart the kernel to use updated packages.\n"
          ]
        },
        {
          "name": "stderr",
          "output_type": "stream",
          "text": [
            "\n",
            "[notice] A new release of pip is available: 24.3.1 -> 25.0.1\n",
            "[notice] To update, run: C:\\Users\\asus\\AppData\\Local\\Microsoft\\WindowsApps\\PythonSoftwareFoundation.Python.3.11_qbz5n2kfra8p0\\python.exe -m pip install --upgrade pip\n"
          ]
        }
      ],
      "source": [
        "pip install openpyxl"
      ]
    },
    {
      "cell_type": "code",
      "execution_count": 4,
      "metadata": {
        "colab": {
          "base_uri": "https://localhost:8080/"
        },
        "id": "_VGAPJ3wOE5w",
        "outputId": "cb56aba1-deea-434e-f201-e3ebad2e54cf"
      },
      "outputs": [
        {
          "name": "stdout",
          "output_type": "stream",
          "text": [
            "ข้อมูลหลังทำความสะอาดเหลือ 581 แถว จากเดิม 605 แถว (ลบไป 24 แถว)\n"
          ]
        }
      ],
      "source": [
        "import pandas as pd\n",
        "\n",
        "# โหลดข้อมูล\n",
        "file_path = 'export-4B7B6566022D-1d.xlsx'\n",
        "dataset = pd.read_excel(file_path, engine=\"openpyxl\")\n",
        "\n",
        "# ลบแถวที่มีค่า NaN\n",
        "dataset = dataset.dropna()\n",
        "\n",
        "# เลือกเฉพาะคอลัมน์ที่เป็นตัวเลข\n",
        "numeric_cols = dataset.select_dtypes(include=['number']).columns\n",
        "\n",
        "# คำนวณ IQR สำหรับทุกคอลัมน์\n",
        "Q1 = dataset[numeric_cols].quantile(0.25)\n",
        "Q3 = dataset[numeric_cols].quantile(0.75)\n",
        "IQR = Q3 - Q1\n",
        "\n",
        "# คำนวณขอบเขตของค่า Outlier\n",
        "lower_bound = Q1 - 1.5 * IQR\n",
        "upper_bound = Q3 + 1.5 * IQR\n",
        "\n",
        "# กำจัดค่า Outlier\n",
        "mask = ~((dataset[numeric_cols] < lower_bound) | (dataset[numeric_cols] > upper_bound)).any(axis=1)\n",
        "cleaned_dataset = dataset.loc[mask]\n",
        "\n",
        "# บันทึกข้อมูลที่ถูกล้างแล้วเป็นไฟล์ใหม่\n",
        "output_path = 'cleaned_data.xlsx'\n",
        "cleaned_dataset.to_excel(output_path, index=False)\n",
        "\n",
        "# รายงานผล\n",
        "num_removed = len(dataset) - len(cleaned_dataset)\n",
        "print(f\"ข้อมูลหลังทำความสะอาดเหลือ {len(cleaned_dataset)} แถว จากเดิม {len(dataset)} แถว (ลบไป {num_removed} แถว)\")\n"
      ]
    },
    {
      "cell_type": "code",
      "execution_count": 14,
      "metadata": {},
      "outputs": [
        {
          "data": {
            "text/html": [
              "<style type=\"text/css\">\n",
              "#T_9f5b7_row8_col1, #T_9f5b7_row12_col1 {\n",
              "  background-color: lightgreen;\n",
              "}\n",
              "</style>\n",
              "<table id=\"T_9f5b7\">\n",
              "  <thead>\n",
              "    <tr>\n",
              "      <th class=\"blank level0\" >&nbsp;</th>\n",
              "      <th id=\"T_9f5b7_level0_col0\" class=\"col_heading level0 col0\" >Description</th>\n",
              "      <th id=\"T_9f5b7_level0_col1\" class=\"col_heading level0 col1\" >Value</th>\n",
              "    </tr>\n",
              "  </thead>\n",
              "  <tbody>\n",
              "    <tr>\n",
              "      <th id=\"T_9f5b7_level0_row0\" class=\"row_heading level0 row0\" >0</th>\n",
              "      <td id=\"T_9f5b7_row0_col0\" class=\"data row0 col0\" >Session id</td>\n",
              "      <td id=\"T_9f5b7_row0_col1\" class=\"data row0 col1\" >123</td>\n",
              "    </tr>\n",
              "    <tr>\n",
              "      <th id=\"T_9f5b7_level0_row1\" class=\"row_heading level0 row1\" >1</th>\n",
              "      <td id=\"T_9f5b7_row1_col0\" class=\"data row1 col0\" >Target</td>\n",
              "      <td id=\"T_9f5b7_row1_col1\" class=\"data row1 col1\" >pm_2_5</td>\n",
              "    </tr>\n",
              "    <tr>\n",
              "      <th id=\"T_9f5b7_level0_row2\" class=\"row_heading level0 row2\" >2</th>\n",
              "      <td id=\"T_9f5b7_row2_col0\" class=\"data row2 col0\" >Target type</td>\n",
              "      <td id=\"T_9f5b7_row2_col1\" class=\"data row2 col1\" >Regression</td>\n",
              "    </tr>\n",
              "    <tr>\n",
              "      <th id=\"T_9f5b7_level0_row3\" class=\"row_heading level0 row3\" >3</th>\n",
              "      <td id=\"T_9f5b7_row3_col0\" class=\"data row3 col0\" >Original data shape</td>\n",
              "      <td id=\"T_9f5b7_row3_col1\" class=\"data row3 col1\" >(566, 12)</td>\n",
              "    </tr>\n",
              "    <tr>\n",
              "      <th id=\"T_9f5b7_level0_row4\" class=\"row_heading level0 row4\" >4</th>\n",
              "      <td id=\"T_9f5b7_row4_col0\" class=\"data row4 col0\" >Transformed data shape</td>\n",
              "      <td id=\"T_9f5b7_row4_col1\" class=\"data row4 col1\" >(543, 12)</td>\n",
              "    </tr>\n",
              "    <tr>\n",
              "      <th id=\"T_9f5b7_level0_row5\" class=\"row_heading level0 row5\" >5</th>\n",
              "      <td id=\"T_9f5b7_row5_col0\" class=\"data row5 col0\" >Transformed train set shape</td>\n",
              "      <td id=\"T_9f5b7_row5_col1\" class=\"data row5 col1\" >(429, 12)</td>\n",
              "    </tr>\n",
              "    <tr>\n",
              "      <th id=\"T_9f5b7_level0_row6\" class=\"row_heading level0 row6\" >6</th>\n",
              "      <td id=\"T_9f5b7_row6_col0\" class=\"data row6 col0\" >Transformed test set shape</td>\n",
              "      <td id=\"T_9f5b7_row6_col1\" class=\"data row6 col1\" >(114, 12)</td>\n",
              "    </tr>\n",
              "    <tr>\n",
              "      <th id=\"T_9f5b7_level0_row7\" class=\"row_heading level0 row7\" >7</th>\n",
              "      <td id=\"T_9f5b7_row7_col0\" class=\"data row7 col0\" >Numeric features</td>\n",
              "      <td id=\"T_9f5b7_row7_col1\" class=\"data row7 col1\" >11</td>\n",
              "    </tr>\n",
              "    <tr>\n",
              "      <th id=\"T_9f5b7_level0_row8\" class=\"row_heading level0 row8\" >8</th>\n",
              "      <td id=\"T_9f5b7_row8_col0\" class=\"data row8 col0\" >Preprocess</td>\n",
              "      <td id=\"T_9f5b7_row8_col1\" class=\"data row8 col1\" >True</td>\n",
              "    </tr>\n",
              "    <tr>\n",
              "      <th id=\"T_9f5b7_level0_row9\" class=\"row_heading level0 row9\" >9</th>\n",
              "      <td id=\"T_9f5b7_row9_col0\" class=\"data row9 col0\" >Imputation type</td>\n",
              "      <td id=\"T_9f5b7_row9_col1\" class=\"data row9 col1\" >simple</td>\n",
              "    </tr>\n",
              "    <tr>\n",
              "      <th id=\"T_9f5b7_level0_row10\" class=\"row_heading level0 row10\" >10</th>\n",
              "      <td id=\"T_9f5b7_row10_col0\" class=\"data row10 col0\" >Numeric imputation</td>\n",
              "      <td id=\"T_9f5b7_row10_col1\" class=\"data row10 col1\" >mean</td>\n",
              "    </tr>\n",
              "    <tr>\n",
              "      <th id=\"T_9f5b7_level0_row11\" class=\"row_heading level0 row11\" >11</th>\n",
              "      <td id=\"T_9f5b7_row11_col0\" class=\"data row11 col0\" >Categorical imputation</td>\n",
              "      <td id=\"T_9f5b7_row11_col1\" class=\"data row11 col1\" >mode</td>\n",
              "    </tr>\n",
              "    <tr>\n",
              "      <th id=\"T_9f5b7_level0_row12\" class=\"row_heading level0 row12\" >12</th>\n",
              "      <td id=\"T_9f5b7_row12_col0\" class=\"data row12 col0\" >Remove outliers</td>\n",
              "      <td id=\"T_9f5b7_row12_col1\" class=\"data row12 col1\" >True</td>\n",
              "    </tr>\n",
              "    <tr>\n",
              "      <th id=\"T_9f5b7_level0_row13\" class=\"row_heading level0 row13\" >13</th>\n",
              "      <td id=\"T_9f5b7_row13_col0\" class=\"data row13 col0\" >Outliers threshold</td>\n",
              "      <td id=\"T_9f5b7_row13_col1\" class=\"data row13 col1\" >0.050000</td>\n",
              "    </tr>\n",
              "    <tr>\n",
              "      <th id=\"T_9f5b7_level0_row14\" class=\"row_heading level0 row14\" >14</th>\n",
              "      <td id=\"T_9f5b7_row14_col0\" class=\"data row14 col0\" >Fold Generator</td>\n",
              "      <td id=\"T_9f5b7_row14_col1\" class=\"data row14 col1\" >KFold</td>\n",
              "    </tr>\n",
              "    <tr>\n",
              "      <th id=\"T_9f5b7_level0_row15\" class=\"row_heading level0 row15\" >15</th>\n",
              "      <td id=\"T_9f5b7_row15_col0\" class=\"data row15 col0\" >Fold Number</td>\n",
              "      <td id=\"T_9f5b7_row15_col1\" class=\"data row15 col1\" >10</td>\n",
              "    </tr>\n",
              "    <tr>\n",
              "      <th id=\"T_9f5b7_level0_row16\" class=\"row_heading level0 row16\" >16</th>\n",
              "      <td id=\"T_9f5b7_row16_col0\" class=\"data row16 col0\" >CPU Jobs</td>\n",
              "      <td id=\"T_9f5b7_row16_col1\" class=\"data row16 col1\" >-1</td>\n",
              "    </tr>\n",
              "    <tr>\n",
              "      <th id=\"T_9f5b7_level0_row17\" class=\"row_heading level0 row17\" >17</th>\n",
              "      <td id=\"T_9f5b7_row17_col0\" class=\"data row17 col0\" >Use GPU</td>\n",
              "      <td id=\"T_9f5b7_row17_col1\" class=\"data row17 col1\" >False</td>\n",
              "    </tr>\n",
              "    <tr>\n",
              "      <th id=\"T_9f5b7_level0_row18\" class=\"row_heading level0 row18\" >18</th>\n",
              "      <td id=\"T_9f5b7_row18_col0\" class=\"data row18 col0\" >Log Experiment</td>\n",
              "      <td id=\"T_9f5b7_row18_col1\" class=\"data row18 col1\" >False</td>\n",
              "    </tr>\n",
              "    <tr>\n",
              "      <th id=\"T_9f5b7_level0_row19\" class=\"row_heading level0 row19\" >19</th>\n",
              "      <td id=\"T_9f5b7_row19_col0\" class=\"data row19 col0\" >Experiment Name</td>\n",
              "      <td id=\"T_9f5b7_row19_col1\" class=\"data row19 col1\" >reg-default-name</td>\n",
              "    </tr>\n",
              "    <tr>\n",
              "      <th id=\"T_9f5b7_level0_row20\" class=\"row_heading level0 row20\" >20</th>\n",
              "      <td id=\"T_9f5b7_row20_col0\" class=\"data row20 col0\" >USI</td>\n",
              "      <td id=\"T_9f5b7_row20_col1\" class=\"data row20 col1\" >6455</td>\n",
              "    </tr>\n",
              "  </tbody>\n",
              "</table>\n"
            ],
            "text/plain": [
              "<pandas.io.formats.style.Styler at 0x2c3fe0fbbd0>"
            ]
          },
          "metadata": {},
          "output_type": "display_data"
        },
        {
          "data": {
            "text/html": [],
            "text/plain": [
              "<IPython.core.display.HTML object>"
            ]
          },
          "metadata": {},
          "output_type": "display_data"
        },
        {
          "data": {
            "text/html": [
              "<style type=\"text/css\">\n",
              "#T_91fde th {\n",
              "  text-align: left;\n",
              "}\n",
              "#T_91fde_row0_col0, #T_91fde_row0_col2, #T_91fde_row0_col5, #T_91fde_row1_col0, #T_91fde_row1_col1, #T_91fde_row1_col3, #T_91fde_row1_col4, #T_91fde_row1_col6, #T_91fde_row2_col0, #T_91fde_row2_col1, #T_91fde_row2_col2, #T_91fde_row2_col3, #T_91fde_row2_col4, #T_91fde_row2_col5, #T_91fde_row2_col6, #T_91fde_row3_col0, #T_91fde_row3_col1, #T_91fde_row3_col2, #T_91fde_row3_col3, #T_91fde_row3_col4, #T_91fde_row3_col5, #T_91fde_row3_col6, #T_91fde_row4_col0, #T_91fde_row4_col1, #T_91fde_row4_col2, #T_91fde_row4_col3, #T_91fde_row4_col4, #T_91fde_row4_col5, #T_91fde_row4_col6, #T_91fde_row5_col0, #T_91fde_row5_col1, #T_91fde_row5_col2, #T_91fde_row5_col3, #T_91fde_row5_col4, #T_91fde_row5_col5, #T_91fde_row5_col6, #T_91fde_row6_col0, #T_91fde_row6_col1, #T_91fde_row6_col2, #T_91fde_row6_col3, #T_91fde_row6_col4, #T_91fde_row6_col5, #T_91fde_row6_col6, #T_91fde_row7_col0, #T_91fde_row7_col1, #T_91fde_row7_col2, #T_91fde_row7_col3, #T_91fde_row7_col4, #T_91fde_row7_col5, #T_91fde_row7_col6, #T_91fde_row8_col0, #T_91fde_row8_col1, #T_91fde_row8_col2, #T_91fde_row8_col3, #T_91fde_row8_col4, #T_91fde_row8_col5, #T_91fde_row8_col6, #T_91fde_row9_col0, #T_91fde_row9_col1, #T_91fde_row9_col2, #T_91fde_row9_col3, #T_91fde_row9_col4, #T_91fde_row9_col5, #T_91fde_row9_col6, #T_91fde_row10_col0, #T_91fde_row10_col1, #T_91fde_row10_col2, #T_91fde_row10_col3, #T_91fde_row10_col4, #T_91fde_row10_col5, #T_91fde_row10_col6, #T_91fde_row11_col0, #T_91fde_row11_col1, #T_91fde_row11_col2, #T_91fde_row11_col3, #T_91fde_row11_col4, #T_91fde_row11_col5, #T_91fde_row11_col6, #T_91fde_row12_col0, #T_91fde_row12_col1, #T_91fde_row12_col2, #T_91fde_row12_col3, #T_91fde_row12_col4, #T_91fde_row12_col5, #T_91fde_row12_col6, #T_91fde_row13_col0, #T_91fde_row13_col1, #T_91fde_row13_col2, #T_91fde_row13_col3, #T_91fde_row13_col4, #T_91fde_row13_col5, #T_91fde_row13_col6, #T_91fde_row14_col0, #T_91fde_row14_col1, #T_91fde_row14_col2, #T_91fde_row14_col3, #T_91fde_row14_col4, #T_91fde_row14_col5, #T_91fde_row14_col6, #T_91fde_row15_col0, #T_91fde_row15_col1, #T_91fde_row15_col2, #T_91fde_row15_col3, #T_91fde_row15_col4, #T_91fde_row15_col5, #T_91fde_row15_col6, #T_91fde_row16_col0, #T_91fde_row16_col1, #T_91fde_row16_col2, #T_91fde_row16_col3, #T_91fde_row16_col4, #T_91fde_row16_col5, #T_91fde_row16_col6, #T_91fde_row17_col0, #T_91fde_row17_col1, #T_91fde_row17_col2, #T_91fde_row17_col3, #T_91fde_row17_col4, #T_91fde_row17_col5, #T_91fde_row17_col6 {\n",
              "  text-align: left;\n",
              "}\n",
              "#T_91fde_row0_col1, #T_91fde_row0_col3, #T_91fde_row0_col4, #T_91fde_row0_col6, #T_91fde_row1_col2, #T_91fde_row1_col5 {\n",
              "  text-align: left;\n",
              "  background-color: yellow;\n",
              "}\n",
              "#T_91fde_row0_col7, #T_91fde_row1_col7, #T_91fde_row2_col7, #T_91fde_row3_col7, #T_91fde_row4_col7, #T_91fde_row6_col7, #T_91fde_row7_col7, #T_91fde_row9_col7, #T_91fde_row10_col7, #T_91fde_row11_col7, #T_91fde_row12_col7, #T_91fde_row13_col7, #T_91fde_row14_col7, #T_91fde_row15_col7, #T_91fde_row16_col7, #T_91fde_row17_col7 {\n",
              "  text-align: left;\n",
              "  background-color: lightgrey;\n",
              "}\n",
              "#T_91fde_row5_col7, #T_91fde_row8_col7 {\n",
              "  text-align: left;\n",
              "  background-color: yellow;\n",
              "  background-color: lightgrey;\n",
              "}\n",
              "</style>\n",
              "<table id=\"T_91fde\">\n",
              "  <thead>\n",
              "    <tr>\n",
              "      <th class=\"blank level0\" >&nbsp;</th>\n",
              "      <th id=\"T_91fde_level0_col0\" class=\"col_heading level0 col0\" >Model</th>\n",
              "      <th id=\"T_91fde_level0_col1\" class=\"col_heading level0 col1\" >MAE</th>\n",
              "      <th id=\"T_91fde_level0_col2\" class=\"col_heading level0 col2\" >MSE</th>\n",
              "      <th id=\"T_91fde_level0_col3\" class=\"col_heading level0 col3\" >RMSE</th>\n",
              "      <th id=\"T_91fde_level0_col4\" class=\"col_heading level0 col4\" >R2</th>\n",
              "      <th id=\"T_91fde_level0_col5\" class=\"col_heading level0 col5\" >RMSLE</th>\n",
              "      <th id=\"T_91fde_level0_col6\" class=\"col_heading level0 col6\" >MAPE</th>\n",
              "      <th id=\"T_91fde_level0_col7\" class=\"col_heading level0 col7\" >TT (Sec)</th>\n",
              "    </tr>\n",
              "  </thead>\n",
              "  <tbody>\n",
              "    <tr>\n",
              "      <th id=\"T_91fde_level0_row0\" class=\"row_heading level0 row0\" >lightgbm</th>\n",
              "      <td id=\"T_91fde_row0_col0\" class=\"data row0 col0\" >Light Gradient Boosting Machine</td>\n",
              "      <td id=\"T_91fde_row0_col1\" class=\"data row0 col1\" >1.6710</td>\n",
              "      <td id=\"T_91fde_row0_col2\" class=\"data row0 col2\" >5.4361</td>\n",
              "      <td id=\"T_91fde_row0_col3\" class=\"data row0 col3\" >2.2883</td>\n",
              "      <td id=\"T_91fde_row0_col4\" class=\"data row0 col4\" >0.9275</td>\n",
              "      <td id=\"T_91fde_row0_col5\" class=\"data row0 col5\" >0.1425</td>\n",
              "      <td id=\"T_91fde_row0_col6\" class=\"data row0 col6\" >0.1097</td>\n",
              "      <td id=\"T_91fde_row0_col7\" class=\"data row0 col7\" >0.1280</td>\n",
              "    </tr>\n",
              "    <tr>\n",
              "      <th id=\"T_91fde_level0_row1\" class=\"row_heading level0 row1\" >gbr</th>\n",
              "      <td id=\"T_91fde_row1_col0\" class=\"data row1 col0\" >Gradient Boosting Regressor</td>\n",
              "      <td id=\"T_91fde_row1_col1\" class=\"data row1 col1\" >1.7015</td>\n",
              "      <td id=\"T_91fde_row1_col2\" class=\"data row1 col2\" >5.3505</td>\n",
              "      <td id=\"T_91fde_row1_col3\" class=\"data row1 col3\" >2.2897</td>\n",
              "      <td id=\"T_91fde_row1_col4\" class=\"data row1 col4\" >0.9267</td>\n",
              "      <td id=\"T_91fde_row1_col5\" class=\"data row1 col5\" >0.1378</td>\n",
              "      <td id=\"T_91fde_row1_col6\" class=\"data row1 col6\" >0.1100</td>\n",
              "      <td id=\"T_91fde_row1_col7\" class=\"data row1 col7\" >0.0800</td>\n",
              "    </tr>\n",
              "    <tr>\n",
              "      <th id=\"T_91fde_level0_row2\" class=\"row_heading level0 row2\" >et</th>\n",
              "      <td id=\"T_91fde_row2_col0\" class=\"data row2 col0\" >Extra Trees Regressor</td>\n",
              "      <td id=\"T_91fde_row2_col1\" class=\"data row2 col1\" >1.9297</td>\n",
              "      <td id=\"T_91fde_row2_col2\" class=\"data row2 col2\" >7.4099</td>\n",
              "      <td id=\"T_91fde_row2_col3\" class=\"data row2 col3\" >2.6936</td>\n",
              "      <td id=\"T_91fde_row2_col4\" class=\"data row2 col4\" >0.9010</td>\n",
              "      <td id=\"T_91fde_row2_col5\" class=\"data row2 col5\" >0.1531</td>\n",
              "      <td id=\"T_91fde_row2_col6\" class=\"data row2 col6\" >0.1246</td>\n",
              "      <td id=\"T_91fde_row2_col7\" class=\"data row2 col7\" >0.1060</td>\n",
              "    </tr>\n",
              "    <tr>\n",
              "      <th id=\"T_91fde_level0_row3\" class=\"row_heading level0 row3\" >rf</th>\n",
              "      <td id=\"T_91fde_row3_col0\" class=\"data row3 col0\" >Random Forest Regressor</td>\n",
              "      <td id=\"T_91fde_row3_col1\" class=\"data row3 col1\" >2.1465</td>\n",
              "      <td id=\"T_91fde_row3_col2\" class=\"data row3 col2\" >8.9626</td>\n",
              "      <td id=\"T_91fde_row3_col3\" class=\"data row3 col3\" >2.9643</td>\n",
              "      <td id=\"T_91fde_row3_col4\" class=\"data row3 col4\" >0.8793</td>\n",
              "      <td id=\"T_91fde_row3_col5\" class=\"data row3 col5\" >0.1694</td>\n",
              "      <td id=\"T_91fde_row3_col6\" class=\"data row3 col6\" >0.1391</td>\n",
              "      <td id=\"T_91fde_row3_col7\" class=\"data row3 col7\" >0.1440</td>\n",
              "    </tr>\n",
              "    <tr>\n",
              "      <th id=\"T_91fde_level0_row4\" class=\"row_heading level0 row4\" >lasso</th>\n",
              "      <td id=\"T_91fde_row4_col0\" class=\"data row4 col0\" >Lasso Regression</td>\n",
              "      <td id=\"T_91fde_row4_col1\" class=\"data row4 col1\" >2.4976</td>\n",
              "      <td id=\"T_91fde_row4_col2\" class=\"data row4 col2\" >12.2233</td>\n",
              "      <td id=\"T_91fde_row4_col3\" class=\"data row4 col3\" >3.4145</td>\n",
              "      <td id=\"T_91fde_row4_col4\" class=\"data row4 col4\" >0.8370</td>\n",
              "      <td id=\"T_91fde_row4_col5\" class=\"data row4 col5\" >0.2129</td>\n",
              "      <td id=\"T_91fde_row4_col6\" class=\"data row4 col6\" >0.1621</td>\n",
              "      <td id=\"T_91fde_row4_col7\" class=\"data row4 col7\" >0.0460</td>\n",
              "    </tr>\n",
              "    <tr>\n",
              "      <th id=\"T_91fde_level0_row5\" class=\"row_heading level0 row5\" >llar</th>\n",
              "      <td id=\"T_91fde_row5_col0\" class=\"data row5 col0\" >Lasso Least Angle Regression</td>\n",
              "      <td id=\"T_91fde_row5_col1\" class=\"data row5 col1\" >2.4977</td>\n",
              "      <td id=\"T_91fde_row5_col2\" class=\"data row5 col2\" >12.2234</td>\n",
              "      <td id=\"T_91fde_row5_col3\" class=\"data row5 col3\" >3.4145</td>\n",
              "      <td id=\"T_91fde_row5_col4\" class=\"data row5 col4\" >0.8370</td>\n",
              "      <td id=\"T_91fde_row5_col5\" class=\"data row5 col5\" >0.2129</td>\n",
              "      <td id=\"T_91fde_row5_col6\" class=\"data row5 col6\" >0.1621</td>\n",
              "      <td id=\"T_91fde_row5_col7\" class=\"data row5 col7\" >0.0410</td>\n",
              "    </tr>\n",
              "    <tr>\n",
              "      <th id=\"T_91fde_level0_row6\" class=\"row_heading level0 row6\" >en</th>\n",
              "      <td id=\"T_91fde_row6_col0\" class=\"data row6 col0\" >Elastic Net</td>\n",
              "      <td id=\"T_91fde_row6_col1\" class=\"data row6 col1\" >2.5032</td>\n",
              "      <td id=\"T_91fde_row6_col2\" class=\"data row6 col2\" >12.2648</td>\n",
              "      <td id=\"T_91fde_row6_col3\" class=\"data row6 col3\" >3.4190</td>\n",
              "      <td id=\"T_91fde_row6_col4\" class=\"data row6 col4\" >0.8363</td>\n",
              "      <td id=\"T_91fde_row6_col5\" class=\"data row6 col5\" >0.2148</td>\n",
              "      <td id=\"T_91fde_row6_col6\" class=\"data row6 col6\" >0.1634</td>\n",
              "      <td id=\"T_91fde_row6_col7\" class=\"data row6 col7\" >0.0440</td>\n",
              "    </tr>\n",
              "    <tr>\n",
              "      <th id=\"T_91fde_level0_row7\" class=\"row_heading level0 row7\" >br</th>\n",
              "      <td id=\"T_91fde_row7_col0\" class=\"data row7 col0\" >Bayesian Ridge</td>\n",
              "      <td id=\"T_91fde_row7_col1\" class=\"data row7 col1\" >2.5096</td>\n",
              "      <td id=\"T_91fde_row7_col2\" class=\"data row7 col2\" >12.4590</td>\n",
              "      <td id=\"T_91fde_row7_col3\" class=\"data row7 col3\" >3.4445</td>\n",
              "      <td id=\"T_91fde_row7_col4\" class=\"data row7 col4\" >0.8336</td>\n",
              "      <td id=\"T_91fde_row7_col5\" class=\"data row7 col5\" >0.2178</td>\n",
              "      <td id=\"T_91fde_row7_col6\" class=\"data row7 col6\" >0.1653</td>\n",
              "      <td id=\"T_91fde_row7_col7\" class=\"data row7 col7\" >0.0460</td>\n",
              "    </tr>\n",
              "    <tr>\n",
              "      <th id=\"T_91fde_level0_row8\" class=\"row_heading level0 row8\" >ridge</th>\n",
              "      <td id=\"T_91fde_row8_col0\" class=\"data row8 col0\" >Ridge Regression</td>\n",
              "      <td id=\"T_91fde_row8_col1\" class=\"data row8 col1\" >2.5069</td>\n",
              "      <td id=\"T_91fde_row8_col2\" class=\"data row8 col2\" >12.5070</td>\n",
              "      <td id=\"T_91fde_row8_col3\" class=\"data row8 col3\" >3.4504</td>\n",
              "      <td id=\"T_91fde_row8_col4\" class=\"data row8 col4\" >0.8330</td>\n",
              "      <td id=\"T_91fde_row8_col5\" class=\"data row8 col5\" >0.2192</td>\n",
              "      <td id=\"T_91fde_row8_col6\" class=\"data row8 col6\" >0.1655</td>\n",
              "      <td id=\"T_91fde_row8_col7\" class=\"data row8 col7\" >0.0410</td>\n",
              "    </tr>\n",
              "    <tr>\n",
              "      <th id=\"T_91fde_level0_row9\" class=\"row_heading level0 row9\" >lar</th>\n",
              "      <td id=\"T_91fde_row9_col0\" class=\"data row9 col0\" >Least Angle Regression</td>\n",
              "      <td id=\"T_91fde_row9_col1\" class=\"data row9 col1\" >2.5069</td>\n",
              "      <td id=\"T_91fde_row9_col2\" class=\"data row9 col2\" >12.5074</td>\n",
              "      <td id=\"T_91fde_row9_col3\" class=\"data row9 col3\" >3.4504</td>\n",
              "      <td id=\"T_91fde_row9_col4\" class=\"data row9 col4\" >0.8330</td>\n",
              "      <td id=\"T_91fde_row9_col5\" class=\"data row9 col5\" >0.2192</td>\n",
              "      <td id=\"T_91fde_row9_col6\" class=\"data row9 col6\" >0.1655</td>\n",
              "      <td id=\"T_91fde_row9_col7\" class=\"data row9 col7\" >0.0520</td>\n",
              "    </tr>\n",
              "    <tr>\n",
              "      <th id=\"T_91fde_level0_row10\" class=\"row_heading level0 row10\" >lr</th>\n",
              "      <td id=\"T_91fde_row10_col0\" class=\"data row10 col0\" >Linear Regression</td>\n",
              "      <td id=\"T_91fde_row10_col1\" class=\"data row10 col1\" >2.5069</td>\n",
              "      <td id=\"T_91fde_row10_col2\" class=\"data row10 col2\" >12.5074</td>\n",
              "      <td id=\"T_91fde_row10_col3\" class=\"data row10 col3\" >3.4504</td>\n",
              "      <td id=\"T_91fde_row10_col4\" class=\"data row10 col4\" >0.8330</td>\n",
              "      <td id=\"T_91fde_row10_col5\" class=\"data row10 col5\" >0.2192</td>\n",
              "      <td id=\"T_91fde_row10_col6\" class=\"data row10 col6\" >0.1655</td>\n",
              "      <td id=\"T_91fde_row10_col7\" class=\"data row10 col7\" >0.0530</td>\n",
              "    </tr>\n",
              "    <tr>\n",
              "      <th id=\"T_91fde_level0_row11\" class=\"row_heading level0 row11\" >huber</th>\n",
              "      <td id=\"T_91fde_row11_col0\" class=\"data row11 col0\" >Huber Regressor</td>\n",
              "      <td id=\"T_91fde_row11_col1\" class=\"data row11 col1\" >2.4263</td>\n",
              "      <td id=\"T_91fde_row11_col2\" class=\"data row11 col2\" >13.1458</td>\n",
              "      <td id=\"T_91fde_row11_col3\" class=\"data row11 col3\" >3.5213</td>\n",
              "      <td id=\"T_91fde_row11_col4\" class=\"data row11 col4\" >0.8254</td>\n",
              "      <td id=\"T_91fde_row11_col5\" class=\"data row11 col5\" >0.2156</td>\n",
              "      <td id=\"T_91fde_row11_col6\" class=\"data row11 col6\" >0.1680</td>\n",
              "      <td id=\"T_91fde_row11_col7\" class=\"data row11 col7\" >0.0520</td>\n",
              "    </tr>\n",
              "    <tr>\n",
              "      <th id=\"T_91fde_level0_row12\" class=\"row_heading level0 row12\" >par</th>\n",
              "      <td id=\"T_91fde_row12_col0\" class=\"data row12 col0\" >Passive Aggressive Regressor</td>\n",
              "      <td id=\"T_91fde_row12_col1\" class=\"data row12 col1\" >2.6510</td>\n",
              "      <td id=\"T_91fde_row12_col2\" class=\"data row12 col2\" >13.0826</td>\n",
              "      <td id=\"T_91fde_row12_col3\" class=\"data row12 col3\" >3.5377</td>\n",
              "      <td id=\"T_91fde_row12_col4\" class=\"data row12 col4\" >0.8242</td>\n",
              "      <td id=\"T_91fde_row12_col5\" class=\"data row12 col5\" >0.2030</td>\n",
              "      <td id=\"T_91fde_row12_col6\" class=\"data row12 col6\" >0.1662</td>\n",
              "      <td id=\"T_91fde_row12_col7\" class=\"data row12 col7\" >0.0450</td>\n",
              "    </tr>\n",
              "    <tr>\n",
              "      <th id=\"T_91fde_level0_row13\" class=\"row_heading level0 row13\" >ada</th>\n",
              "      <td id=\"T_91fde_row13_col0\" class=\"data row13 col0\" >AdaBoost Regressor</td>\n",
              "      <td id=\"T_91fde_row13_col1\" class=\"data row13 col1\" >3.0479</td>\n",
              "      <td id=\"T_91fde_row13_col2\" class=\"data row13 col2\" >14.7884</td>\n",
              "      <td id=\"T_91fde_row13_col3\" class=\"data row13 col3\" >3.8222</td>\n",
              "      <td id=\"T_91fde_row13_col4\" class=\"data row13 col4\" >0.7998</td>\n",
              "      <td id=\"T_91fde_row13_col5\" class=\"data row13 col5\" >0.2373</td>\n",
              "      <td id=\"T_91fde_row13_col6\" class=\"data row13 col6\" >0.2191</td>\n",
              "      <td id=\"T_91fde_row13_col7\" class=\"data row13 col7\" >0.0680</td>\n",
              "    </tr>\n",
              "    <tr>\n",
              "      <th id=\"T_91fde_level0_row14\" class=\"row_heading level0 row14\" >knn</th>\n",
              "      <td id=\"T_91fde_row14_col0\" class=\"data row14 col0\" >K Neighbors Regressor</td>\n",
              "      <td id=\"T_91fde_row14_col1\" class=\"data row14 col1\" >3.1372</td>\n",
              "      <td id=\"T_91fde_row14_col2\" class=\"data row14 col2\" >17.5304</td>\n",
              "      <td id=\"T_91fde_row14_col3\" class=\"data row14 col3\" >4.1360</td>\n",
              "      <td id=\"T_91fde_row14_col4\" class=\"data row14 col4\" >0.7685</td>\n",
              "      <td id=\"T_91fde_row14_col5\" class=\"data row14 col5\" >0.2180</td>\n",
              "      <td id=\"T_91fde_row14_col6\" class=\"data row14 col6\" >0.1940</td>\n",
              "      <td id=\"T_91fde_row14_col7\" class=\"data row14 col7\" >0.0550</td>\n",
              "    </tr>\n",
              "    <tr>\n",
              "      <th id=\"T_91fde_level0_row15\" class=\"row_heading level0 row15\" >dt</th>\n",
              "      <td id=\"T_91fde_row15_col0\" class=\"data row15 col0\" >Decision Tree Regressor</td>\n",
              "      <td id=\"T_91fde_row15_col1\" class=\"data row15 col1\" >3.2838</td>\n",
              "      <td id=\"T_91fde_row15_col2\" class=\"data row15 col2\" >19.5953</td>\n",
              "      <td id=\"T_91fde_row15_col3\" class=\"data row15 col3\" >4.3635</td>\n",
              "      <td id=\"T_91fde_row15_col4\" class=\"data row15 col4\" >0.7389</td>\n",
              "      <td id=\"T_91fde_row15_col5\" class=\"data row15 col5\" >0.2306</td>\n",
              "      <td id=\"T_91fde_row15_col6\" class=\"data row15 col6\" >0.1960</td>\n",
              "      <td id=\"T_91fde_row15_col7\" class=\"data row15 col7\" >0.0520</td>\n",
              "    </tr>\n",
              "    <tr>\n",
              "      <th id=\"T_91fde_level0_row16\" class=\"row_heading level0 row16\" >omp</th>\n",
              "      <td id=\"T_91fde_row16_col0\" class=\"data row16 col0\" >Orthogonal Matching Pursuit</td>\n",
              "      <td id=\"T_91fde_row16_col1\" class=\"data row16 col1\" >6.1300</td>\n",
              "      <td id=\"T_91fde_row16_col2\" class=\"data row16 col2\" >58.5147</td>\n",
              "      <td id=\"T_91fde_row16_col3\" class=\"data row16 col3\" >7.6106</td>\n",
              "      <td id=\"T_91fde_row16_col4\" class=\"data row16 col4\" >0.2242</td>\n",
              "      <td id=\"T_91fde_row16_col5\" class=\"data row16 col5\" >0.3959</td>\n",
              "      <td id=\"T_91fde_row16_col6\" class=\"data row16 col6\" >0.4075</td>\n",
              "      <td id=\"T_91fde_row16_col7\" class=\"data row16 col7\" >0.0430</td>\n",
              "    </tr>\n",
              "    <tr>\n",
              "      <th id=\"T_91fde_level0_row17\" class=\"row_heading level0 row17\" >dummy</th>\n",
              "      <td id=\"T_91fde_row17_col0\" class=\"data row17 col0\" >Dummy Regressor</td>\n",
              "      <td id=\"T_91fde_row17_col1\" class=\"data row17 col1\" >7.1750</td>\n",
              "      <td id=\"T_91fde_row17_col2\" class=\"data row17 col2\" >76.6671</td>\n",
              "      <td id=\"T_91fde_row17_col3\" class=\"data row17 col3\" >8.7210</td>\n",
              "      <td id=\"T_91fde_row17_col4\" class=\"data row17 col4\" >-0.0179</td>\n",
              "      <td id=\"T_91fde_row17_col5\" class=\"data row17 col5\" >0.4781</td>\n",
              "      <td id=\"T_91fde_row17_col6\" class=\"data row17 col6\" >0.5282</td>\n",
              "      <td id=\"T_91fde_row17_col7\" class=\"data row17 col7\" >0.0450</td>\n",
              "    </tr>\n",
              "  </tbody>\n",
              "</table>\n"
            ],
            "text/plain": [
              "<pandas.io.formats.style.Styler at 0x2c38240f510>"
            ]
          },
          "metadata": {},
          "output_type": "display_data"
        },
        {
          "data": {
            "text/html": [],
            "text/plain": [
              "<IPython.core.display.HTML object>"
            ]
          },
          "metadata": {},
          "output_type": "display_data"
        },
        {
          "data": {
            "application/vnd.jupyter.widget-view+json": {
              "model_id": "cc2c56aa581542648b3d23d86619821a",
              "version_major": 2,
              "version_minor": 0
            },
            "text/plain": [
              "interactive(children=(ToggleButtons(description='Plot Type:', icons=('',), options=(('Pipeline Plot', 'pipelin…"
            ]
          },
          "metadata": {},
          "output_type": "display_data"
        }
      ],
      "source": [
        "import pandas as pd\n",
        "from pycaret.regression import *\n",
        "\n",
        "# # โหลดข้อมูลจากไฟล์ Excel\n",
        "# dataset = pd.read_excel('cleaned_data.xlsx')\n",
        "files = ['cleaned_data.xlsx', 'eng_cleaned_data.xlsx', 'provinceHatyai_cleaned_data.xlsx']\n",
        "df_list = [pd.read_excel(file) for file in files]\n",
        "\n",
        "# รวมข้อมูลทั้งหมดเข้าด้วยกัน\n",
        "dataset = pd.concat(df_list, ignore_index=True)\n",
        "\n",
        "# เตรียมข้อมูล\n",
        "dataset['timestamp'] = pd.to_datetime(dataset['timestamp'], errors='coerce')\n",
        "dataset.dropna(subset=['timestamp'], inplace=True)\n",
        "\n",
        "dataset['day'] = dataset['timestamp'].dt.day\n",
        "\n",
        "# สร้าง Lag Features ทุกๆ 24 ชั่วโมง (1 วัน) จนถึง 168 ชั่วโมง (7 วัน)\n",
        "for lag in range(1, 8):  \n",
        "    dataset[f'pm_2_5_lag_{lag}'] = dataset['pm_2_5'].shift(lag)\n",
        "\n",
        "# สร้าง Rolling Mean และ Rolling Rate (3 วัน, 5 วัน, 7 วัน)\n",
        "for window in [3]:\n",
        "    dataset[f'pm_2_5_roll_mean_{window}'] = dataset['pm_2_5'].rolling(window=window).mean()\n",
        "    dataset[f'pm_2_5_roll_rate_{window}'] = dataset[f'pm_2_5_roll_mean_{window}'].pct_change() * 100\n",
        "\n",
        "dataset.dropna(inplace=True)\n",
        "\n",
        "# เลือกคอลัมน์ที่ใช้\n",
        "features = (\n",
        "    ['humidity', 'temperature', 'day'] + \n",
        "    [f'pm_2_5_lag_{lag}' for lag in range(1, 8)] + \n",
        "    [f'pm_2_5_roll_rate_{window}' for window in [3]]\n",
        ")\n",
        "target = 'pm_2_5'\n",
        "dataset_filtered = dataset[features + [target]]\n",
        "\n",
        "# ตั้งค่า PyCaret\n",
        "setup(data=dataset_filtered, target=target, fold=10, train_size=0.8, session_id=123, remove_outliers=True)\n",
        "\n",
        "# เปรียบเทียบโมเดล\n",
        "best_model = compare_models()\n",
        "\n",
        "# ใช้ฟังก์ชัน evaluate_model เพื่อตรวจสอบโมเดลที่ดีที่สุด\n",
        "evaluate_model(best_model)\n"
      ]
    },
    {
      "cell_type": "code",
      "execution_count": null,
      "metadata": {},
      "outputs": [
        {
          "data": {
            "text/html": [],
            "text/plain": [
              "<IPython.core.display.HTML object>"
            ]
          },
          "metadata": {},
          "output_type": "display_data"
        },
        {
          "data": {
            "text/html": [
              "<style type=\"text/css\">\n",
              "#T_ca17d_row10_col0, #T_ca17d_row10_col1, #T_ca17d_row10_col2, #T_ca17d_row10_col3, #T_ca17d_row10_col4, #T_ca17d_row10_col5 {\n",
              "  background: yellow;\n",
              "}\n",
              "</style>\n",
              "<table id=\"T_ca17d\">\n",
              "  <thead>\n",
              "    <tr>\n",
              "      <th class=\"blank level0\" >&nbsp;</th>\n",
              "      <th id=\"T_ca17d_level0_col0\" class=\"col_heading level0 col0\" >MAE</th>\n",
              "      <th id=\"T_ca17d_level0_col1\" class=\"col_heading level0 col1\" >MSE</th>\n",
              "      <th id=\"T_ca17d_level0_col2\" class=\"col_heading level0 col2\" >RMSE</th>\n",
              "      <th id=\"T_ca17d_level0_col3\" class=\"col_heading level0 col3\" >R2</th>\n",
              "      <th id=\"T_ca17d_level0_col4\" class=\"col_heading level0 col4\" >RMSLE</th>\n",
              "      <th id=\"T_ca17d_level0_col5\" class=\"col_heading level0 col5\" >MAPE</th>\n",
              "    </tr>\n",
              "    <tr>\n",
              "      <th class=\"index_name level0\" >Fold</th>\n",
              "      <th class=\"blank col0\" >&nbsp;</th>\n",
              "      <th class=\"blank col1\" >&nbsp;</th>\n",
              "      <th class=\"blank col2\" >&nbsp;</th>\n",
              "      <th class=\"blank col3\" >&nbsp;</th>\n",
              "      <th class=\"blank col4\" >&nbsp;</th>\n",
              "      <th class=\"blank col5\" >&nbsp;</th>\n",
              "    </tr>\n",
              "  </thead>\n",
              "  <tbody>\n",
              "    <tr>\n",
              "      <th id=\"T_ca17d_level0_row0\" class=\"row_heading level0 row0\" >0</th>\n",
              "      <td id=\"T_ca17d_row0_col0\" class=\"data row0 col0\" >1.5564</td>\n",
              "      <td id=\"T_ca17d_row0_col1\" class=\"data row0 col1\" >4.7484</td>\n",
              "      <td id=\"T_ca17d_row0_col2\" class=\"data row0 col2\" >2.1791</td>\n",
              "      <td id=\"T_ca17d_row0_col3\" class=\"data row0 col3\" >0.9422</td>\n",
              "      <td id=\"T_ca17d_row0_col4\" class=\"data row0 col4\" >0.1171</td>\n",
              "      <td id=\"T_ca17d_row0_col5\" class=\"data row0 col5\" >0.0934</td>\n",
              "    </tr>\n",
              "    <tr>\n",
              "      <th id=\"T_ca17d_level0_row1\" class=\"row_heading level0 row1\" >1</th>\n",
              "      <td id=\"T_ca17d_row1_col0\" class=\"data row1 col0\" >1.7167</td>\n",
              "      <td id=\"T_ca17d_row1_col1\" class=\"data row1 col1\" >4.7488</td>\n",
              "      <td id=\"T_ca17d_row1_col2\" class=\"data row1 col2\" >2.1792</td>\n",
              "      <td id=\"T_ca17d_row1_col3\" class=\"data row1 col3\" >0.9393</td>\n",
              "      <td id=\"T_ca17d_row1_col4\" class=\"data row1 col4\" >0.1450</td>\n",
              "      <td id=\"T_ca17d_row1_col5\" class=\"data row1 col5\" >0.1251</td>\n",
              "    </tr>\n",
              "    <tr>\n",
              "      <th id=\"T_ca17d_level0_row2\" class=\"row_heading level0 row2\" >2</th>\n",
              "      <td id=\"T_ca17d_row2_col0\" class=\"data row2 col0\" >1.2668</td>\n",
              "      <td id=\"T_ca17d_row2_col1\" class=\"data row2 col1\" >2.7920</td>\n",
              "      <td id=\"T_ca17d_row2_col2\" class=\"data row2 col2\" >1.6709</td>\n",
              "      <td id=\"T_ca17d_row2_col3\" class=\"data row2 col3\" >0.9676</td>\n",
              "      <td id=\"T_ca17d_row2_col4\" class=\"data row2 col4\" >0.1139</td>\n",
              "      <td id=\"T_ca17d_row2_col5\" class=\"data row2 col5\" >0.0813</td>\n",
              "    </tr>\n",
              "    <tr>\n",
              "      <th id=\"T_ca17d_level0_row3\" class=\"row_heading level0 row3\" >3</th>\n",
              "      <td id=\"T_ca17d_row3_col0\" class=\"data row3 col0\" >2.0138</td>\n",
              "      <td id=\"T_ca17d_row3_col1\" class=\"data row3 col1\" >6.5534</td>\n",
              "      <td id=\"T_ca17d_row3_col2\" class=\"data row3 col2\" >2.5600</td>\n",
              "      <td id=\"T_ca17d_row3_col3\" class=\"data row3 col3\" >0.8796</td>\n",
              "      <td id=\"T_ca17d_row3_col4\" class=\"data row3 col4\" >0.1411</td>\n",
              "      <td id=\"T_ca17d_row3_col5\" class=\"data row3 col5\" >0.1116</td>\n",
              "    </tr>\n",
              "    <tr>\n",
              "      <th id=\"T_ca17d_level0_row4\" class=\"row_heading level0 row4\" >4</th>\n",
              "      <td id=\"T_ca17d_row4_col0\" class=\"data row4 col0\" >1.7449</td>\n",
              "      <td id=\"T_ca17d_row4_col1\" class=\"data row4 col1\" >5.1624</td>\n",
              "      <td id=\"T_ca17d_row4_col2\" class=\"data row4 col2\" >2.2721</td>\n",
              "      <td id=\"T_ca17d_row4_col3\" class=\"data row4 col3\" >0.9308</td>\n",
              "      <td id=\"T_ca17d_row4_col4\" class=\"data row4 col4\" >0.1293</td>\n",
              "      <td id=\"T_ca17d_row4_col5\" class=\"data row4 col5\" >0.1149</td>\n",
              "    </tr>\n",
              "    <tr>\n",
              "      <th id=\"T_ca17d_level0_row5\" class=\"row_heading level0 row5\" >5</th>\n",
              "      <td id=\"T_ca17d_row5_col0\" class=\"data row5 col0\" >1.9374</td>\n",
              "      <td id=\"T_ca17d_row5_col1\" class=\"data row5 col1\" >7.9727</td>\n",
              "      <td id=\"T_ca17d_row5_col2\" class=\"data row5 col2\" >2.8236</td>\n",
              "      <td id=\"T_ca17d_row5_col3\" class=\"data row5 col3\" >0.9092</td>\n",
              "      <td id=\"T_ca17d_row5_col4\" class=\"data row5 col4\" >0.1379</td>\n",
              "      <td id=\"T_ca17d_row5_col5\" class=\"data row5 col5\" >0.1043</td>\n",
              "    </tr>\n",
              "    <tr>\n",
              "      <th id=\"T_ca17d_level0_row6\" class=\"row_heading level0 row6\" >6</th>\n",
              "      <td id=\"T_ca17d_row6_col0\" class=\"data row6 col0\" >1.7868</td>\n",
              "      <td id=\"T_ca17d_row6_col1\" class=\"data row6 col1\" >6.4098</td>\n",
              "      <td id=\"T_ca17d_row6_col2\" class=\"data row6 col2\" >2.5318</td>\n",
              "      <td id=\"T_ca17d_row6_col3\" class=\"data row6 col3\" >0.9300</td>\n",
              "      <td id=\"T_ca17d_row6_col4\" class=\"data row6 col4\" >0.1179</td>\n",
              "      <td id=\"T_ca17d_row6_col5\" class=\"data row6 col5\" >0.0923</td>\n",
              "    </tr>\n",
              "    <tr>\n",
              "      <th id=\"T_ca17d_level0_row7\" class=\"row_heading level0 row7\" >7</th>\n",
              "      <td id=\"T_ca17d_row7_col0\" class=\"data row7 col0\" >1.9563</td>\n",
              "      <td id=\"T_ca17d_row7_col1\" class=\"data row7 col1\" >6.6478</td>\n",
              "      <td id=\"T_ca17d_row7_col2\" class=\"data row7 col2\" >2.5783</td>\n",
              "      <td id=\"T_ca17d_row7_col3\" class=\"data row7 col3\" >0.8956</td>\n",
              "      <td id=\"T_ca17d_row7_col4\" class=\"data row7 col4\" >0.1434</td>\n",
              "      <td id=\"T_ca17d_row7_col5\" class=\"data row7 col5\" >0.1210</td>\n",
              "    </tr>\n",
              "    <tr>\n",
              "      <th id=\"T_ca17d_level0_row8\" class=\"row_heading level0 row8\" >8</th>\n",
              "      <td id=\"T_ca17d_row8_col0\" class=\"data row8 col0\" >1.7479</td>\n",
              "      <td id=\"T_ca17d_row8_col1\" class=\"data row8 col1\" >4.9158</td>\n",
              "      <td id=\"T_ca17d_row8_col2\" class=\"data row8 col2\" >2.2172</td>\n",
              "      <td id=\"T_ca17d_row8_col3\" class=\"data row8 col3\" >0.9358</td>\n",
              "      <td id=\"T_ca17d_row8_col4\" class=\"data row8 col4\" >0.1690</td>\n",
              "      <td id=\"T_ca17d_row8_col5\" class=\"data row8 col5\" >0.1477</td>\n",
              "    </tr>\n",
              "    <tr>\n",
              "      <th id=\"T_ca17d_level0_row9\" class=\"row_heading level0 row9\" >9</th>\n",
              "      <td id=\"T_ca17d_row9_col0\" class=\"data row9 col0\" >1.2884</td>\n",
              "      <td id=\"T_ca17d_row9_col1\" class=\"data row9 col1\" >3.5540</td>\n",
              "      <td id=\"T_ca17d_row9_col2\" class=\"data row9 col2\" >1.8852</td>\n",
              "      <td id=\"T_ca17d_row9_col3\" class=\"data row9 col3\" >0.9374</td>\n",
              "      <td id=\"T_ca17d_row9_col4\" class=\"data row9 col4\" >0.1630</td>\n",
              "      <td id=\"T_ca17d_row9_col5\" class=\"data row9 col5\" >0.1086</td>\n",
              "    </tr>\n",
              "    <tr>\n",
              "      <th id=\"T_ca17d_level0_row10\" class=\"row_heading level0 row10\" >Mean</th>\n",
              "      <td id=\"T_ca17d_row10_col0\" class=\"data row10 col0\" >1.7015</td>\n",
              "      <td id=\"T_ca17d_row10_col1\" class=\"data row10 col1\" >5.3505</td>\n",
              "      <td id=\"T_ca17d_row10_col2\" class=\"data row10 col2\" >2.2897</td>\n",
              "      <td id=\"T_ca17d_row10_col3\" class=\"data row10 col3\" >0.9267</td>\n",
              "      <td id=\"T_ca17d_row10_col4\" class=\"data row10 col4\" >0.1378</td>\n",
              "      <td id=\"T_ca17d_row10_col5\" class=\"data row10 col5\" >0.1100</td>\n",
              "    </tr>\n",
              "    <tr>\n",
              "      <th id=\"T_ca17d_level0_row11\" class=\"row_heading level0 row11\" >Std</th>\n",
              "      <td id=\"T_ca17d_row11_col0\" class=\"data row11 col0\" >0.2470</td>\n",
              "      <td id=\"T_ca17d_row11_col1\" class=\"data row11 col1\" >1.4782</td>\n",
              "      <td id=\"T_ca17d_row11_col2\" class=\"data row11 col2\" >0.3281</td>\n",
              "      <td id=\"T_ca17d_row11_col3\" class=\"data row11 col3\" >0.0240</td>\n",
              "      <td id=\"T_ca17d_row11_col4\" class=\"data row11 col4\" >0.0178</td>\n",
              "      <td id=\"T_ca17d_row11_col5\" class=\"data row11 col5\" >0.0180</td>\n",
              "    </tr>\n",
              "  </tbody>\n",
              "</table>\n"
            ],
            "text/plain": [
              "<pandas.io.formats.style.Styler at 0x2c3fce51a50>"
            ]
          },
          "metadata": {},
          "output_type": "display_data"
        },
        {
          "data": {
            "text/html": [],
            "text/plain": [
              "<IPython.core.display.HTML object>"
            ]
          },
          "metadata": {},
          "output_type": "display_data"
        },
        {
          "data": {
            "text/html": [],
            "text/plain": [
              "<IPython.core.display.HTML object>"
            ]
          },
          "metadata": {},
          "output_type": "display_data"
        },
        {
          "data": {
            "text/html": [
              "<style type=\"text/css\">\n",
              "#T_beec3_row20_col0, #T_beec3_row20_col1, #T_beec3_row20_col2, #T_beec3_row20_col3, #T_beec3_row20_col4, #T_beec3_row20_col5 {\n",
              "  background: yellow;\n",
              "}\n",
              "</style>\n",
              "<table id=\"T_beec3\">\n",
              "  <thead>\n",
              "    <tr>\n",
              "      <th class=\"blank level0\" >&nbsp;</th>\n",
              "      <th id=\"T_beec3_level0_col0\" class=\"col_heading level0 col0\" >MAE</th>\n",
              "      <th id=\"T_beec3_level0_col1\" class=\"col_heading level0 col1\" >MSE</th>\n",
              "      <th id=\"T_beec3_level0_col2\" class=\"col_heading level0 col2\" >RMSE</th>\n",
              "      <th id=\"T_beec3_level0_col3\" class=\"col_heading level0 col3\" >R2</th>\n",
              "      <th id=\"T_beec3_level0_col4\" class=\"col_heading level0 col4\" >RMSLE</th>\n",
              "      <th id=\"T_beec3_level0_col5\" class=\"col_heading level0 col5\" >MAPE</th>\n",
              "    </tr>\n",
              "    <tr>\n",
              "      <th class=\"index_name level0\" >Fold</th>\n",
              "      <th class=\"blank col0\" >&nbsp;</th>\n",
              "      <th class=\"blank col1\" >&nbsp;</th>\n",
              "      <th class=\"blank col2\" >&nbsp;</th>\n",
              "      <th class=\"blank col3\" >&nbsp;</th>\n",
              "      <th class=\"blank col4\" >&nbsp;</th>\n",
              "      <th class=\"blank col5\" >&nbsp;</th>\n",
              "    </tr>\n",
              "  </thead>\n",
              "  <tbody>\n",
              "    <tr>\n",
              "      <th id=\"T_beec3_level0_row0\" class=\"row_heading level0 row0\" >0</th>\n",
              "      <td id=\"T_beec3_row0_col0\" class=\"data row0 col0\" >3.1480</td>\n",
              "      <td id=\"T_beec3_row0_col1\" class=\"data row0 col1\" >22.8339</td>\n",
              "      <td id=\"T_beec3_row0_col2\" class=\"data row0 col2\" >4.7785</td>\n",
              "      <td id=\"T_beec3_row0_col3\" class=\"data row0 col3\" >0.7640</td>\n",
              "      <td id=\"T_beec3_row0_col4\" class=\"data row0 col4\" >0.1769</td>\n",
              "      <td id=\"T_beec3_row0_col5\" class=\"data row0 col5\" >0.1360</td>\n",
              "    </tr>\n",
              "    <tr>\n",
              "      <th id=\"T_beec3_level0_row1\" class=\"row_heading level0 row1\" >1</th>\n",
              "      <td id=\"T_beec3_row1_col0\" class=\"data row1 col0\" >2.5680</td>\n",
              "      <td id=\"T_beec3_row1_col1\" class=\"data row1 col1\" >10.9101</td>\n",
              "      <td id=\"T_beec3_row1_col2\" class=\"data row1 col2\" >3.3030</td>\n",
              "      <td id=\"T_beec3_row1_col3\" class=\"data row1 col3\" >0.8150</td>\n",
              "      <td id=\"T_beec3_row1_col4\" class=\"data row1 col4\" >0.2449</td>\n",
              "      <td id=\"T_beec3_row1_col5\" class=\"data row1 col5\" >0.2164</td>\n",
              "    </tr>\n",
              "    <tr>\n",
              "      <th id=\"T_beec3_level0_row2\" class=\"row_heading level0 row2\" >2</th>\n",
              "      <td id=\"T_beec3_row2_col0\" class=\"data row2 col0\" >3.4969</td>\n",
              "      <td id=\"T_beec3_row2_col1\" class=\"data row2 col1\" >19.5823</td>\n",
              "      <td id=\"T_beec3_row2_col2\" class=\"data row2 col2\" >4.4252</td>\n",
              "      <td id=\"T_beec3_row2_col3\" class=\"data row2 col3\" >0.8010</td>\n",
              "      <td id=\"T_beec3_row2_col4\" class=\"data row2 col4\" >0.2235</td>\n",
              "      <td id=\"T_beec3_row2_col5\" class=\"data row2 col5\" >0.2063</td>\n",
              "    </tr>\n",
              "    <tr>\n",
              "      <th id=\"T_beec3_level0_row3\" class=\"row_heading level0 row3\" >3</th>\n",
              "      <td id=\"T_beec3_row3_col0\" class=\"data row3 col0\" >2.7448</td>\n",
              "      <td id=\"T_beec3_row3_col1\" class=\"data row3 col1\" >11.1454</td>\n",
              "      <td id=\"T_beec3_row3_col2\" class=\"data row3 col2\" >3.3385</td>\n",
              "      <td id=\"T_beec3_row3_col3\" class=\"data row3 col3\" >0.7617</td>\n",
              "      <td id=\"T_beec3_row3_col4\" class=\"data row3 col4\" >0.2920</td>\n",
              "      <td id=\"T_beec3_row3_col5\" class=\"data row3 col5\" >0.2882</td>\n",
              "    </tr>\n",
              "    <tr>\n",
              "      <th id=\"T_beec3_level0_row4\" class=\"row_heading level0 row4\" >4</th>\n",
              "      <td id=\"T_beec3_row4_col0\" class=\"data row4 col0\" >2.0277</td>\n",
              "      <td id=\"T_beec3_row4_col1\" class=\"data row4 col1\" >6.8735</td>\n",
              "      <td id=\"T_beec3_row4_col2\" class=\"data row4 col2\" >2.6217</td>\n",
              "      <td id=\"T_beec3_row4_col3\" class=\"data row4 col3\" >0.8535</td>\n",
              "      <td id=\"T_beec3_row4_col4\" class=\"data row4 col4\" >0.1714</td>\n",
              "      <td id=\"T_beec3_row4_col5\" class=\"data row4 col5\" >0.1471</td>\n",
              "    </tr>\n",
              "    <tr>\n",
              "      <th id=\"T_beec3_level0_row5\" class=\"row_heading level0 row5\" >5</th>\n",
              "      <td id=\"T_beec3_row5_col0\" class=\"data row5 col0\" >4.1625</td>\n",
              "      <td id=\"T_beec3_row5_col1\" class=\"data row5 col1\" >24.7235</td>\n",
              "      <td id=\"T_beec3_row5_col2\" class=\"data row5 col2\" >4.9723</td>\n",
              "      <td id=\"T_beec3_row5_col3\" class=\"data row5 col3\" >0.7575</td>\n",
              "      <td id=\"T_beec3_row5_col4\" class=\"data row5 col4\" >0.2549</td>\n",
              "      <td id=\"T_beec3_row5_col5\" class=\"data row5 col5\" >0.2310</td>\n",
              "    </tr>\n",
              "    <tr>\n",
              "      <th id=\"T_beec3_level0_row6\" class=\"row_heading level0 row6\" >6</th>\n",
              "      <td id=\"T_beec3_row6_col0\" class=\"data row6 col0\" >3.0706</td>\n",
              "      <td id=\"T_beec3_row6_col1\" class=\"data row6 col1\" >15.1356</td>\n",
              "      <td id=\"T_beec3_row6_col2\" class=\"data row6 col2\" >3.8904</td>\n",
              "      <td id=\"T_beec3_row6_col3\" class=\"data row6 col3\" >0.7910</td>\n",
              "      <td id=\"T_beec3_row6_col4\" class=\"data row6 col4\" >0.1848</td>\n",
              "      <td id=\"T_beec3_row6_col5\" class=\"data row6 col5\" >0.1633</td>\n",
              "    </tr>\n",
              "    <tr>\n",
              "      <th id=\"T_beec3_level0_row7\" class=\"row_heading level0 row7\" >7</th>\n",
              "      <td id=\"T_beec3_row7_col0\" class=\"data row7 col0\" >2.1534</td>\n",
              "      <td id=\"T_beec3_row7_col1\" class=\"data row7 col1\" >8.2271</td>\n",
              "      <td id=\"T_beec3_row7_col2\" class=\"data row7 col2\" >2.8683</td>\n",
              "      <td id=\"T_beec3_row7_col3\" class=\"data row7 col3\" >0.6808</td>\n",
              "      <td id=\"T_beec3_row7_col4\" class=\"data row7 col4\" >0.1609</td>\n",
              "      <td id=\"T_beec3_row7_col5\" class=\"data row7 col5\" >0.1418</td>\n",
              "    </tr>\n",
              "    <tr>\n",
              "      <th id=\"T_beec3_level0_row8\" class=\"row_heading level0 row8\" >8</th>\n",
              "      <td id=\"T_beec3_row8_col0\" class=\"data row8 col0\" >2.6870</td>\n",
              "      <td id=\"T_beec3_row8_col1\" class=\"data row8 col1\" >11.6983</td>\n",
              "      <td id=\"T_beec3_row8_col2\" class=\"data row8 col2\" >3.4203</td>\n",
              "      <td id=\"T_beec3_row8_col3\" class=\"data row8 col3\" >0.7654</td>\n",
              "      <td id=\"T_beec3_row8_col4\" class=\"data row8 col4\" >0.2278</td>\n",
              "      <td id=\"T_beec3_row8_col5\" class=\"data row8 col5\" >0.2157</td>\n",
              "    </tr>\n",
              "    <tr>\n",
              "      <th id=\"T_beec3_level0_row9\" class=\"row_heading level0 row9\" >9</th>\n",
              "      <td id=\"T_beec3_row9_col0\" class=\"data row9 col0\" >4.5889</td>\n",
              "      <td id=\"T_beec3_row9_col1\" class=\"data row9 col1\" >33.9560</td>\n",
              "      <td id=\"T_beec3_row9_col2\" class=\"data row9 col2\" >5.8272</td>\n",
              "      <td id=\"T_beec3_row9_col3\" class=\"data row9 col3\" >0.7273</td>\n",
              "      <td id=\"T_beec3_row9_col4\" class=\"data row9 col4\" >0.2604</td>\n",
              "      <td id=\"T_beec3_row9_col5\" class=\"data row9 col5\" >0.2472</td>\n",
              "    </tr>\n",
              "    <tr>\n",
              "      <th id=\"T_beec3_level0_row10\" class=\"row_heading level0 row10\" >10</th>\n",
              "      <td id=\"T_beec3_row10_col0\" class=\"data row10 col0\" >3.7079</td>\n",
              "      <td id=\"T_beec3_row10_col1\" class=\"data row10 col1\" >22.6613</td>\n",
              "      <td id=\"T_beec3_row10_col2\" class=\"data row10 col2\" >4.7604</td>\n",
              "      <td id=\"T_beec3_row10_col3\" class=\"data row10 col3\" >0.6434</td>\n",
              "      <td id=\"T_beec3_row10_col4\" class=\"data row10 col4\" >0.2298</td>\n",
              "      <td id=\"T_beec3_row10_col5\" class=\"data row10 col5\" >0.1958</td>\n",
              "    </tr>\n",
              "    <tr>\n",
              "      <th id=\"T_beec3_level0_row11\" class=\"row_heading level0 row11\" >11</th>\n",
              "      <td id=\"T_beec3_row11_col0\" class=\"data row11 col0\" >2.6301</td>\n",
              "      <td id=\"T_beec3_row11_col1\" class=\"data row11 col1\" >12.3249</td>\n",
              "      <td id=\"T_beec3_row11_col2\" class=\"data row11 col2\" >3.5107</td>\n",
              "      <td id=\"T_beec3_row11_col3\" class=\"data row11 col3\" >0.8376</td>\n",
              "      <td id=\"T_beec3_row11_col4\" class=\"data row11 col4\" >0.2343</td>\n",
              "      <td id=\"T_beec3_row11_col5\" class=\"data row11 col5\" >0.2111</td>\n",
              "    </tr>\n",
              "    <tr>\n",
              "      <th id=\"T_beec3_level0_row12\" class=\"row_heading level0 row12\" >12</th>\n",
              "      <td id=\"T_beec3_row12_col0\" class=\"data row12 col0\" >2.5436</td>\n",
              "      <td id=\"T_beec3_row12_col1\" class=\"data row12 col1\" >10.7634</td>\n",
              "      <td id=\"T_beec3_row12_col2\" class=\"data row12 col2\" >3.2808</td>\n",
              "      <td id=\"T_beec3_row12_col3\" class=\"data row12 col3\" >0.8503</td>\n",
              "      <td id=\"T_beec3_row12_col4\" class=\"data row12 col4\" >0.1508</td>\n",
              "      <td id=\"T_beec3_row12_col5\" class=\"data row12 col5\" >0.1292</td>\n",
              "    </tr>\n",
              "    <tr>\n",
              "      <th id=\"T_beec3_level0_row13\" class=\"row_heading level0 row13\" >13</th>\n",
              "      <td id=\"T_beec3_row13_col0\" class=\"data row13 col0\" >4.5088</td>\n",
              "      <td id=\"T_beec3_row13_col1\" class=\"data row13 col1\" >32.0044</td>\n",
              "      <td id=\"T_beec3_row13_col2\" class=\"data row13 col2\" >5.6572</td>\n",
              "      <td id=\"T_beec3_row13_col3\" class=\"data row13 col3\" >0.7001</td>\n",
              "      <td id=\"T_beec3_row13_col4\" class=\"data row13 col4\" >0.2455</td>\n",
              "      <td id=\"T_beec3_row13_col5\" class=\"data row13 col5\" >0.2145</td>\n",
              "    </tr>\n",
              "    <tr>\n",
              "      <th id=\"T_beec3_level0_row14\" class=\"row_heading level0 row14\" >14</th>\n",
              "      <td id=\"T_beec3_row14_col0\" class=\"data row14 col0\" >2.7753</td>\n",
              "      <td id=\"T_beec3_row14_col1\" class=\"data row14 col1\" >12.4920</td>\n",
              "      <td id=\"T_beec3_row14_col2\" class=\"data row14 col2\" >3.5344</td>\n",
              "      <td id=\"T_beec3_row14_col3\" class=\"data row14 col3\" >0.7979</td>\n",
              "      <td id=\"T_beec3_row14_col4\" class=\"data row14 col4\" >0.2051</td>\n",
              "      <td id=\"T_beec3_row14_col5\" class=\"data row14 col5\" >0.1847</td>\n",
              "    </tr>\n",
              "    <tr>\n",
              "      <th id=\"T_beec3_level0_row15\" class=\"row_heading level0 row15\" >15</th>\n",
              "      <td id=\"T_beec3_row15_col0\" class=\"data row15 col0\" >2.7093</td>\n",
              "      <td id=\"T_beec3_row15_col1\" class=\"data row15 col1\" >11.9536</td>\n",
              "      <td id=\"T_beec3_row15_col2\" class=\"data row15 col2\" >3.4574</td>\n",
              "      <td id=\"T_beec3_row15_col3\" class=\"data row15 col3\" >0.7923</td>\n",
              "      <td id=\"T_beec3_row15_col4\" class=\"data row15 col4\" >0.2111</td>\n",
              "      <td id=\"T_beec3_row15_col5\" class=\"data row15 col5\" >0.1931</td>\n",
              "    </tr>\n",
              "    <tr>\n",
              "      <th id=\"T_beec3_level0_row16\" class=\"row_heading level0 row16\" >16</th>\n",
              "      <td id=\"T_beec3_row16_col0\" class=\"data row16 col0\" >3.3832</td>\n",
              "      <td id=\"T_beec3_row16_col1\" class=\"data row16 col1\" >19.0592</td>\n",
              "      <td id=\"T_beec3_row16_col2\" class=\"data row16 col2\" >4.3657</td>\n",
              "      <td id=\"T_beec3_row16_col3\" class=\"data row16 col3\" >0.8187</td>\n",
              "      <td id=\"T_beec3_row16_col4\" class=\"data row16 col4\" >0.4076</td>\n",
              "      <td id=\"T_beec3_row16_col5\" class=\"data row16 col5\" >0.4512</td>\n",
              "    </tr>\n",
              "    <tr>\n",
              "      <th id=\"T_beec3_level0_row17\" class=\"row_heading level0 row17\" >17</th>\n",
              "      <td id=\"T_beec3_row17_col0\" class=\"data row17 col0\" >2.8111</td>\n",
              "      <td id=\"T_beec3_row17_col1\" class=\"data row17 col1\" >16.6859</td>\n",
              "      <td id=\"T_beec3_row17_col2\" class=\"data row17 col2\" >4.0848</td>\n",
              "      <td id=\"T_beec3_row17_col3\" class=\"data row17 col3\" >0.6446</td>\n",
              "      <td id=\"T_beec3_row17_col4\" class=\"data row17 col4\" >0.2108</td>\n",
              "      <td id=\"T_beec3_row17_col5\" class=\"data row17 col5\" >0.1688</td>\n",
              "    </tr>\n",
              "    <tr>\n",
              "      <th id=\"T_beec3_level0_row18\" class=\"row_heading level0 row18\" >18</th>\n",
              "      <td id=\"T_beec3_row18_col0\" class=\"data row18 col0\" >2.4107</td>\n",
              "      <td id=\"T_beec3_row18_col1\" class=\"data row18 col1\" >8.9691</td>\n",
              "      <td id=\"T_beec3_row18_col2\" class=\"data row18 col2\" >2.9949</td>\n",
              "      <td id=\"T_beec3_row18_col3\" class=\"data row18 col3\" >0.8396</td>\n",
              "      <td id=\"T_beec3_row18_col4\" class=\"data row18 col4\" >0.1912</td>\n",
              "      <td id=\"T_beec3_row18_col5\" class=\"data row18 col5\" >0.1749</td>\n",
              "    </tr>\n",
              "    <tr>\n",
              "      <th id=\"T_beec3_level0_row19\" class=\"row_heading level0 row19\" >19</th>\n",
              "      <td id=\"T_beec3_row19_col0\" class=\"data row19 col0\" >2.5895</td>\n",
              "      <td id=\"T_beec3_row19_col1\" class=\"data row19 col1\" >12.4278</td>\n",
              "      <td id=\"T_beec3_row19_col2\" class=\"data row19 col2\" >3.5253</td>\n",
              "      <td id=\"T_beec3_row19_col3\" class=\"data row19 col3\" >0.7832</td>\n",
              "      <td id=\"T_beec3_row19_col4\" class=\"data row19 col4\" >0.2830</td>\n",
              "      <td id=\"T_beec3_row19_col5\" class=\"data row19 col5\" >0.2445</td>\n",
              "    </tr>\n",
              "    <tr>\n",
              "      <th id=\"T_beec3_level0_row20\" class=\"row_heading level0 row20\" >Mean</th>\n",
              "      <td id=\"T_beec3_row20_col0\" class=\"data row20 col0\" >3.0359</td>\n",
              "      <td id=\"T_beec3_row20_col1\" class=\"data row20 col1\" >16.2214</td>\n",
              "      <td id=\"T_beec3_row20_col2\" class=\"data row20 col2\" >3.9308</td>\n",
              "      <td id=\"T_beec3_row20_col3\" class=\"data row20 col3\" >0.7713</td>\n",
              "      <td id=\"T_beec3_row20_col4\" class=\"data row20 col4\" >0.2283</td>\n",
              "      <td id=\"T_beec3_row20_col5\" class=\"data row20 col5\" >0.2080</td>\n",
              "    </tr>\n",
              "    <tr>\n",
              "      <th id=\"T_beec3_level0_row21\" class=\"row_heading level0 row21\" >Std</th>\n",
              "      <td id=\"T_beec3_row21_col0\" class=\"data row21 col0\" >0.7103</td>\n",
              "      <td id=\"T_beec3_row21_col1\" class=\"data row21 col1\" >7.4554</td>\n",
              "      <td id=\"T_beec3_row21_col2\" class=\"data row21 col2\" >0.8774</td>\n",
              "      <td id=\"T_beec3_row21_col3\" class=\"data row21 col3\" >0.0619</td>\n",
              "      <td id=\"T_beec3_row21_col4\" class=\"data row21 col4\" >0.0559</td>\n",
              "      <td id=\"T_beec3_row21_col5\" class=\"data row21 col5\" >0.0686</td>\n",
              "    </tr>\n",
              "  </tbody>\n",
              "</table>\n"
            ],
            "text/plain": [
              "<pandas.io.formats.style.Styler at 0x2c3825cf650>"
            ]
          },
          "metadata": {},
          "output_type": "display_data"
        },
        {
          "data": {
            "text/html": [],
            "text/plain": [
              "<IPython.core.display.HTML object>"
            ]
          },
          "metadata": {},
          "output_type": "display_data"
        },
        {
          "name": "stdout",
          "output_type": "stream",
          "text": [
            "Fitting 20 folds for each of 60 candidates, totalling 1200 fits\n",
            "Original model was better than the tuned model, hence it will be returned. NOTE: The display metrics are for the tuned model (not the original one).\n"
          ]
        },
        {
          "data": {
            "application/vnd.jupyter.widget-view+json": {
              "model_id": "6ec92877731a47b1a787866af049352e",
              "version_major": 2,
              "version_minor": 0
            },
            "text/plain": [
              "interactive(children=(ToggleButtons(description='Plot Type:', icons=('',), options=(('Pipeline Plot', 'pipelin…"
            ]
          },
          "metadata": {},
          "output_type": "display_data"
        }
      ],
      "source": [
        "# สร้างโมเดล Gradient Boosting Regressor\n",
        "gbr_model = create_model('gbr')\n",
        "\n",
        "# ปรับค่าพารามิเตอร์ด้วย tuning - ปรับให้สมดุลระหว่าง R2 และ overfitting\n",
        "tuned_gbr = tune_model(\n",
        "    gbr_model,\n",
        "    optimize='R2',  # ใช้ค่า R-squared เป็นเกณฑ์\n",
        "    custom_grid = {\n",
        "        'learning_rate': [0.005, 0.01, 0.02],  # เพิ่ม learning rate เล็กน้อย\n",
        "        'n_estimators': [50, 75, 100],  # เพิ่มจำนวน trees\n",
        "        'subsample': [0.5, 0.6, 0.7],  # เพิ่มสัดส่วนข้อมูลที่ใช้\n",
        "        'max_depth': [3, 4, 5],  # เพิ่มความลึกของต้นไม้เล็กน้อย\n",
        "        'min_samples_split': [15, 20, 25],  # ปรับให้เหมาะสม\n",
        "        'min_samples_leaf': [10, 15, 20],  # ปรับให้เหมาะสม\n",
        "        'max_features': [0.6, 0.7, 0.8],  # เพิ่มจำนวนฟีเจอร์\n",
        "        'alpha': [0.8, 0.9, 0.95],  # ปรับ regularization\n",
        "        'min_impurity_decrease': [0.01, 0.02, 0.05]  # ลดค่าขั้นต่ำในการแบ่ง node\n",
        "    },\n",
        "    fold=15,  # ลดจำนวน folds ลงเพื่อความเร็ว\n",
        "    n_iter=60,  # ปรับจำนวนรอบให้เหมาะสม\n",
        "    early_stopping=True\n",
        ")\n",
        "\n",
        "# ประเมินผลโมเดล\n",
        "evaluate_model(tuned_gbr)"
      ]
    },
    {
      "cell_type": "code",
      "execution_count": 21,
      "metadata": {
        "colab": {
          "base_uri": "https://localhost:8080/",
          "height": 1000,
          "referenced_widgets": [
            "86e9453659354092a801778ece8a3267",
            "3fbeed5aac664f3c868f75e03d537d66",
            "9a07442792bf40c88fecb9cd39023292",
            "656a51528b9d4347809fc3002e34391b",
            "5c5f62240e6149c79f33fa429efa448c",
            "d5635cc75d4140bd873f5ee8d9f04977",
            "9615129d8ab74671b572ab99e1a2e516",
            "d95d39ef1a064adb89da54549cdc7132",
            "0c376911fb3e4efa97de00ccb41048c0",
            "0d0506596073453daeaa7b5f82ae7145",
            "ef4a5f3924844b1895d42ed086b76d41",
            "af718f545bc94d799b867fecd73b7df0",
            "50eba8d4b3964536943d802f5547676b",
            "ba0983ffb8c34caabacb8e25ef753220",
            "296c9f2b827045d3a44941b78d6ae573",
            "5bf72a6308dd4d298ddfb03fc10bf6a5",
            "5426fecd19f047a9bbdc1f07fd7a9aa5",
            "edc9b1edffd14c2ab913ecdc86b5df2a",
            "d08a8bfdb9c44b22b9387068f113790d",
            "dd1b2a7de5c047e186a28ca171250284",
            "09b8c501bc1b48788664ebd7b8b38ea5",
            "ccbba3981cef4456bfa3e19ba47d1312"
          ]
        },
        "id": "jtoFoGQklw31",
        "outputId": "55f1a705-27db-479a-fa0d-a5192e6ff2f2"
      },
      "outputs": [
        {
          "name": "stdout",
          "output_type": "stream",
          "text": [
            "Transformation Pipeline and Model Successfully Saved\n"
          ]
        },
        {
          "data": {
            "text/plain": [
              "(Pipeline(memory=Memory(location=None),\n",
              "          steps=[('numerical_imputer',\n",
              "                  TransformerWrapper(include=['humidity', 'temperature', 'day',\n",
              "                                              'pm_2_5_lag_1', 'pm_2_5_lag_2',\n",
              "                                              'pm_2_5_lag_3', 'pm_2_5_lag_4',\n",
              "                                              'pm_2_5_lag_5', 'pm_2_5_lag_6',\n",
              "                                              'pm_2_5_lag_7',\n",
              "                                              'pm_2_5_roll_rate_3'],\n",
              "                                     transformer=SimpleImputer())),\n",
              "                 ('categorical_imputer',\n",
              "                  TransformerWrapper(include=[],\n",
              "                                     transformer=SimpleImputer(strategy='most_frequent'))),\n",
              "                 ('remove_outliers',\n",
              "                  TransformerWrapper(transformer=RemoveOutliers(random_state=123))),\n",
              "                 ('trained_model', GradientBoostingRegressor(random_state=123))]),\n",
              " 'final_model.pkl')"
            ]
          },
          "execution_count": 21,
          "metadata": {},
          "output_type": "execute_result"
        }
      ],
      "source": [
        "# สร้างโมเดลสุดท้าย\n",
        "final_model = finalize_model(tuned_gbr)\n",
        "save_model(tuned_gbr, 'final_model')"
      ]
    },
    {
      "cell_type": "code",
      "execution_count": 24,
      "metadata": {},
      "outputs": [
        {
          "data": {
            "text/html": [],
            "text/plain": [
              "<IPython.core.display.HTML object>"
            ]
          },
          "metadata": {},
          "output_type": "display_data"
        },
        {
          "data": {
            "text/html": [],
            "text/plain": [
              "<IPython.core.display.HTML object>"
            ]
          },
          "metadata": {},
          "output_type": "display_data"
        },
        {
          "data": {
            "text/html": [],
            "text/plain": [
              "<IPython.core.display.HTML object>"
            ]
          },
          "metadata": {},
          "output_type": "display_data"
        },
        {
          "data": {
            "text/html": [],
            "text/plain": [
              "<IPython.core.display.HTML object>"
            ]
          },
          "metadata": {},
          "output_type": "display_data"
        },
        {
          "data": {
            "text/html": [],
            "text/plain": [
              "<IPython.core.display.HTML object>"
            ]
          },
          "metadata": {},
          "output_type": "display_data"
        },
        {
          "data": {
            "text/html": [],
            "text/plain": [
              "<IPython.core.display.HTML object>"
            ]
          },
          "metadata": {},
          "output_type": "display_data"
        },
        {
          "data": {
            "text/html": [],
            "text/plain": [
              "<IPython.core.display.HTML object>"
            ]
          },
          "metadata": {},
          "output_type": "display_data"
        },
        {
          "name": "stdout",
          "output_type": "stream",
          "text": [
            "ผลลัพธ์การทำนาย:\n",
            "            timestamp  predicted_pm_2_5\n",
            "0 2025-02-12 11:15:42         23.841678\n",
            "1 2025-02-13 11:15:42         36.269838\n",
            "2 2025-02-14 11:15:42         45.555336\n",
            "3 2025-02-15 11:15:42         44.476796\n",
            "4 2025-02-16 11:15:42         50.454374\n",
            "5 2025-02-17 11:15:42         51.857535\n",
            "6 2025-02-18 11:15:42         51.042036\n"
          ]
        }
      ],
      "source": [
        "# สร้าง future_df สำหรับการทำนาย 7 วันข้างหน้า\n",
        "last_timestamp = dataset['timestamp'].max()\n",
        "future_dates = pd.date_range(start=last_timestamp + pd.Timedelta(days=1), periods=7, freq='D')\n",
        "\n",
        "# ใช้ค่าเฉลี่ยของ 30 วันล่าสุดสำหรับ humidity และ temperature\n",
        "recent_data = dataset.sort_values('timestamp').tail(30 * 24)  # 30 วันล่าสุด\n",
        "avg_humidity = recent_data['humidity'].mean()\n",
        "avg_temperature = recent_data['temperature'].mean()\n",
        "\n",
        "# ตรวจสอบว่ามีคอลัมน์ pm_2_5 หรือไม่\n",
        "if 'pm_2_5' not in dataset.columns:\n",
        "    raise KeyError(\"คอลัมน์ 'pm_2_5' ไม่มีอยู่ใน dataset\")\n",
        "\n",
        "# คำนวณ rolling_rate_3 ล่วงหน้า\n",
        "dataset['pm_2_5_roll_rate_3'] = dataset['pm_2_5'].rolling(window=3*24, min_periods=1).mean()\n",
        "rolling_rate_3 = dataset['pm_2_5_roll_rate_3']\n",
        "\n",
        "# ทำนายทีละวัน\n",
        "predictions = []\n",
        "current_data = dataset.copy()\n",
        "\n",
        "for i, date in enumerate(future_dates):\n",
        "    new_day = pd.DataFrame({\n",
        "        'timestamp': [date],\n",
        "        'humidity': [avg_humidity],\n",
        "        'temperature': [avg_temperature],\n",
        "        'day': [date.day],\n",
        "        'hour': [0],\n",
        "    })\n",
        "\n",
        "    # สร้าง lag features\n",
        "    for lag in range(1, 8):\n",
        "        if i >= lag:\n",
        "            new_day[f'pm_2_5_lag_{lag}'] = [predictions[i - lag]]\n",
        "        else:\n",
        "            idx = -(lag - i) * 24\n",
        "            if abs(idx) > len(current_data):\n",
        "                new_day[f'pm_2_5_lag_{lag}'] = [current_data['pm_2_5'].iloc[0]]  # ใช้ค่าตัวแรกของชุดข้อมูล\n",
        "            else:\n",
        "                new_day[f'pm_2_5_lag_{lag}'] = [current_data['pm_2_5'].iloc[idx]]\n",
        "\n",
        "    # ใช้ค่า rolling_rate_3\n",
        "    if i == 0:\n",
        "        new_day['pm_2_5_roll_rate_3'] = [rolling_rate_3.iloc[-1]]\n",
        "    else:\n",
        "        new_day['pm_2_5_roll_rate_3'] = [sum(predictions[-3:]) / len(predictions[-3:]) if len(predictions) >= 3 else predictions[-1]]\n",
        "\n",
        "    # ทำนายค่า pm_2_5\n",
        "    prediction = predict_model(tuned_gbr, data=new_day)\n",
        "    predicted_value = prediction.iloc[0]['prediction_label']\n",
        "    predictions.append(predicted_value)\n",
        "\n",
        "    # เพิ่มข้อมูลที่ทำนายแล้วลงใน current_data\n",
        "    new_row = new_day.copy()\n",
        "    new_row['pm_2_5'] = predicted_value\n",
        "    current_data = pd.concat([current_data, new_row], ignore_index=True)\n",
        "\n",
        "# สร้าง DataFrame สำหรับผลลัพธ์\n",
        "result_df = pd.DataFrame({\n",
        "    'timestamp': future_dates,\n",
        "    'predicted_pm_2_5': predictions\n",
        "})\n",
        "\n",
        "print(\"ผลลัพธ์การทำนาย:\")\n",
        "print(result_df)\n"
      ]
    },
    {
      "cell_type": "code",
      "execution_count": 25,
      "metadata": {},
      "outputs": [
        {
          "data": {
            "application/vnd.plotly.v1+json": {
              "config": {
                "plotlyServerURL": "https://plot.ly"
              },
              "data": [
                {
                  "line": {
                    "color": "rgba(255, 99, 132, 0.8)",
                    "width": 2
                  },
                  "marker": {
                    "color": "rgba(255, 99, 132, 0.8)",
                    "size": 10
                  },
                  "mode": "lines+markers",
                  "name": "Predicted PM2.5",
                  "type": "scatter",
                  "x": [
                    "2025-02-12T11:15:42",
                    "2025-02-13T11:15:42",
                    "2025-02-14T11:15:42",
                    "2025-02-15T11:15:42",
                    "2025-02-16T11:15:42",
                    "2025-02-17T11:15:42",
                    "2025-02-18T11:15:42"
                  ],
                  "y": [
                    23.84167752474399,
                    36.26983785664259,
                    45.55533596510348,
                    44.47679648749527,
                    50.45437429830467,
                    51.85753529432371,
                    51.04203565790498
                  ]
                }
              ],
              "layout": {
                "font": {
                  "color": "black",
                  "family": "Arial, sans-serif",
                  "size": 12
                },
                "hovermode": "closest",
                "paper_bgcolor": "white",
                "plot_bgcolor": "white",
                "template": {
                  "data": {
                    "bar": [
                      {
                        "error_x": {
                          "color": "#2a3f5f"
                        },
                        "error_y": {
                          "color": "#2a3f5f"
                        },
                        "marker": {
                          "line": {
                            "color": "#E5ECF6",
                            "width": 0.5
                          },
                          "pattern": {
                            "fillmode": "overlay",
                            "size": 10,
                            "solidity": 0.2
                          }
                        },
                        "type": "bar"
                      }
                    ],
                    "barpolar": [
                      {
                        "marker": {
                          "line": {
                            "color": "#E5ECF6",
                            "width": 0.5
                          },
                          "pattern": {
                            "fillmode": "overlay",
                            "size": 10,
                            "solidity": 0.2
                          }
                        },
                        "type": "barpolar"
                      }
                    ],
                    "carpet": [
                      {
                        "aaxis": {
                          "endlinecolor": "#2a3f5f",
                          "gridcolor": "white",
                          "linecolor": "white",
                          "minorgridcolor": "white",
                          "startlinecolor": "#2a3f5f"
                        },
                        "baxis": {
                          "endlinecolor": "#2a3f5f",
                          "gridcolor": "white",
                          "linecolor": "white",
                          "minorgridcolor": "white",
                          "startlinecolor": "#2a3f5f"
                        },
                        "type": "carpet"
                      }
                    ],
                    "choropleth": [
                      {
                        "colorbar": {
                          "outlinewidth": 0,
                          "ticks": ""
                        },
                        "type": "choropleth"
                      }
                    ],
                    "contour": [
                      {
                        "colorbar": {
                          "outlinewidth": 0,
                          "ticks": ""
                        },
                        "colorscale": [
                          [
                            0,
                            "#0d0887"
                          ],
                          [
                            0.1111111111111111,
                            "#46039f"
                          ],
                          [
                            0.2222222222222222,
                            "#7201a8"
                          ],
                          [
                            0.3333333333333333,
                            "#9c179e"
                          ],
                          [
                            0.4444444444444444,
                            "#bd3786"
                          ],
                          [
                            0.5555555555555556,
                            "#d8576b"
                          ],
                          [
                            0.6666666666666666,
                            "#ed7953"
                          ],
                          [
                            0.7777777777777778,
                            "#fb9f3a"
                          ],
                          [
                            0.8888888888888888,
                            "#fdca26"
                          ],
                          [
                            1,
                            "#f0f921"
                          ]
                        ],
                        "type": "contour"
                      }
                    ],
                    "contourcarpet": [
                      {
                        "colorbar": {
                          "outlinewidth": 0,
                          "ticks": ""
                        },
                        "type": "contourcarpet"
                      }
                    ],
                    "heatmap": [
                      {
                        "colorbar": {
                          "outlinewidth": 0,
                          "ticks": ""
                        },
                        "colorscale": [
                          [
                            0,
                            "#0d0887"
                          ],
                          [
                            0.1111111111111111,
                            "#46039f"
                          ],
                          [
                            0.2222222222222222,
                            "#7201a8"
                          ],
                          [
                            0.3333333333333333,
                            "#9c179e"
                          ],
                          [
                            0.4444444444444444,
                            "#bd3786"
                          ],
                          [
                            0.5555555555555556,
                            "#d8576b"
                          ],
                          [
                            0.6666666666666666,
                            "#ed7953"
                          ],
                          [
                            0.7777777777777778,
                            "#fb9f3a"
                          ],
                          [
                            0.8888888888888888,
                            "#fdca26"
                          ],
                          [
                            1,
                            "#f0f921"
                          ]
                        ],
                        "type": "heatmap"
                      }
                    ],
                    "heatmapgl": [
                      {
                        "colorbar": {
                          "outlinewidth": 0,
                          "ticks": ""
                        },
                        "colorscale": [
                          [
                            0,
                            "#0d0887"
                          ],
                          [
                            0.1111111111111111,
                            "#46039f"
                          ],
                          [
                            0.2222222222222222,
                            "#7201a8"
                          ],
                          [
                            0.3333333333333333,
                            "#9c179e"
                          ],
                          [
                            0.4444444444444444,
                            "#bd3786"
                          ],
                          [
                            0.5555555555555556,
                            "#d8576b"
                          ],
                          [
                            0.6666666666666666,
                            "#ed7953"
                          ],
                          [
                            0.7777777777777778,
                            "#fb9f3a"
                          ],
                          [
                            0.8888888888888888,
                            "#fdca26"
                          ],
                          [
                            1,
                            "#f0f921"
                          ]
                        ],
                        "type": "heatmapgl"
                      }
                    ],
                    "histogram": [
                      {
                        "marker": {
                          "pattern": {
                            "fillmode": "overlay",
                            "size": 10,
                            "solidity": 0.2
                          }
                        },
                        "type": "histogram"
                      }
                    ],
                    "histogram2d": [
                      {
                        "colorbar": {
                          "outlinewidth": 0,
                          "ticks": ""
                        },
                        "colorscale": [
                          [
                            0,
                            "#0d0887"
                          ],
                          [
                            0.1111111111111111,
                            "#46039f"
                          ],
                          [
                            0.2222222222222222,
                            "#7201a8"
                          ],
                          [
                            0.3333333333333333,
                            "#9c179e"
                          ],
                          [
                            0.4444444444444444,
                            "#bd3786"
                          ],
                          [
                            0.5555555555555556,
                            "#d8576b"
                          ],
                          [
                            0.6666666666666666,
                            "#ed7953"
                          ],
                          [
                            0.7777777777777778,
                            "#fb9f3a"
                          ],
                          [
                            0.8888888888888888,
                            "#fdca26"
                          ],
                          [
                            1,
                            "#f0f921"
                          ]
                        ],
                        "type": "histogram2d"
                      }
                    ],
                    "histogram2dcontour": [
                      {
                        "colorbar": {
                          "outlinewidth": 0,
                          "ticks": ""
                        },
                        "colorscale": [
                          [
                            0,
                            "#0d0887"
                          ],
                          [
                            0.1111111111111111,
                            "#46039f"
                          ],
                          [
                            0.2222222222222222,
                            "#7201a8"
                          ],
                          [
                            0.3333333333333333,
                            "#9c179e"
                          ],
                          [
                            0.4444444444444444,
                            "#bd3786"
                          ],
                          [
                            0.5555555555555556,
                            "#d8576b"
                          ],
                          [
                            0.6666666666666666,
                            "#ed7953"
                          ],
                          [
                            0.7777777777777778,
                            "#fb9f3a"
                          ],
                          [
                            0.8888888888888888,
                            "#fdca26"
                          ],
                          [
                            1,
                            "#f0f921"
                          ]
                        ],
                        "type": "histogram2dcontour"
                      }
                    ],
                    "mesh3d": [
                      {
                        "colorbar": {
                          "outlinewidth": 0,
                          "ticks": ""
                        },
                        "type": "mesh3d"
                      }
                    ],
                    "parcoords": [
                      {
                        "line": {
                          "colorbar": {
                            "outlinewidth": 0,
                            "ticks": ""
                          }
                        },
                        "type": "parcoords"
                      }
                    ],
                    "pie": [
                      {
                        "automargin": true,
                        "type": "pie"
                      }
                    ],
                    "scatter": [
                      {
                        "fillpattern": {
                          "fillmode": "overlay",
                          "size": 10,
                          "solidity": 0.2
                        },
                        "type": "scatter"
                      }
                    ],
                    "scatter3d": [
                      {
                        "line": {
                          "colorbar": {
                            "outlinewidth": 0,
                            "ticks": ""
                          }
                        },
                        "marker": {
                          "colorbar": {
                            "outlinewidth": 0,
                            "ticks": ""
                          }
                        },
                        "type": "scatter3d"
                      }
                    ],
                    "scattercarpet": [
                      {
                        "marker": {
                          "colorbar": {
                            "outlinewidth": 0,
                            "ticks": ""
                          }
                        },
                        "type": "scattercarpet"
                      }
                    ],
                    "scattergeo": [
                      {
                        "marker": {
                          "colorbar": {
                            "outlinewidth": 0,
                            "ticks": ""
                          }
                        },
                        "type": "scattergeo"
                      }
                    ],
                    "scattergl": [
                      {
                        "marker": {
                          "colorbar": {
                            "outlinewidth": 0,
                            "ticks": ""
                          }
                        },
                        "type": "scattergl"
                      }
                    ],
                    "scattermapbox": [
                      {
                        "marker": {
                          "colorbar": {
                            "outlinewidth": 0,
                            "ticks": ""
                          }
                        },
                        "type": "scattermapbox"
                      }
                    ],
                    "scatterpolar": [
                      {
                        "marker": {
                          "colorbar": {
                            "outlinewidth": 0,
                            "ticks": ""
                          }
                        },
                        "type": "scatterpolar"
                      }
                    ],
                    "scatterpolargl": [
                      {
                        "marker": {
                          "colorbar": {
                            "outlinewidth": 0,
                            "ticks": ""
                          }
                        },
                        "type": "scatterpolargl"
                      }
                    ],
                    "scatterternary": [
                      {
                        "marker": {
                          "colorbar": {
                            "outlinewidth": 0,
                            "ticks": ""
                          }
                        },
                        "type": "scatterternary"
                      }
                    ],
                    "surface": [
                      {
                        "colorbar": {
                          "outlinewidth": 0,
                          "ticks": ""
                        },
                        "colorscale": [
                          [
                            0,
                            "#0d0887"
                          ],
                          [
                            0.1111111111111111,
                            "#46039f"
                          ],
                          [
                            0.2222222222222222,
                            "#7201a8"
                          ],
                          [
                            0.3333333333333333,
                            "#9c179e"
                          ],
                          [
                            0.4444444444444444,
                            "#bd3786"
                          ],
                          [
                            0.5555555555555556,
                            "#d8576b"
                          ],
                          [
                            0.6666666666666666,
                            "#ed7953"
                          ],
                          [
                            0.7777777777777778,
                            "#fb9f3a"
                          ],
                          [
                            0.8888888888888888,
                            "#fdca26"
                          ],
                          [
                            1,
                            "#f0f921"
                          ]
                        ],
                        "type": "surface"
                      }
                    ],
                    "table": [
                      {
                        "cells": {
                          "fill": {
                            "color": "#EBF0F8"
                          },
                          "line": {
                            "color": "white"
                          }
                        },
                        "header": {
                          "fill": {
                            "color": "#C8D4E3"
                          },
                          "line": {
                            "color": "white"
                          }
                        },
                        "type": "table"
                      }
                    ]
                  },
                  "layout": {
                    "annotationdefaults": {
                      "arrowcolor": "#2a3f5f",
                      "arrowhead": 0,
                      "arrowwidth": 1
                    },
                    "autotypenumbers": "strict",
                    "coloraxis": {
                      "colorbar": {
                        "outlinewidth": 0,
                        "ticks": ""
                      }
                    },
                    "colorscale": {
                      "diverging": [
                        [
                          0,
                          "#8e0152"
                        ],
                        [
                          0.1,
                          "#c51b7d"
                        ],
                        [
                          0.2,
                          "#de77ae"
                        ],
                        [
                          0.3,
                          "#f1b6da"
                        ],
                        [
                          0.4,
                          "#fde0ef"
                        ],
                        [
                          0.5,
                          "#f7f7f7"
                        ],
                        [
                          0.6,
                          "#e6f5d0"
                        ],
                        [
                          0.7,
                          "#b8e186"
                        ],
                        [
                          0.8,
                          "#7fbc41"
                        ],
                        [
                          0.9,
                          "#4d9221"
                        ],
                        [
                          1,
                          "#276419"
                        ]
                      ],
                      "sequential": [
                        [
                          0,
                          "#0d0887"
                        ],
                        [
                          0.1111111111111111,
                          "#46039f"
                        ],
                        [
                          0.2222222222222222,
                          "#7201a8"
                        ],
                        [
                          0.3333333333333333,
                          "#9c179e"
                        ],
                        [
                          0.4444444444444444,
                          "#bd3786"
                        ],
                        [
                          0.5555555555555556,
                          "#d8576b"
                        ],
                        [
                          0.6666666666666666,
                          "#ed7953"
                        ],
                        [
                          0.7777777777777778,
                          "#fb9f3a"
                        ],
                        [
                          0.8888888888888888,
                          "#fdca26"
                        ],
                        [
                          1,
                          "#f0f921"
                        ]
                      ],
                      "sequentialminus": [
                        [
                          0,
                          "#0d0887"
                        ],
                        [
                          0.1111111111111111,
                          "#46039f"
                        ],
                        [
                          0.2222222222222222,
                          "#7201a8"
                        ],
                        [
                          0.3333333333333333,
                          "#9c179e"
                        ],
                        [
                          0.4444444444444444,
                          "#bd3786"
                        ],
                        [
                          0.5555555555555556,
                          "#d8576b"
                        ],
                        [
                          0.6666666666666666,
                          "#ed7953"
                        ],
                        [
                          0.7777777777777778,
                          "#fb9f3a"
                        ],
                        [
                          0.8888888888888888,
                          "#fdca26"
                        ],
                        [
                          1,
                          "#f0f921"
                        ]
                      ]
                    },
                    "colorway": [
                      "#636efa",
                      "#EF553B",
                      "#00cc96",
                      "#ab63fa",
                      "#FFA15A",
                      "#19d3f3",
                      "#FF6692",
                      "#B6E880",
                      "#FF97FF",
                      "#FECB52"
                    ],
                    "font": {
                      "color": "#2a3f5f"
                    },
                    "geo": {
                      "bgcolor": "white",
                      "lakecolor": "white",
                      "landcolor": "#E5ECF6",
                      "showlakes": true,
                      "showland": true,
                      "subunitcolor": "white"
                    },
                    "hoverlabel": {
                      "align": "left"
                    },
                    "hovermode": "closest",
                    "mapbox": {
                      "style": "light"
                    },
                    "paper_bgcolor": "white",
                    "plot_bgcolor": "#E5ECF6",
                    "polar": {
                      "angularaxis": {
                        "gridcolor": "white",
                        "linecolor": "white",
                        "ticks": ""
                      },
                      "bgcolor": "#E5ECF6",
                      "radialaxis": {
                        "gridcolor": "white",
                        "linecolor": "white",
                        "ticks": ""
                      }
                    },
                    "scene": {
                      "xaxis": {
                        "backgroundcolor": "#E5ECF6",
                        "gridcolor": "white",
                        "gridwidth": 2,
                        "linecolor": "white",
                        "showbackground": true,
                        "ticks": "",
                        "zerolinecolor": "white"
                      },
                      "yaxis": {
                        "backgroundcolor": "#E5ECF6",
                        "gridcolor": "white",
                        "gridwidth": 2,
                        "linecolor": "white",
                        "showbackground": true,
                        "ticks": "",
                        "zerolinecolor": "white"
                      },
                      "zaxis": {
                        "backgroundcolor": "#E5ECF6",
                        "gridcolor": "white",
                        "gridwidth": 2,
                        "linecolor": "white",
                        "showbackground": true,
                        "ticks": "",
                        "zerolinecolor": "white"
                      }
                    },
                    "shapedefaults": {
                      "line": {
                        "color": "#2a3f5f"
                      }
                    },
                    "ternary": {
                      "aaxis": {
                        "gridcolor": "white",
                        "linecolor": "white",
                        "ticks": ""
                      },
                      "baxis": {
                        "gridcolor": "white",
                        "linecolor": "white",
                        "ticks": ""
                      },
                      "bgcolor": "#E5ECF6",
                      "caxis": {
                        "gridcolor": "white",
                        "linecolor": "white",
                        "ticks": ""
                      }
                    },
                    "title": {
                      "x": 0.05
                    },
                    "xaxis": {
                      "automargin": true,
                      "gridcolor": "white",
                      "linecolor": "white",
                      "ticks": "",
                      "title": {
                        "standoff": 15
                      },
                      "zerolinecolor": "white",
                      "zerolinewidth": 2
                    },
                    "yaxis": {
                      "automargin": true,
                      "gridcolor": "white",
                      "linecolor": "white",
                      "ticks": "",
                      "title": {
                        "standoff": 15
                      },
                      "zerolinecolor": "white",
                      "zerolinewidth": 2
                    }
                  }
                },
                "title": {
                  "text": "PM2.5 Forecast for the Next 7 Days"
                },
                "xaxis": {
                  "tickmode": "array",
                  "ticktext": [
                    "Feb 12",
                    "Feb 13",
                    "Feb 14",
                    "Feb 15",
                    "Feb 16",
                    "Feb 17",
                    "Feb 18"
                  ],
                  "tickvals": [
                    "2025-02-12T11:15:42",
                    "2025-02-13T11:15:42",
                    "2025-02-14T11:15:42",
                    "2025-02-15T11:15:42",
                    "2025-02-16T11:15:42",
                    "2025-02-17T11:15:42",
                    "2025-02-18T11:15:42"
                  ],
                  "title": {
                    "text": "Date"
                  }
                },
                "yaxis": {
                  "showgrid": true,
                  "title": {
                    "text": "PM2.5 (µg/m³)"
                  },
                  "zeroline": false
                }
              }
            }
          },
          "metadata": {},
          "output_type": "display_data"
        }
      ],
      "source": [
        "import plotly.graph_objects as go\n",
        "import pandas as pd\n",
        "\n",
        "# result_df ใช้ค่าจริงจาก predictions\n",
        "result_df = pd.DataFrame({\n",
        "    'timestamp': future_dates,  # ใช้วันที่ที่ทำนาย\n",
        "    'predicted_pm_2_5': predictions  # ใช้ค่าการทำนายจริงจาก predictions\n",
        "})\n",
        "\n",
        "# สร้างกราฟ\n",
        "fig = go.Figure()\n",
        "\n",
        "fig.add_trace(go.Scatter(\n",
        "    x=result_df['timestamp'],\n",
        "    y=result_df['predicted_pm_2_5'],\n",
        "    mode='lines+markers',\n",
        "    name='Predicted PM2.5',\n",
        "    marker=dict(color='rgba(255, 99, 132, 0.8)', size=10),\n",
        "    line=dict(width=2, color='rgba(255, 99, 132, 0.8)'),\n",
        "))\n",
        "\n",
        "fig.update_layout(\n",
        "    title='PM2.5 Forecast for the Next 7 Days',\n",
        "    xaxis_title='Date',\n",
        "    yaxis_title='PM2.5 (µg/m³)',\n",
        "    paper_bgcolor='white',\n",
        "    plot_bgcolor='white',\n",
        "    xaxis=dict(\n",
        "        tickmode='array',\n",
        "        tickvals=result_df['timestamp'],\n",
        "        ticktext=result_df['timestamp'].dt.strftime('%b %d')\n",
        "    ),\n",
        "    yaxis=dict(\n",
        "        showgrid=True,  # แสดงกริดในแกน y\n",
        "        zeroline=False,  # ไม่แสดงเส้นที่ 0\n",
        "    ),\n",
        "    font=dict(family=\"Arial, sans-serif\", size=12, color='black'),\n",
        "    hovermode='closest'  # ให้แสดงผลลัพธ์ที่ใกล้ที่สุดเมื่อ hover\n",
        ")\n",
        "\n",
        "fig.show()\n"
      ]
    },
    {
      "cell_type": "code",
      "execution_count": 27,
      "metadata": {},
      "outputs": [
        {
          "name": "stdout",
          "output_type": "stream",
          "text": [
            "Mean Absolute Error (MAE): 17.31\n",
            "Mean Squared Error (MSE): 357.41\n",
            "Root Mean Squared Error (RMSE): 18.91\n",
            "R² Score: -34.25\n"
          ]
        }
      ],
      "source": [
        "from sklearn.metrics import mean_absolute_error, mean_squared_error, r2_score\n",
        "import numpy as np\n",
        "\n",
        "# โหลดค่าจริง (ค่า pm_2_5 ของ 7 วันข้างหน้าจาก dataset จริง)\n",
        "true_values = dataset.sort_values('timestamp').tail(7)['pm_2_5'].values\n",
        "\n",
        "# โหลดค่าที่พยากรณ์ได้\n",
        "predicted_values = result_df['predicted_pm_2_5'].values\n",
        "\n",
        "# คำนวณค่าความคลาดเคลื่อน\n",
        "mae = mean_absolute_error(true_values, predicted_values)\n",
        "mse = mean_squared_error(true_values, predicted_values)\n",
        "rmse = np.sqrt(mse)\n",
        "r2 = r2_score(true_values, predicted_values)\n",
        "\n",
        "# แสดงผลลัพธ์\n",
        "print(f\"Mean Absolute Error (MAE): {mae:.2f}\")\n",
        "print(f\"Mean Squared Error (MSE): {mse:.2f}\")\n",
        "print(f\"Root Mean Squared Error (RMSE): {rmse:.2f}\")\n",
        "print(f\"R² Score: {r2:.2f}\")\n"
      ]
    }
  ],
  "metadata": {
    "colab": {
      "provenance": []
    },
    "kernelspec": {
      "display_name": "Python 3",
      "name": "python3"
    },
    "language_info": {
      "codemirror_mode": {
        "name": "ipython",
        "version": 3
      },
      "file_extension": ".py",
      "mimetype": "text/x-python",
      "name": "python",
      "nbconvert_exporter": "python",
      "pygments_lexer": "ipython3",
      "version": "3.11.9"
    },
    "widgets": {
      "application/vnd.jupyter.widget-state+json": {
        "05e9dd1144d24d03af9938f129ed4f08": {
          "model_module": "@jupyter-widgets/base",
          "model_module_version": "1.2.0",
          "model_name": "LayoutModel",
          "state": {
            "_model_module": "@jupyter-widgets/base",
            "_model_module_version": "1.2.0",
            "_model_name": "LayoutModel",
            "_view_count": null,
            "_view_module": "@jupyter-widgets/base",
            "_view_module_version": "1.2.0",
            "_view_name": "LayoutView",
            "align_content": null,
            "align_items": null,
            "align_self": null,
            "border": null,
            "bottom": null,
            "display": null,
            "flex": null,
            "flex_flow": null,
            "grid_area": null,
            "grid_auto_columns": null,
            "grid_auto_flow": null,
            "grid_auto_rows": null,
            "grid_column": null,
            "grid_gap": null,
            "grid_row": null,
            "grid_template_areas": null,
            "grid_template_columns": null,
            "grid_template_rows": null,
            "height": null,
            "justify_content": null,
            "justify_items": null,
            "left": null,
            "margin": null,
            "max_height": null,
            "max_width": null,
            "min_height": null,
            "min_width": null,
            "object_fit": null,
            "object_position": null,
            "order": null,
            "overflow": null,
            "overflow_x": null,
            "overflow_y": null,
            "padding": null,
            "right": null,
            "top": null,
            "visibility": null,
            "width": null
          }
        },
        "09b8c501bc1b48788664ebd7b8b38ea5": {
          "model_module": "@jupyter-widgets/base",
          "model_module_version": "1.2.0",
          "model_name": "LayoutModel",
          "state": {
            "_model_module": "@jupyter-widgets/base",
            "_model_module_version": "1.2.0",
            "_model_name": "LayoutModel",
            "_view_count": null,
            "_view_module": "@jupyter-widgets/base",
            "_view_module_version": "1.2.0",
            "_view_name": "LayoutView",
            "align_content": null,
            "align_items": null,
            "align_self": null,
            "border": null,
            "bottom": null,
            "display": null,
            "flex": null,
            "flex_flow": null,
            "grid_area": null,
            "grid_auto_columns": null,
            "grid_auto_flow": null,
            "grid_auto_rows": null,
            "grid_column": null,
            "grid_gap": null,
            "grid_row": null,
            "grid_template_areas": null,
            "grid_template_columns": null,
            "grid_template_rows": null,
            "height": null,
            "justify_content": null,
            "justify_items": null,
            "left": null,
            "margin": null,
            "max_height": null,
            "max_width": null,
            "min_height": null,
            "min_width": null,
            "object_fit": null,
            "object_position": null,
            "order": null,
            "overflow": null,
            "overflow_x": null,
            "overflow_y": null,
            "padding": null,
            "right": null,
            "top": null,
            "visibility": "hidden",
            "width": null
          }
        },
        "0c376911fb3e4efa97de00ccb41048c0": {
          "model_module": "@jupyter-widgets/controls",
          "model_module_version": "1.5.0",
          "model_name": "ProgressStyleModel",
          "state": {
            "_model_module": "@jupyter-widgets/controls",
            "_model_module_version": "1.5.0",
            "_model_name": "ProgressStyleModel",
            "_view_count": null,
            "_view_module": "@jupyter-widgets/base",
            "_view_module_version": "1.2.0",
            "_view_name": "StyleView",
            "bar_color": null,
            "description_width": ""
          }
        },
        "0d0506596073453daeaa7b5f82ae7145": {
          "model_module": "@jupyter-widgets/base",
          "model_module_version": "1.2.0",
          "model_name": "LayoutModel",
          "state": {
            "_model_module": "@jupyter-widgets/base",
            "_model_module_version": "1.2.0",
            "_model_name": "LayoutModel",
            "_view_count": null,
            "_view_module": "@jupyter-widgets/base",
            "_view_module_version": "1.2.0",
            "_view_name": "LayoutView",
            "align_content": null,
            "align_items": null,
            "align_self": null,
            "border": null,
            "bottom": null,
            "display": null,
            "flex": null,
            "flex_flow": null,
            "grid_area": null,
            "grid_auto_columns": null,
            "grid_auto_flow": null,
            "grid_auto_rows": null,
            "grid_column": null,
            "grid_gap": null,
            "grid_row": null,
            "grid_template_areas": null,
            "grid_template_columns": null,
            "grid_template_rows": null,
            "height": null,
            "justify_content": null,
            "justify_items": null,
            "left": null,
            "margin": null,
            "max_height": null,
            "max_width": null,
            "min_height": null,
            "min_width": null,
            "object_fit": null,
            "object_position": null,
            "order": null,
            "overflow": null,
            "overflow_x": null,
            "overflow_y": null,
            "padding": null,
            "right": null,
            "top": null,
            "visibility": null,
            "width": null
          }
        },
        "296c9f2b827045d3a44941b78d6ae573": {
          "model_module": "@jupyter-widgets/controls",
          "model_module_version": "1.5.0",
          "model_name": "DescriptionStyleModel",
          "state": {
            "_model_module": "@jupyter-widgets/controls",
            "_model_module_version": "1.5.0",
            "_model_name": "DescriptionStyleModel",
            "_view_count": null,
            "_view_module": "@jupyter-widgets/base",
            "_view_module_version": "1.2.0",
            "_view_name": "StyleView",
            "description_width": ""
          }
        },
        "37f555762c41402eae9710b84c7557dd": {
          "model_module": "@jupyter-widgets/controls",
          "model_module_version": "1.5.0",
          "model_name": "HBoxModel",
          "state": {
            "_dom_classes": [],
            "_model_module": "@jupyter-widgets/controls",
            "_model_module_version": "1.5.0",
            "_model_name": "HBoxModel",
            "_view_count": null,
            "_view_module": "@jupyter-widgets/controls",
            "_view_module_version": "1.5.0",
            "_view_name": "HBoxView",
            "box_style": "",
            "children": [
              "IPY_MODEL_3bcb09492daa46008634ca888425b23a",
              "IPY_MODEL_59506dbd6e9640399bcf5e51625ddad2",
              "IPY_MODEL_616ac439a863466a9187cc2605718975"
            ],
            "layout": "IPY_MODEL_e536bfa0afeb4f30baf6f9dd34aac79d"
          }
        },
        "3bcb09492daa46008634ca888425b23a": {
          "model_module": "@jupyter-widgets/controls",
          "model_module_version": "1.5.0",
          "model_name": "HTMLModel",
          "state": {
            "_dom_classes": [],
            "_model_module": "@jupyter-widgets/controls",
            "_model_module_version": "1.5.0",
            "_model_name": "HTMLModel",
            "_view_count": null,
            "_view_module": "@jupyter-widgets/controls",
            "_view_module_version": "1.5.0",
            "_view_name": "HTMLView",
            "description": "",
            "description_tooltip": null,
            "layout": "IPY_MODEL_5d79076c68074175b1b6a50cb1c36e18",
            "placeholder": "​",
            "style": "IPY_MODEL_4c3b34947c724e14b7ac702356bac345",
            "value": "Processing:   0%"
          }
        },
        "3fbeed5aac664f3c868f75e03d537d66": {
          "model_module": "@jupyter-widgets/controls",
          "model_module_version": "1.5.0",
          "model_name": "HTMLModel",
          "state": {
            "_dom_classes": [],
            "_model_module": "@jupyter-widgets/controls",
            "_model_module_version": "1.5.0",
            "_model_name": "HTMLModel",
            "_view_count": null,
            "_view_module": "@jupyter-widgets/controls",
            "_view_module_version": "1.5.0",
            "_view_name": "HTMLView",
            "description": "",
            "description_tooltip": null,
            "layout": "IPY_MODEL_d5635cc75d4140bd873f5ee8d9f04977",
            "placeholder": "​",
            "style": "IPY_MODEL_9615129d8ab74671b572ab99e1a2e516",
            "value": "Processing: 100%"
          }
        },
        "43f450c9c2e2489fa7bcf81d55074596": {
          "model_module": "@jupyter-widgets/controls",
          "model_module_version": "1.5.0",
          "model_name": "VBoxModel",
          "state": {
            "_dom_classes": [
              "widget-interact"
            ],
            "_model_module": "@jupyter-widgets/controls",
            "_model_module_version": "1.5.0",
            "_model_name": "VBoxModel",
            "_view_count": null,
            "_view_module": "@jupyter-widgets/controls",
            "_view_module_version": "1.5.0",
            "_view_name": "VBoxView",
            "box_style": "",
            "children": [
              "IPY_MODEL_a3c36d988d594235919df2d12a28d72f",
              "IPY_MODEL_c14d2dca9ec440b48f9421d1fb48068d"
            ],
            "layout": "IPY_MODEL_70ed0c7d93d44a66b3a38ab93b9ef75c"
          }
        },
        "4b236a604d4a4b2ca2bd219c4d4a618a": {
          "model_module": "@jupyter-widgets/controls",
          "model_module_version": "1.5.0",
          "model_name": "DescriptionStyleModel",
          "state": {
            "_model_module": "@jupyter-widgets/controls",
            "_model_module_version": "1.5.0",
            "_model_name": "DescriptionStyleModel",
            "_view_count": null,
            "_view_module": "@jupyter-widgets/base",
            "_view_module_version": "1.2.0",
            "_view_name": "StyleView",
            "description_width": ""
          }
        },
        "4c3b34947c724e14b7ac702356bac345": {
          "model_module": "@jupyter-widgets/controls",
          "model_module_version": "1.5.0",
          "model_name": "DescriptionStyleModel",
          "state": {
            "_model_module": "@jupyter-widgets/controls",
            "_model_module_version": "1.5.0",
            "_model_name": "DescriptionStyleModel",
            "_view_count": null,
            "_view_module": "@jupyter-widgets/base",
            "_view_module_version": "1.2.0",
            "_view_name": "StyleView",
            "description_width": ""
          }
        },
        "50eba8d4b3964536943d802f5547676b": {
          "model_module": "@jupyter-widgets/controls",
          "model_module_version": "1.5.0",
          "model_name": "ProgressStyleModel",
          "state": {
            "_model_module": "@jupyter-widgets/controls",
            "_model_module_version": "1.5.0",
            "_model_name": "ProgressStyleModel",
            "_view_count": null,
            "_view_module": "@jupyter-widgets/base",
            "_view_module_version": "1.2.0",
            "_view_name": "StyleView",
            "bar_color": null,
            "description_width": ""
          }
        },
        "5426fecd19f047a9bbdc1f07fd7a9aa5": {
          "model_module": "@jupyter-widgets/controls",
          "model_module_version": "1.5.0",
          "model_name": "DescriptionStyleModel",
          "state": {
            "_model_module": "@jupyter-widgets/controls",
            "_model_module_version": "1.5.0",
            "_model_name": "DescriptionStyleModel",
            "_view_count": null,
            "_view_module": "@jupyter-widgets/base",
            "_view_module_version": "1.2.0",
            "_view_name": "StyleView",
            "description_width": ""
          }
        },
        "54623cdec42249dbbd195e461adc56b2": {
          "model_module": "@jupyter-widgets/controls",
          "model_module_version": "1.5.0",
          "model_name": "HBoxModel",
          "state": {
            "_dom_classes": [],
            "_model_module": "@jupyter-widgets/controls",
            "_model_module_version": "1.5.0",
            "_model_name": "HBoxModel",
            "_view_count": null,
            "_view_module": "@jupyter-widgets/controls",
            "_view_module_version": "1.5.0",
            "_view_name": "HBoxView",
            "box_style": "",
            "children": [
              "IPY_MODEL_86de730fd67040dcb845142db2d8960a",
              "IPY_MODEL_e8b18739d59c454a888cb1f70accb87c",
              "IPY_MODEL_c2b72f0f9b604ea58b51440c623f827a"
            ],
            "layout": "IPY_MODEL_b529898fa5114f2f944c74dc0fe37a21"
          }
        },
        "59506dbd6e9640399bcf5e51625ddad2": {
          "model_module": "@jupyter-widgets/controls",
          "model_module_version": "1.5.0",
          "model_name": "FloatProgressModel",
          "state": {
            "_dom_classes": [],
            "_model_module": "@jupyter-widgets/controls",
            "_model_module_version": "1.5.0",
            "_model_name": "FloatProgressModel",
            "_view_count": null,
            "_view_module": "@jupyter-widgets/controls",
            "_view_module_version": "1.5.0",
            "_view_name": "ProgressView",
            "bar_style": "",
            "description": "",
            "description_tooltip": null,
            "layout": "IPY_MODEL_78f14e851f6540f7b541a65bc178571a",
            "max": 7,
            "min": 0,
            "orientation": "horizontal",
            "style": "IPY_MODEL_80e40398c2114a6da4d6025dd85568e0",
            "value": 0
          }
        },
        "5bf72a6308dd4d298ddfb03fc10bf6a5": {
          "model_module": "@jupyter-widgets/base",
          "model_module_version": "1.2.0",
          "model_name": "LayoutModel",
          "state": {
            "_model_module": "@jupyter-widgets/base",
            "_model_module_version": "1.2.0",
            "_model_name": "LayoutModel",
            "_view_count": null,
            "_view_module": "@jupyter-widgets/base",
            "_view_module_version": "1.2.0",
            "_view_name": "LayoutView",
            "align_content": null,
            "align_items": null,
            "align_self": null,
            "border": null,
            "bottom": null,
            "display": null,
            "flex": null,
            "flex_flow": null,
            "grid_area": null,
            "grid_auto_columns": null,
            "grid_auto_flow": null,
            "grid_auto_rows": null,
            "grid_column": null,
            "grid_gap": null,
            "grid_row": null,
            "grid_template_areas": null,
            "grid_template_columns": null,
            "grid_template_rows": null,
            "height": null,
            "justify_content": null,
            "justify_items": null,
            "left": null,
            "margin": null,
            "max_height": null,
            "max_width": null,
            "min_height": null,
            "min_width": null,
            "object_fit": null,
            "object_position": null,
            "order": null,
            "overflow": null,
            "overflow_x": null,
            "overflow_y": null,
            "padding": null,
            "right": null,
            "top": null,
            "visibility": null,
            "width": null
          }
        },
        "5c5f62240e6149c79f33fa429efa448c": {
          "model_module": "@jupyter-widgets/base",
          "model_module_version": "1.2.0",
          "model_name": "LayoutModel",
          "state": {
            "_model_module": "@jupyter-widgets/base",
            "_model_module_version": "1.2.0",
            "_model_name": "LayoutModel",
            "_view_count": null,
            "_view_module": "@jupyter-widgets/base",
            "_view_module_version": "1.2.0",
            "_view_name": "LayoutView",
            "align_content": null,
            "align_items": null,
            "align_self": null,
            "border": null,
            "bottom": null,
            "display": null,
            "flex": null,
            "flex_flow": null,
            "grid_area": null,
            "grid_auto_columns": null,
            "grid_auto_flow": null,
            "grid_auto_rows": null,
            "grid_column": null,
            "grid_gap": null,
            "grid_row": null,
            "grid_template_areas": null,
            "grid_template_columns": null,
            "grid_template_rows": null,
            "height": null,
            "justify_content": null,
            "justify_items": null,
            "left": null,
            "margin": null,
            "max_height": null,
            "max_width": null,
            "min_height": null,
            "min_width": null,
            "object_fit": null,
            "object_position": null,
            "order": null,
            "overflow": null,
            "overflow_x": null,
            "overflow_y": null,
            "padding": null,
            "right": null,
            "top": null,
            "visibility": "hidden",
            "width": null
          }
        },
        "5d79076c68074175b1b6a50cb1c36e18": {
          "model_module": "@jupyter-widgets/base",
          "model_module_version": "1.2.0",
          "model_name": "LayoutModel",
          "state": {
            "_model_module": "@jupyter-widgets/base",
            "_model_module_version": "1.2.0",
            "_model_name": "LayoutModel",
            "_view_count": null,
            "_view_module": "@jupyter-widgets/base",
            "_view_module_version": "1.2.0",
            "_view_name": "LayoutView",
            "align_content": null,
            "align_items": null,
            "align_self": null,
            "border": null,
            "bottom": null,
            "display": null,
            "flex": null,
            "flex_flow": null,
            "grid_area": null,
            "grid_auto_columns": null,
            "grid_auto_flow": null,
            "grid_auto_rows": null,
            "grid_column": null,
            "grid_gap": null,
            "grid_row": null,
            "grid_template_areas": null,
            "grid_template_columns": null,
            "grid_template_rows": null,
            "height": null,
            "justify_content": null,
            "justify_items": null,
            "left": null,
            "margin": null,
            "max_height": null,
            "max_width": null,
            "min_height": null,
            "min_width": null,
            "object_fit": null,
            "object_position": null,
            "order": null,
            "overflow": null,
            "overflow_x": null,
            "overflow_y": null,
            "padding": null,
            "right": null,
            "top": null,
            "visibility": null,
            "width": null
          }
        },
        "616ac439a863466a9187cc2605718975": {
          "model_module": "@jupyter-widgets/controls",
          "model_module_version": "1.5.0",
          "model_name": "HTMLModel",
          "state": {
            "_dom_classes": [],
            "_model_module": "@jupyter-widgets/controls",
            "_model_module_version": "1.5.0",
            "_model_name": "HTMLModel",
            "_view_count": null,
            "_view_module": "@jupyter-widgets/controls",
            "_view_module_version": "1.5.0",
            "_view_name": "HTMLView",
            "description": "",
            "description_tooltip": null,
            "layout": "IPY_MODEL_fcf6090214dd4b37a06d25352f09bb68",
            "placeholder": "​",
            "style": "IPY_MODEL_bdd7dbb2a83f47fe8cb36ddd52293003",
            "value": " 0/7 [00:00&lt;?, ?it/s]"
          }
        },
        "656a51528b9d4347809fc3002e34391b": {
          "model_module": "@jupyter-widgets/controls",
          "model_module_version": "1.5.0",
          "model_name": "HTMLModel",
          "state": {
            "_dom_classes": [],
            "_model_module": "@jupyter-widgets/controls",
            "_model_module_version": "1.5.0",
            "_model_name": "HTMLModel",
            "_view_count": null,
            "_view_module": "@jupyter-widgets/controls",
            "_view_module_version": "1.5.0",
            "_view_name": "HTMLView",
            "description": "",
            "description_tooltip": null,
            "layout": "IPY_MODEL_0d0506596073453daeaa7b5f82ae7145",
            "placeholder": "​",
            "style": "IPY_MODEL_ef4a5f3924844b1895d42ed086b76d41",
            "value": " 81/81 [00:14&lt;00:00,  4.84it/s]"
          }
        },
        "6a1f1f75967744a0a61cc80affd96350": {
          "model_module": "@jupyter-widgets/controls",
          "model_module_version": "1.5.0",
          "model_name": "DescriptionStyleModel",
          "state": {
            "_model_module": "@jupyter-widgets/controls",
            "_model_module_version": "1.5.0",
            "_model_name": "DescriptionStyleModel",
            "_view_count": null,
            "_view_module": "@jupyter-widgets/base",
            "_view_module_version": "1.2.0",
            "_view_name": "StyleView",
            "description_width": ""
          }
        },
        "70ed0c7d93d44a66b3a38ab93b9ef75c": {
          "model_module": "@jupyter-widgets/base",
          "model_module_version": "1.2.0",
          "model_name": "LayoutModel",
          "state": {
            "_model_module": "@jupyter-widgets/base",
            "_model_module_version": "1.2.0",
            "_model_name": "LayoutModel",
            "_view_count": null,
            "_view_module": "@jupyter-widgets/base",
            "_view_module_version": "1.2.0",
            "_view_name": "LayoutView",
            "align_content": null,
            "align_items": null,
            "align_self": null,
            "border": null,
            "bottom": null,
            "display": null,
            "flex": null,
            "flex_flow": null,
            "grid_area": null,
            "grid_auto_columns": null,
            "grid_auto_flow": null,
            "grid_auto_rows": null,
            "grid_column": null,
            "grid_gap": null,
            "grid_row": null,
            "grid_template_areas": null,
            "grid_template_columns": null,
            "grid_template_rows": null,
            "height": null,
            "justify_content": null,
            "justify_items": null,
            "left": null,
            "margin": null,
            "max_height": null,
            "max_width": null,
            "min_height": null,
            "min_width": null,
            "object_fit": null,
            "object_position": null,
            "order": null,
            "overflow": null,
            "overflow_x": null,
            "overflow_y": null,
            "padding": null,
            "right": null,
            "top": null,
            "visibility": null,
            "width": null
          }
        },
        "78f14e851f6540f7b541a65bc178571a": {
          "model_module": "@jupyter-widgets/base",
          "model_module_version": "1.2.0",
          "model_name": "LayoutModel",
          "state": {
            "_model_module": "@jupyter-widgets/base",
            "_model_module_version": "1.2.0",
            "_model_name": "LayoutModel",
            "_view_count": null,
            "_view_module": "@jupyter-widgets/base",
            "_view_module_version": "1.2.0",
            "_view_name": "LayoutView",
            "align_content": null,
            "align_items": null,
            "align_self": null,
            "border": null,
            "bottom": null,
            "display": null,
            "flex": null,
            "flex_flow": null,
            "grid_area": null,
            "grid_auto_columns": null,
            "grid_auto_flow": null,
            "grid_auto_rows": null,
            "grid_column": null,
            "grid_gap": null,
            "grid_row": null,
            "grid_template_areas": null,
            "grid_template_columns": null,
            "grid_template_rows": null,
            "height": null,
            "justify_content": null,
            "justify_items": null,
            "left": null,
            "margin": null,
            "max_height": null,
            "max_width": null,
            "min_height": null,
            "min_width": null,
            "object_fit": null,
            "object_position": null,
            "order": null,
            "overflow": null,
            "overflow_x": null,
            "overflow_y": null,
            "padding": null,
            "right": null,
            "top": null,
            "visibility": null,
            "width": null
          }
        },
        "80e40398c2114a6da4d6025dd85568e0": {
          "model_module": "@jupyter-widgets/controls",
          "model_module_version": "1.5.0",
          "model_name": "ProgressStyleModel",
          "state": {
            "_model_module": "@jupyter-widgets/controls",
            "_model_module_version": "1.5.0",
            "_model_name": "ProgressStyleModel",
            "_view_count": null,
            "_view_module": "@jupyter-widgets/base",
            "_view_module_version": "1.2.0",
            "_view_name": "StyleView",
            "bar_color": null,
            "description_width": ""
          }
        },
        "86de730fd67040dcb845142db2d8960a": {
          "model_module": "@jupyter-widgets/controls",
          "model_module_version": "1.5.0",
          "model_name": "HTMLModel",
          "state": {
            "_dom_classes": [],
            "_model_module": "@jupyter-widgets/controls",
            "_model_module_version": "1.5.0",
            "_model_name": "HTMLModel",
            "_view_count": null,
            "_view_module": "@jupyter-widgets/controls",
            "_view_module_version": "1.5.0",
            "_view_name": "HTMLView",
            "description": "",
            "description_tooltip": null,
            "layout": "IPY_MODEL_05e9dd1144d24d03af9938f129ed4f08",
            "placeholder": "​",
            "style": "IPY_MODEL_6a1f1f75967744a0a61cc80affd96350",
            "value": "Processing: 100%"
          }
        },
        "86e9453659354092a801778ece8a3267": {
          "model_module": "@jupyter-widgets/controls",
          "model_module_version": "1.5.0",
          "model_name": "HBoxModel",
          "state": {
            "_dom_classes": [],
            "_model_module": "@jupyter-widgets/controls",
            "_model_module_version": "1.5.0",
            "_model_name": "HBoxModel",
            "_view_count": null,
            "_view_module": "@jupyter-widgets/controls",
            "_view_module_version": "1.5.0",
            "_view_name": "HBoxView",
            "box_style": "",
            "children": [
              "IPY_MODEL_3fbeed5aac664f3c868f75e03d537d66",
              "IPY_MODEL_9a07442792bf40c88fecb9cd39023292",
              "IPY_MODEL_656a51528b9d4347809fc3002e34391b"
            ],
            "layout": "IPY_MODEL_5c5f62240e6149c79f33fa429efa448c"
          }
        },
        "8800d94ea0404ae89e69c8e109cb5dc4": {
          "model_module": "@jupyter-widgets/base",
          "model_module_version": "1.2.0",
          "model_name": "LayoutModel",
          "state": {
            "_model_module": "@jupyter-widgets/base",
            "_model_module_version": "1.2.0",
            "_model_name": "LayoutModel",
            "_view_count": null,
            "_view_module": "@jupyter-widgets/base",
            "_view_module_version": "1.2.0",
            "_view_name": "LayoutView",
            "align_content": null,
            "align_items": null,
            "align_self": null,
            "border": null,
            "bottom": null,
            "display": null,
            "flex": null,
            "flex_flow": null,
            "grid_area": null,
            "grid_auto_columns": null,
            "grid_auto_flow": null,
            "grid_auto_rows": null,
            "grid_column": null,
            "grid_gap": null,
            "grid_row": null,
            "grid_template_areas": null,
            "grid_template_columns": null,
            "grid_template_rows": null,
            "height": null,
            "justify_content": null,
            "justify_items": null,
            "left": null,
            "margin": null,
            "max_height": null,
            "max_width": null,
            "min_height": null,
            "min_width": null,
            "object_fit": null,
            "object_position": null,
            "order": null,
            "overflow": null,
            "overflow_x": null,
            "overflow_y": null,
            "padding": null,
            "right": null,
            "top": null,
            "visibility": null,
            "width": null
          }
        },
        "9615129d8ab74671b572ab99e1a2e516": {
          "model_module": "@jupyter-widgets/controls",
          "model_module_version": "1.5.0",
          "model_name": "DescriptionStyleModel",
          "state": {
            "_model_module": "@jupyter-widgets/controls",
            "_model_module_version": "1.5.0",
            "_model_name": "DescriptionStyleModel",
            "_view_count": null,
            "_view_module": "@jupyter-widgets/base",
            "_view_module_version": "1.2.0",
            "_view_name": "StyleView",
            "description_width": ""
          }
        },
        "9a07442792bf40c88fecb9cd39023292": {
          "model_module": "@jupyter-widgets/controls",
          "model_module_version": "1.5.0",
          "model_name": "FloatProgressModel",
          "state": {
            "_dom_classes": [],
            "_model_module": "@jupyter-widgets/controls",
            "_model_module_version": "1.5.0",
            "_model_name": "FloatProgressModel",
            "_view_count": null,
            "_view_module": "@jupyter-widgets/controls",
            "_view_module_version": "1.5.0",
            "_view_name": "ProgressView",
            "bar_style": "",
            "description": "",
            "description_tooltip": null,
            "layout": "IPY_MODEL_d95d39ef1a064adb89da54549cdc7132",
            "max": 81,
            "min": 0,
            "orientation": "horizontal",
            "style": "IPY_MODEL_0c376911fb3e4efa97de00ccb41048c0",
            "value": 81
          }
        },
        "9df793f102b0499dae76ff082b7f387a": {
          "model_module": "@jupyter-widgets/base",
          "model_module_version": "1.2.0",
          "model_name": "LayoutModel",
          "state": {
            "_model_module": "@jupyter-widgets/base",
            "_model_module_version": "1.2.0",
            "_model_name": "LayoutModel",
            "_view_count": null,
            "_view_module": "@jupyter-widgets/base",
            "_view_module_version": "1.2.0",
            "_view_name": "LayoutView",
            "align_content": null,
            "align_items": null,
            "align_self": null,
            "border": null,
            "bottom": null,
            "display": null,
            "flex": null,
            "flex_flow": null,
            "grid_area": null,
            "grid_auto_columns": null,
            "grid_auto_flow": null,
            "grid_auto_rows": null,
            "grid_column": null,
            "grid_gap": null,
            "grid_row": null,
            "grid_template_areas": null,
            "grid_template_columns": null,
            "grid_template_rows": null,
            "height": null,
            "justify_content": null,
            "justify_items": null,
            "left": null,
            "margin": null,
            "max_height": null,
            "max_width": null,
            "min_height": null,
            "min_width": null,
            "object_fit": null,
            "object_position": null,
            "order": null,
            "overflow": null,
            "overflow_x": null,
            "overflow_y": null,
            "padding": null,
            "right": null,
            "top": null,
            "visibility": null,
            "width": null
          }
        },
        "a3c36d988d594235919df2d12a28d72f": {
          "model_module": "@jupyter-widgets/controls",
          "model_module_version": "1.5.0",
          "model_name": "ToggleButtonsModel",
          "state": {
            "_dom_classes": [],
            "_model_module": "@jupyter-widgets/controls",
            "_model_module_version": "1.5.0",
            "_model_name": "ToggleButtonsModel",
            "_options_labels": [
              "Pipeline Plot",
              "Hyperparameters",
              "Residuals",
              "Prediction Error",
              "Cooks Distance",
              "Feature Selection",
              "Learning Curve",
              "Manifold Learning",
              "Validation Curve",
              "Feature Importance",
              "Feature Importance (All)",
              "Decision Tree",
              "Interactive Residuals"
            ],
            "_view_count": null,
            "_view_module": "@jupyter-widgets/controls",
            "_view_module_version": "1.5.0",
            "_view_name": "ToggleButtonsView",
            "button_style": "",
            "description": "Plot Type:",
            "description_tooltip": null,
            "disabled": false,
            "icons": [
              ""
            ],
            "index": 7,
            "layout": "IPY_MODEL_eccdafd03a314753862ac0cdb8281a67",
            "style": "IPY_MODEL_e7e6a6bf99724351bdd0a1a896e06e20",
            "tooltips": []
          }
        },
        "af718f545bc94d799b867fecd73b7df0": {
          "model_module": "@jupyter-widgets/base",
          "model_module_version": "1.2.0",
          "model_name": "LayoutModel",
          "state": {
            "_model_module": "@jupyter-widgets/base",
            "_model_module_version": "1.2.0",
            "_model_name": "LayoutModel",
            "_view_count": null,
            "_view_module": "@jupyter-widgets/base",
            "_view_module_version": "1.2.0",
            "_view_name": "LayoutView",
            "align_content": null,
            "align_items": null,
            "align_self": null,
            "border": null,
            "bottom": null,
            "display": null,
            "flex": null,
            "flex_flow": null,
            "grid_area": null,
            "grid_auto_columns": null,
            "grid_auto_flow": null,
            "grid_auto_rows": null,
            "grid_column": null,
            "grid_gap": null,
            "grid_row": null,
            "grid_template_areas": null,
            "grid_template_columns": null,
            "grid_template_rows": null,
            "height": null,
            "justify_content": null,
            "justify_items": null,
            "left": null,
            "margin": null,
            "max_height": null,
            "max_width": null,
            "min_height": null,
            "min_width": null,
            "object_fit": null,
            "object_position": null,
            "order": null,
            "overflow": null,
            "overflow_x": null,
            "overflow_y": null,
            "padding": null,
            "right": null,
            "top": null,
            "visibility": null,
            "width": null
          }
        },
        "b529898fa5114f2f944c74dc0fe37a21": {
          "model_module": "@jupyter-widgets/base",
          "model_module_version": "1.2.0",
          "model_name": "LayoutModel",
          "state": {
            "_model_module": "@jupyter-widgets/base",
            "_model_module_version": "1.2.0",
            "_model_name": "LayoutModel",
            "_view_count": null,
            "_view_module": "@jupyter-widgets/base",
            "_view_module_version": "1.2.0",
            "_view_name": "LayoutView",
            "align_content": null,
            "align_items": null,
            "align_self": null,
            "border": null,
            "bottom": null,
            "display": null,
            "flex": null,
            "flex_flow": null,
            "grid_area": null,
            "grid_auto_columns": null,
            "grid_auto_flow": null,
            "grid_auto_rows": null,
            "grid_column": null,
            "grid_gap": null,
            "grid_row": null,
            "grid_template_areas": null,
            "grid_template_columns": null,
            "grid_template_rows": null,
            "height": null,
            "justify_content": null,
            "justify_items": null,
            "left": null,
            "margin": null,
            "max_height": null,
            "max_width": null,
            "min_height": null,
            "min_width": null,
            "object_fit": null,
            "object_position": null,
            "order": null,
            "overflow": null,
            "overflow_x": null,
            "overflow_y": null,
            "padding": null,
            "right": null,
            "top": null,
            "visibility": "hidden",
            "width": null
          }
        },
        "ba0983ffb8c34caabacb8e25ef753220": {
          "model_module": "@jupyter-widgets/base",
          "model_module_version": "1.2.0",
          "model_name": "LayoutModel",
          "state": {
            "_model_module": "@jupyter-widgets/base",
            "_model_module_version": "1.2.0",
            "_model_name": "LayoutModel",
            "_view_count": null,
            "_view_module": "@jupyter-widgets/base",
            "_view_module_version": "1.2.0",
            "_view_name": "LayoutView",
            "align_content": null,
            "align_items": null,
            "align_self": null,
            "border": null,
            "bottom": null,
            "display": null,
            "flex": null,
            "flex_flow": null,
            "grid_area": null,
            "grid_auto_columns": null,
            "grid_auto_flow": null,
            "grid_auto_rows": null,
            "grid_column": null,
            "grid_gap": null,
            "grid_row": null,
            "grid_template_areas": null,
            "grid_template_columns": null,
            "grid_template_rows": null,
            "height": null,
            "justify_content": null,
            "justify_items": null,
            "left": null,
            "margin": null,
            "max_height": null,
            "max_width": null,
            "min_height": null,
            "min_width": null,
            "object_fit": null,
            "object_position": null,
            "order": null,
            "overflow": null,
            "overflow_x": null,
            "overflow_y": null,
            "padding": null,
            "right": null,
            "top": null,
            "visibility": null,
            "width": null
          }
        },
        "bdd7dbb2a83f47fe8cb36ddd52293003": {
          "model_module": "@jupyter-widgets/controls",
          "model_module_version": "1.5.0",
          "model_name": "DescriptionStyleModel",
          "state": {
            "_model_module": "@jupyter-widgets/controls",
            "_model_module_version": "1.5.0",
            "_model_name": "DescriptionStyleModel",
            "_view_count": null,
            "_view_module": "@jupyter-widgets/base",
            "_view_module_version": "1.2.0",
            "_view_name": "StyleView",
            "description_width": ""
          }
        },
        "c14d2dca9ec440b48f9421d1fb48068d": {
          "model_module": "@jupyter-widgets/output",
          "model_module_version": "1.0.0",
          "model_name": "OutputModel",
          "state": {
            "_dom_classes": [],
            "_model_module": "@jupyter-widgets/output",
            "_model_module_version": "1.0.0",
            "_model_name": "OutputModel",
            "_view_count": null,
            "_view_module": "@jupyter-widgets/output",
            "_view_module_version": "1.0.0",
            "_view_name": "OutputView",
            "layout": "IPY_MODEL_8800d94ea0404ae89e69c8e109cb5dc4",
            "msg_id": "",
            "outputs": [
              {
                "data": {
                  "image/png": "iVBORw0KGgoAAAANSUhEUgAAArgAAAH7CAYAAAAn5OxwAAAAOXRFWHRTb2Z0d2FyZQBNYXRwbG90bGliIHZlcnNpb24zLjcuNSwgaHR0cHM6Ly9tYXRwbG90bGliLm9yZy/xnp5ZAAAACXBIWXMAAA9hAAAPYQGoP6dpAACc8ElEQVR4nOzdeVyU1f4H8M/sOzuyySKiiArupWWW5c1WLa91yzazblY3M6tfme1lu63WrbSytDJb1Mw2M1tuZYvmgoobuwjKNsCszPL8/hgZGZkZBgRmgM/79fIlPM95Zs4cUD585zzniARBEEBERERE1EOIg90BIiIiIqKOxIBLRERERD0KAy4RERER9SgMuERERETUozDgEhEREVGPwoBLRERERD0KAy4RERER9SgMuERERETUozDgEhEREVGPIg12B4goeObPn481a9a0OK7T6TBs2DDceuutGDVqVKvtm8ydOxe33norFi9ejFdffdXvc3/11Vfo37+/+/OCggIsXboUmzdvRlVVFcLCwtC/f39Mnz4dU6dOBQC88cYbePHFF7FhwwakpqZ6fdxnnnkGK1aswI8//oiYmJgW56uqqnD77bdj165duPTSS/Hoo4/67WdbrV69Gvfdd5/fNkuXLsWECRM69Hlb88cff+Daa69ttd3333+Pvn37dkGPfPM1hgqFAgMGDMCMGTPwz3/+Mwg9I6LuggGXqJeLiorCunXr3J87nU6UlpbijTfewHXXXYcPP/wQOTk5Pts3p9FoPD7ftGkT5HK5z+dt8sMPP2Du3LkYN24cnnzySaSmpqKqqgrr16/H/Pnz8csvv+C5557DpZdeildeeQWrV6/GvHnzWjym3W7HF198gbPOOstruAWANWvWYOvWrViyZAmGDRvme2BO0gcffOAzhIeHhwf8OPfeey/69u2LOXPmnFR/RowYgV9++cX9+R9//IG77roLixcvxogRI9zHm39dgu3EMayursbatWuxYMECGI3GgAI7EfVODLhEvZxYLEZsbKzHsbi4OCxevBgTJkzAihUr8Nxzz/lt70tMTAwUCoXfNpWVlbj77rsxceJEvPTSSxCJRACApKQkDBs2DCkpKVi4cCGmTZuGcePG4YwzzsC6deswd+5ciMWes6x++eUXVFZW4rLLLvP5fPX19QCAM888M6DX0F6RkZEBj5M/27Zt65CKqlwu9+hPWFgYAFfY7oh+doYTxzA2Nhbz58/HgQMH8PbbbzPgEpFPnINLRF6pVCqkpqaioqKiU5/n448/hslkwvz5893htrmrrroKmzZtwrhx4wAAl112GQ4fPozff/+9RdvVq1cjPj4e48eP9/pc11xzDZYsWQIAyMzMxPz58wEAR44cwV133YWxY8di6NChmDRpEl555RXY7Xb3tWeffTYWLlyI++67D8OGDcOmTZtO6nXX19djwoQJuPvuuz2O33fffTj99NNRU1ODzMxMFBcX49VXX0VmZiYOHTqExYsXY/To0di4cSPGjx+P22+/HQBgNBqxcOFCnHHGGRgyZAgmTJiABQsWoLa2ts19y8zMxJIlSzB79mxkZ2dj3759AIDCwkLMmTMHEyZMQE5ODqZNm9ZiHAwGAx5//HFMnjwZ2dnZmDRpEpYsWQJBENxt/vzzT1x99dUYM2YMhg8fjksvvRRffvllm/p35MgROJ1O97Gff/4ZV199NU455RSMHDkS//73v5Gfn+9x3caNG3H++ecjOzsbF110EX766SfccMMNuOaaazrkta9atQoXX3wxhg8fjjFjxmDWrFnYvXt3m173Dz/8gMsvvxw5OTkYPnw4rrzySvz666/u83/88QcyMzPx9ddf4+KLL3b/uyAiTwy4RORVY2MjSktLkZiY2KnP8+effyIzMxMJCQlez4vFYiQlJbk/b5p+sHr1ao92dXV1+OGHH3DppZdCIpF4fazFixfj6quvBuCq9t5///2wWq249tprkZeXhxdeeAFfffUVbrzxRixdutSjcg0AP/30EzQaDb744guMHTv2ZF42wsLC8MQTT2D9+vX47bffALjGYs2aNVi4cCGioqLcAWrWrFn45Zdf3GPkcDiwYsUKvP7663jkkUcAAAsXLsQXX3yBp59+Ghs3bsTzzz+PP/74Aw899FC7+vfJJ59g1KhR+Prrr9GvXz/U1tbi6quvRmlpKV544QWsWbMGo0ePxn/+8x+PXzZuu+02rF+/HnPnzsWXX36Jf//733j11Vfx2muvAQAaGhowe/ZsDBo0CB9//DHWrVuHyZMn46677sL27dsD6ltBQQESEhLcFfw///wTs2fPRp8+ffDhhx/ivffeQ2NjI66++mrU1NQAAA4cOIC5c+ciJSUFn3zyCR544AE8//zzLUJwe1/75s2b8cgjj+D666/Hl19+iRUrViA8PByzZs2C2WwO6HX/9ttvuOWWWzBo0CB8+umnWLVqFeLi4nDTTTd5BGXANR997ty5fufEE/VmnKJARC1UVVVh0aJFMBgMmDFjRrsfx1cInDRpkjs8HjlyxONms9ZIpVJMnToVH374IQwGA7RaLQBg/fr1sNlsfm8+ioiIgEqlAgD3W9/r169HUVERPvnkE/dc45SUFBw4cACrVq3CXXfd5Z5HbDQasWDBghZTI7z55z//6bUiPXjwYHzwwQcAgDPOOAOXX345HnnkEaxevRoPP/wwpk2bhokTJwKAex6xWq32eKveZDJh5syZyM7Odh+bN28ebr31ViQnJwMAEhIScP755+ODDz6AIAhe++KPTqfDTTfd5P783XffRXV1NVauXImUlBQAwIIFC/Dnn39iyZIlGDt2LHbs2IHNmzfjySefxAUXXADANZYHDx7EO++8g5tuugmFhYUwmUy4+OKL0a9fPwDAzTffjHHjxvmcs9zEaDRizZo1+PHHH3Hvvfe6jy9ZsgRJSUl47rnn3L/cPP/885g4cSI+/vhj3HzzzVi/fj0A4Nlnn3XPgX7uuecwZcoU95idzGvftWsXVCoVpkyZAqnU9aP1iSeewIEDByCRSHDgwIFWX/fbb7+N/v3749FHH3V/vZ599lmcccYZ+PDDD/HEE0+4+3Taaadh0qRJrXwViXovBlyiXq66utrjJiOn0wmLxYIhQ4bgv//9b4sbsU5s39zLL7/ssTrAJ598AplM1qKdWq12fywSiTzevg7E9OnT8fbbb+Prr792z7dds2YNxo4d2yKstCY3NxcKhcIjLAKum7Lef/99FBQUYNCgQQCArKysgMItALz66qte+3LinOR7770XU6dOxfTp09HY2IgFCxYE9PhDhw71+FwsFmPFihX4+eefUVVVBYfDAZvNBpvNhsbGxlbnQrf2+Dt37kRKSoo74DUZO3asu4q4Y8cOAGgxRWTcuHFYvnw5ioqKkJGRgdTUVMyZMwdXXnklTjvtNGRnZ3u94e/EXxJMJhPi4+Pxf//3f7j++us9+nbuued6VO5jYmIwYMAA7NmzBwBQUlKClJQUjxv8MjMzvb5D0Z7Xfvrpp+O1117Dv/71L0yfPh1jx45Fv3793K8rkNedm5uL8847z+M1y+VyDB061P06fPWRiDwx4BL1chEREVi1apX78127duHOO+/EDTfc4PVGrBPbN9enTx+Pz5OTk1sNVomJiSguLm5Tn9PT0zFq1CisXr0al112GfLz85Gbm4sXXnihTY8DuOaMajSaFhXOpsqw0Wh0H2u6MSsQCQkJrVYkAdfKE5dccgkWL16Mm266yf28rWneF0EQcMMNN6C8vBzz58/H0KFDoVAosGLFCqxYsSLgPvt6fMA1TqWlpS1+uWkeog0GAwDgvPPO82jTNFe2srISAwcOxEcffYS3334ba9euxUsvvYTo6GjMnDkT//73vz2+Ds1/SWhaNeHMM8/EDTfc0KJva9eubTGf1Wq1uqvver2+xSofgOtGto547YMHD8aqVavwzjvv4JVXXsEjjzyCjIwM3HnnnTjnnHOgVqtbfd3N35FoTqPRoLS01OOYTqdr0Y6IjmPAJerlJBKJRxBLTU3Ft99+iyeeeAKnn346IiIi/LY/WWPHjsWiRYuQn5/vc6rChx9+iAsuuMCjL9OnT8d9992H0tJSrF27FhEREfjHP/7R5ucPCwuD0Whs8TZ+Q0OD+3xnOnToEN555x1MnDgR7733Hi655JI2TdkAgP3792Pv3r149NFHMW3aNPfxxsbGDutnWFgYkpOTsXTpUq/npVKpuzr63nvveV0KrWmaRVRUFP7v//4P//d//4fS0lJ8+umnePHFFxEVFYXp06e725/4S8Idd9yBhQsXYsqUKRg9erRH38aPH+91KbWmgCuXy2GxWFqc9xV82/raAVdF+JlnnoEgCMjNzcXSpUsxZ84cfPXVV0hLS2v1det0OvcvCc0ZDAYGWqI24k1mRNTCggULYDab8dRTT3X6c/3zn/9EREQEFi5cCJvN1uL8Rx99hEcffRRbtmzxOH7++edDq9Viw4YN+Oabb3DxxRf7XHPXn5ycHFitVuzcudPj+NatW6HVapGWltbmxwyUIAhYsGABhg4ditdffx1jxozBvffe67F6Q1M7f5rGrfkatgaDARs2bAjo+kAMHz4c5eXl0Gq1SE1Ndf+RSCSIjo6GWCx2v91+9OhRjzZhYWFQqVRQq9UoKiryWH0gOTkZ8+bNw4ABA7B3716/fZgxYwYGDx6MBx54wCO8Dx8+HPn5+R7PmZqaCrvd7g7VqampKCoqQl1dnfu6Xbt2oaysrENe+9atW91TNEQiEXJycrBw4UI4HA7s378/oNc9bNgwbN261ePrZbVasWvXrhZTaIjIPwZcImohPj4ec+bMwdq1az2WKGqrqqoqVFZWev3T9NZ/VFQUFi1ahL///hvXXHMNfvzxR5SVlWHXrl148skn8eijj+Kmm25qcUONSqXChRdeiGXLlqGkpMTv2rf+nHPOOejfv7/7pqGSkhKsWLECn376Ka6//nqvc4gDUVtb6/O1N1WH33//fezYsQOPP/44RCIRHnnkERw8eBBvvvkmAFfVUalUYvv27di7d697Dd8TpaenIzw8HB988AEKCwuxfft23Hjjje4x++OPP2A2m9v1OppMmzYN4eHhuP3227F161YcOnQIX331FS677DIsXrwYgGte6Pjx4/H4449j48aNOHToEP7880/ceOONuPnmmyEIAkpKSnDbbbdh2bJlKCoqQllZGVavXo3CwkKMGTPGbx/EYjEeeeQRFBcXu1dlAIAbb7wR+/btwyOPPIK9e/eiqKgIS5YswcUXX4yffvoJgOsXIpvNhsceewwHDx7En3/+iYcffthjhY6Tee0//PADbr31VmzYsAFlZWUoKCjAG2+8AaVSiezs7IBe94033oiCggI88sgjyM/PR15eHubNmwer1eqxlBkRtY5TFIjIq2uvvRZr1qzBQw89hPXr17tXH2iLs88+2+e52267zf2W8hlnnIHPP/8cS5YswaOPPorKykpEREQgKysLb775ps9tbadPn45Vq1YhJycHmZmZbe4f4AqRy5YtwzPPPIM5c+bAaDQiKSkJd999N6677rp2PSbgWr/Xl0svvRS33HILnn/+edx2223ut+GTk5Mxd+5c9woAgwcPxq233oo33ngDV111Fd566y2vj6dWq7Fo0SI89dRTmDp1KlJTU3HHHXdgxIgR2LZtG26//Xb897//xemnn97u1xMREYEPP/wQixYtws033wyTyYSEhARcd911+Pe//+1ut3jxYrz44ot47LHHUFVVhfDwcEyaNAnz5s2DSCTChAkT8OSTT+Ldd9/Fyy+/DJFIhNTUVDzwwAOYPHlyq/3IycnBv/71L7z99ts4//zzMWjQIIwePRpvvfUWFi9ejH/9619wOp3IzMzEiy++iHPOOQeA66bBhQsX4vXXX8e0adMwYMAA3HfffXjqqadarfwH8trnzp0LiUSCZ555BkePHoVarUZWVhaWLl2KhIQEJCQktPq6TznlFLz++ut49dVX3cvdDRs2DMuXL2/ztBWi3k4kdMR7V0RERCGupqYGOp3OXZW32+04/fTTccEFF+Dhhx8Ocu+IqCOxgktERD1efn4+pkyZgilTpuDGG28E4LoZrr6+3uPGNiLqGVjBJSKiXuF///sfXnvtNezfvx9isRgZGRm49dZbfU6BIaLuiwGXiIiIiHoUrqJARERERD0KAy4RERER9SgMuERERETUo3AVhWO2bdsGQRDavag7EREREXUum80GkUiEESNG+G3HCu4xgiB0yHaWbXm+xsbGLn1O4rgHC8c9ODjuwcFxDw6Oe3B09bgHmtdYwT2mqXLbVft9m0wm5OXlISMjA2q1ukuekzjuwcJxDw6Oe3Bw3IOD4x4cXT3uubm5AbVjBZeIiIiI2sxgMODvv/9GXl4ejEZjsLvjgRVcIiIiImqzvXv3YsqUKQCAdevWITY2Nsg9Oo4VXCIiIiLqURhwiYiIiKhH4RSFNrDZbLDb7R3yWFar1f23SCTqkMek1nXWuEskEshkMn4tiYiIQgAruAFqaGiAyWTqsMeTy+Xo168f5HJ5hz0mta6zxr2xsRFVVVUd9gsQERERtR8ruAFwOp2w2WyIiorqsMd0OBwAAKVSCYlE0mGPS/515rhrNBpUVVUhJiaGlVwiIqIgYgU3ADabDQqFItjdoBAnEomgUqlgs9mC3RUiIqJejQE3AE6nE2Ixh4paJ5FI3FViIiIiCg5OUSAiIiKiNtNoNBg5ciTMZjM0Gk2wu+OBAZeIiIiI2iwrKwvr1q1DXl4eMjMzg90dD3zfnYiIiIh6lJAOuGVlZbjppptw6qmnYuLEiXjuuefgdDq9ts3Pz8c111yDYcOG4cwzz8S7777btZ3tYQRBwO23347hw4dj/fr1we4OERERUcBCOuDOmTMHcXFx2LhxI5YtW4aNGzfivffea9HOYrHgxhtvxJlnnonff/8dixcvxqeffor8/Pwg9LpnyMvLw7fffotVq1bhoosuOunH+/TTT1FTU9MBPetaDzzwALKzsz3+DB48GPfdd1+wu0ZERBRUNTU1WL9+PX766SfU1tYGuzseQnYObm5uLvbu3Ytly5ZBp9NBp9Nh5syZeO+993D99dd7tP3666+h1Wpx4403AgBycnJYdTxJBoMBAJCWlnbSj+VwOPD0009jxIgRHbqWcFdYuHAhFi5c6P7cbrfjkksuwXnnnRfEXhEREQVfQUEBbr75ZgDAKaecgqSkpCD36LiQreDu3r0bSUlJCA8Pdx8bMmQICgsL3eGrydatWzFw4EDcd999GD16NM477zysW7euq7sccjIzM7FhwwZceeWVGD58OC6++GLs2bOn1et+/fVXzJo1CwAwevRorF27Fk6nE6+88gomTZqEYcOG4Z///Ce2bt3qvqakpAQ33HADTj31VJx66qm48847UV9fD8D1Td/Q0ICpU6fi1VdfxerVq3H66ad7POfll1+OxYsXAwAWL16M2bNn44477sDIkSMBuKr0jz32GM466ywMHz4c11xzDQ4ePOi+fsmSJZg4cSKGDRuGyZMn4/PPP/f62h566CGMHTsWw4cPb1GZLSsra3Vs3nvvPSQmJuLMM89stS0REREFR8hWcPV6PcLCwjyONYXd2tpaaLVa9/GKigps2bIFjz/+OB566CF88803uPfee5GRkYHBgwcH/JyCIHjdjtdqtUIul3fo+qaCILj/7sx1U5cuXYqnnnoK8fHxmDt3Ll544QW8+eabfq8ZO3Ysli5dipkzZ+KPP/6AQqHAsmXLsH79erz55ptITEzExx9/jJtvvhmbNm2CWq3GAw88gMTERPz4448wGo248cYb8eqrr+Lee+/FmjVr8I9//ANr1qxBeno61qxZ0+J1C4IAp9MJh8MBp9OJ7du34/bbb8ezzz4Lh8OBZ599Fnv27MHKlSsRFhaGV199FbfddhvWr1+P7du3Y/ny5Vi5ciUSEhLw22+/4fbbb8e4ceMQHR3t8doeffRRLFiwAAqFwutuY/6+FvX19XjjjTewYsUKn+2cTicaGxvdX19yMZvNHn9T1+C4BwfHPTg47l3PYrG4P95aUokRRmOn7+QpCEJAzxGyARdAwCFBEAQMGTIEF198MQDg0ksvxUcffYRvvvmmTQHXZrMhLy/P67l+/foF/DhtYbVaO+Vxm5x//vlISEgAAIwfPx7Lly/3+Ib0pbGxEYDrm1cQBHz66ae46qqrEB8fD6fTienTp2P58uX47rvvMHnyZLz44osQiURwOp1QqVQYO3YsduzYAYvF4n6NVqsVFovFvdNX8344nU7Y7XZYLBbY7XaIxWJMnToVNpsNVqsVa9euxdNPP+3+pWf27Nn44IMPsGXLFtTV1UEkEkEkEsFqtWLUqFH43//+B7FY7PO1tmfcly9fjpEjRyI5Odnv4xYWFrb5sXuLoqKiYHehV+K4BwfHves4nU78ecSESpMN0YcbkBOjAryFIMHvp16PeYsiQisP1P7HDeBIK8/lNTkF1D/Po609z+/lBiz7fov78//7Zhde2GfFnBFxmJgchs4kl8tbbROyATcqKgp6vd7jmF6vh0gkajGPMzY2tkXbpKQkVFZWtuk5ZTIZMjIyWhxvquAqlco2PZ4/giDAarX6rCR2lLS0NHe/dTodrFZrQK+j6ZtHqVRCoVDg0KFDePbZZ7Fo0SJ3G6fTierqaiiVSuzatQsvvfQS9u3bB5vNBofDgSFDhrivBwCFQgGlUgmZTOZ+7CZisRhSqRRKpRJSqRQJCQlQqVQAgMrKShiNRtx5550eY+V0OlFTU4OJEydi8ODBuOiiizB27FicccYZmDJlitfX2d5xdzgcWLVqFRYtWtTq+KWnp3Nr5xOYzWYUFRUhLS3N/XWlzsdxDw6Oe+eyO5wwNNphbLTD2OjA1/vK8dpvBShvOF54SNApccOYdJyWFhPEnnaOE39ydW691Lvfiqrw3JYKiKx2aJsdP2Sw4b5fDmHFFWMxZXDnzMdtPj3Rn5ANuEOHDkV5eTlqamrcgTY3NxcZGRktdsvo378/Vq5c6VG2LisrwxlnnNGm5xSJRFCr1V6PA65tWDtK01vcIpGoQx/3RFKp1P34YrE44Odr2ppYIpFAIpFAqVRi4cKFmDx5cou2dXV1uOWWW3DllVdi6dKl0Gq1eOmll/Dbb79BIpG4H0ssFrs/P7EfTdshN51v3u+mr/dHH32EoUOHeu3vm2++ib179+L777/HypUr8e6772L16tXQ6XQe7e6//36f87O/+eYbnxPk//rrL9hsNpxyyil+x08sFkOpVPKHmg8qlcrrvzHqXBz34OC4nzyzzQ6D1Q6D1QZjox2GRjsstuNTxH4pOIpHN+TCeUJ5sbzBgid/2IOHzx2G8el9urjXPZMgCHAKAhxOAW9vKYRTALz9NHQKwMPf7ca/RmV0SgEv0McM2YA7ePBgZGdn4/nnn8d9992HI0eOYNmyZe6bn8477zwsXLgQo0ePxpQpU/Df//4Xb7zxBq6//nps3LgRu3fvxnPPPRfkV9FzJCcnY9++fR4B99ChQ+jbty8KCgpgNBpxww03uOdG+7uZTaFQeMyRcjgcfm/w0ul0iIiIwL59+zwCbtPzN01jGDRoEAYNGoTZs2fjggsuwG+//dYikD/22GNYsGABlEplm36x+P777zF27FhIpSH7T4aIqNtyOJ2uAGt1hVij1Q5Dow2OE5NrM4Ig4M3N+1uE2yZOAXj5f3nut96dAuAUhGNBDe6/nceCmwD4PicATrj+FgQBjqZjzf8G4HQK7nbNz7Vo5+tcs+dxHOurt8dyCq4pBU19bd7e3X8cD6XNX1PTOadTOKGd5+s+8VxbHKxqwC+FR3FGelzbLuxAIf3T+pVXXsGDDz6I008/HVqtFldccQVmzJgBACgsLHTfEBYXF4c333wTTzzxBP773/8iMTERr732GlJSUoLZ/R7liiuuwPPPP48JEyYgOzsb3377LRYsWICvvvoKiYmJEIvF2LZtG8aNG4ePP/4YVVVV0Ov1sNvt7rf0i4qKEBcXh9TUVBiNRvzyyy845ZRT8NZbb7U63/qKK67A66+/juHDhyMlJQUffPAB3njjDfzwww9Yvnw5fvzxR7z44ouIj49Hfn4+6urqOvTrn5eXh+zs7A57PCKi3spqd7irsk1TDcw2R0D33TicAsrqTMivbsDmokocrvd/Q1mNqRGPfLuzo7pObXC4Lrg3+4V0wI2Pj8fSpUu9ntu3b5/H56eccorPpaHo5E2fPh3l5eW47bbbYDAYkJ6ejldffRWJiYkAgDvvvBMLFiwAAMyYMQOLFi3CtddeixkzZuDjjz/G5MmTMXfuXFxxxRV44IEHMHPmTMybNw8SiQSzZs3CiBEj/D7/rbfeivr6esyYMQM2mw1ZWVlYunQpVCoVrr/+ehw+fBiXXHIJLBYLEhIScPfddyMrK6vDXn9lZSViYnreXC4ios7idAowNU0xaLTBYHWFWZvD+46kJzJYbSioNqCgugH51QbkVzegqMYAqz2w6zuCWOR6S1wMQCwWQQTR8WMnnjv2scc5ESAWeT8nEYkgav5YaHlO3LzNsecRw/Oc+/GbPobnOfEJj+W6vnnfTvgbIojFOOF5jvetvM6ET3eWAAAEuRqNaSPcHzeXGB7cqXoigesZAXDN7wXgtUrX9HZ6R86rdDgcsFgsbX6rnE5OZ497Z3yv9AQmkwl5eXnIysrinMQuxHEPjt447jaH01WRPTbFwGC1wRRgVdYpCKioNyO/ugH5Va4gW1DdgIoG/yv+KCRiWAMIyw+fm4OsuPAWoU/sI1w2P0ctCYKAaz/81W/1PCNGh73zp3bKGPrLa82FdAU31G3ZsqXVNqNHj3Z/bLVa3V+YpvVS5XK5+yYswLV6QU5OjvvzhoYGd7W6+WMRERF1NUEQYLY53NMLmqYaNAZYlTXb7MerssfCbGGNAWab//XgE8JUSI/Won+0Dv2jdUiP0SJOq8TMlb/5DVpJ4Sqckd6HYbUdRMeqwaJjvwDA/THwn/GD8ODX27zOzRWLRHj6opFBH3MG3JNw7rnn+j0vEolQXV3t/ryysrLVa5KTk7Fjxw7357t378YFF1wAwLXnc0d4++238dJLL/k8P3XqVI/taYmIqPexO5zulQuaqrPGRjucAVRlBUHAUYMF+VXHpxcUVDfgcJ3Z+zqtxyilYvSLcgXYpjDbL1oLjdx7XJk9biAe3bDDR9ACbho70CNonRjamk6Jms6Jjn/scdzbNc0+b96uxfM0+9j1mB1zjbuPLY77uMZLUPUZYlsJp6f164PMPmGYv/5vHKxqcB/PiNHh6YtG4tLs4N8DxYDbC91www244YYbgt0NIiIKEWZb08oFx2/+srRSVW1itTtQVGNAvrsy24CCagMMjXa/1/XRKo9XZWN0SI/WIjFMDYk4sMqfSibBpTkpiNUq8dwPu1FYY3Cf6x+tw1MXjsCl2SnNAimruB3p0uwUjI2R4cnX3kJZZRWuuOpaXHZG8Cu3TRhwT8KGDRva1D42NtZ9jb8pCs0NGTKkzc9DRETkjdMpwNBoO74k17GqrN3Z+hQDQRBQbbIiv6rpxi9XdfaQ3uh3GSmZRIy0SM2xEKtD/2gt0qN1CFPKAuqzRCyCVi6DRiGFVi6FViGFRi6F5NjPziHxEbhp3AB8l1eCv/fmY9SgDEzKSg6ZoNWTlZWV4YP/vggAuPOay0JqzBlwT0Jb58QqFAr3NYHe7KTT6Xr93Nu8vDw88cQTyMvLQ3R0NK644gr3esgnmj9/PtatW+cxpgqFwj1f+tChQ1i4cCF27NgBkUiEESNGYMGCBe4lxWw2G5577jl8/vnnsNlsGD9+PB577DFERER0+uskIupITctxGZtVZQNdjsvmcKKk1ngsxDag4Nh82TqLze91UWq5a47ssSDbP0aH5Ai1O4y2RimTHAuxMmjlUmgUUqhkrUcVkUiE8WmxiDZXISstJqSCFgUHAy6FNIvFgtmzZ+Pyyy/HkiVLUFhYiFmzZqFv374+5zPfcsstmDNnjtdzd911F1JTU7Fx40ZIJBI89thjmDdvHj777DMAwAsvvIBdu3Zh3bp1kMlkePzxx/Hxxx/jpptu6rTXSER0MgRBcFdkXXNmXfNlA12OS29uPLaCgWtqQX51A0pqjbD7KctKxCKkRLiqsk0V2f7ROkSq5T6vOfF6zbEgq5G7KrMauRRSSWBBmKg1DLg92JIlS7By5UrU1NQgPj4et956K6ZOnQrAdfPaY489hn379iEuLg5z585138x24MABPP7449izZw8kEgnOO+88LFiwAAqFAqtXr8Y777yD8ePH46OPPsK3336L2NhYvPrqq1i3bh0qKyuRkZGBBQsWYNSoUS36tHbtWjz44INe+/v444/jkksu8Tj2448/wmaz4ZZbboFEIsGQIUNw2WWXYdWqVa3esHciQRCQl5eHm266CRqNBhKJBBdeeCFuueUWCIIAq9WKlStX4oMPPkBcnGv3lRdffLFNz0FE1JmaL8fVdAOYKcAbvxxOJ0r1puPryla5bvyqNjX6vS5MKTtWlT0+XzYlUgN5gGG0qSrbFGi1CimUUgmrrNSpGHB7qL///hvLly/Hxx9/jISEBPz666+YM2cOxo8fD7VajdmzZ+P666/HihUr8Ndff+Hmm29GZmYmkpOTMWvWLFxyySVYsmQJjh49iptvvhkvv/wy7rnnHgDA0aNHoVAo8Ndff0Emk2HZsmX48ssv8dZbbyExMRGrVq3CLbfcgh9//LHFGpCXXHJJixDrz+7du5GZmekx5WDw4MH45JNPfF7z+++/4/vvv0dxcTH69++PRx55BEOHDoVIJMIZZ5yBdevWYfTo0ZBKpVi/fj3OPPNMiEQi7N69G3a7HQcOHMDtt98Ok8mEc845BwsWLOg1a1kSUWg4cTmupgqt1R7YjV8NVpt7BYOmG7+Kao1+q7piEdA3XNNsBQNXZTZGowgojDZVZTXNpxiwKktBwoDbQzU0NEAsFkOpVLrmJo0fj61bt0IsFuO7776DzWbDzJkzIZFIcPrpp+Oll16CUqnEzz//DLPZjDlz5kAulyMlJQVXXXUV3nrrLXfAbWhowL///W/IZK4bBD799FPMnDkTaWlpAIBrrrkG7733Hn788Ud3Vbi99Ho9wsLCPI5FRERAr9fD6XR63KAHuJZZE4vFmDt3LjQaDV599VXMmjUL3377LSIjI/HEE09g1qxZGDduHAAgMzMT77zzDgDgyJEjAID//e9/+Oyzz1BdXY1bbrkFL774Iu6///6Teh1ERL44nE6PDRKMxwKtw9+dW8c4BdfWtQXHKrKu5bgMOGrwv0mCRi51V2TTj82VTYvUQikLbAMchVQCrULqUZlVyViVpdDBgNtDjRs3DoMHD8bZZ5+NcePGYcKECZg6dSrUajVKSkoQHx/vURU955xzAADfffcdkpOTPVZzSE1NxeHDh+E8dpdtWFgYtFqt+3xJSQmeeOIJPPnkk+5jTqcT5eXlnfb6fP0n+p///Mfj8//7v//D+vXrsXHjRlx22WW466670K9fP7z99tuQSCR46aWXcNNNN+HTTz+FIAiw2Wy44447EBERgYiICMyaNQuvvvoqAy4RdQiLxyYJrjDb2iYHTUyNdvcc2aYbvwprGmBpZevapHAV0ptPMYjWIU6nDCiMikVNc2U9K7OsylKoY8DtoeRyOd544w3s3bsX33//PT744AO88847WL16NcRisTusnqix0ftcrOb/EUqlnt82SqUSCxcuxOTJk1vtV1vn4EZFRaGoqMjjmF6vR0RERIvqrTcSiQQJCQk4evQoDh48iM2bN7uruRKJBHfffTdGjx6NvLw8xMTEAHCtXNEkKSkJNTU1EASBlQkiapUgCPilqBJbivQ4JKnAmH5xMDY62rwcV0WD5ViIPb5RQrmfHbsAQCmVNJsnq3WH2kBWIQCOV2WbbvpiVZa6MwbcHspms8FqtWLQoEEYNGgQZs+ejQsuuAC//fYbkpOTUVZW5l6HF3AFz6Y5uKWlpR7nCgoK0LdvX5+BMjk5Gfv27fMIuIcOHULfvn1btG3rHNyhQ4di5cqVsNvt7mCdm5uLYcOGtWgrCAKefvppXHrppRg0aBAAV2AvKSlBcnIyHA5XlaTp76bzTfr37w+RSIS8vDz3FIaysjLEx8fzP3gi8qnpxq9PdxTjiY25KNWbXCd+O4zEMBVmjxuI8el9vF5rsTVtknD8xq/CGgOMrWySEKdTtrjxKyFMBXGAVVm13HNNWa1CBhmrstRG8fHxmD17Nmpqatw3Z4cKBtwe6p133sGPP/6IF198EfHx8cjPz0ddXR1SUlLQv39/qNVqvPHGG5g9ezZ27NiBhx9+GJ988gkmTJgAqVSK1157Df/5z39w6NAhLF++3G8oveKKK/D8889jwoQJyM7OxrfffosFCxbgq6++QmJi4km9jjPPPBNarRavv/46brzxRuzfvx+ffvopnnvuOQCuebPXXXcdli5diuTkZBw6dAiPPvooXnrpJWi1Wrz88suQyWSYNGkSZDIZUlNT8frrr+OBBx6AVCrFK6+8gtTUVAwYMAByuRyTJk3CCy+8gP/+97+wWCxYtmwZpk2bdlKvgYh6DrOtaYOEpmkGrhu/fik46nXL2MP1Zjy6YQceOjcHmX3Cj93wdXyjhLI6k99NEuQSMfpFad3zZJtCrVYR2CYJconYvXJBU2VWLZfyl3bqEH379sWDDz6IvLw8JCUlBbs7Hhhwe6jrr78ehw8fxiWXXAKLxYKEhATcfffdyMrKAgAsW7YM8+fPx1tvvYWEhAQ8+eSTGDhwIADX8mJPP/00xo0bh4iICFxyySW4+eabfT7X9OnTUV5ejttuuw0GgwHp6el49dVXTzrcAsenWjz88MNYsmQJYmJiMG/ePJx11lkAXJXqwsJCdyX2iSeewDPPPINp06bBYDAgJycH7733nnsVhDfeeANPPfUUzjvvPAiCgJycHLzxxhvuavWTTz6JRx55BJMnT4ZEIsH06dMxe/bsk34dRNS9OJ0CTMfCbEOzZbm8TTEQBAFvbt7vM6g6BeDRDTvR2kpe0RqFa3OEpo0SYrToGx7YJgnNq7JNc2ZZlaXeTCQEsqVJL5CbmwsAyM7ObnHObHbNe1KpVB32fIHuZEYdq7PHvTO+V3oCk8mEvLw8ZGVlccm1LsRxD4zd4XTf9NW0moGx0R7Qjl+Ndge+3XcYL/28N+Dnk4pFSI3UHAuxOneoDVcFtkmCXCI+tm3t8cqshlVZfr8HSVePu7+81hwruERE1GtY7Q40WI6vYmBotMMS4CoGjQ4nCqobcKCyHvsrG7C/sh6FNYaAlvMCgKlD+uLCIX2REqEJqLIqEomglkk8tq3VyqWQS1kUodBQUlKCl19+GbW1tbj33nuRmZkZ7C65MeASEVGPIwgCTI129zzZtm5f2+hworDaFWKbwmxRjcHv9rWtOSsjHv2jdV7PySTiY+vKytxTDNQyKcTi3l2VpdB29OhRLFu2DAAwa9YsBlwiIqKOcuJGCU3zZQPZvhZoHmZd1dl9AYTZOJ0SA2PDMDA2DANidHjp5zxUNPjeXCEpXIXshAh3Vbb5trWsyhJ1PAZcIiLqNhrtjuNV2WNTDMw2R0DzZQFXmC2qMbgqs0fr3dMMWg2zMWEYEBuGzD6uQHvifNlbTsv0uooC4NoC99HJwzE6OQYaOauyRF2BAZeIiEKSqdFzOS6D1YbGAKcYAK71aQubwuyxQNtamO2jPV6ZHRirw8DYsIBu/jorIx5ahRSv/G8vimuN7uMZMTo8fdFIXJqdEnC/iejkMeAGQCKRwGq1Brsb1A00Njby7l2iNnI6BRgbj8+TbTi2hW2gN28Bx8Ns0xSDA5X1KKw2wBZQmNVhwLFQGxFAmBWLRNAqpNApZAhTuv6oZFKMT++DuROy8F1eCf7em49RgzIwKSu5169uQBQMDLgBkMlkMBgMaGhoaLFNbXs5nU53aA5ky1nqGJ017k2PK5PJIJMFtgA7UW/UtOtX8zmzpjZMMWh6jKYw21SdDSTMDojVITM2rE1hFgDUcinCFDLolDKEKWR+pxmIRCKMT4tFtLkKWWkxDLdEQcKAGwCRSITIyEjYbDaPbV5PRmNjIwoLC5Geng6lUtkhj0mt66xxl0qlUKlU/GWFqBmLzeGeYtC0WYLV3rb/Q23N58xW1uNAZQMKqhv8htlYjQID+zTdAOb6O1Id+BqzYUqZuzqrU8gg5WYJRN0OA26ARCKRe7erjtBUrVAoFNwUoAtx3Ik6niAcm2LQbDkug9X7rl/+2JvNmT1wbGmuQMLsAPec2baFWYlYBJ1C5jHVQMHVDIh6BAZcIiIKmLddv0xtWJKr+eMU1RqPr2ZQVY+CaoPfdWpjNAqPG8AGxIYhSq0I6PlEIhE0cumxqqxryoGau38RnZTk5GQ8/vjjqKioQN++fYPdHQ8MuERE5JXV7vBYjstgtcEc4K5fzTUPs003gQUaZpvPmw00zAKAUiZxzZs9Vp3VKqSQcAoRUYeKi4vD9ddfj7y8PPTp0yfY3fHAgEtE1Mud7K5fzdkdThQ3VWaP/clvJcxGaxTHQqzOXaFtS5iVScTHphpIEaaUI0wpC2grXCLquRhwiYh6EYfT2Wy+7PGpBm2dYgC0P8wOjDkWZPu0Pcw2LdHV/EYwlYw/yojIE/9XICLqoewOJ+qsDpTqTXDUN7Z516/mHE7XNIMDlfXYd9R1E1h+dYPfjRei1XLX7l/NluaK1gQeZoGWS3RpFZw3SxQqDh48iAcffBANDQ14+umnMXTo0GB3yY0Bl4ioh7E5nCipNWDdziLsKapGplmBUSl9Ag6GzcPs/mOrGeRX+Q+zUWq5x0oG7QmzXKKLqHvR6/X49ttv3R+HEgZcIqIeotHuQIneiI+3F+H1X/fjcL3ZdWJ3FRLDVJg9biDGp3veCOJwNk0zaHBPMyioboDV7j/MelZmdYjRtG1d6aYlupoHWi7RRUQdhQGXiKibs9hcwbai3oyf84/g0Q07cOLSsYfrzXh0ww7MHjcQWoXMvQtYfithNlIld82VjXEF2YF9wtocZrlEFxF1NQZcIqJuymyzo7jGiCMGCwRBgCAIeHPz/hbhtolTAF7/bb/Px4tUyVusMxujUbQ5iDYt0dVUndUpZD63tiUi6gwMuERE3YzRakNxrRGVRqvHDWO55frj0xJaEaGSt1iaqz1htmmJruZTDbhEFxEFGwMuEVE30WCxobjWgCqj1ev5vUfrAnqc288YhClD+rY5zHKJLiLqLvg/ExFRiKszN6K41ogak/dge7jehOV/FWDj/vKAHq9flDagcNu0RFdToOUSXUTUXTDgEhGFqFqTFcW1RujNjV7PHzVY8P7WAnyz9zAcvibeniApXIXshIgWxxVSiXsnMJ1CyiW6iKhbY8AlIgox1UYrimsNqLfYvJ6vMVnx4d+FWL/7EGzHgq1ELMIFg5IwIFaHl37O83qjmVgE3DR2IKRe5s1yiS4iaquMjAy88847KC0tRXp6erC744EBl4goRFQaLCiuNcJg9R5s6yyN+Hh7MdbmlsBybGkvsQiYNDAB14xOR2KYGgAQrpRjye/7UVZ3/IazlEgNHvpHDi4fnsoluoioQ0RERODcc89FXl4eIiIigt0dDwy4RERBJAgCjhosKKk1wtho99rGYLXhs50l+HRHMUw2h/v4WRlxuG50f6REajzaj0/vg0kD41FaXY8DRSUYk5WBSVnJDLVE1Gsw4BIRBYEgCKhoMKOk1ghzs9DanNnmwNrcEqzaXoQG6/Hwe1paLGae0h/9o3UtrpFLxEiN0iIxTIWcPlrkoQ5ZaTEMt0TUqzDgEhF1IadTQPmxYGu1ew+2jXYHvth9CB9uK/K4wWxMcjRmjumPQXHhLa6RiEXoG65GSqQGEjFvDiOizrdnzx7cfPPNsFgseP311zFq1Khgd8mNAZeIqAs4nE4crjOjVG9Eo8P71rg2hxPf7D2M97cWeKx1m5MQgetPyUBOYmSLa0QiEeJ1SqRFaXmjGBF1KZPJhF27dgEAzObANpnpKgy4RESdyO5woqzOhEN1Jth8BFuH04mN+yuwYksByhuO/5AY1CcM15+SgVF9o7xOMYjWKJAepYVGIeu0/hMRdUcMuEREncDmcOKQ3oiyOjPsTu/B1ikI+Cn/CN77Kx+lepP7eP9oLWaekoFxqd7nzuoUMqRHaxGpVnRa/4mIujMGXCKiDtRod6BUb8LhepPPzRcEQcDmokos+ysfBdUG9/GUCA1mntIfZ6T3gdhLsFXKJOgXpUWcTtVp/Sci6gkYcImIOoDF5kCp3ojyejOcgu9gu/VQDd758yD2Ha13H0/QqXDtmHScMyABEnHLYCsVi5EaqUFSuBpiL+eJiMgTAy4R0Ukw2+worjHiiMECwUewBYCdh2vxzp8HkVuudx+L1Shw9eh0nJeZ6HVbXLFIhKRwNVIjNdw2l4ioDRhwiYjawWi1objWiEqj1W+wzTtSh2V/HsTWQzXuY5EqOWaM7IeLBidB7mPlgzidCv2itFDKuDICEVFbhXTALSsrw6OPPoodO3ZArVbjggsuwF133QWxnzUejxw5gvPOOw+zZs3CnDlzurC3RNQbNFhsKK41eCzj5U1+VQOW/XkQm4ur3Md0ChmuGJGGqUOTofIRXCPVcqRH6aBTcmUEIqL2CumAO2fOHAwZMgQbN25EdXU1Zs+ejZiYGFx//fU+r1m4cCEkElY8iKhj1ZkbUVxrRI3Jf7AtrjVg+V8F+DH/iPuYRi7F9JwU/HNYKjRy7//tauRS9I/RIYorIxBRN5GVlYVvv/0WBQUFGDRoULC74yFkA25ubi727t2LZcuWQafTQafTYebMmXjvvfd8BtyffvoJBw8exFlnndW1nSWiHqvWZEVxrdFjRzFvDtebsPyvAnx/oBxNiycopWJcmp2Cy4anIlwp93qdQipBWpQG8ToVt9Mlom5Fo9FgyJAhEIvFUKvVwe6Oh5ANuLt370ZSUhLCw49vSTlkyBAUFhbCYDBAq9V6tLdYLHjsscfwxBNPYO3ate16TkEQYDKZWm/YAZp2/Ai1nT96Oo57cHTHca82WVGqN6HBavfbrtJgwUc7SrBh/xE4js3FlUlEuHBQIi7LSUakSg5AgNXqWfkVi0RIjlAhKUwNibhzxqY7jntPwHEPDo57cHT1uAuCEFAxIGQDrl6vR1hYmMexprBbW1vbIuC+9tprGD58OMaOHdvugGuz2ZCXl9eua9urqKioS5+PXDjuwdEdxr3WYke50Qaz3fvmDE3qrA58W1SH/5U1wH6sYisWAacnanF+WjgilVLUHy1H/QnXiQDEqKRI1MphNIuwv7xTXoaH7jDuPRHHPTg47sHRleMul3t/R6y5kA24APzemdzcwYMH8cknn+CLL744qeeTyWTIyMg4qccIlNlsRlFREdLS0qBScdH2rsJxD45QH3dBEFBpdFVsHUoH+kT4bltvseGz3ENYl3cY1mMhWCwCzu4fhyuHpyAhzPfri1ErkBal8XmDWUcL9XHvqTjuwcFx73o7d+7EVVddBYfDgffeew9jxozp9Oc8ePBgQO1CNuBGRUVBr9d7HNPr9RCJRIiKinIfEwQBjzzyCObMmYPY2NiTek6RSNTlc0hUKlXIzVvpDTjuwRFq4y4IAioazCipNcFscwBiKRQK7/8tGqw2fLazBJ/uKIbJ5nAfPysjDteN7o+USI3P5wlXytE/RoswH/NwO1uojXtvwXEPDo5715FKpaitrQUASCSSLhn3QO9VCNmAO3ToUJSXl6OmpsYdaHNzc5GRkQGN5vgPksOHD+Ovv/7CgQMH8MorrwAATCYTxGIxNm3ahDVr1gSl/0QUupxOAeUNZpTUGmG1O/y2NdscWJtbglXbizzm456WFouZp/RH/2idz2vVcin6RWkRq1V2WN+JiKh1IRtwBw8ejOzsbDz//PO47777cOTIESxbtgyzZs0CAJx33nlYuHAhRowYgZ9++snj2qeeegrx8fG48cYbg9F1IgpRDqcTh+vMKNUb0ejwP8e20e7AF7sP4cNtRR4rKIxJjsbMMf0xKC7c57VyiRipUVokhnFlBCKiYAjZgAsAr7zyCh588EGcfvrp0Gq1uOKKKzBjxgwAQGFhIUwmEyQSCeLj4z2uU6lU0Gq1Jz1lgYh6BrvDibI6Ew7VmWBrJdjaHE58s/cw3t9a4LGZQ05CBK4/JQM5iZE+r5WIRegbrkZKpAYSPxvSEBFR5wrpgBsfH4+lS5d6Pbdv3z6f1z399NOd1SUi6kZsDicO6Y0oqzPD7vQfbB1OJzbur8CKLQUobzi+3M2gPmG4/pQMjOob5bMaKxKJEK9TIi1KC4WPrXeJiKjrhHTAJSJqj0a7A6V6Ew7Xm+Bw+l+NxSkI+Cn/CN77Kx+l+uPrYPeP1mLmKRkYlxrjd5pBtEaB9CgtNApurUtEFCoYcImox7DYHCjVG1Feb4azlWUGBUHA5qJKLPsrHwXVBvfxlAgNZp7SH2ek94HYT7DVKWToH6NDhCo4KyMQEZFvDLhE1O2ZbXYU1xhxxGBpdf1sQRCw9VAN3vnzIPYdPb4NQ4JOhWvHpOOcAQmQiH0HW6VMgn5RWsTpuM4mEVGoYsAlom7LaLWhuNaISqM1oI1hdh6uxTt/HkRuud59LFajwNWj03FeZiKkEt83hknFYqRGapAUrobYTwAmIuothg8fjtzcXOzfvx85OTnB7o4HBlwi6nYaLDYU1xo8VjnwJ+9IHZb9eRBbD9W4j0Wq5Jgxsh8uGpwEuZ8bw8QiEZLC1UiN1PgNwEREvY1UKkVkZCTCwsIglYZWpAyt3hAR+VFnbkRxrRE1psCCbX5VA5b9eRCbi6vcx3QKGa4YkYapQ5Nb3TI3TqdCvygtlF20tS4REXUMBlwiCnm1JiuKa40eGy74U1xrwPK/CvBj/hH3MY1ciuk5KfjnsFRo5P7/64tUy5EepYNOyZURiIh8cTgcMJlMMJvNcDj87wrZ1RhwiShkVRutKK41oN5iC6j94XoTlv9VgO8PlKNpdTClVIxLs1Nw2fBUhCv9r3igkUvRP0aHKLXiZLtORNTjbdu2Deeeey4AYN26dRg/fnyQe3QcAy4RhZxKgwXFtUYYrIEF26MGC97fWoBv9h52r3srk4gxZUhfXDEirdXAqpBKkBalQbyOW+sSEfUEDLhEFBIEQcBRgwUltUYYG+0BXVNjsuLDvwuxfvch2I4FW4lYhAsGJeGqUf0Qq1X6vV4iFiElQoO+EWpurUtE1IMw4BJRUAmCgIoGM0pqjTDbApvDVWdpxMfbi7E2twQWu2sLXrEImDQwAdeMTkdimNrv9SKRCIlhKqRFaSHjyghERD0OAy4RBYXTKaC8wYxSvRGWAIOtwWrDZztL8OmOYpiaXXNWRhyuG90fKZGaVh8jVqtEerQWKhn/+yMi6qn4PzwRdSmH04nDda5g2+hwBnSN2ebA2twSrNpehAbr8ekLp6XFYuYp/dE/WtfqY4Qr5egfo0VYKzeaERFR98eAS0Rdwu4UUKI3otpqgC3AYNtod+CL3Yfw4bYijyXCxiRHY+aY/hgUF97qY6jlUvSL0rY6H5eIiHoOBlwi6nQVDWbsqjKjr9oEhaL1JbhsDie+2XsY728t8NitLCchAtefkoGcxMhWH0MuESM1SovEMK6MQETU2zDgElGnEQQB+dUNyK8ywCEIrbZ3OJ3YuL8CK7YUoLzB7D4+qE8Yrj8lA6P6RrUaViViEfqGq5ESqeHKCEREnUgsFkOtVsPpdEIcYv/fMuASUadwOJ3Yc6QO1cbWt9V1CgJ+yj+C9/7KR6ne5D7eP1qLmadkYFxqTKvBViQSIV6nRFqUFgopt9YlIupsI0eOxP79+5GXl4esrKxgd8cDAy4RdTiLzYHc8tpW17MVBAGbiyqx7K98FFQb3MdTIjSYeUp/nJHeB+IAphdEaxRIj9JCo+DWukRExIBLRB2sztyIXRV6941kgiAgt0KPfRVG1Cv0GJXSBwCw9VAN3vnzIPYdrXdfm6BT4dox6ThnQAIk4taDrU4hQ/8YHSJUXBmBiIiOY8Alog5zpMGMfUfr4Tw23/aXgqN4c/N+HK4/Np92dxViNAqo5RKU1B6fihCrUeDq0ek4LzMR0gA2XlDKJOgXpUWcTtUpr4OIiFpnNptx4MABFBcXIy0tDWq1/012uhIDLhF1iILqBpTUGt2f/1JwFI9u2AHnCfeWVRmtwLFmkSo5Zozsh4sGJ0EewLxZqViM1EgNksLVEAdQ4SUios6ze/dunHvuuQCAdevWYfz48UHu0XEMuER0UhxOJ/YerUelweI+JggC3ty8v0W4bS5MKcPyGadDLW/9vyGxSISkcDVSIzUBVXiJiKh3Y8Alonaz2h3YVa5Hg9XmcTy3XH98WoIP9RYbDlY1tLqmbZxOhX5RWihlXBmBiIgCw4BLRO3SYLFhV4UeVrujxbmqAJYGA4Bqk+92kWo50qN00Cm5MgIREbUNAy4RtVmlwYK9R+vg8DEH4XC9yevxE0WrW+5qppFL0T9Ghygv54iIiALBgEtEbVJcY0BhjcHn+bW5JVj2Z36rj5MUrkJ2QoT7c4VUgrQoDeJ13FqXiIhODgMuEQXE6RSwr7IeRxq8z611CgKW/n4AH28vBgCoZRKYbQ54q/GKRcBNYwdCJBJBKhYjOUKNvhFqbq1LREQdggGXiFrVaHdgV4Ue9Rab9/MOJ57dtAs/HDwCAEgMU+GpC0egqMaIJb/vR1nd8VCcFK7CTWMH4oz+cUgMUyEtSgsZV0YgIqIOxIBLRH4ZrTbkVuhhsbW8mQwAGqw2PPT1duws1wMABvUJw8LzRyBSLUffCA1O7xeLrSVHsb/kMDJTkjAyJRZ9dCqkR2uhkvG/ICKi7kqlUmHgwIGwWq1QKpXB7o4H/nQhIp+qjVbsOaL3eTPZkQYz5n+5zb3Bw2lpsbh/UrbHkl4ikQjZ8REIs9YhOzUGQ/pGI0zJrXWJiLq7IUOGYNOmTcjLy0NWVlawu+OBAZeIvCqtNaKgxgBB8B5uD1TWY8FX21BjagQATBnSF7eNHwSJlx3G5BIx0sMVGJYYATXDLRERdTIGXCLyIAgC9lfWo9zPRg1/lVTh0Q07YT42beHfYwfgX8NTva5+oJZLMaCPBgXGo53WZyIiouYYcInIzeZwYneFHnpzo8823+wtw/M/5sEpCJCKRbhn4hCcMzDBa9swpQzZCZGwWS1ezxMRUfdVV1eHX3/9FSUlJUhMTIRarQ52l9wYcIkIAGBqtCO3vNZdlT2RIAhYvqUAy7cUAHBtyPDYecMwPCnKa/tItRxD4yMgEYvhfe0FIiLqzg4cOICrr74aADB06FAkJHgvdgQDAy4RodZkxe6KOtidTq/n7Q4nXvw5D9/sPQwA6KNV4qkLRyAtSuu1faxWiaw+4RB7mY9LRETU2RhwiXq5w3UmHKhq8HkzmanRjsc27MRfpdUAgP7RWjx54QjEaLwvCZMYrsaAGB13IyMioqBhwCXqpQRBwMGqBpTVmXy2qTZaseCrbThY1QAAGNU3Cg9PHgaN3Pt/HSmRGqRH6zqlv0RERIFiwCXqhewOJ/YcqUONyeqzTXGtAfPXb8NRg+sGsXMzE3DXmYMh9bHrWP9oHZIjNZ3SXyIiorZgwCXqZcw2O3aV62FstPtss/NwLR78ejsMx9pcMyod141J9zrtQCQSITM2DPFhqk7rMxERUVsw4BL1InXmRuyq0MPm8H4zGQD8cLACz3y/CzanALFIhHlnZuGCrCSvbcUiEYbERyBao+isLhMREbUZAy5RL1FRb8b+yno4fdxMJggCPtlRjDc3HwAAKKUSPHRuDk5NjfHaXioWY2hCBCJU3JmMiIhCCwMuUQ8nCAIKawwoqTX6bONwCnj9t31Yk1sKAIhUyfHkhSMwMDbMa3u5RIycxEhoFbJO6TMREYW+sLAwnHXWWTAajQgL8/7zIlgYcIl6MIfTibwjdagy+r6ZzGp34MmNu/BLoWsr3ZQIDZ66cITPObVKmQTDEiOhkvG/DyKi3mzgwIF4//33kZeXh4yMjGB3xwN/QhH1UFa7A7nlehisvvcRqzM34v6vtyPvSB0AYGh8BB4/fzjClN4rsxq5FDmJkVBIJZ3SZyIioo7AgEvUA9VbGrGrXI9GPzeTHa4zYf6X29zr4J7ZPw7zzx4CuY/wGqaUISch0ucyYURERKGCAZeohznaYMbeo75vJgOAvUfqcP9X26C3uKq704elYPa4gRD72H0sSq3AkPhwSMQMt0RE5FJZWYm1a9eioqICsbGxSElJCXaX3BhwiXqQohoDimoMftv8VlSJhd/thNXuhAjAradnYlqO7/+U+miVyIoL59a7RETkobi4GPfeey8AYOLEiQy4RNSxnE4Be4/WuXcd82XdrlIs/mUvnIJrJYQFk4bijPQ4n+2TwtXIiNEx3BIRUbfCgEvUzTXaHdhVoUe9xffNZE5BwDt/HMTKbUUAAJ1ChicuGI4h8RE+r0mL0iItStvBvSUiIup8IT2hrqysDDfddBNOPfVUTJw4Ec899xycTu83zaxcuRKTJ0/GiBEjMHXqVGzcuLGLe0vU9QxWG7YeqvEbbhsdTjz9/S53uE3QqbD40jF+w+2A2DCGWyIi6rZCOuDOmTMHcXFx2LhxI5YtW4aNGzfivffea9Hu22+/xfPPP48nn3wSf/75J66++mrccccdKC0tDUKvibpGlcGCbWU1sNodPtsYrDbct/5vfH+gAgCQGRuGV6aNQXKkxmt7kUiErLhwJIWrO6XPREREXSFkA25ubi727t2Lu+++GzqdDmlpaZg5cyZWrVrVoq3FYsGdd96JUaNGQSaT4bLLLoNGo8H27du7vuNEXaCk1ojdR+rgcPpeKeGowYK5a/7C9sO1AIBTU2Pw/NTRiFIrvLaXiEXITohAnM77Bg9ERETdRcjOwd29ezeSkpIQHh7uPjZkyBAUFhbCYDBAqz3+9unUqVM9rq2vr4fRaERcnO+bZ4i6I6dTwP7KelQ0mP22y69uwH1fbkP1sR3MLhqchNvPGORzmS+pWIzshAiEq+Qd3mciIqKuFrIBV6/Xt9jXuCns1tbWegTc5gRBwAMPPIBhw4bhlFNOadNzCoIAk8nUvg63kdls9vibukZ3Hnebw4m8o/Wo8zPfFgC2ldVi4aY9MNtcUxeuG5WGy3OSYbfZYPfSXiYRIzM+HDLBDpPJW4uT153HvTvjuAcHxz04OO5dz2I5vnKP1WrtkgwlCEJAK/uEbMAFXC+iLWw2G+bPn4+DBw9i+fLlbX4+m82GvLy8Nl93MoqKirr0+cilu427xe7EQb0FVof/fxO/lxuwIq8aTgGQiIBrsqJxaoSAkpISr+0VEhEGRCpRYjzaGd1uobuNe0/BcQ8OjntwcNy7jl6vx4UXXgjA9YtFV2Uoubz1dxtDNuBGRUVBr9d7HNPr9RCJRIiKimrR3mKx4NZbb4XZbMYHH3yAyMjINj+nTCZDRkZGe7vcJmazGUVFRUhLS4NKxTmPXaU7jnuNqRF7K+sRr/UdbgVBwEc7SrBiTzUAQC2T4IFzBmN4ou9/Bxq5FEPjwiGXdv5U/O447j0Bxz04OO7BwXHvellZWRg3blyXjvvBgwcDaheyAXfo0KEoLy9HTU2NO9Dm5uYiIyMDGo3nHeCCIGDevHmQSqV49913oVB4v4mmNSKRCGp11949rlKpuvw5qfuMe1mdCfl1Vkhlcp//WB1OJ17+eS++zCsDAMRoFHjqwhFIj9b5fNxwpRzZCRGQSrr2PtPuMu49Dcc9ODjuwcFxD46uGvdANx4K2VUUBg8ejOzsbDz//PMwGAzIz8/HsmXLcOWVVwIAzjvvPGzZsgUA8MUXX+DgwYN4+eWX2x1uiUKJIAg4UFmPA5X1fqfqmG12PPj1Dne47RelxavTTvEbbqM1CgxLjOzycEtERNRVQraCCwCvvPIKHnzwQZx++unQarW44oorMGPGDABAYWGhezLzZ599hrKyshY3lU2dOhULFy7s8n4TnQy7w4ndR/SoNTX6bVdjsuL+r7Zhf2UDAGBEUhQemZwDrULm85o4nQqD+oRx610iIjpphw4dwltvvYWqqirccccdXTbNMxAhHXDj4+OxdOlSr+f27dvn/tjb5g9E3ZHZZkduuR6mRv+rGZTUGnHfl3+josF1B+ukgQm4+6zBkPmpyvaNUCMjJszneSIioraoqKjAK6+8AgC44oorGHCJqCW9uRG7K/SwObxvR90kt7wWD369HQ1WVwieMbIfZp3S329Vtl+UFqncepeIiHoJBlyiEFBeb8L+yoZWl8b7Kf8Invp+F2wOJ8QiYO6ELFw0uK/P9iKRCANidEjk1rtERNSLMOASBZEgCCioNqBUb2y17ac7ivHGb/shAFBKxXjgHzkYlxbrs71YJEJWXDhitcoO7DEREVHoY8AlChKH04k9R+rc2+n64hQEvPHbfny207VZQ4RKjicuGI5BfcJ9XiMRizA0PgKRaq4qQkREvQ8DLlEQWGwO7KrQw2D1v+2u1e7AU9/vwv8KXDuN9Q1X46mLRiAxzPeUA5lEjOyECIQpW9/phYiIqCdiwCXqYvWWRuwq16OxlZvJ6iyNeOjrHdhVoQcADIkPx+PnD0e4n+CqkEowLDESajn/aRMRUe/Fn4JEXehIgxn7jtbD2crNZOX1Ztz35d8o1bvWej6jXx/cN2koFFKJz2vUcilyEiKhlPluQ0RE1Bsw4BJ1kcLqBhTXtn4z2b6jdVjw1Xboza6NHqZlp+Dm0wZCIva9DJhOIUNOYqTfdXCJiIg6UmJiIu655x4cPXoUCQkJwe6OBwZcok7mdArIO1qHSoOl1bZ/FFfisQ07YbG7pi/cctpATB+W6veaCJUc2QkRkIgZbomIqOskJibi9ttvR15eHgMuUW9itTuwq1yPhlZuJgOAL/ccwks/74VTECCTiHHfOUNxZv84v9fEaBQYHBcBsZ/qLhERUW/DgEvUSRosNuyq0MNqd/htJwgClv2Zjw/+LgQA6BRSPHbecOQkRvq9LiFMhYGxYX53MCMiIuqN+J4mUSeoNFiw/XBNq+HW5nDimU273eE2TqfEy5eOaTXcJkdokNknnOGWiIiCprCwEHPnzsUzzzyDoqKiYHfHAyu4RB2suMaAwhpDq+0MVhse3bATfx+qAQAMiNHhyQtHIKqVzRnSo3VIidR0SF+JiIjaq7q6Gp999hkA4Pbbbw9ybzwx4BJ1EKdTwP7KelQ0mFttW2mwYMFX21BQ7QrCp6RE46Fzc6CS+f4nKRKJMDBWhwQ/mzwQERERAy5Rh7A5nNhVrkedpbHVtgXVDVjw5TZUHtui94KsJNwxYZDfVRDEIhEGx4UjRqvssD4TERH1VAy4RCfJaLUht0IPi83/fFsA2HaoBg9/uwPGRjsAYOaY/rh6VD+/c2klYhGyEyIRoeLWu0RERIFgwCU6CTUmK/ZU1MHu9L/tLgBs3F+O537YDbtTgEQswl1nDsbkQYl+r5FJxMhJiIROKeuoLhMREfV4DLhE7XRIb0R+tQFCK9vuCoKAlduK8PYfBwEAapkED08ehtHJ0X6vU8okyEmIhFrOf6ZERERtwZ+cRG0kCAIOVDXgcJ2p1bYOpxOL/7cPX+w5BACI1ijw1AUj0D9G5/c6tVyKYYmRUEglHdJnIiKi3oQBl6gN7A4ndh/Ro9bU+s1kZpsDT3y3E5uLqwAAaZEaPHnhCMTpVH6vC1PKkJ0QCZmEy1QTERG1BwMuUYBMjXbsqtDDdOwGMX9qTY24/+tt2He0HgAwLDESj503DFqF/7m0kWo5hsZH+F1RgYiIKBT069cPL7/8Mg4fPoy0tLRgd8cDAy5RAGpNVuwO8GayUr0R9325DeX1rvVwzxkQj7snDoG8lYpsrFaJrD7hEIu5OxkREYW+6Oho/POf/0ReXh6ioqKC3R0PDLhErThcZ8KBqoZWbyYDgN0Vejzw9XbUW2wAgCtHpGHWqRkQt7KlbmK4GgNidNx6l4iIqAMw4BL5IAgC8qsbcEjf+s1kAPBLwVE8sTEXjQ4nxCLgtvGDMHVocqvXpUZq0C/a/01nREREFDhO9CPywu5wYleFPuBwuya3BI98uwONDicUUjEenTwsoHCbEaNjuCUiom5p7969mD59Ou666y7s378/2N3xwAou0QksNgdyy2vdu4354xQELNl8AJ/sKAYARChlWHjBCGTFhfu9TiQSYVCfsFZXVCAiIgpVBoMBv//+u/vjUMKAS9RMnbkRuyr0sDlav5ms0e7AM5t248f8IwCApHAVnrpwJJLC1X6vE4tEGBIfgWiNokP6TERERJ4YcImOOdJgxr6j9XAGcDNZvcWGh7/Zjp3legBAVlw4Fp4/HBEqud/rpGIxshMiEN5KOyIiImo/BlwiAAXVDSipNQbU9kiDGfO/3OZuf1paLO6flA2lzP+uY3KJGDmJka2uhUtEREQnhwGXejWH04m9R+tRabAE1H5/ZT3u/2obao7tZHbJ0GTcenomJK2sXauUSTAsMRIqGf/JERERdTb+tKVey2p3ILdcD4PVFlD7P0uq8Oi3O2GxOwAAs8cNwGXDUltdu1Yjl2JYYiTkUv8VXiIiIuoYDLjUKzVYbcg/YkBjADeTAcDXeWV44ac8OAUBMrEI95w9FGcPiG/1unClHNkJEZC2sosZERERdRwGXOp1ai12VJfrIZe3voqBIAhYvqUAy7cUAAC0cikeO38YhiW2viVhlFqBIfHhkIgZbomIiLoSAy71KrXmRhTUWZEa0Xpbu8OJF3/Owzd7DwMA+miVeOrCEUiL0rZ6bZxOhUF9wrj1LhER9VgDBw7Ep59+iuLiYgwYMCDY3fHAgEu9SnGAKyWYGu14dMNObCmtBuDaceyJC4YjRqNs9dqkcDUGxIadVD+JiIhCXVhYGMaOHYvw8HDodKG1KycDLvUa1UYrGqyt705WZbTg/q+242BVAwBgdHI0Hj43B2p56/9c0qK0AVV4iYiIqPMw4FKvUVjT+jaCRTUG3PflNhw9tmzYeYMSMW9CVkA3iQ2IDWt1FzMiIiLqfLz7hXqFSoOl1eXAtpfV4PY1f7nD7XWj03H3WYNbDbcikQiD48IZbomIqFfJzc3FaaedhmuuuQa7d+8Odnc8sIJLPZ4gCChqpXq76UAFnt20CzanALFIhDvPzML5WUmtPrZELMKQ+AhEqVtfkYGIiKgnsVqtKCkpcX8cShhwqcc7arDA2Oh97q0gCPh4ezGW/H4AAKCSSfDQuTk4JSWm1ceVisXITohAuEreof0lIiKik8OASz1a8+qtIAjIrdBjX4UR9Qo9hveNxX9/24/Pd5UCAKLUcjx5wYiAVkBQSCXISYiARiHr1P4TERFR2zHgUo9W0WCG2ebALwVH8ebm/Thcb3ad2F0FpVQMi921k1lKpAZPXzgCcTpVq4+pkkkwLDEKShm33iUiIgpFDLjUYzmdAoprjfil4Cge3bADTsHzfFO4TY1U4+VLx0AXQDVWq5AhJyECcinDLRERUahiwKUeq7zBDHOjHW9u3t8i3DZncwjQBrDGbYRKjqHxEQEtGUZERETBw5/U1CM5nQJKao3ILdcfn5bgw+F6M3LL9X7bRGsUyEmIZLglIiLqBljBpR7pcL0JVrsDVcbAli2pNvluF69TIbNPGEQiUUd1j4iIiDoRAy71OA6nEyW1RgBAjCaw9Wmjfaxj2zdCjYyY1ldVICIi6m2ys7OxefNmHDx4EEOGDAl2dzzw/VbqccrqzGh0uG4gy06IQGKY/5URksJVyE6IaHG8X5SW4ZaIiMgHhUKB5ORkxMfHQ6EIrQ2PTjrg2u3eF9AnCga743j1FnBtoztjZD+f7cUi4KaxAz2mH4hEIgyMDUNqlLZT+0pERESdo10B1+l04pVXXsHEiRMxcuRIAIDZbMbDDz+MxsbGDu0gUVscqjPB7nR6HCuq9b5Nb1K4Cg+fOwzj0/u4j4lFIgyOC0diuLpT+0lERESdp10Bd/Hixfjss89wzTXXuI+ZTCZs374dL7/8cod1rqysDDfddBNOPfVUTJw4Ec899xycJ4SXJsuXL8fkyZMxcuRIXHnlldi1a1eH9YO6B5vDiUN6k8exWlMjvth9CAAwIb0PnrkgBzcMjcGzFwzDe1ee7hFuJWIRshMiEKtVdmm/iYiIuqMtW7YgNTUVkydPxt9//x3s7nhoV8D9/PPP8frrr2PWrFnut3ajo6Px4osv4vPPP++wzs2ZMwdxcXHYuHEjli1bho0bN+K9995r0W7Tpk1YvHgxnn32Wfz222+YOHEibr75ZphMJi+PSj1Vqd7Yonr76c5iWI9t6HD16HRkx0dgdJwGQ+PDPaYlyCRiDEuMRKSPm82IiIioJYfD4bP4GEztCrg1NTUYPHhwi+Opqamoq6s76U4BQG5uLvbu3Yu7774bOp0OaWlpmDlzJlatWtWi7apVqzBt2jQMGzYMSqUSN954IwDghx9+6JC+UOhrtDtQVuf5C02dpRGf7yoFAJzeLxb9o3Ver1VIJRiRFIUwpbzT+0lERESdr13LhCUmJiIvLw9ZWVkQhONbRP3222+IjY3tkI7t3r0bSUlJCA8Pdx8bMmQICgsLYTAYoNVqPdpecMEF7s/FYjGysrKQm5uLCy+8MODnFAShy6q+ZrPZ4286OfnVBpjMFo9jH/9dBLPNAQC4PLsvrFYrrFbXerdNf6tkEmRGagB7I0x2zh/vLPx+Dw6Oe3Bw3IOD4971LJbjP3etVmuXZChBEAJal75dAXfKlCn4z3/+gxtuuAGCIGDDhg3YtWsXVq5cieuvv749D9mCXq9HWJjnEk1NYbe2ttYj4Or1eo8g3NS2tra2Tc9ps9mQl5fXzh63T1FRUZc+X0/U6HBiV7UZzX7XgsnmxNpdrrm3Q6NVkBtrUGyscZ+vqKiAWibGgAglChuOdHWXey1+vwcHxz04OO7BwXHvOs3Hury8vMsylFze+juu7Qq4s2fPRmNjI1555RXYbDbcfvvtiImJwc0339xhAReAR3W4I9v6IpPJkJGRcdKPEwiz2YyioiKkpaVBpfK/Tiv5d6CqASkaz+rth9uLYXG4vidmjctEah/XL0tWqxUVFRUYmJaMUSl9IBFzd7KuwO/34OC4BwfHPTg47l2vebU8ISEBWVlZnf6cBw8eDKhduwKuSCTC7bffjjlz5qCmpgYKhcKjotoRoqKioNfrPY7p9XqIRCJERUV5HI+MjPTadsCAAW16TpFIBLW6a5eHUqlUXf6cPYnF5oDe1uCxwLSx0Y7Pd5cBAEb1jcKwZM9pMxEKCUan9IFWq+nSvhK/34OF4x4cHPfg4Lh3HaXy+KpDCoWiS8Y9kOkJQDtvMhs7dqz7SaKjozs83ALA0KFDUV5ejpqa428r5+bmIiMjAxqNpkXb3bt3uz93OBzYs2cPhg0b1uH9otBSVGNoUb1ft6sUDVbXBiRXj0r3OKdTSJEeroCYlVsiIqIeq10BNy0tDX/88UdH98XD4MGDkZ2djeeffx4GgwH5+flYtmwZrrzySgDAeeedhy1btgAArrzySqxduxbbt2+H2WzG66+/DrlcjrPOOqtT+0jBZbbZccRgOeGYA5/sKAYADEuMRE5ipMf5vuHqgH/7IyIiou6pXVMUxo8fj/nz52Pw4MFISUmBTCbzOH/nnXd2SOdeeeUVPPjggzj99NOh1WpxxRVXYMaMGQCAwsJC9916EyZMwJ133ok77rgD1dXVyM7OxpIlSzxK59TzFFa3rN5+sbsUdRYbAOCaE6q3arkUMRoFKrush0RERD3XqFGjUFJSgry8PK/LxwZTuwLu6tWrIRKJkJeX1+KOOZFI1GEBNz4+HkuXLvV6bt++fR6fz5gxwx1+qeczWm2oNFo9jlntDny83VW9HRIfjuFJntXblAgNgJO/GZGIiIhcmU8sFkMsFofcu6PtCribNm3q6H4QtUlRrbFF9fbLPWWoNbvWsr1mVLrHPzaFVII4nZLrIxIREfUC7Qq4ANDQ0IBNmzahtNS1U1R6ejomTpzIpTmo0zVYbKg8Ye5to8OJVduLAACZfcIwOjna4zzn3hIREXWsxsZGlJeXo6qqCo2NjSG1ekW7Au7u3bsxa9YsNDQ0ICYmBk6nE9XV1YiNjcXKlSuRlJTU0f0kciuqNbQ49u3eMlQdm7Jw9QnVW6lYjMRw/uJFRETUkXbu3Ilzzz0XALBu3TqMHz8+yD06rl2rKDz33HM4++yzsXnzZvz888/45Zdf8Ouvv2LMmDF45plnOrqPRG71lkZUnzD31uZw4sO/iwAAGTE6jEuN8TifFK6CRNyub3UiIiLqhtr1U3/nzp144IEHPLbHjYqKwkMPPYS///67wzpHdKLCmpbV2+/2l+PosSkLV4/q51G9FYtE6BvBDR2IiIh6k3YFXIVC4XU+o1wuh91uP+lOEXmjNzei1tTocczhdOLDvwsBAP2itDi9Xx+P8wlhKsgkrN4SERH1Ju36yT948GC88MILaGw8HjasVisWLVqEzMzMDuscUXOF1S2rt98fqEB5vWtlhKtG9YO42S9eIpEIyazeEhER9TrtusnsnnvuwbXXXou1a9ciJSUFAFBSUgKRSIS33367QztIBAA1JivqLCdWbwV8sNVVvU2OUGNCepzH+T5aJZQySZf1kYiIiEJDuwJuZmYmvvvuO6xbtw4lJSWwWq2YMmUKLrroIsTExLT+AERt5K16+1P+ERyqc+1md9XIfpCIPafNJEeEznIlRERE1HXavQ6uXC7HlClTEBYWBgA4cuQI18ClTlFlsKDBavM45hQEfLC1AACQGKbC2QPiPc5HqRXQKjy3kCYiIqLeoV1zcPft24dJkybhl19+cR/78ssvMXny5BZb6BKdrKJaY4tjvxQcdR+fMbJfi2XAUiI595aIiKgzyeVyxMfHIyYmBnK5PNjd8dCuCu4zzzyD888/HxMmTHAfu+qqq1BXV4ennnoK7777bkf1j3q5ow1mGE6o3gqCgPePVW/jdEr8Y2CCx/kwpQwRqtD6h0ZERNTT5OTkYMuWLcjLy0NWVlawu+OhXQE3NzcXb775JmSy428BKxQK/Oc//8Fpp53WYZ2j3k0QBK/V281Flcg/Nif3yhH9ID1hGbAUrpxARETUq7V7HdyampoWx8vLyyGR8K516hhHGiwwNXquq+yq3rpWTojVKDB5UKLHebVcihitssv6SERERKGnXRXcc889F//5z39w8803o2/fvhAEAfn5+XjjjTdw8cUXd3QfqRcSBAHFtS1XTvirtBr7KusBAP8akQY5q7dERERB0dDQgO3bt6OoqAjJyclQq0Nn9aJ2Bdz/+7//w4MPPoi5c+fC4XBAJBJBIpHgoosuwj333NPRfaReqKLBDLPN4XFMEASs2OKaexulluOCrCSP8wqpBHE6Vm+JiIi6wr59+zB16lQAwLp169CnT59Wrug67Qq4MpkMixYtwgMPPIDS0lL8/vvviI2NxcSJE0PuLjrqfpxOAUU1LefebiurwZ4jdQCAy4enQSH1nA6THKH2uoU0ERER9S5tmoNbW1uLyy67DJs2bQIARERE4P3338fzzz+P+fPn48ILL0RZWVmndJR6j/IGM6x2R4vjTXNvw5UyXDS4r8c5mUSMhDCuw0xERERtDLgvv/wyHA4HMjMzAQB79+7F559/jqeeegq//fYbTjnlFPz3v//tlI5S7+B0CiiuaTn3dufhWuw4XAsAuGx4KlQnbMGbGKZqsRYuERER9U5tSgQ//fQTnnrqKaSmpgIANm7ciIyMDFx66aWIiorC3LlzsXnz5k7pKPUOZXUmNDqcLY6vOLburU4hw9QhyR7nJGIR+vLmMiIiIjqmTQG3uroaAwcOdH++bds2j3VvU1JSUF1d3XG9o17F4XSiRN9y7u3uCj3+PuRalu6fOSlQyz2njsfrVJBJWL0lIiIilzalAqVSCZvNtauUw+HA9u3bMXz4cPd5m80GqbRd960R4ZDeBJuX6m3TrmUauRSXZntWb0UiEZJZvSUiIqJm2hRw+/btix07dgBwTVcwm80YM2aM+3xeXh7i4uI6tofUK9gdTpTqTS2O7ztahz9LXO8KXJqdDK1C5nG+j1YJpYybixAREdFxbSq3XnTRRbjrrrtw9tln47vvvsPZZ5+N2NhYAEBFRQWeeuopnHnmmZ3SUerZSvVG2J3eqreulRNUMgn+mZPa4nxKROgsKk1ERNSbaDQajB49GiaTCRpNaL2b2qaAe/311+Po0aP4+eefMWbMGDz00EPuc2+++Sbq6uowe/bsDu8k9Ww2hxOH6lpWb/OrGvBbUSUA4JKhyQhTelZvozUKaE6o6BIREVHXyMrKwtq1a5GXl+deYStUtCngikQizJ8/H/Pnz29x7t///jcWLFgAmYyBg9qmpNYIh1Nocbxp7q1SKsb0YS2rt5x7S0RERN502B1hiYmJHfVQ1Is02h0o81K9Laox4H8FRwEAFw3piwiV5w55YUpZi2NEREREQAcGXKL2KK41wim0rN5+sLUQAgC5RIzLh6W1OJ/C6i0REVFQ1dTUYMOGDSgrK0N8fDzU6tC5L4YBl4LGanegvN7c4nip3ogf8ysAABcOTkK0RuFxXiOXIkar7JI+EhERkXcFBQW49dZbAQCnnnoqkpKSgtyj47g6PgVNUY3Ba/X2w78L4RQAmViEfw1Pa3Gec2+JiIjIHwZcCgqzzY6KBkuL44frTdi431W9PW9QEmJPqNQqpBLE6Vi9JSIiIt8YcCkoimuMELxUb1f+XQSnIEAiFuHKkWktzidHqCESibqgh0RERNRdMeBSlzM12nHE0LJ6e6TBjA37DgMA/jEwAXE6lcd5mUSMhDBVi+uIiIiImmPApS5XVGPwWr39aFsR7E4BYpEIV43s1+J8YpgKEjG/ZYmIiMg/pgXqUgarDUe9VG8rDRZ8nVcGADhnQDwSwz2XGpGIRejLm8uIiIgoAAy41KWKagxej3+8vRg2pwARgBleqrfxOhVkEn67EhERUeu4Di51mQaLDVVGa4vjNSYr1u85BAA4KyMOKZGelVqRSMSlwYiIiEJMVFQUpk6dirq6OkRGRga7Ox4YcKnLFPqo3n6yvRiNDicA4KqR6S3O99EqoZRJOrVvRERE1Dbp6el47bXXkJeXh379Wr77Gkx8z5e6RJ25ETWmltVbvbkR63aXAgDO6NcH/aK1LdqkRITO1n9EREQU+hhwqUv4qt5+uqMYFvux6u2olr/9RWsU0Chkndo3IiIi6lkYcKnT1Zqs0JsbWxyvt9jw+S5X9XZcagwGxIa1aJPCubdEREQhqby8HK+//jo+/vhjVFRUBLs7HjgHlzqdr+rtmtwSmGwOAMDVo1vOvQ1XyhGukndq34iIiKh9ysrK8MQTTwAALr74YqSnt/xZHiys4FKnqjZaUW+xtThusNrw2c4SAMCY5GgM6hPeok0y594SERFROzDgUqfyte7t57tKYWy0AwCu8VK91ciliNEqO7VvRERE1DMx4FKnqTRY0GBtWb01NdrxyQ5X9XZEUhSGxEe0aMN1b4mIiKi9GHCpUwiC4LN6u273IXfwvdrLygkKqQRxOlZviYiIqH0YcKlTVBos7ikIzVlsDnyyoxgAkJ0QgWGJLXc+SY5QQyQSdXofiYiIqGdiwKUOJwgCimqNXs99ueeQe8mwq0eltwiyMokYCWGqTu8jERER9VwMuNThjjRYYPJSvW20O7BqexEAIKtPOEb1jWrRJilcDYmY35ZERETUfiGbJPR6Pe644w6cdtppGD9+PO6//35YLBaf7Tds2IApU6ZgxIgRmDx5Mj7++OMu7C01cVVvvc+9/WrvYVSbXNXba0b3a1G9lYhFSArn0mBERETdQXx8PG655RZcfvnliIuLC3Z3PIRswH3wwQdhNpuxfv16fPbZZ8jPz8eiRYu8tt25cyfuvvtu3H777fjrr7+wYMECPPbYY9iyZUsX95rK682wHNu8oblGhxMf/V0IABgYq8MpKTEt2sTrVJBJQvZbkoiIiJrp27cv7r//fvz73/9GUlJSsLvjISTTRFVVFTZu3Ih58+YhKioKcXFxuPXWW/HZZ5/BZmu57JRer8fs2bMxadIkSKVSnHnmmRg4cCADbhdzOgUU+5h7u2HfYVQarQCAq7zMvRWJRFwajIiIiDpESG7Vm5eXB4lEgszMTPexIUOGwGQyoaCgwOM4AEyYMAETJkxwf26321FZWRly5fKe7nC9CVZ7y+qt3eHEymPV2/RoLU5Li23Rpo9WCaVM0ul9JCIiop4vJAOuXq+HVqv1qPKFh7u2cq2trW31+kWLFkGtVuOCCy5o0/MKggCTydS2zraT2Wz2+Lu7czgF7K+ogc3hbHHuuwMVqGhwzZ/+V04ybI2NLdrExKi7ZOx72rh3Fxz34OC4BwfHPTg47l2vtLQUr732Gurr6zFv3jwMGDCg059TEISAlhINWsD9/PPPcc8993g9N2/ePAiC0ObHFAQBixYtwvr167F8+XIoFIo2XW+z2ZCXl9fm5z0ZRUVFXfp8naXCaEOZoWVwdTgFvL/lMAAgXi1DX5ERxcWeQTZcIUGJpapL+tmkp4x7d8NxDw6Oe3Bw3IOD49518vLy8P777wMAJk2aBLu95QpKnUEul7faJmgBd+rUqZg6darXc7/++isMBgMcDgckEtfb1nq9HgAQHR3t9Rqn04n77rsPO3fuxMqVK5GcnNzmPslkMmRkZLT5uvYwm80oKipCWloaVKruve6r3eGE/lANUqNb/lLyQ/4RVJpd3/DXjOmPfml9WrTJSYhAuFLW6f0Eeta4dycc9+DguAcHxz04OO5dr3m1PCEhAVlZWZ3+nAcPHgyoXUhOUcjKyoIgCNi7dy+GDBkCAMjNzUVYWBj69Wu5tSsAPPnkkzhw4ABWrlyJiIiIdj2vSCSCWt21y1SpVKouf86OVlRjgEQmx4kzaB1OAat2HgLgWt/2H4P6QiL2fFshXClHQlR4F/X0uJ4w7t0Rxz04OO7BwXEPDo5711Eqle6PFQpFl4x7oDudhuQqClFRUZg8eTJeeukl1NTUoKKiAq+99hqmT58OqdSVya+77jp89dVXAICtW7di3bp1WLJkSbvDLbWP3eHEIb33ubP/KziCkmOrKswY2a9FuAWAlEiunEBEREQdKyQruADw2GOP4eGHH8Y555wDmUyGiy66CPPmzXOfLy0tRV1dHQDgs88+Q0NDAyZOnOjxGGPGjME777zTpf3ubUr0RtidLW8scwoC3t/qWjkhQafCpAHxLdpo5FJEa9o2T5qIiIioNSEbcHU6HV544QWf5zdt2uT++Mknn8STTz7ZFd2iZmwOJ8rqvFdvfyuqRGGNa0ezK0emQeplAweue0tERESdISSnKFD3UFxrgMPZ8sYyQRCwYksBANf6tudmJrZoo5RJEKdTtjhOREREdLIYcKldrHYHDtd5X2vwj5IqHKxqAABcMSLN6/a7fcPVAU8UJyIiImqLkJ2iQKGtpNYIp5e1igVBwPtbXHNvo9VynD+oZfVWJhEjIYxLuBAREXVnKSkpWLhwISoqKtq1PGtnYsClNrPYHCiv91693XqoBnlHXTf//Wt4GuTSltvvJoWrIRHzzQMiIqLurE+fPpg5cyby8vIQGxsb7O54YMqgNiuuNfis3jbNvY1QyXHh4L4t2kjEIiSFc31CIiIi6jwMuNQmZpsdFQ0Wr+d2HK7Frgo9AODyYalQylpWbxPCVF7n5BIRERF1FCYNapOiGiMEL9VbAO7qbZhShilDW1ZvRSIR+oZzaTAiIqKe4MCBA7j++uvx4IMPIj8/P9jd8cA5uBQwo9WGowbv1dtd5XpsP1wLAJiekwqVrOW3Vh+t0mtVl4iIiLqfuro6fPfdd+6PQwkruBSwolrf1dv3t7qqt1q5FJdke7+TMiWCc2+JiIio8zHgUkAMVhsqfVRv9x6pw1+l1QCAaTkp0MhbVm+jNQpoFLJO7SMRERERwIBLAWradtebFceqt2qZBNNyUry2SeG2vERERNRFGHCpVfWWRlQbrV7PHaisx+/FVQCAS7JToPNSpQ1XyhGukndqH4mIiIiaMOBSq/xVb9/f6tq1TCmVYLqv6m0kq7dERETUdRhwyS+9uRG1pkav5wqqG/BL4VEAwJShfb1WaTVyKaI1ik7tIxEREVFzDLjkV2G17+rtB3+7qrcKqRiXDUv12iaZc2+JiIioi3EdXPKpxmRFncV79ba41oCfDh4BAFyY1RdR6pZVWqVMgjidslP7SERERMGRkZGBd999F6WlpUhPTw92dzww4JJPRX7m3n74dxEEADKJGP8a4b162zdcDZFI1Em9IyIiomCKiIjApEmTkJeXh4iIiGB3xwOnKJBX1UYr6i02r+fK6kzYdKAcAHD+oETEaFpWaWUSMRLCVJ3aRyIiIiJvGHDJK38rJ3z4dyGcAiAVi3DFiDSvbZLC1ZCI+e1FREREXY8JhFqoNFhgsHqv3lbUm/Hdflf1dnJmIuJ0Lau0ErEISeHclpeIiKgn27NnD84991zMnj0beXl5we6OB87BJQ+CIPide7tyWyEcTgFikQhXjEzz2iYhTAWZhL87ERER9WQmkwl79uwBAJjN5iD3xhNTCHk4arDA2Gj3ee6bvYcBAJMGxiMxrGWVViQSoW84lwYjIiKi4GHAJbfWqrerthXB7hQgFgEzRvbz2qaPVgmlTNJZXSQiIiJqFQMuuVU0mGG2ObyeqzZa8WVeGQBgYka8zw0cUiI495aIiIiCiwGXAABOp4DiWqPP86u2F8HmcEIE39XbaI0CGoWsk3pIREREFBgGXAIAlDeYYfFRva01NWL9nkMAgAn945AWpfXaLoXb8hIREVEIYMAlV/XWz9zbT3cWw2p3AgCuGuW9ehuulCNcJe+U/hERERG1BQMuoazOhEaH0+u5Oksj1uaWAgBOS4tF/2id13YpkazeEhERUWjgOri9nMPpRIne99zb1TtLYLG7pi5cMzrdaxuNXIpojaJT+kdEREShafDgwdiwYQMKCwuRlZUV7O54YMDt5Q7pTbD5qN4arDasOVa9PTUlBgNjw7y2Y/WWiIio91Gr1Rg8eDBEIhFUqpY7mwYTpyj0YnaHE6V6k8/zq3NL3Js+XO1j7q1SJkEfrbJT+kdERETUHgy4vdihOhPsTu/VW2OjHat3lgAARvWNwuD4CK/t+oarIRKJOquLRERERG3GgNtL2RxOHPJTvV23qxQN1qbqrfe5tzKJGAlhofWWBBEREXWNbdu2YciQIZg2bRp27NgR7O544BzcXqpUb/RZvTXbHPhkRzEAYFhiJHISI722SwpXQyLm70hERES9kcPhQF1dnfvjUMJ00gs12h0oq/Ndvf1idynqLDYAwDU+qrcSsQhJ4dyWl4iIiEIPA24vVKI3wuEUvJ6z2h34eLurejskPhzDk7xXbxPCVJBJ+O1DREREoYcJpZex2h04XGf2ef7LPWWoNTcCcM299XYDmUgkQjK35SUiIqIQxYDbyxTXGuEUvFdvGx1OrNpeBADI7BOGMcnRXtvFaZVQSCWd1UUiIiKik8KA24tYbA6U1/uu3n67twxVRisA39VbAEiO4NxbIiIiCl0MuL1IUY0Bgo/qrc3hxId/FwEAMmJ0GJca47VdtEYBjULWWV0kIiIiOmkMuL2EqdGOIwaLz/Pf7S/H0WPnrx7Vz2f1NoVzb4mIiCjEcR3cXsJf9dbhdOLDvwsBAP2itDi9Xx+v7cKVcoSr5J3WRyIiIuo+hg8fjt27d2P//v3IyckJdnc8sILbCxitNnd11pvvD1S45+bOGNkPYl/V20hWb4mIiMhFKpUiPDwcWq0WUmlo1UwZcHuBwhqDz3MOp4APtrqqt8kRapzZP85rO41cimiNolP6R0RERNSRGHB7uAaLzb0ygjc/5R/BoWO7ml01sh8kYlZviYiIqHUOhwNGoxFms5lb9VLX8le9dQoCPthaAABIDFPh7AHxXtspZRL00So7pX9ERETUPW3btg2ZmZmYMmUKduzYEezueGDA7cHqzI2oMfmu3v5ScBRFtUYArrm3ErH3b4fkCI3PVRWIiIiIQg0Dbg9WVOu7eisIAt4/Vr2N0ynxj4EJXtvJJGLE61i9JSIiou6DAbeH0psbUWtq9Hl+c1El8qtdAfjKEWmQSrx/KySFq31WdomIiIhCEZNLD1VY3Vr11rVyQoxGgcmDkry2k4hFSArntrxERETUvYRswNXr9bjjjjtw2mmnYfz48bj//vthsfhey7WJ0WjEWWedhfnz53dBL0NTjcmKOovv6u1fpdXYV1kPALhiRBrkPqq3CWEqyHycIyIiIgpVIZteHnzwQZjNZqxfvx6fffYZ8vPzsWjRolavW7x4MQwG39XL3qC16u2KLa65t5EqOS7I8l69FYlESOa2vERERNQNhWTAraqqwsaNGzFv3jxERUUhLi4Ot956Kz777DPYbDaf1+3duxfr16/HpZde2oW9DS1VBgsarL7HaFtZDfYcqQMAXD48FQqpxGu7OK3S5zkiIiKiUBZa+6odk5eXB4lEgszMTPexIUOGwGQyoaCgwON4E0EQ8Mgjj2DevHk4fPgwGhoa2vy8giDAZDKdVN8DZTabPf7uKHmHa2C1+V5seflf+QCAMKUMkzP6wGr1voxYdIy6y8aiK3XWuJN/HPfg4LgHB8c9ODjuXc9ms0Gj0UAQBNjt9i7JDYIgBLR0aUgGXL1eD61W6/ECwsPDAQC1tbVer1m1ahVEIhGmTZuGV199tV3Pa7PZkJeX165r26uoqKjDHqvGYkdhne91bw/UWpBb4arenp2kwZHDh7y2i1BIUGKp6rB+haKOHHcKHMc9ODjuwcFxDw6Oe9eRy+VYu3at+/OuylByubzVNkELuJ9//jnuuecer+fmzZsHQRACfqzq6mq8/PLLePfdd09qQwKZTIaMjIx2X98WZrMZRUVFSEtLg0qlOunHEwQBW8tqkRrhu3r7Zt5OAIBWLsXVpw2GWub9yz8sIQJhStlJ9ykUdfS4U2A47sHBcQ8OjntwcNyDo6vH/eDBgwG1C1rAnTp1KqZOner13K+//gqDwQCHwwGJxDUPVK/XAwCio6NbtH/66adxySWXeJ260BYikQhqddcui6VSqTrkOSvqzXCKpVAovH9Jd1fosf2wHgAwfVgqIrXebyALV8oRHxV+0v0JdR017tQ2HPfg4LgHB8c9ODjuwdFV4x5oITMkpyhkZWVBEATs3bsXQ4YMAQDk5uYiLCwM/fr1a9F+3bp1CAsLw+rVqwEAFosFTqcTP/zwA/74448u7XswCIKAYj+7lgFw71qmkUtxaXayz3YpkVw5gYiIiFpnMpmwb98+dwU3lH6xCMmAGxUVhcmTJ+Oll17CM888g8bGRrz22muYPn06pFJXl6+77jr861//wgUXXICffvrJ4/ply5ahoqIC9913XzC63+XK680w+7mxbN/ROvxZUg0AuDQ7GVqF9+kHGrkU0RpFp/SRiIiIepY9e/bg3HPPBeAqNo4fPz7IPTouJAMuADz22GN4+OGHcc4550Amk+Giiy7CvHnz3OdLS0tRV+e6YSo+Pt7jWq1WC5VK1eJ4T+R0CiiuNfpt07RrmUomwbScFJ/tWL0lIiKiniBkA65Op8MLL7zg8/ymTZt8npszZ05ndCkkHa43wWr3Xb3Nr2rAb0WVAICpQ5MRrvR+56FSJkEfrbJT+khERETUlUJyowcKjMPpREmr1VvX3FuFVIzpOak+2yVHaE5qBQoiIiKiUMGA240drjOj0eH0eb6oxoD/FRwFAFw8pC8i1d6rtzKJGPE6Vm+JiIioZ2DA7aYcTidK9P6rtx9sLYQAV4C9fFiaz3ZJ4WpIxPxWICIiop6BqaabOqQ3weaneluqN+LH/AoAwIVZST5XR5CIRUgKD51lPYiIiIhOFgNuN2R3OFGq97/f84d/F8IpADKxCFeMSPPZLiFMBZmE3wZERETUc4TsKgrkW6neCLvTd/X2cL0JG/e7qreTByUi1sfqCCKRCMkRXBqMiIiI2k6lUiEzMxNWqxVKZWjdy8OA283YHE4cqvNfvV35dxGcggCJWIQrR7Tc+a1JnFYJhVTS0V0kIiKiXmDIkCH4/vvvkZeXh6ysrGB3xwPfm+5mSmqNcDgFn+ePNJixYd9hAMA/BiYgPkzlsy03diAiIqKeiAG3G2m0O1DWSvX2o21FsDsFiEXAjJG+q7cxGgXUchbwiYiIqOdhwulGimuNcAq+q7eVBgu+zisDAJw9IMHv6gis3hIREdHJqKurw//+9z+UlpYiMTERanXorMrEgNtNWGwOlNeb/bb5eHsxbE4BIgBX+anehivlCPOxZS8RERFRIA4cOIBrr70WAJCdnY2EhIQg9+g4TlHoJoprDX6rtzUmK9bvOQQAODMjzm+FltVbIiIi6skYcLsBs82OigaL3zafbC92b9vrr3qrkUt9bvpARERE1BMw4HYDRTVGCH6qt3pzI9btLgUAnNGvD9KjdT7bsnpLREREPR0DbogzNdpx1OC/evvpjmJY7Meqt6N8V2+VMgn6+Nj0gYiIiKinYMANcYU1Br/V23qLDZ/vclVvx6bGYEBsmM+2yREaiESiDu8jERERUShhwA1hBqsNla1Ub9fklsBkcwAArhmV7rOdTCJGgs73pg9EREREPQUDbggrqjH4PW+w2vDZzhIAwJjkaAyKC/fZtm+4GmIxq7dERETU83Ed3BDVYLGhymj12+bzXaUwNtoBAFf7qd5KxCIk+tn0gYiIiKitwsPDcfbZZ8NgMCA83HeRLRgYcENUYSvVW1OjHZ/scFVvRyRFYWhChM+2CWEqyCQs1hMREVHHGTBgAJYvX468vDz0798/2N3xwNQTgurMjagx+a/ertt9CA1WGwDgaj8rJ4hEIiRHcGkwIiIi6j0YcENQa9Vbi82BT3YUAwCGxkdgWGKkz7ZxWiUUUkmH9o+IiIgolHGKQoipNVmhNzf6bfPlnkPuNteMTve79Bc3diAiIqLOcPToUaxduxbl5eWIiYlBampqsLvkxoAbYlqr3jbaHVi1vQgAkNUnHKP6RvlsG6NRQC3nl5iIiIg6XklJCebPnw8AOOecc0Iq4HKKQgipNlpRb7H5bfPV3sOoNrmqt1eP7sfqLREREdEJGHBDSGvr3jY6nPjo70IAwIAYHU5NifHZNkIlR5hS3qH9IyIiIuoOGHBDRKXB4l4VwZcN+w6j8tjauFdz7i0RERGRVwy4IUAQhFart3aHEyuPVW/7RWlxWlqsz7ZahQxRakWH9pGIiIiou2DADQFHDRb3jmS+bDxQgYoGCwDXygliP9Xb5AjuWkZERES9F2+xDzJX9dbot43D6cSHfxcAcE09OCO9j8+2SpkEfbTKDu0jERERUXfCCm6QHTFYYLY5/Lb54eARlNWZAQBXjezXSvVW43duLhEREVFPxwpuEDkFASV6EyCR+WzjcAr44Njc26RwNSZmxPlsK5OIkaBTdXg/iYiIiE4UGxuLa665BrW1tYiJ8b2yUzAw4AZRtdkOkcoJhZ+ddP9XcAQlta4pDDNG9oNE7Lvo3jdcDbGY1VsiIiLqfKmpqXjqqaeQl5eHlJSUYHfHA6coBIkgCCg3+l8WzCkIeH+rq3obr1Ni0oB4n20lYhGSwnlzGREREREDbpA4BcDmFPy2+a2o0r1174yR/SCV+P5yJYap/Z4nIiIi6i2YiEKUIAhYscW1ckIfrRLnZib6bCsWidCXS4MRERFRFzp06BCeeeYZvPPOOzh8+HCwu+OBATdE/VFShYNVDQCAf41Ig8xPdbaPVgmF1M9EXiIiIqIOVlFRgcWLF2PlypWoqKgIdnc8MOCGIEEQ8P4W19zbaLUcFwzyXb0FuC0vERERUXMMuCFo66Ea5B2tAwD8a3ga5H6qszEaBdRyLoZBRERE1IQBN8Q0n3sboZLjwsF9/bZn9ZaIiIjIEwNuiNlxuBa7KvQAgMuHpUIp8129jVDJEaaUd1HPiIiIiLoHBtwQ01S9DVPKMGUoq7dEREREbcWAG0J2leux/XAtAGB6TgpUMt9za7UKGaLUiq7qGhEREVG3wYAbQt7f6qreauVSTB2a7LdtMte9JSIiIvKKt9+HiL1H6vBXaTUAYFpOCrQKmc+2SpkEfbTKruoaERERUQtJSUmYP38+jh49isRE/0uadjUG3BCx4lj1Vi2TYFpOit+2yREaiESirugWERERkVcJCQm47bbbkJeXh/j4+GB3xwOnKISAA5X1+L24CgBwSXYKdH6qtzKJGAk6VVd1jYiIiKjbYcANAe9vde1appRKML2V6m3fcDXEYlZviYiIiHxhwA2ywhojfik8CgCYMqQvwlW+17WViEVICufNZURERBR8BQUFmDNnDp5++mkUFhYGuzseQjbg6vV63HHHHTjttNMwfvx43H///bBYLD7bHzlyBLfccguGDx+O0047Dc8//zycTmcX9rh9Vu0oAQDIJWJcNjzVb9vEMDWkkpD9khEREVEvUlNTgzVr1uD7779HbW1tsLvjIWTT0oMPPgiz2Yz169fjs88+Q35+PhYtWuS1rSAIuO2225CUlIRffvkFK1aswObNm/HHH390ca8DIwgCfi2qwnfF9fi5sBIAcNHgvn7XtRWLROjLpcGIiIiIWhWSqyhUVVVh48aNWLNmDaKiogAAt956K+bOnYt7770XMpnnTVh//fUXSktL8cEHH0Aul0Or1eLTTz8NRtdbtSa3BPd+8Tfyqxs8jqdF+d+VrI9WCYXU97a9REREROQSkgE3Ly8PEokEmZmZ7mNDhgyByWRCQUGBx3EA2Lp1KwYOHIgXX3wRq1evhlarxVVXXYVZs2a16XkFQYDJZOqQ1+DNuj1luOaj3+EUWp576ec8qCUinJYW4/XamBh1p/attzCbzR5/U9fguAcHxz04OO7BwXHves2njlqt1i7JKYIgBLRUakgGXL1eD61W6/ECwsPDAcDrHI+Kigps374dEyZMwI8//og///wTt912G1JSUjBp0qSAn9dmsyEvL+/kX4AXgiDg3i8Oeg23AOAUgDc370ciDC2+cBEKCYotVZ3Sr96qqKgo2F3olTjuwcFxDw6Oe3Bw3LtO87EuLy/vtAx1Irnc9w35TYIWcD///HPcc889Xs/NmzcPguAjCXohCAKioqJw4403AgDOPPNM/OMf/8DXX3/dpoArk8mQkZERcPu2+KWoEocM/r/wlWY7DMpIDI0P9zg+LCECYUrfa+NS4MxmM4qKipCWlgaViusJdxWOe3Bw3IOD4x4cHPeu17xanpCQgKysrE5/zoMHDwbULmgBd+rUqZg6darXc7/++isMBgMcDgckEte8U71eDwCIjo5u0T42NhY6nc7jWFJSEnbs2NGmPolEIqjVnXMjV401sBUd6m1OKBTHbzaLUMkRHxXu5wpqD5VK1Wlfa/KN4x4cHPfg4LgHB8e96yiVSvfHCoWiS8Y90J1cQ3IVhaysLAiCgL1797qP5ebmIiwsDP369WvRvn///igtLYXRaHQfKysrQ1JSUpf0NxCJYYF90aNPWEkhJdL/zWdERERE5CkkA25UVBQmT56Ml156CTU1NaioqMBrr72G6dOnQyp1FZ2vu+46fPXVVwCAs88+G2FhYXj22WdhMpmwefNmbNy4EdOmTQvmy/BwRnof9I/W+W2TFK5CdkKE+3OtQuZ36TAiIiKiYOnXrx9eeeUVzJ8/H2lpacHujoeQDLgA8Nhjj0Gn0+Gcc87BlClTkJOTg3nz5rnPl5aWoq6uDoCrRP7WW29h//79GDt2LO677z48+uijGDNmTLC634JIJMIzF4+E2EdpXSwCbho70KP0nsJ1b4mIiChERUdHY9q0aTjnnHPcy7qGipBcRQEAdDodXnjhBZ/nN23a5PH5wIEDsXLlys7u1km5NDsFH183AfPX/42DVcfXwU0KV+GmsQMxPr2P+5hSJkGsVuntYYiIiIjIj5ANuD3VpdkpuGRoMr7dXYLVf+1BZkoSRqbEtpg0nRyhCXgiNREREREdF7JTFHoykUiE09NiMDpOg6Hx4S2CrFwiRoKOS5wQERFR6Nq7dy/++c9/4s4778T+/fuD3R0PrOCGoKRwNcRiVm+JiIgodBkMBvzxxx/uj0MJK7ghRiIWISmcN5cRERERtRcDbohJDFNDKuGXhYiIiKi9mKRCiFgkQl8uDUZERER0UhhwQ0icTgmFVBLsbhARERF1awy4IUIkEiE5gtvyEhEREZ0sBtwQEa2WQ/3/7d15dM1n4sfx95UVsSQzJjlorRGjiT2JBKdCRRVtrRlbxNKWIqRiGYngVJmaWjKZqp0qo86UaSLUNuYcVUpIKrEvGUtCdISEYORK7u8PP3cmk1BU8tWbz+ucnCPfm/t8P/cJ8clzn++9jnpRCxEREZGfSwX3BfGyq1ZvRURERJ4HLRm+AKpXdKSqs6PRMURERESemJeXF5s2beLChQs0atTI6DhFqOC+ALR6KyIiIr80VapUwc/PjypVquDi4mJ0nCK0RcFglR3tcavkZHQMEREREZuhgmuwl6pVNDqCiIiIiE1RwTWQk52JX1fW6q2IiIj88qSmptKmTRsGDRrE0aNHjY5ThPbgGsi9kgMmk8noGCIiIiJPLT8/n4yMDOufXyRawTVIBRP8qqJ+vxARERF53lRwDWIymaig1VsRERGR504FV0RERERsigquiIiIiNgUFVwRERERsSkquCIiIiJiU1RwRURERMSm6HWqREREROSp+fj4cODAAc6ePcsrr7xidJwiVHBFRERE5Kk5OTlRq1Ytbt68iZPTi/XOrNqiICIiIiI2RQVXRERERGyKCq6IiIiIPLVDhw7x0ksvERwcTHJystFxitAeXBERERF5JhaLxegIJdIKroiIiIjYFBVcEREREbEpKrgiIiIiYlNUcEVERETEpqjgioiIiIhNUcEVEREREZtisryor+9QxpKTk7FYLDg6OpbJ+SwWC2azGQcHB0wmU5mcUzTvRtG8G0PzbgzNuzE072Xv3r17ZGVlAeDu7o6zs3OpnzM/Px+TyUTLli0f+3V6Hdz/V9b/GEwmU5mVafkPzbsxNO/G0LwbQ/NuDM172XNycqJOnTplek6TyfREnU0ruCIiIiJiU7QHV0RERERsigquiIiIiNgUFVwRERERsSkquCIiIiJiU1RwRURERMSmqOCKiIiIiE1RwRURERERm6KCKyIiIiI2RQVXRERERGyKCq4Bvv32WwIDA4mIiDA6SrmSmZnJ6NGj8ff3JzAwkClTpnDz5k2jY9m8kydPMmTIEFq1akVgYCDjx4/nX//6l9Gxyo3Zs2fj5eVldIxywcvLC29vb3x8fKwfH374odGxyo3PPvuMdu3a0bx5c8LCwsjIyDA6ks1KSkoq8vfcx8cHb2/vF+pnjQpuGVu2bBmzZs0q8/duFhg5ciRVq1Zl9+7dbNq0iTNnzvDxxx8bHcum5efnM2zYMPz8/Ni/fz+JiYlkZ2czY8YMo6OVCydOnCA+Pt7oGOXKtm3bSEtLs35MmzbN6Ejlwrp160hISGDNmjXs3buXhg0bsnr1aqNj2SxfX98if8/T0tIYM2YMXbt2NTqalQpuGXNycuKrr75SwS1jN2/exNvbmwkTJlC5cmU8PDzo2bMnhw4dMjqaTbt79y4RERG89957ODo64ubmRufOnTlz5ozR0WxeYWEh06dPJywszOgoIqVu5cqVREREUL9+fVxcXIiOjiY6OtroWOXG5cuXWbVqFZMmTTI6ipUKbhkLDQ2lSpUqRscod6pWrcqcOXP49a9/bT125coVfvOb3xiYyvZVq1aNvn37Ym9vD0B6ejp/+9vfXqjf8m3Vl19+iZOTEz169DA6Srkyb948OnToQOvWrZk2bRq3b982OpLNu3r1KhkZGeTm5vLGG2/g7+9PeHg4169fNzpauREbG0vv3r2pWbOm0VGsVHClXEpLS2Pt2rWMGjXK6CjlQmZmJt7e3rzxxhv4+PgQHh5udCSbdu3aNeLi4pg+fbrRUcqV5s2bExgYyI4dO9iwYQM//PADM2fONDqWzcvKygIebA9ZtWoV8fHxZGVlaQW3jGRkZLBjxw6GDh1qdJQiVHCl3Dl8+DDDhw9nwoQJBAYGGh2nXKhVqxZpaWls27aN8+fPv1BPY9miOXPm0KtXLxo2bGh0lHJlw4YN9O3bF0dHRxo0aEBkZCSJiYnk5+cbHc2mWSwWAEaMGIG7uzseHh6MHTuW3bt3c+/ePYPT2b5169YRHBxMjRo1jI5ShAqulCu7d+/m3XffZerUqYSGhhodp1wxmUzUrVuXiIgIEhMT9fRhKdm/fz8pKSmMHj3a6CjlXu3atSkoKCA7O9voKDbt4dazqlWrWo/VqlULi8WiuS8D27dvp2PHjkbHKEYFV8qN5ORkJk+eTGxsLG+//bbRccqF/fv306VLFwoLC63HKlR48GPHwcHBqFg2LSEhgezsbIKCgvD396dXr14A+Pv7s2XLFoPT2a7jx4/zhz/8ocixc+fO4ejoqL3+pczDwwMXFxdOnDhhPZaZmYmDg4PmvpSdOHGCzMxM2rZta3SUYuyNDiBSFu7fv090dDSRkZG0a9fO6Djlhre3N3l5efzxj38kPDycu3fvEhcXR+vWrXWxZSmZMmUK48aNs36elZVFSEgI8fHxVKtWzcBktu1Xv/oVGzZswM3NjbCwMDIzM4mNjSUkJAQ7Ozuj49k0e3t7+vTpw+LFi/H19cXFxYVPP/2UHj16WC9wldJx/PhxqlevjouLi9FRijFZHm5ekTLh4+MDPChcgPUfX1pammGZyoNDhw4xcOBAHB0di922bds2atWqZUCq8uHUqVPMmjWL1NRUKlWqRJs2bZgyZQru7u5GRysXMjIy6NSpE6dOnTI6is1LSkpi3rx5nDp1CkdHR3r27ElERAROTk5GR7N5+fn5zJkzhy1btmA2m+nSpQvTpk2jcuXKRkezaUuWLGHz5s0kJiYaHaUYFVwRERERsSnagysiIiIiNkUFV0RERERsigquiIiIiNgUFVwRERERsSkquCIiIiJiU1RwRURERMSmqOCKiIiIiE1RwRURm9OxY0c++eQTo2MAkJKSQnBwME2bNuX06dNGx7FpU6ZMoV+/fkbHKGLPnj14eXmRkZFhdBSRckUFV0Seu8GDB9O4cWMOHDhQ7La4uDgGDx5sQCpjrFixAhcXFw4dOoSnp2ex2zdt2oSXlxc+Pj4lfty6deu5ZVm7di3Xr19/buM9Lzk5OXz00Ud06dKFFi1a4OPjQ7du3Vi8eDEFBQWG5frHP/6hd5kU+YXSmzSLSKlwdXVl2rRpJCQk4OzsbHQcw+Tm5lKnTp0S3yb6vx06dKhU39L15s2bzJ49m4CAANzc3ErtPE/LYrEwbNgwKlWqxJ///Gfq1atHYWEh+/btY/LkyeTm5jJ58mRDssXFxdG3b1/rW6yLyC+HVnBFpFT069cPZ2dnYmNjH/t1Xl5erF+/vsixtm3bEhcXBzwoGW+++SYJCQkEBQXRrFkzPvjgA7Kzsxk3bhwtW7YkKCiIbdu2FRnDbDYTExODn58fAQEBxMTEcO/ePevtSUlJDB48GD8/P1q1asWoUaO4dOmS9faOHTsSFxdHSEgI/v7+j8y/c+dOevXqRcuWLfH39ycyMtK6StqlSxeSkpLYtm0bPj4+nDx58skmrwQ/lffatWtMmDABPz8/mjdvTrdu3UhISADg5MmTBAYGUlBQwFtvvcWkSZPIyMjAy8uLPXv2WMe4d+8eXl5ebNq0CXjwlP/7779PVFQULVq0IDU11fqY+/bta33MEydOLLIyvHXrVt58801atGiBn58fY8aM4erVqyU+ruzsbI4dO0b//v3x9PTE3t4eR0dHOnToQFxcHK+++qr1a69cuUJ4eDjt2rWjWbNm9OnTh3379j1yzk6fPs0777xDQEAAzZs3JzQ0lGPHjllvv3//PrGxsXTo0IEWLVoQEhJifdahbdu2HDt2jFmzZtGxY0fr/Hz88ce89tprNG3alODgYNasWVPknOvXr6dz5840b96cIUOGcPny5cd8V0WktKjgikipsLe356OPPuKLL76wFqNnlZmZyfHjx/nmm29Yvnw5W7ZsITQ0lNDQUA4ePEi7du2YPn06FovFep+NGzfSsmVL9u7dy/Lly9m+fTt/+tOfADh37hzDhw+nU6dO7N27l127dlGpUiWGDh1Kfn6+dYyvvvqK8ePHs3///hJzHTx4kLFjxxIaGsr333/Pxo0bSU9PZ/z48QBs374dX19fXn/9ddLS0mjcuPEzPf4nyRsdHU1GRgY7duzg8OHDDBo0iMmTJ3P27FkaN27MihUrAIiPj2fu3LlPfO6UlBTq1KnDwYMH8fHxYf/+/XzwwQeEhYVx8OBB4uPj+fHHHxkzZgwAV69eJTIykgkTJpCcnMz27dsBHnlOV1dXatSowapVq4qUTwA/Pz/atGkDQH5+PmFhYTg5ObF582YOHjxI9+7deffddzl37lyxca9fv87gwYPx9PRk165dfPfddzRp0oShQ4day3hcXBwJCQksX76cpKQkgoODee+998jMzOS7776zzuvu3bsBiImJYd++fSxdupSUlBRmzpzJggUL+Otf/wpAcnIyM2bMYNSoUSQlJTFhwgRWrlz5xHMtIs+PCq6IlBofHx8GDx5MVFQUZrP5mce5c+cOY8eOxdnZGV9fX9zc3PD29qZVq1bY29vz2muvkZOTQ3Z2tvU+TZo04e2338bR0ZFXXnmFHj16sHPnTgA2bNhAw4YNCQsLw9HREVdXV6Kiorh06RKHDx8uMkZAQAAVKpT8o3Lt2rUEBARYz1O7dm3ef/99Dhw48FxX7p4k78KFC1mxYgXVq1fHzs6O3r17U1hY+LN/uSgsLGT48OE4ODhgMplYu3YtHTp0oFu3btjb2+Ph4UFkZCSHDx/m0qVL5OXlUVBQQKVKlTCZTLi6uhIXF8e8efNKHN/Ozo7FixeTn59Pr169aNeuHeHh4axZs6bIqu+ePXu4ePEiMTExuLq64uTkRFhYGHXr1iUxMbHYuJs3b8ZkMjFx4kQqV65M5cqVmThxIoWFhezevRuLxcKXX37JoEGDaNiwIfb29oSFhfHhhx9iZ2dXbLycnBwSEhIYN24c9evXx87OjoCAAHr27MnXX38NQGJiIp6envTq1QsHBweaNm1K7969f9b8i8iz0R5cESlV48aN4+9//ztLliyxrvI9rerVq1O5cmXr5xUrVqRmzZrWzx/u8f33v/9tPfa/q6V16tSxls709HROnDhRbG+lvb19kavdX3755cfmunDhgnWF8aGGDRsCcPHixSIZf0rr1q2LHfPw8GDnzp1PlDc9PZ0FCxaQmprK7du3MZlMAEW2ZTyLmjVrFil86enpXLhwoVgWOzs7MjIyCAgIIDQ0lCFDhtCoUSPatGlD165dadas2SPP4e3tTUJCAmfOnCE5OZmUlBSWLFnC3LlzmTp1KgMGDCA9PZ3CwkICAwOL3NdisZCZmVlszPT0dHJycmjatGmR44WFhWRmZnLjxg1ycnJ46aWXijyGHj16lJjxwoULFBYWEh4ebp3bh+evUaMGAJcvX6Z27dpF7lfShYUiUvpUcEWkVDk7OzNr1iyGDx9Oly5dnug+/3vlfEkrqI9aVX3U7RaLxXoRl7OzM+3bt2fp0qWPHcPBweGxt5dUHgsLCwGKlKAn8biLzH4qb15eHkOHDsXf35/4+Hg8PDwoKCigSZMmT5WhpFcs+N85cHZ2JiQkhOnTpz9ynKioKEaMGMHevXvZs2cPAwcOZPjw4URERDz2/J6ennh6ehISEkJBQQHR0dHMnj2bt956C2dnZypVqkRKSsoTPRZnZ2caNGjAli1bSrw9NzcX+M/366c8/N785S9/KVaaH8rPzy92MeGTji8iz5e2KIhIqfPz86Nnz55ERUUV+w/fycmpyMrrjRs3uHHjxs8+55kzZ4p8np6ebl1RrVevHidPnixS6AoKCp76tUrr1q3LqVOnSjxv3bp1nyF1yX4q79mzZ8nJyWHEiBF4eHgA8MMPPzx2zJJWvf/5z38+UZb/3St79+5dfvzxR+BBocvJycHd3Z3evXsTGxvL9OnT+eKLL0oc78CBA8yaNavI/ml4sJr66quvYjabycvLo169ety5c6fYfttLly4Vu+/DnJcuXbIW2YcuXrwIQLVq1XB1dS023ueff17i6xW//PLL2NvbF3vsWVlZ1n3QHh4exVaTf86FhSLy7FRwRaRMTJo0iatXr1qv0H+oQYMG7Nq1i7y8PG7dusXcuXNxcXH52ec7cuQI33zzDWazmdTUVLZu3Uq3bt0A6N+/Pzk5OcydO5ebN2+Sl5fHJ598Qp8+fcjLy3vic/Tv35/vv/+er7/+GrPZzIULF/j0008JCgrC3d39Zz+G/z7P4/LWqlULe3t7kpKSuH//PikpKSxbtoyqVaty5coV4MG2DnhQ9G/duoWbmxvVq1dn69at3Lt3j2vXrrFkyZIS95/+t7CwMFJTU1m5ciV37tzhxo0bREdHExYWRmFhIYmJiXTv3p3U1FQsFgu3b9/m6NGj1K9fv8Tx3Nzc2LhxI1OnTuX8+fMUFBRgNps5cuQIixYtok2bNri7u9O2bVsaNWrEjBkzuHz5Mvfv32fLli107dqV5OTkYuN2796dKlWqMGPGDK5fv05+fj6rV6+me/fu1lefGDBgAOvWrePo0aPcv3+f9evXM3/+fOtcVaxYkfPnz5Obm0vFihXp168fixYt4siRIxQUFJCWlkZISAirVq0CoHPnzpw+fZqEhATMZjMpKSnW/bkiUrZUcEWkTLi4uDBz5kyysrKKHI+JieHWrVsEBgbSp08fgoKCnmrv6qMMGDCAb7/9loCAAEaOHEm3bt0YNmwY8GBf6dKlSzly5Ajt27enffv2nD59ms8///ypyvWrr77KnDlzWLVqFX5+ftZtAo+6oOpZ/VTeGjVqEBMTw+rVq/H19SU2NpaoqCh+97vfsXr1ahYsWMBvf/tbAgICiIiIIDIykgoVKjBnzhxOnDiBr68vQ4cOJTQ09Cdfs7hp06YsXLiQ+Ph4/P396dSpE2azmWXLllGhQgV69OjBwIEDGT9+PM2aNaNTp05cu3aN+fPnlziep6cn69evx2w2ExYWRsuWLWndujVTp06lY8eOLFq0CHiw5eSzzz6jWrVq1pcgW7ZsGQsWLKBVq1bFxnVxcWH58uXk5ubSqVMnWrduzfbt21mxYoV13+2YMWMICQlh5MiR+Pr6smnTJpYsWWK9PTQ0lPXr1xMcHIzZbGby5Mm8/vrrjB49mmbNmhEeHk7//v155513AAgKCuL3v/89CxcupHXr1syfP5+xY8c+8/ddRJ6dyVLSczsiIiIiIr9QWsEVEREREZuigisiIiIiNkUFV0RERERsigquiIiIiNgUFVwRERERsSkquCIiIiJiU1RwRURERMSmqOCKiIiIiE1RwRURERERm6KCKyIiIiI2RQVXRERERGyKCq6IiIiI2JT/Azco6og7t6t1AAAAAElFTkSuQmCC\n",
                  "text/plain": "<Figure size 800x550 with 1 Axes>"
                },
                "metadata": {},
                "output_type": "display_data"
              }
            ]
          }
        },
        "c2b72f0f9b604ea58b51440c623f827a": {
          "model_module": "@jupyter-widgets/controls",
          "model_module_version": "1.5.0",
          "model_name": "HTMLModel",
          "state": {
            "_dom_classes": [],
            "_model_module": "@jupyter-widgets/controls",
            "_model_module_version": "1.5.0",
            "_model_name": "HTMLModel",
            "_view_count": null,
            "_view_module": "@jupyter-widgets/controls",
            "_view_module_version": "1.5.0",
            "_view_name": "HTMLView",
            "description": "",
            "description_tooltip": null,
            "layout": "IPY_MODEL_9df793f102b0499dae76ff082b7f387a",
            "placeholder": "​",
            "style": "IPY_MODEL_4b236a604d4a4b2ca2bd219c4d4a618a",
            "value": " 81/81 [01:31&lt;00:00,  1.18s/it]"
          }
        },
        "ccbba3981cef4456bfa3e19ba47d1312": {
          "model_module": "@jupyter-widgets/controls",
          "model_module_version": "1.5.0",
          "model_name": "HBoxModel",
          "state": {
            "_dom_classes": [],
            "_model_module": "@jupyter-widgets/controls",
            "_model_module_version": "1.5.0",
            "_model_name": "HBoxModel",
            "_view_count": null,
            "_view_module": "@jupyter-widgets/controls",
            "_view_module_version": "1.5.0",
            "_view_name": "HBoxView",
            "box_style": "",
            "children": [
              "IPY_MODEL_edc9b1edffd14c2ab913ecdc86b5df2a",
              "IPY_MODEL_d08a8bfdb9c44b22b9387068f113790d",
              "IPY_MODEL_dd1b2a7de5c047e186a28ca171250284"
            ],
            "layout": "IPY_MODEL_09b8c501bc1b48788664ebd7b8b38ea5"
          }
        },
        "d08a8bfdb9c44b22b9387068f113790d": {
          "model_module": "@jupyter-widgets/controls",
          "model_module_version": "1.5.0",
          "model_name": "FloatProgressModel",
          "state": {
            "_dom_classes": [],
            "_model_module": "@jupyter-widgets/controls",
            "_model_module_version": "1.5.0",
            "_model_name": "FloatProgressModel",
            "_view_count": null,
            "_view_module": "@jupyter-widgets/controls",
            "_view_module_version": "1.5.0",
            "_view_name": "ProgressView",
            "bar_style": "",
            "description": "",
            "description_tooltip": null,
            "layout": "IPY_MODEL_af718f545bc94d799b867fecd73b7df0",
            "max": 4,
            "min": 0,
            "orientation": "horizontal",
            "style": "IPY_MODEL_50eba8d4b3964536943d802f5547676b",
            "value": 4
          }
        },
        "d5635cc75d4140bd873f5ee8d9f04977": {
          "model_module": "@jupyter-widgets/base",
          "model_module_version": "1.2.0",
          "model_name": "LayoutModel",
          "state": {
            "_model_module": "@jupyter-widgets/base",
            "_model_module_version": "1.2.0",
            "_model_name": "LayoutModel",
            "_view_count": null,
            "_view_module": "@jupyter-widgets/base",
            "_view_module_version": "1.2.0",
            "_view_name": "LayoutView",
            "align_content": null,
            "align_items": null,
            "align_self": null,
            "border": null,
            "bottom": null,
            "display": null,
            "flex": null,
            "flex_flow": null,
            "grid_area": null,
            "grid_auto_columns": null,
            "grid_auto_flow": null,
            "grid_auto_rows": null,
            "grid_column": null,
            "grid_gap": null,
            "grid_row": null,
            "grid_template_areas": null,
            "grid_template_columns": null,
            "grid_template_rows": null,
            "height": null,
            "justify_content": null,
            "justify_items": null,
            "left": null,
            "margin": null,
            "max_height": null,
            "max_width": null,
            "min_height": null,
            "min_width": null,
            "object_fit": null,
            "object_position": null,
            "order": null,
            "overflow": null,
            "overflow_x": null,
            "overflow_y": null,
            "padding": null,
            "right": null,
            "top": null,
            "visibility": null,
            "width": null
          }
        },
        "d95d39ef1a064adb89da54549cdc7132": {
          "model_module": "@jupyter-widgets/base",
          "model_module_version": "1.2.0",
          "model_name": "LayoutModel",
          "state": {
            "_model_module": "@jupyter-widgets/base",
            "_model_module_version": "1.2.0",
            "_model_name": "LayoutModel",
            "_view_count": null,
            "_view_module": "@jupyter-widgets/base",
            "_view_module_version": "1.2.0",
            "_view_name": "LayoutView",
            "align_content": null,
            "align_items": null,
            "align_self": null,
            "border": null,
            "bottom": null,
            "display": null,
            "flex": null,
            "flex_flow": null,
            "grid_area": null,
            "grid_auto_columns": null,
            "grid_auto_flow": null,
            "grid_auto_rows": null,
            "grid_column": null,
            "grid_gap": null,
            "grid_row": null,
            "grid_template_areas": null,
            "grid_template_columns": null,
            "grid_template_rows": null,
            "height": null,
            "justify_content": null,
            "justify_items": null,
            "left": null,
            "margin": null,
            "max_height": null,
            "max_width": null,
            "min_height": null,
            "min_width": null,
            "object_fit": null,
            "object_position": null,
            "order": null,
            "overflow": null,
            "overflow_x": null,
            "overflow_y": null,
            "padding": null,
            "right": null,
            "top": null,
            "visibility": null,
            "width": null
          }
        },
        "dd1b2a7de5c047e186a28ca171250284": {
          "model_module": "@jupyter-widgets/controls",
          "model_module_version": "1.5.0",
          "model_name": "HTMLModel",
          "state": {
            "_dom_classes": [],
            "_model_module": "@jupyter-widgets/controls",
            "_model_module_version": "1.5.0",
            "_model_name": "HTMLModel",
            "_view_count": null,
            "_view_module": "@jupyter-widgets/controls",
            "_view_module_version": "1.5.0",
            "_view_name": "HTMLView",
            "description": "",
            "description_tooltip": null,
            "layout": "IPY_MODEL_5bf72a6308dd4d298ddfb03fc10bf6a5",
            "placeholder": "​",
            "style": "IPY_MODEL_5426fecd19f047a9bbdc1f07fd7a9aa5",
            "value": " 4/4 [00:01&lt;00:00,  2.54it/s]"
          }
        },
        "e536bfa0afeb4f30baf6f9dd34aac79d": {
          "model_module": "@jupyter-widgets/base",
          "model_module_version": "1.2.0",
          "model_name": "LayoutModel",
          "state": {
            "_model_module": "@jupyter-widgets/base",
            "_model_module_version": "1.2.0",
            "_model_name": "LayoutModel",
            "_view_count": null,
            "_view_module": "@jupyter-widgets/base",
            "_view_module_version": "1.2.0",
            "_view_name": "LayoutView",
            "align_content": null,
            "align_items": null,
            "align_self": null,
            "border": null,
            "bottom": null,
            "display": null,
            "flex": null,
            "flex_flow": null,
            "grid_area": null,
            "grid_auto_columns": null,
            "grid_auto_flow": null,
            "grid_auto_rows": null,
            "grid_column": null,
            "grid_gap": null,
            "grid_row": null,
            "grid_template_areas": null,
            "grid_template_columns": null,
            "grid_template_rows": null,
            "height": null,
            "justify_content": null,
            "justify_items": null,
            "left": null,
            "margin": null,
            "max_height": null,
            "max_width": null,
            "min_height": null,
            "min_width": null,
            "object_fit": null,
            "object_position": null,
            "order": null,
            "overflow": null,
            "overflow_x": null,
            "overflow_y": null,
            "padding": null,
            "right": null,
            "top": null,
            "visibility": null,
            "width": null
          }
        },
        "e793411f2a1e467dba91646acff9d8c4": {
          "model_module": "@jupyter-widgets/controls",
          "model_module_version": "1.5.0",
          "model_name": "ProgressStyleModel",
          "state": {
            "_model_module": "@jupyter-widgets/controls",
            "_model_module_version": "1.5.0",
            "_model_name": "ProgressStyleModel",
            "_view_count": null,
            "_view_module": "@jupyter-widgets/base",
            "_view_module_version": "1.2.0",
            "_view_name": "StyleView",
            "bar_color": null,
            "description_width": ""
          }
        },
        "e7a4dc29ace1438bbfb9dc09ddae9aea": {
          "model_module": "@jupyter-widgets/base",
          "model_module_version": "1.2.0",
          "model_name": "LayoutModel",
          "state": {
            "_model_module": "@jupyter-widgets/base",
            "_model_module_version": "1.2.0",
            "_model_name": "LayoutModel",
            "_view_count": null,
            "_view_module": "@jupyter-widgets/base",
            "_view_module_version": "1.2.0",
            "_view_name": "LayoutView",
            "align_content": null,
            "align_items": null,
            "align_self": null,
            "border": null,
            "bottom": null,
            "display": null,
            "flex": null,
            "flex_flow": null,
            "grid_area": null,
            "grid_auto_columns": null,
            "grid_auto_flow": null,
            "grid_auto_rows": null,
            "grid_column": null,
            "grid_gap": null,
            "grid_row": null,
            "grid_template_areas": null,
            "grid_template_columns": null,
            "grid_template_rows": null,
            "height": null,
            "justify_content": null,
            "justify_items": null,
            "left": null,
            "margin": null,
            "max_height": null,
            "max_width": null,
            "min_height": null,
            "min_width": null,
            "object_fit": null,
            "object_position": null,
            "order": null,
            "overflow": null,
            "overflow_x": null,
            "overflow_y": null,
            "padding": null,
            "right": null,
            "top": null,
            "visibility": null,
            "width": null
          }
        },
        "e7e6a6bf99724351bdd0a1a896e06e20": {
          "model_module": "@jupyter-widgets/controls",
          "model_module_version": "1.5.0",
          "model_name": "ToggleButtonsStyleModel",
          "state": {
            "_model_module": "@jupyter-widgets/controls",
            "_model_module_version": "1.5.0",
            "_model_name": "ToggleButtonsStyleModel",
            "_view_count": null,
            "_view_module": "@jupyter-widgets/base",
            "_view_module_version": "1.2.0",
            "_view_name": "StyleView",
            "button_width": "",
            "description_width": "",
            "font_weight": ""
          }
        },
        "e8b18739d59c454a888cb1f70accb87c": {
          "model_module": "@jupyter-widgets/controls",
          "model_module_version": "1.5.0",
          "model_name": "FloatProgressModel",
          "state": {
            "_dom_classes": [],
            "_model_module": "@jupyter-widgets/controls",
            "_model_module_version": "1.5.0",
            "_model_name": "FloatProgressModel",
            "_view_count": null,
            "_view_module": "@jupyter-widgets/controls",
            "_view_module_version": "1.5.0",
            "_view_name": "ProgressView",
            "bar_style": "",
            "description": "",
            "description_tooltip": null,
            "layout": "IPY_MODEL_e7a4dc29ace1438bbfb9dc09ddae9aea",
            "max": 81,
            "min": 0,
            "orientation": "horizontal",
            "style": "IPY_MODEL_e793411f2a1e467dba91646acff9d8c4",
            "value": 81
          }
        },
        "eccdafd03a314753862ac0cdb8281a67": {
          "model_module": "@jupyter-widgets/base",
          "model_module_version": "1.2.0",
          "model_name": "LayoutModel",
          "state": {
            "_model_module": "@jupyter-widgets/base",
            "_model_module_version": "1.2.0",
            "_model_name": "LayoutModel",
            "_view_count": null,
            "_view_module": "@jupyter-widgets/base",
            "_view_module_version": "1.2.0",
            "_view_name": "LayoutView",
            "align_content": null,
            "align_items": null,
            "align_self": null,
            "border": null,
            "bottom": null,
            "display": null,
            "flex": null,
            "flex_flow": null,
            "grid_area": null,
            "grid_auto_columns": null,
            "grid_auto_flow": null,
            "grid_auto_rows": null,
            "grid_column": null,
            "grid_gap": null,
            "grid_row": null,
            "grid_template_areas": null,
            "grid_template_columns": null,
            "grid_template_rows": null,
            "height": null,
            "justify_content": null,
            "justify_items": null,
            "left": null,
            "margin": null,
            "max_height": null,
            "max_width": null,
            "min_height": null,
            "min_width": null,
            "object_fit": null,
            "object_position": null,
            "order": null,
            "overflow": null,
            "overflow_x": null,
            "overflow_y": null,
            "padding": null,
            "right": null,
            "top": null,
            "visibility": null,
            "width": null
          }
        },
        "edc9b1edffd14c2ab913ecdc86b5df2a": {
          "model_module": "@jupyter-widgets/controls",
          "model_module_version": "1.5.0",
          "model_name": "HTMLModel",
          "state": {
            "_dom_classes": [],
            "_model_module": "@jupyter-widgets/controls",
            "_model_module_version": "1.5.0",
            "_model_name": "HTMLModel",
            "_view_count": null,
            "_view_module": "@jupyter-widgets/controls",
            "_view_module_version": "1.5.0",
            "_view_name": "HTMLView",
            "description": "",
            "description_tooltip": null,
            "layout": "IPY_MODEL_ba0983ffb8c34caabacb8e25ef753220",
            "placeholder": "​",
            "style": "IPY_MODEL_296c9f2b827045d3a44941b78d6ae573",
            "value": "Processing: 100%"
          }
        },
        "ef4a5f3924844b1895d42ed086b76d41": {
          "model_module": "@jupyter-widgets/controls",
          "model_module_version": "1.5.0",
          "model_name": "DescriptionStyleModel",
          "state": {
            "_model_module": "@jupyter-widgets/controls",
            "_model_module_version": "1.5.0",
            "_model_name": "DescriptionStyleModel",
            "_view_count": null,
            "_view_module": "@jupyter-widgets/base",
            "_view_module_version": "1.2.0",
            "_view_name": "StyleView",
            "description_width": ""
          }
        },
        "fcf6090214dd4b37a06d25352f09bb68": {
          "model_module": "@jupyter-widgets/base",
          "model_module_version": "1.2.0",
          "model_name": "LayoutModel",
          "state": {
            "_model_module": "@jupyter-widgets/base",
            "_model_module_version": "1.2.0",
            "_model_name": "LayoutModel",
            "_view_count": null,
            "_view_module": "@jupyter-widgets/base",
            "_view_module_version": "1.2.0",
            "_view_name": "LayoutView",
            "align_content": null,
            "align_items": null,
            "align_self": null,
            "border": null,
            "bottom": null,
            "display": null,
            "flex": null,
            "flex_flow": null,
            "grid_area": null,
            "grid_auto_columns": null,
            "grid_auto_flow": null,
            "grid_auto_rows": null,
            "grid_column": null,
            "grid_gap": null,
            "grid_row": null,
            "grid_template_areas": null,
            "grid_template_columns": null,
            "grid_template_rows": null,
            "height": null,
            "justify_content": null,
            "justify_items": null,
            "left": null,
            "margin": null,
            "max_height": null,
            "max_width": null,
            "min_height": null,
            "min_width": null,
            "object_fit": null,
            "object_position": null,
            "order": null,
            "overflow": null,
            "overflow_x": null,
            "overflow_y": null,
            "padding": null,
            "right": null,
            "top": null,
            "visibility": null,
            "width": null
          }
        }
      }
    }
  },
  "nbformat": 4,
  "nbformat_minor": 0
}
